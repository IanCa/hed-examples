{
 "cells": [
  {
   "cell_type": "markdown",
   "metadata": {
    "collapsed": true,
    "pycharm": {
     "name": "#%% md\n"
    }
   },
   "source": [
    "## Validate HED in a BIDS dataset.\n",
    "\n",
    "Validating annotations HED as you develop them makes the annotation process much easier and\n",
    "faster to debug. This notebook validates HED in a BIDS dataset.\n",
    "\n",
    "The tool creates a `BidsDataset` object, which represents the information from a BIDS\n",
    "dataset that is relevant to HED, including the `dataset_description.json`,\n",
    "all `events.tsv` files, and all `events.json` sidecar files.\n",
    "\n",
    "The `validate` method of `BidsDataset` first validates all of the `events.json` sidecars\n",
    "and then assembles the relevant sidecars for each `events.tsv` file and validates it.\n",
    "The validation uses the HED schemas specified in the `HEDVersion` field of the\n",
    "dataset's `dataset_description.json` file.\n",
    "\n",
    "The script does the following steps:\n",
    "\n",
    "1. Set the dataset location (`bids_root_path`) to the absolute path of the root of your BIDS dataset.\n",
    "2. Indicates whether to check for warnings during validation (`check_for_warnings`).\n",
    "3. Create a `BidsDataset` for the dataset.\n",
    "4. Validate the dataset and output the issues.\n",
    "\n",
    "**Note:** This validation pertains to event files and HED annotation only. It does not do a full BIDS validation.\n",
    "\n",
    "The example below uses a\n",
    "[small version](https://github.com/hed-standard/hed-examples/tree/main/datasets/eeg_ds003654s_hed)\n",
    "of the Wakeman-Hanson face-processing dataset available on openNeuro as\n",
    "[ds003654](https://openneuro.org/datasets/ds003645/versions/2.0.0).\n",
    "\n",
    "This dataset has no validation errors, but since we have set `check_for_warnings` to `True`,\n",
    "validation returns warnings that the `sample` column does not have any metadata.\n",
    "\n",
    "For validation of a single `events.json` files during annotation development,\n",
    "users often find the [online sidecar tools](https://hedtools.ucsd.edu/hed/sidecar)\n",
    "convenient, but the online tool does not provide complete dataset-level validation."
   ]
  },
  {
   "cell_type": "code",
   "execution_count": 1,
   "outputs": [
    {
     "name": "stdout",
     "output_type": "stream",
     "text": [
      "Using HEDTOOLS version: {'date': '2022-06-20T14:40:24-0500', 'dirty': False, 'error': None, 'full-revisionid': 'c4ecd1834cd31a05ebad3e97dc57e537550da044', 'version': '0.1.0'}\n",
      "HED Examples version: {'version': '0+untagged.233.ge70e761.dirty', 'full-revisionid': 'e70e761ea596de4fbebe926e1274ec64d85db4f1', 'dirty': True, 'error': None, 'date': '2022-06-20T11:11:00-0500'}\n",
      "BIDS path is: ../../datasets/eeg_ds003654s_hed\n",
      "No HED validation errors\n",
      "BIDS path is: ../../datasets/eeg_ds003654s_hed_column\n",
      "No HED validation errors\n",
      "BIDS path is: ../../datasets/eeg_ds003654s_hed_inheritance\n",
      "No HED validation errors\n",
      "BIDS path is: ../../datasets/eeg_ds003654s_hed_longform\n",
      "No HED validation errors\n",
      "BIDS path is: ../../datasets/eeg_ds002893s_hed_attention_shift\n",
      "No HED validation errors\n",
      "BIDS path is: ../../datasets/eeg_ds004117s_hed_sternberg\n",
      "No HED validation errors\n"
     ]
    }
   ],
   "source": [
    "import os\n",
    "from hed.errors import get_printable_issue_string\n",
    "from hed.tools import BidsDataset\n",
    "from hed import _version as vr\n",
    "from hedcode._version import get_versions\n",
    "\n",
    "print(f\"Using HEDTOOLS version: {str(vr.get_versions())}\")\n",
    "print(f\"HED Examples version: {str(get_versions())}\")\n",
    "\n",
    "## Set the dataset location and the check_for_warnings flag\n",
    "check_for_warnings = False\n",
    "bids_paths = ['../../datasets/eeg_ds003654s_hed',\n",
    "              '../../datasets/eeg_ds003654s_hed_column',\n",
    "              '../../datasets/eeg_ds003654s_hed_inheritance',\n",
    "              '../../datasets/eeg_ds003654s_hed_longform',\n",
    "              '../../datasets/eeg_ds002893s_hed_attention_shift',\n",
    "              '../../datasets/eeg_ds004117s_hed_sternberg'\n",
    "              ]\n",
    "\n",
    "for bids_path in bids_paths:\n",
    "    bids_root_path = os.path.realpath(bids_path)\n",
    "    print(f\"BIDS path is: {bids_path}\")\n",
    "\n",
    "    ## Validate the dataset\n",
    "    bids = BidsDataset(bids_root_path)\n",
    "    issue_list = bids.validate(check_for_warnings=check_for_warnings)\n",
    "    if issue_list:\n",
    "        issue_str = get_printable_issue_string(issue_list, \"HED validation errors: \", skip_filename=False)\n",
    "    else:\n",
    "        issue_str = \"No HED validation errors\"\n",
    "    print(issue_str)"
   ],
   "metadata": {
    "collapsed": false,
    "pycharm": {
     "name": "#%%\n"
    }
   }
  }
 ],
 "metadata": {
  "kernelspec": {
   "display_name": "Python 3",
   "language": "python",
   "name": "python3"
  },
  "language_info": {
   "codemirror_mode": {
    "name": "ipython",
    "version": 2
   },
   "file_extension": ".py",
   "mimetype": "text/x-python",
   "name": "python",
   "nbconvert_exporter": "python",
   "pygments_lexer": "ipython2",
   "version": "2.7.6"
  }
 },
 "nbformat": 4,
 "nbformat_minor": 0
}