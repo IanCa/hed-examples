{
 "cells": [
  {
   "cell_type": "markdown",
   "metadata": {
    "collapsed": true,
    "pycharm": {
     "name": "#%% md\n"
    }
   },
   "source": [
    "## Sternberg copy the final version of the events file to a separate directory\n"
   ]
  },
  {
   "cell_type": "code",
   "execution_count": 1,
   "outputs": [
    {
     "name": "stdout",
     "output_type": "stream",
     "text": [
      "G:/Sternberg/SternbergInfo/sub-001_ses-01_task-Experiment_run-1_events.tsv\tG:/Sternberg/SternbergWorking/sub-001/ses-01/eeg/sub-001_ses-01_task-Experiment_run-1_events.tsv\n",
      "G:/Sternberg/SternbergInfo/sub-001_ses-01_task-Experiment_run-2_events.tsv\tG:/Sternberg/SternbergWorking/sub-001/ses-01/eeg/sub-001_ses-01_task-Experiment_run-2_events.tsv\n",
      "G:/Sternberg/SternbergInfo/sub-001_ses-01_task-Experiment_run-3_events.tsv\tG:/Sternberg/SternbergWorking/sub-001/ses-01/eeg/sub-001_ses-01_task-Experiment_run-3_events.tsv\n",
      "G:/Sternberg/SternbergInfo/sub-001_ses-01_task-Experiment_run-4_events.tsv\tG:/Sternberg/SternbergWorking/sub-001/ses-01/eeg/sub-001_ses-01_task-Experiment_run-4_events.tsv\n",
      "G:/Sternberg/SternbergInfo/sub-002_ses-01_task-Experiment_run-1_events.tsv\tG:/Sternberg/SternbergWorking/sub-002/ses-01/eeg/sub-002_ses-01_task-Experiment_run-1_events.tsv\n",
      "G:/Sternberg/SternbergInfo/sub-002_ses-01_task-Experiment_run-2_events.tsv\tG:/Sternberg/SternbergWorking/sub-002/ses-01/eeg/sub-002_ses-01_task-Experiment_run-2_events.tsv\n",
      "G:/Sternberg/SternbergInfo/sub-002_ses-01_task-Experiment_run-3_events.tsv\tG:/Sternberg/SternbergWorking/sub-002/ses-01/eeg/sub-002_ses-01_task-Experiment_run-3_events.tsv\n",
      "G:/Sternberg/SternbergInfo/sub-002_ses-01_task-Experiment_run-4_events.tsv\tG:/Sternberg/SternbergWorking/sub-002/ses-01/eeg/sub-002_ses-01_task-Experiment_run-4_events.tsv\n",
      "G:/Sternberg/SternbergInfo/sub-003_ses-01_task-Experiment_run-1_events.tsv\tG:/Sternberg/SternbergWorking/sub-003/ses-01/eeg/sub-003_ses-01_task-Experiment_run-1_events.tsv\n",
      "G:/Sternberg/SternbergInfo/sub-003_ses-01_task-Experiment_run-2_events.tsv\tG:/Sternberg/SternbergWorking/sub-003/ses-01/eeg/sub-003_ses-01_task-Experiment_run-2_events.tsv\n",
      "G:/Sternberg/SternbergInfo/sub-003_ses-01_task-Experiment_run-3_events.tsv\tG:/Sternberg/SternbergWorking/sub-003/ses-01/eeg/sub-003_ses-01_task-Experiment_run-3_events.tsv\n",
      "G:/Sternberg/SternbergInfo/sub-003_ses-01_task-Experiment_run-4_events.tsv\tG:/Sternberg/SternbergWorking/sub-003/ses-01/eeg/sub-003_ses-01_task-Experiment_run-4_events.tsv\n",
      "G:/Sternberg/SternbergInfo/sub-004_ses-01_task-Experiment_run-1_events.tsv\tG:/Sternberg/SternbergWorking/sub-004/ses-01/eeg/sub-004_ses-01_task-Experiment_run-1_events.tsv\n",
      "G:/Sternberg/SternbergInfo/sub-004_ses-01_task-Experiment_run-2_events.tsv\tG:/Sternberg/SternbergWorking/sub-004/ses-01/eeg/sub-004_ses-01_task-Experiment_run-2_events.tsv\n",
      "G:/Sternberg/SternbergInfo/sub-004_ses-01_task-Experiment_run-3_events.tsv\tG:/Sternberg/SternbergWorking/sub-004/ses-01/eeg/sub-004_ses-01_task-Experiment_run-3_events.tsv\n",
      "G:/Sternberg/SternbergInfo/sub-004_ses-01_task-Experiment_run-4_events.tsv\tG:/Sternberg/SternbergWorking/sub-004/ses-01/eeg/sub-004_ses-01_task-Experiment_run-4_events.tsv\n",
      "G:/Sternberg/SternbergInfo/sub-005_ses-01_task-Experiment_run-1_events.tsv\tG:/Sternberg/SternbergWorking/sub-005/ses-01/eeg/sub-005_ses-01_task-Experiment_run-1_events.tsv\n",
      "G:/Sternberg/SternbergInfo/sub-005_ses-01_task-Experiment_run-2_events.tsv\tG:/Sternberg/SternbergWorking/sub-005/ses-01/eeg/sub-005_ses-01_task-Experiment_run-2_events.tsv\n",
      "G:/Sternberg/SternbergInfo/sub-005_ses-01_task-Experiment_run-3_events.tsv\tG:/Sternberg/SternbergWorking/sub-005/ses-01/eeg/sub-005_ses-01_task-Experiment_run-3_events.tsv\n",
      "G:/Sternberg/SternbergInfo/sub-005_ses-01_task-Experiment_run-4_events.tsv\tG:/Sternberg/SternbergWorking/sub-005/ses-01/eeg/sub-005_ses-01_task-Experiment_run-4_events.tsv\n",
      "G:/Sternberg/SternbergInfo/sub-006_ses-01_task-Experiment_run-1_events.tsv\tG:/Sternberg/SternbergWorking/sub-006/ses-01/eeg/sub-006_ses-01_task-Experiment_run-1_events.tsv\n",
      "G:/Sternberg/SternbergInfo/sub-006_ses-01_task-Experiment_run-2_events.tsv\tG:/Sternberg/SternbergWorking/sub-006/ses-01/eeg/sub-006_ses-01_task-Experiment_run-2_events.tsv\n",
      "G:/Sternberg/SternbergInfo/sub-006_ses-01_task-Experiment_run-3_events.tsv\tG:/Sternberg/SternbergWorking/sub-006/ses-01/eeg/sub-006_ses-01_task-Experiment_run-3_events.tsv\n",
      "G:/Sternberg/SternbergInfo/sub-006_ses-01_task-Experiment_run-4_events.tsv\tG:/Sternberg/SternbergWorking/sub-006/ses-01/eeg/sub-006_ses-01_task-Experiment_run-4_events.tsv\n",
      "G:/Sternberg/SternbergInfo/sub-007_ses-01_task-Experiment_run-1_events.tsv\tG:/Sternberg/SternbergWorking/sub-007/ses-01/eeg/sub-007_ses-01_task-Experiment_run-1_events.tsv\n",
      "G:/Sternberg/SternbergInfo/sub-007_ses-01_task-Experiment_run-2_events.tsv\tG:/Sternberg/SternbergWorking/sub-007/ses-01/eeg/sub-007_ses-01_task-Experiment_run-2_events.tsv\n",
      "G:/Sternberg/SternbergInfo/sub-007_ses-01_task-Experiment_run-3_events.tsv\tG:/Sternberg/SternbergWorking/sub-007/ses-01/eeg/sub-007_ses-01_task-Experiment_run-3_events.tsv\n",
      "G:/Sternberg/SternbergInfo/sub-007_ses-01_task-Experiment_run-4_events.tsv\tG:/Sternberg/SternbergWorking/sub-007/ses-01/eeg/sub-007_ses-01_task-Experiment_run-4_events.tsv\n",
      "G:/Sternberg/SternbergInfo/sub-008_ses-01_task-Experiment_run-1_events.tsv\tG:/Sternberg/SternbergWorking/sub-008/ses-01/eeg/sub-008_ses-01_task-Experiment_run-1_events.tsv\n",
      "G:/Sternberg/SternbergInfo/sub-008_ses-01_task-Experiment_run-2_events.tsv\tG:/Sternberg/SternbergWorking/sub-008/ses-01/eeg/sub-008_ses-01_task-Experiment_run-2_events.tsv\n",
      "G:/Sternberg/SternbergInfo/sub-008_ses-01_task-Experiment_run-3_events.tsv\tG:/Sternberg/SternbergWorking/sub-008/ses-01/eeg/sub-008_ses-01_task-Experiment_run-3_events.tsv\n",
      "G:/Sternberg/SternbergInfo/sub-008_ses-01_task-Experiment_run-4_events.tsv\tG:/Sternberg/SternbergWorking/sub-008/ses-01/eeg/sub-008_ses-01_task-Experiment_run-4_events.tsv\n",
      "G:/Sternberg/SternbergInfo/sub-009_ses-01_task-Experiment_run-1_events.tsv\tG:/Sternberg/SternbergWorking/sub-009/ses-01/eeg/sub-009_ses-01_task-Experiment_run-1_events.tsv\n",
      "G:/Sternberg/SternbergInfo/sub-009_ses-01_task-Experiment_run-2_events.tsv\tG:/Sternberg/SternbergWorking/sub-009/ses-01/eeg/sub-009_ses-01_task-Experiment_run-2_events.tsv\n",
      "G:/Sternberg/SternbergInfo/sub-009_ses-01_task-Experiment_run-3_events.tsv\tG:/Sternberg/SternbergWorking/sub-009/ses-01/eeg/sub-009_ses-01_task-Experiment_run-3_events.tsv\n",
      "G:/Sternberg/SternbergInfo/sub-009_ses-01_task-Experiment_run-4_events.tsv\tG:/Sternberg/SternbergWorking/sub-009/ses-01/eeg/sub-009_ses-01_task-Experiment_run-4_events.tsv\n",
      "G:/Sternberg/SternbergInfo/sub-010_ses-01_task-Experiment_run-1_events.tsv\tG:/Sternberg/SternbergWorking/sub-010/ses-01/eeg/sub-010_ses-01_task-Experiment_run-1_events.tsv\n",
      "G:/Sternberg/SternbergInfo/sub-010_ses-01_task-Experiment_run-2_events.tsv\tG:/Sternberg/SternbergWorking/sub-010/ses-01/eeg/sub-010_ses-01_task-Experiment_run-2_events.tsv\n",
      "G:/Sternberg/SternbergInfo/sub-010_ses-01_task-Experiment_run-3_events.tsv\tG:/Sternberg/SternbergWorking/sub-010/ses-01/eeg/sub-010_ses-01_task-Experiment_run-3_events.tsv\n",
      "G:/Sternberg/SternbergInfo/sub-010_ses-01_task-Experiment_run-4_events.tsv\tG:/Sternberg/SternbergWorking/sub-010/ses-01/eeg/sub-010_ses-01_task-Experiment_run-4_events.tsv\n",
      "G:/Sternberg/SternbergInfo/sub-011_ses-01_task-Experiment_run-1_events.tsv\tG:/Sternberg/SternbergWorking/sub-011/ses-01/eeg/sub-011_ses-01_task-Experiment_run-1_events.tsv\n",
      "G:/Sternberg/SternbergInfo/sub-011_ses-01_task-Experiment_run-2_events.tsv\tG:/Sternberg/SternbergWorking/sub-011/ses-01/eeg/sub-011_ses-01_task-Experiment_run-2_events.tsv\n",
      "G:/Sternberg/SternbergInfo/sub-011_ses-01_task-Experiment_run-3_events.tsv\tG:/Sternberg/SternbergWorking/sub-011/ses-01/eeg/sub-011_ses-01_task-Experiment_run-3_events.tsv\n",
      "G:/Sternberg/SternbergInfo/sub-011_ses-01_task-Experiment_run-4_events.tsv\tG:/Sternberg/SternbergWorking/sub-011/ses-01/eeg/sub-011_ses-01_task-Experiment_run-4_events.tsv\n",
      "G:/Sternberg/SternbergInfo/sub-012_ses-01_task-Experiment_run-1_events.tsv\tG:/Sternberg/SternbergWorking/sub-012/ses-01/eeg/sub-012_ses-01_task-Experiment_run-1_events.tsv\n",
      "G:/Sternberg/SternbergInfo/sub-012_ses-01_task-Experiment_run-2_events.tsv\tG:/Sternberg/SternbergWorking/sub-012/ses-01/eeg/sub-012_ses-01_task-Experiment_run-2_events.tsv\n",
      "G:/Sternberg/SternbergInfo/sub-012_ses-01_task-Experiment_run-3_events.tsv\tG:/Sternberg/SternbergWorking/sub-012/ses-01/eeg/sub-012_ses-01_task-Experiment_run-3_events.tsv\n",
      "G:/Sternberg/SternbergInfo/sub-014_ses-01_task-Experiment_run-1_events.tsv\tG:/Sternberg/SternbergWorking/sub-014/ses-01/eeg/sub-014_ses-01_task-Experiment_run-1_events.tsv\n",
      "G:/Sternberg/SternbergInfo/sub-014_ses-01_task-Experiment_run-2_events.tsv\tG:/Sternberg/SternbergWorking/sub-014/ses-01/eeg/sub-014_ses-01_task-Experiment_run-2_events.tsv\n",
      "G:/Sternberg/SternbergInfo/sub-014_ses-01_task-Experiment_run-3_events.tsv\tG:/Sternberg/SternbergWorking/sub-014/ses-01/eeg/sub-014_ses-01_task-Experiment_run-3_events.tsv\n",
      "G:/Sternberg/SternbergInfo/sub-015_ses-01_task-Experiment_run-1_events.tsv\tG:/Sternberg/SternbergWorking/sub-015/ses-01/eeg/sub-015_ses-01_task-Experiment_run-1_events.tsv\n",
      "G:/Sternberg/SternbergInfo/sub-015_ses-01_task-Experiment_run-2_events.tsv\tG:/Sternberg/SternbergWorking/sub-015/ses-01/eeg/sub-015_ses-01_task-Experiment_run-2_events.tsv\n",
      "G:/Sternberg/SternbergInfo/sub-015_ses-01_task-Experiment_run-3_events.tsv\tG:/Sternberg/SternbergWorking/sub-015/ses-01/eeg/sub-015_ses-01_task-Experiment_run-3_events.tsv\n",
      "G:/Sternberg/SternbergInfo/sub-016_ses-01_task-Experiment_run-1_events.tsv\tG:/Sternberg/SternbergWorking/sub-016/ses-01/eeg/sub-016_ses-01_task-Experiment_run-1_events.tsv\n",
      "G:/Sternberg/SternbergInfo/sub-016_ses-01_task-Experiment_run-2_events.tsv\tG:/Sternberg/SternbergWorking/sub-016/ses-01/eeg/sub-016_ses-01_task-Experiment_run-2_events.tsv\n",
      "G:/Sternberg/SternbergInfo/sub-016_ses-01_task-Experiment_run-3_events.tsv\tG:/Sternberg/SternbergWorking/sub-016/ses-01/eeg/sub-016_ses-01_task-Experiment_run-3_events.tsv\n",
      "G:/Sternberg/SternbergInfo/sub-017_ses-01_task-Experiment_run-1_events.tsv\tG:/Sternberg/SternbergWorking/sub-017/ses-01/eeg/sub-017_ses-01_task-Experiment_run-1_events.tsv\n",
      "G:/Sternberg/SternbergInfo/sub-017_ses-01_task-Experiment_run-2_events.tsv\tG:/Sternberg/SternbergWorking/sub-017/ses-01/eeg/sub-017_ses-01_task-Experiment_run-2_events.tsv\n",
      "G:/Sternberg/SternbergInfo/sub-017_ses-01_task-Experiment_run-3_events.tsv\tG:/Sternberg/SternbergWorking/sub-017/ses-01/eeg/sub-017_ses-01_task-Experiment_run-3_events.tsv\n",
      "G:/Sternberg/SternbergInfo/sub-018_ses-01_task-Experiment_run-1_events.tsv\tG:/Sternberg/SternbergWorking/sub-018/ses-01/eeg/sub-018_ses-01_task-Experiment_run-1_events.tsv\n",
      "G:/Sternberg/SternbergInfo/sub-018_ses-01_task-Experiment_run-2_events.tsv\tG:/Sternberg/SternbergWorking/sub-018/ses-01/eeg/sub-018_ses-01_task-Experiment_run-2_events.tsv\n",
      "G:/Sternberg/SternbergInfo/sub-018_ses-01_task-Experiment_run-3_events.tsv\tG:/Sternberg/SternbergWorking/sub-018/ses-01/eeg/sub-018_ses-01_task-Experiment_run-3_events.tsv\n",
      "G:/Sternberg/SternbergInfo/sub-019_ses-01_task-Experiment_run-1_events.tsv\tG:/Sternberg/SternbergWorking/sub-019/ses-01/eeg/sub-019_ses-01_task-Experiment_run-1_events.tsv\n",
      "G:/Sternberg/SternbergInfo/sub-019_ses-01_task-Experiment_run-2_events.tsv\tG:/Sternberg/SternbergWorking/sub-019/ses-01/eeg/sub-019_ses-01_task-Experiment_run-2_events.tsv\n",
      "G:/Sternberg/SternbergInfo/sub-019_ses-01_task-Experiment_run-3_events.tsv\tG:/Sternberg/SternbergWorking/sub-019/ses-01/eeg/sub-019_ses-01_task-Experiment_run-3_events.tsv\n",
      "G:/Sternberg/SternbergInfo/sub-020_ses-01_task-Experiment_run-1_events.tsv\tG:/Sternberg/SternbergWorking/sub-020/ses-01/eeg/sub-020_ses-01_task-Experiment_run-1_events.tsv\n",
      "G:/Sternberg/SternbergInfo/sub-020_ses-01_task-Experiment_run-2_events.tsv\tG:/Sternberg/SternbergWorking/sub-020/ses-01/eeg/sub-020_ses-01_task-Experiment_run-2_events.tsv\n",
      "G:/Sternberg/SternbergInfo/sub-020_ses-01_task-Experiment_run-3_events.tsv\tG:/Sternberg/SternbergWorking/sub-020/ses-01/eeg/sub-020_ses-01_task-Experiment_run-3_events.tsv\n",
      "G:/Sternberg/SternbergInfo/sub-021_ses-01_task-Experiment_run-1_events.tsv\tG:/Sternberg/SternbergWorking/sub-021/ses-01/eeg/sub-021_ses-01_task-Experiment_run-1_events.tsv\n",
      "G:/Sternberg/SternbergInfo/sub-021_ses-01_task-Experiment_run-2_events.tsv\tG:/Sternberg/SternbergWorking/sub-021/ses-01/eeg/sub-021_ses-01_task-Experiment_run-2_events.tsv\n",
      "G:/Sternberg/SternbergInfo/sub-021_ses-01_task-Experiment_run-3_events.tsv\tG:/Sternberg/SternbergWorking/sub-021/ses-01/eeg/sub-021_ses-01_task-Experiment_run-3_events.tsv\n",
      "G:/Sternberg/SternbergInfo/sub-022_ses-01_task-Experiment_run-1_events.tsv\tG:/Sternberg/SternbergWorking/sub-022/ses-01/eeg/sub-022_ses-01_task-Experiment_run-1_events.tsv\n",
      "G:/Sternberg/SternbergInfo/sub-022_ses-01_task-Experiment_run-2_events.tsv\tG:/Sternberg/SternbergWorking/sub-022/ses-01/eeg/sub-022_ses-01_task-Experiment_run-2_events.tsv\n",
      "G:/Sternberg/SternbergInfo/sub-022_ses-01_task-Experiment_run-3_events.tsv\tG:/Sternberg/SternbergWorking/sub-022/ses-01/eeg/sub-022_ses-01_task-Experiment_run-3_events.tsv\n",
      "G:/Sternberg/SternbergInfo/sub-022_ses-01_task-Experiment_run-4_events.tsv\tG:/Sternberg/SternbergWorking/sub-022/ses-01/eeg/sub-022_ses-01_task-Experiment_run-4_events.tsv\n",
      "G:/Sternberg/SternbergInfo/sub-022_ses-01_task-Experiment_run-5_events.tsv\tG:/Sternberg/SternbergWorking/sub-022/ses-01/eeg/sub-022_ses-01_task-Experiment_run-5_events.tsv\n",
      "G:/Sternberg/SternbergInfo/sub-022_ses-01_task-Experiment_run-6_events.tsv\tG:/Sternberg/SternbergWorking/sub-022/ses-01/eeg/sub-022_ses-01_task-Experiment_run-6_events.tsv\n",
      "G:/Sternberg/SternbergInfo/sub-023_ses-01_task-Experiment_run-1_events.tsv\tG:/Sternberg/SternbergWorking/sub-023/ses-01/eeg/sub-023_ses-01_task-Experiment_run-1_events.tsv\n",
      "G:/Sternberg/SternbergInfo/sub-023_ses-01_task-Experiment_run-2_events.tsv\tG:/Sternberg/SternbergWorking/sub-023/ses-01/eeg/sub-023_ses-01_task-Experiment_run-2_events.tsv\n",
      "G:/Sternberg/SternbergInfo/sub-023_ses-01_task-Experiment_run-3_events.tsv\tG:/Sternberg/SternbergWorking/sub-023/ses-01/eeg/sub-023_ses-01_task-Experiment_run-3_events.tsv\n",
      "G:/Sternberg/SternbergInfo/sub-023_ses-01_task-Experiment_run-4_events.tsv\tG:/Sternberg/SternbergWorking/sub-023/ses-01/eeg/sub-023_ses-01_task-Experiment_run-4_events.tsv\n",
      "G:/Sternberg/SternbergInfo/sub-023_ses-01_task-Experiment_run-5_events.tsv\tG:/Sternberg/SternbergWorking/sub-023/ses-01/eeg/sub-023_ses-01_task-Experiment_run-5_events.tsv\n",
      "G:/Sternberg/SternbergInfo/sub-024_ses-01_task-Experiment_run-1_events.tsv\tG:/Sternberg/SternbergWorking/sub-024/ses-01/eeg/sub-024_ses-01_task-Experiment_run-1_events.tsv\n",
      "G:/Sternberg/SternbergInfo/sub-024_ses-01_task-Experiment_run-2_events.tsv\tG:/Sternberg/SternbergWorking/sub-024/ses-01/eeg/sub-024_ses-01_task-Experiment_run-2_events.tsv\n",
      "G:/Sternberg/SternbergInfo/sub-024_ses-01_task-Experiment_run-3_events.tsv\tG:/Sternberg/SternbergWorking/sub-024/ses-01/eeg/sub-024_ses-01_task-Experiment_run-3_events.tsv\n"
     ]
    }
   ],
   "source": [
    "import os\n",
    "import shutil\n",
    "from hed.util.io_util import get_file_list\n",
    "\n",
    "bids_root_path = 'G:/Sternberg/SternbergWorking'\n",
    "info_path = 'G:/Sternberg/SternbergInfo'\n",
    "info_file = 'G:/Sternberg/SternbergInfo/Event_files.tsv'\n",
    "\n",
    "event_files = get_file_list(bids_root_path, extensions=[\".tsv\"], name_suffix=\"_events_temp4\")\n",
    "with open(info_file, \"w\") as text_file:\n",
    "    for file in event_files:\n",
    "        original_name = f\"{file[:-10]}.tsv\"\n",
    "        filename = os.path.basename(file)\n",
    "        filename = f\"{filename[:-10]}.tsv\"\n",
    "        new_name = os.path.join(info_path, filename)\n",
    "        new_name = new_name.replace('\\\\', '/')\n",
    "        original_name = original_name.replace('\\\\', '/')\n",
    "        print(f\"{new_name}\\t{original_name}\", file=text_file)\n",
    "        print(f\"{new_name}\\t{original_name}\")\n",
    "        shutil.copy2(file, new_name)"
   ],
   "metadata": {
    "collapsed": false,
    "pycharm": {
     "name": "#%% Copy the event files to a separate directory\n"
    }
   }
  }
 ],
 "metadata": {
  "kernelspec": {
   "display_name": "Python 3",
   "language": "python",
   "name": "python3"
  },
  "language_info": {
   "codemirror_mode": {
    "name": "ipython",
    "version": 2
   },
   "file_extension": ".py",
   "mimetype": "text/x-python",
   "name": "python",
   "nbconvert_exporter": "python",
   "pygments_lexer": "ipython2",
   "version": "2.7.6"
  }
 },
 "nbformat": 4,
 "nbformat_minor": 0
}