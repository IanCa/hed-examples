{
 "cells": [
  {
   "cell_type": "markdown",
   "metadata": {
    "collapsed": true,
    "pycharm": {
     "name": "#%% md\n"
    }
   },
   "source": [
    "## Sternberg extract a spreadsheet with the tag values in it.\n"
   ]
  },
  {
   "cell_type": "code",
   "execution_count": 2,
   "outputs": [
    {
     "name": "stdout",
     "output_type": "stream",
     "text": [
      "Writing the extracted values to G:/Sternberg/SternbergInfo/Sternberg_extracted.tsv\n"
     ]
    }
   ],
   "source": [
    "from hed.tools.io_utils import get_file_list\n",
    "from hed.tools.col_dict import ColumnDict\n",
    "\n",
    "info_path = 'G:/Sternberg/SternbergInfo'\n",
    "event_files = get_file_list(info_path, extensions=[\".tsv\"], name_suffix=\"_events\")\n",
    "extracted_file = 'G:/Sternberg/SternbergInfo/Sternberg_extracted.tsv'\n",
    "value_cols = ['duration', 'letter', 'trial']\n",
    "skip_cols = ['onset', 'sample',\t'value']\n",
    "col_dict = ColumnDict(value_cols=value_cols, skip_cols=skip_cols)\n",
    "for file in event_files:\n",
    "    col_dict.update(file)\n",
    "df = col_dict.get_flattened()\n",
    "print(f\"Writing the extracted values to {extracted_file}\")\n",
    "df.to_csv(extracted_file, sep='\\t', index=False)"
   ],
   "metadata": {
    "collapsed": false,
    "pycharm": {
     "name": "#%% Copy the event files to a separate directory\n"
    }
   }
  }
 ],
 "metadata": {
  "kernelspec": {
   "display_name": "Python 3",
   "language": "python",
   "name": "python3"
  },
  "language_info": {
   "codemirror_mode": {
    "name": "ipython",
    "version": 2
   },
   "file_extension": ".py",
   "mimetype": "text/x-python",
   "name": "python",
   "nbconvert_exporter": "python",
   "pygments_lexer": "ipython2",
   "version": "2.7.6"
  }
 },
 "nbformat": 4,
 "nbformat_minor": 0
}