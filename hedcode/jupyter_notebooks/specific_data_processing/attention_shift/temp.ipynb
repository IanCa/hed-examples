{
 "cells": [
  {
   "cell_type": "code",
   "execution_count": null,
   "metadata": {
    "collapsed": true
   },
   "outputs": [],
   "source": []
  },
  {
   "cell_type": "code",
   "execution_count": null,
   "outputs": [],
   "source": [
    "import os\n",
    "from hed.tools.data_util import get_new_dataframe\n",
    "bids_file = \\\n",
    "    'G:/AttentionShift/AttentionShiftWorking/sub-031/eeg/sub-031_task-AuditoryVisualShift_run-01_events_temp1.tsv'\n",
    "correction_file = '../../../data/attention_shift_data/sub-031_run-01_code_corrections.tsv'\n",
    "print(os.path.abspath(correction_file))\n",
    "\n",
    "df = get_new_dataframe(bids_file)\n",
    "corrections = get_new_dataframe(correction_file)\n",
    "df['event_code'] = list(corrections['event_code'])\n",
    "df['cond_code'] = list(corrections['cond_code'])\n",
    "df.to_csv(bids_file, sep='\\t', index=False)\n",
    "status.add('sub-031_run-01', f\"Replaced the event_code and cond_code columns with values from correction file\")\n",
    "\n"
   ],
   "metadata": {
    "collapsed": false,
    "pycharm": {
     "name": "#%% Fix sub-031 run-1 `trial_type` and `cond_code` and resave to temp1.\n"
    }
   }
  },
  {
   "cell_type": "code",
   "execution_count": null,
   "outputs": [],
   "source": [
    "key = 'sub-007_run-01'\n",
    "filename = bids_dict[key]\n",
    "filename = filename[:-4] + \"_temp1.tsv\"\n",
    "df = get_new_dataframe(filename)\n",
    "df.drop(index=[0, 1, 2, 3], inplace=True)\n",
    "status.add(key, f\"Dropped rows 0, 1, 2, 3, to get rid of bad 255 events at beginning of file.\")\n",
    "df.to_csv(filename, sep='\\t', index=False)\n",
    "status.add(key, f\"Saved as _events_temp1.tsv\")\n"
   ],
   "metadata": {
    "collapsed": false,
    "pycharm": {
     "name": "#%% sub-007_run-01 has 4 bad initial events: 255, 202, 255, 255\n"
    }
   }
  }
 ],
 "metadata": {
  "kernelspec": {
   "display_name": "Python 3",
   "language": "python",
   "name": "python3"
  },
  "language_info": {
   "codemirror_mode": {
    "name": "ipython",
    "version": 2
   },
   "file_extension": ".py",
   "mimetype": "text/x-python",
   "name": "python",
   "nbconvert_exporter": "python",
   "pygments_lexer": "ipython2",
   "version": "2.7.6"
  }
 },
 "nbformat": 4,
 "nbformat_minor": 0
}