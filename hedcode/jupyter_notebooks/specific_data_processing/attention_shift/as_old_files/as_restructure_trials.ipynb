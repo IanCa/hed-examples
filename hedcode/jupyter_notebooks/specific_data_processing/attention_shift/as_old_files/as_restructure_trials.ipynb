{
 "cells": [
  {
   "cell_type": "markdown",
   "source": [
    "## Restructure Attention Shift to have trials, sub-blocks and blocks\n",
    "\n",
    "This script assumes that `as_preliminary_summary.ipynb` has been run.\n",
    "This script assumes that the data is in BIDS format and that each BIDS events\n",
    "file of the form `_events.tsv` has a corresponding events file with\n",
    "suffix `_events_temp.tsv` that was previously dumped from the `EEG.set` files.\n",
    "The new files will be saved in `_events_temp2.tsv` (BIDS).\n",
    "\n",
    "In order to compare the events coming from the BIDS events files and those\n",
    "from the EEG.set files, the script creates dictionaries of `key` to full path\n",
    "for each type of file.  The `key` is of the form `sub-xxx_run-y` which\n",
    "uniquely specify each event file in the dataset. If a dataset contains\n",
    "multiple sessions for each subject, the `key` should include additional\n",
    "parts of the file name to uniquely specify each subject."
   ],
   "metadata": {
    "collapsed": false,
    "pycharm": {
     "name": "#%% md\n"
    }
   }
  },
  {
   "cell_type": "code",
   "execution_count": 3,
   "outputs": [
    {
     "name": "stdout",
     "output_type": "stream",
     "text": [
      "\n",
      "49 Attention shift event files\n"
     ]
    }
   ],
   "source": [
    "from hed.tools.io_utils import get_file_list, make_file_dict\n",
    "from hed.tools.data_utils import get_new_dataframe\n",
    "bids_root_path = 'G:/AttentionShift/AttentionShiftExperiments'\n",
    "name_suffix = \"_events_temp2\"\n",
    "name_indices = (0, -2)\n",
    "files_bids = get_file_list(bids_root_path, extensions=[\".tsv\"], name_suffix=name_suffix)\n",
    "dict_bids = make_file_dict(files_bids, indices=name_indices)\n",
    "print(f\"\\n{len(list(dict_bids))} Attention shift event files\")"
   ],
   "metadata": {
    "collapsed": false,
    "pycharm": {
     "name": "#%%\n"
    }
   }
  },
  {
   "cell_type": "code",
   "execution_count": 4,
   "outputs": [
    {
     "name": "stdout",
     "output_type": "stream",
     "text": [
      "to here\n"
     ]
    }
   ],
   "source": [
    "for key, file in dict_bids.items():\n",
    "    df = get_new_dataframe(file)\n",
    "\n",
    "    ## Set the sub blocks\n",
    "    sub_mask = df['event_code'].map(str).isin(['1', '2']).astype(int)\n",
    "    sub_total = 0\n",
    "    sub_list = list(sub_mask)\n",
    "    for i, value in sub_mask.iteritems():\n",
    "        if value:\n",
    "            sub_total += sub_list[i]\n",
    "        sub_list[i] = sub_total\n",
    "    df['sub_block'] = sub_list\n",
    "    pause_col = df['event_code'].map(str) == '202'\n",
    "    df.loc[pause_col, 'sub_block'] = 'n/a'\n",
    "\n",
    "    ## Set the trials\n",
    "    stim_total = 0\n",
    "    stim_mask = \\\n",
    "        df['event_code'].map(str).isin(['3', '4', '5', '6', '7', '8', '9', '10', '11', '12', '13', '14']).astype(int)\n",
    "    stim_list = list(stim_mask)\n",
    "    for i, value in stim_list.iteritems():\n",
    "        if value:\n",
    "            stim_total += stim_list[i]\n",
    "        stim_mask.iloc[i] = stim_total\n",
    "    df['trial'] = sub_list\n",
    "    df.loc[pause_col, 'trial'] = 'n/a'\n",
    "    print(\"to here\")\n",
    "       # df_new.to_csv(eeg_corrected, sep='\\t', index=False)\n",
    "    break"
   ],
   "metadata": {
    "collapsed": false,
    "pycharm": {
     "name": "#%%\n"
    }
   }
  },
  {
   "cell_type": "code",
   "execution_count": 4,
   "outputs": [],
   "source": [],
   "metadata": {
    "collapsed": false,
    "pycharm": {
     "name": "#%%\n"
    }
   }
  }
 ],
 "metadata": {
  "kernelspec": {
   "display_name": "Python 3",
   "language": "python",
   "name": "python3"
  },
  "language_info": {
   "codemirror_mode": {
    "name": "ipython",
    "version": 2
   },
   "file_extension": ".py",
   "mimetype": "text/x-python",
   "name": "python",
   "nbconvert_exporter": "python",
   "pygments_lexer": "ipython2",
   "version": "2.7.6"
  }
 },
 "nbformat": 4,
 "nbformat_minor": 0
}