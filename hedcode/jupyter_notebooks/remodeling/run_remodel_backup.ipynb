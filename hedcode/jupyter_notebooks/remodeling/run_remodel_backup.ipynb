{
 "cells": [
  {
   "cell_type": "markdown",
   "source": [
    "# Backup the event files in a dataset\n",
    "\n",
    "This notebook calls `run_remodel_backup(arglist)` with a list of parameters from the following table\n",
    "to back up the events in a dataset.\n",
    "\n",
    "| parameter          | default                                  | dest        | other | meaning |\n",
    "|--------------------|------------------------------------------|-------------| ----- | ------- |\n",
    "| data_dir           |                                          | data_dir    |   |  Full path of dataset root directory. |\n",
    "| -bd, --backup_dir  | `[data_root]/derivatives/remodel/backups` | backup_dir  |  | Name of the default backup for remodeling. |\n",
    "| -bn, --backup_name | `default_back`                             | backup_name |  | Name of the default backup for remodeling. |\n",
    "| -e, --extensions   | ['.tsv']                                 | extensions  | nargs=* |File extensions to allow in locating files. <br/> A * indicates all files allowed. |\n",
    "| -f, --file-suffix  | ['events']                               | file_suffix |  nargs=* | Filename suffix of files to be backed up. <br/>A * indicates all files allowed. |\n",
    "| -t, --task-names | []   |task_names | nargs=* | The name of the task. |\n",
    "| -v, --verbose |   | verbose |action=store_true | If present, output informative messages as computation progresses. |  \n",
    "| -x, --exclude-dirs | [] | exclude_dirs | nargs=* | Directories names to exclude from search for files. <br/>If omitted, no directories except the backup directory will be excluded. <br/>Note data_dir/remodel/backup will always be excluded. |"
   ],
   "metadata": {
    "collapsed": false
   }
  },
  {
   "cell_type": "code",
   "execution_count": 2,
   "outputs": [
    {
     "name": "stdout",
     "output_type": "stream",
     "text": [
      "Creating backup test_backup\n",
      "Copying \\\\192.168.0.179\\NASdata4\\summaryTests\\ds004105-download\\sub-01\\ses-01\\eeg\\sub-01_ses-01_task-DriveRandomSound_run-1_events.tsv to \\\\192.168.0.179\\NASdata4\\summaryTests\\ds004105-download\\derivatives\\remodel\\backups\\test_backup\\backup_root\\sub-01\\ses-01\\eeg\\sub-01_ses-01_task-DriveRandomSound_run-1_events.tsv\n",
      "Copying \\\\192.168.0.179\\NASdata4\\summaryTests\\ds004105-download\\sub-01\\ses-01\\eeg\\sub-01_ses-01_task-DriveRandomSound_run-2_events.tsv to \\\\192.168.0.179\\NASdata4\\summaryTests\\ds004105-download\\derivatives\\remodel\\backups\\test_backup\\backup_root\\sub-01\\ses-01\\eeg\\sub-01_ses-01_task-DriveRandomSound_run-2_events.tsv\n",
      "Copying \\\\192.168.0.179\\NASdata4\\summaryTests\\ds004105-download\\sub-02\\ses-01\\eeg\\sub-02_ses-01_task-DriveRandomSound_run-1_events.tsv to \\\\192.168.0.179\\NASdata4\\summaryTests\\ds004105-download\\derivatives\\remodel\\backups\\test_backup\\backup_root\\sub-02\\ses-01\\eeg\\sub-02_ses-01_task-DriveRandomSound_run-1_events.tsv\n",
      "Copying \\\\192.168.0.179\\NASdata4\\summaryTests\\ds004105-download\\sub-02\\ses-01\\eeg\\sub-02_ses-01_task-DriveRandomSound_run-2_events.tsv to \\\\192.168.0.179\\NASdata4\\summaryTests\\ds004105-download\\derivatives\\remodel\\backups\\test_backup\\backup_root\\sub-02\\ses-01\\eeg\\sub-02_ses-01_task-DriveRandomSound_run-2_events.tsv\n",
      "Copying \\\\192.168.0.179\\NASdata4\\summaryTests\\ds004105-download\\sub-03\\ses-01\\eeg\\sub-03_ses-01_task-DriveRandomSound_run-1_events.tsv to \\\\192.168.0.179\\NASdata4\\summaryTests\\ds004105-download\\derivatives\\remodel\\backups\\test_backup\\backup_root\\sub-03\\ses-01\\eeg\\sub-03_ses-01_task-DriveRandomSound_run-1_events.tsv\n",
      "Copying \\\\192.168.0.179\\NASdata4\\summaryTests\\ds004105-download\\sub-03\\ses-01\\eeg\\sub-03_ses-01_task-DriveRandomSound_run-2_events.tsv to \\\\192.168.0.179\\NASdata4\\summaryTests\\ds004105-download\\derivatives\\remodel\\backups\\test_backup\\backup_root\\sub-03\\ses-01\\eeg\\sub-03_ses-01_task-DriveRandomSound_run-2_events.tsv\n",
      "Copying \\\\192.168.0.179\\NASdata4\\summaryTests\\ds004105-download\\sub-04\\ses-01\\eeg\\sub-04_ses-01_task-DriveRandomSound_run-1_events.tsv to \\\\192.168.0.179\\NASdata4\\summaryTests\\ds004105-download\\derivatives\\remodel\\backups\\test_backup\\backup_root\\sub-04\\ses-01\\eeg\\sub-04_ses-01_task-DriveRandomSound_run-1_events.tsv\n",
      "Copying \\\\192.168.0.179\\NASdata4\\summaryTests\\ds004105-download\\sub-04\\ses-01\\eeg\\sub-04_ses-01_task-DriveRandomSound_run-2_events.tsv to \\\\192.168.0.179\\NASdata4\\summaryTests\\ds004105-download\\derivatives\\remodel\\backups\\test_backup\\backup_root\\sub-04\\ses-01\\eeg\\sub-04_ses-01_task-DriveRandomSound_run-2_events.tsv\n",
      "Copying \\\\192.168.0.179\\NASdata4\\summaryTests\\ds004105-download\\sub-05\\ses-01\\eeg\\sub-05_ses-01_task-DriveRandomSound_run-1_events.tsv to \\\\192.168.0.179\\NASdata4\\summaryTests\\ds004105-download\\derivatives\\remodel\\backups\\test_backup\\backup_root\\sub-05\\ses-01\\eeg\\sub-05_ses-01_task-DriveRandomSound_run-1_events.tsv\n",
      "Copying \\\\192.168.0.179\\NASdata4\\summaryTests\\ds004105-download\\sub-05\\ses-01\\eeg\\sub-05_ses-01_task-DriveRandomSound_run-2_events.tsv to \\\\192.168.0.179\\NASdata4\\summaryTests\\ds004105-download\\derivatives\\remodel\\backups\\test_backup\\backup_root\\sub-05\\ses-01\\eeg\\sub-05_ses-01_task-DriveRandomSound_run-2_events.tsv\n",
      "Copying \\\\192.168.0.179\\NASdata4\\summaryTests\\ds004105-download\\sub-06\\ses-01\\eeg\\sub-06_ses-01_task-DriveRandomSound_run-1_events.tsv to \\\\192.168.0.179\\NASdata4\\summaryTests\\ds004105-download\\derivatives\\remodel\\backups\\test_backup\\backup_root\\sub-06\\ses-01\\eeg\\sub-06_ses-01_task-DriveRandomSound_run-1_events.tsv\n",
      "Copying \\\\192.168.0.179\\NASdata4\\summaryTests\\ds004105-download\\sub-06\\ses-01\\eeg\\sub-06_ses-01_task-DriveRandomSound_run-2_events.tsv to \\\\192.168.0.179\\NASdata4\\summaryTests\\ds004105-download\\derivatives\\remodel\\backups\\test_backup\\backup_root\\sub-06\\ses-01\\eeg\\sub-06_ses-01_task-DriveRandomSound_run-2_events.tsv\n",
      "Copying \\\\192.168.0.179\\NASdata4\\summaryTests\\ds004105-download\\sub-07\\ses-01\\eeg\\sub-07_ses-01_task-DriveRandomSound_run-1_events.tsv to \\\\192.168.0.179\\NASdata4\\summaryTests\\ds004105-download\\derivatives\\remodel\\backups\\test_backup\\backup_root\\sub-07\\ses-01\\eeg\\sub-07_ses-01_task-DriveRandomSound_run-1_events.tsv\n",
      "Copying \\\\192.168.0.179\\NASdata4\\summaryTests\\ds004105-download\\sub-07\\ses-01\\eeg\\sub-07_ses-01_task-DriveRandomSound_run-2_events.tsv to \\\\192.168.0.179\\NASdata4\\summaryTests\\ds004105-download\\derivatives\\remodel\\backups\\test_backup\\backup_root\\sub-07\\ses-01\\eeg\\sub-07_ses-01_task-DriveRandomSound_run-2_events.tsv\n",
      "Copying \\\\192.168.0.179\\NASdata4\\summaryTests\\ds004105-download\\sub-08\\ses-01\\eeg\\sub-08_ses-01_task-DriveRandomSound_run-1_events.tsv to \\\\192.168.0.179\\NASdata4\\summaryTests\\ds004105-download\\derivatives\\remodel\\backups\\test_backup\\backup_root\\sub-08\\ses-01\\eeg\\sub-08_ses-01_task-DriveRandomSound_run-1_events.tsv\n",
      "Copying \\\\192.168.0.179\\NASdata4\\summaryTests\\ds004105-download\\sub-08\\ses-01\\eeg\\sub-08_ses-01_task-DriveRandomSound_run-2_events.tsv to \\\\192.168.0.179\\NASdata4\\summaryTests\\ds004105-download\\derivatives\\remodel\\backups\\test_backup\\backup_root\\sub-08\\ses-01\\eeg\\sub-08_ses-01_task-DriveRandomSound_run-2_events.tsv\n",
      "Copying \\\\192.168.0.179\\NASdata4\\summaryTests\\ds004105-download\\sub-09\\ses-01\\eeg\\sub-09_ses-01_task-DriveRandomSound_run-1_events.tsv to \\\\192.168.0.179\\NASdata4\\summaryTests\\ds004105-download\\derivatives\\remodel\\backups\\test_backup\\backup_root\\sub-09\\ses-01\\eeg\\sub-09_ses-01_task-DriveRandomSound_run-1_events.tsv\n",
      "Copying \\\\192.168.0.179\\NASdata4\\summaryTests\\ds004105-download\\sub-09\\ses-01\\eeg\\sub-09_ses-01_task-DriveRandomSound_run-2_events.tsv to \\\\192.168.0.179\\NASdata4\\summaryTests\\ds004105-download\\derivatives\\remodel\\backups\\test_backup\\backup_root\\sub-09\\ses-01\\eeg\\sub-09_ses-01_task-DriveRandomSound_run-2_events.tsv\n",
      "Copying \\\\192.168.0.179\\NASdata4\\summaryTests\\ds004105-download\\sub-10\\ses-01\\eeg\\sub-10_ses-01_task-DriveRandomSound_run-1_events.tsv to \\\\192.168.0.179\\NASdata4\\summaryTests\\ds004105-download\\derivatives\\remodel\\backups\\test_backup\\backup_root\\sub-10\\ses-01\\eeg\\sub-10_ses-01_task-DriveRandomSound_run-1_events.tsv\n",
      "Copying \\\\192.168.0.179\\NASdata4\\summaryTests\\ds004105-download\\sub-10\\ses-01\\eeg\\sub-10_ses-01_task-DriveRandomSound_run-2_events.tsv to \\\\192.168.0.179\\NASdata4\\summaryTests\\ds004105-download\\derivatives\\remodel\\backups\\test_backup\\backup_root\\sub-10\\ses-01\\eeg\\sub-10_ses-01_task-DriveRandomSound_run-2_events.tsv\n",
      "Copying \\\\192.168.0.179\\NASdata4\\summaryTests\\ds004105-download\\sub-11\\ses-01\\eeg\\sub-11_ses-01_task-DriveRandomSound_run-1_events.tsv to \\\\192.168.0.179\\NASdata4\\summaryTests\\ds004105-download\\derivatives\\remodel\\backups\\test_backup\\backup_root\\sub-11\\ses-01\\eeg\\sub-11_ses-01_task-DriveRandomSound_run-1_events.tsv\n",
      "Copying \\\\192.168.0.179\\NASdata4\\summaryTests\\ds004105-download\\sub-11\\ses-01\\eeg\\sub-11_ses-01_task-DriveRandomSound_run-2_events.tsv to \\\\192.168.0.179\\NASdata4\\summaryTests\\ds004105-download\\derivatives\\remodel\\backups\\test_backup\\backup_root\\sub-11\\ses-01\\eeg\\sub-11_ses-01_task-DriveRandomSound_run-2_events.tsv\n",
      "Copying \\\\192.168.0.179\\NASdata4\\summaryTests\\ds004105-download\\sub-12\\ses-01\\eeg\\sub-12_ses-01_task-DriveRandomSound_run-1_events.tsv to \\\\192.168.0.179\\NASdata4\\summaryTests\\ds004105-download\\derivatives\\remodel\\backups\\test_backup\\backup_root\\sub-12\\ses-01\\eeg\\sub-12_ses-01_task-DriveRandomSound_run-1_events.tsv\n",
      "Copying \\\\192.168.0.179\\NASdata4\\summaryTests\\ds004105-download\\sub-12\\ses-01\\eeg\\sub-12_ses-01_task-DriveRandomSound_run-2_events.tsv to \\\\192.168.0.179\\NASdata4\\summaryTests\\ds004105-download\\derivatives\\remodel\\backups\\test_backup\\backup_root\\sub-12\\ses-01\\eeg\\sub-12_ses-01_task-DriveRandomSound_run-2_events.tsv\n",
      "Copying \\\\192.168.0.179\\NASdata4\\summaryTests\\ds004105-download\\sub-13\\ses-01\\eeg\\sub-13_ses-01_task-DriveRandomSound_run-1_events.tsv to \\\\192.168.0.179\\NASdata4\\summaryTests\\ds004105-download\\derivatives\\remodel\\backups\\test_backup\\backup_root\\sub-13\\ses-01\\eeg\\sub-13_ses-01_task-DriveRandomSound_run-1_events.tsv\n",
      "Copying \\\\192.168.0.179\\NASdata4\\summaryTests\\ds004105-download\\sub-13\\ses-01\\eeg\\sub-13_ses-01_task-DriveRandomSound_run-2_events.tsv to \\\\192.168.0.179\\NASdata4\\summaryTests\\ds004105-download\\derivatives\\remodel\\backups\\test_backup\\backup_root\\sub-13\\ses-01\\eeg\\sub-13_ses-01_task-DriveRandomSound_run-2_events.tsv\n",
      "Copying \\\\192.168.0.179\\NASdata4\\summaryTests\\ds004105-download\\sub-14\\ses-01\\eeg\\sub-14_ses-01_task-DriveRandomSound_run-1_events.tsv to \\\\192.168.0.179\\NASdata4\\summaryTests\\ds004105-download\\derivatives\\remodel\\backups\\test_backup\\backup_root\\sub-14\\ses-01\\eeg\\sub-14_ses-01_task-DriveRandomSound_run-1_events.tsv\n",
      "Copying \\\\192.168.0.179\\NASdata4\\summaryTests\\ds004105-download\\sub-14\\ses-01\\eeg\\sub-14_ses-01_task-DriveRandomSound_run-2_events.tsv to \\\\192.168.0.179\\NASdata4\\summaryTests\\ds004105-download\\derivatives\\remodel\\backups\\test_backup\\backup_root\\sub-14\\ses-01\\eeg\\sub-14_ses-01_task-DriveRandomSound_run-2_events.tsv\n",
      "Copying \\\\192.168.0.179\\NASdata4\\summaryTests\\ds004105-download\\sub-15\\ses-01\\eeg\\sub-15_ses-01_task-DriveRandomSound_run-1_events.tsv to \\\\192.168.0.179\\NASdata4\\summaryTests\\ds004105-download\\derivatives\\remodel\\backups\\test_backup\\backup_root\\sub-15\\ses-01\\eeg\\sub-15_ses-01_task-DriveRandomSound_run-1_events.tsv\n",
      "Copying \\\\192.168.0.179\\NASdata4\\summaryTests\\ds004105-download\\sub-15\\ses-01\\eeg\\sub-15_ses-01_task-DriveRandomSound_run-2_events.tsv to \\\\192.168.0.179\\NASdata4\\summaryTests\\ds004105-download\\derivatives\\remodel\\backups\\test_backup\\backup_root\\sub-15\\ses-01\\eeg\\sub-15_ses-01_task-DriveRandomSound_run-2_events.tsv\n",
      "Copying \\\\192.168.0.179\\NASdata4\\summaryTests\\ds004105-download\\sub-16\\ses-01\\eeg\\sub-16_ses-01_task-DriveRandomSound_run-1_events.tsv to \\\\192.168.0.179\\NASdata4\\summaryTests\\ds004105-download\\derivatives\\remodel\\backups\\test_backup\\backup_root\\sub-16\\ses-01\\eeg\\sub-16_ses-01_task-DriveRandomSound_run-1_events.tsv\n",
      "Copying \\\\192.168.0.179\\NASdata4\\summaryTests\\ds004105-download\\sub-16\\ses-01\\eeg\\sub-16_ses-01_task-DriveRandomSound_run-2_events.tsv to \\\\192.168.0.179\\NASdata4\\summaryTests\\ds004105-download\\derivatives\\remodel\\backups\\test_backup\\backup_root\\sub-16\\ses-01\\eeg\\sub-16_ses-01_task-DriveRandomSound_run-2_events.tsv\n",
      "Copying \\\\192.168.0.179\\NASdata4\\summaryTests\\ds004105-download\\sub-17\\ses-01\\eeg\\sub-17_ses-01_task-DriveRandomSound_run-1_events.tsv to \\\\192.168.0.179\\NASdata4\\summaryTests\\ds004105-download\\derivatives\\remodel\\backups\\test_backup\\backup_root\\sub-17\\ses-01\\eeg\\sub-17_ses-01_task-DriveRandomSound_run-1_events.tsv\n",
      "Copying \\\\192.168.0.179\\NASdata4\\summaryTests\\ds004105-download\\sub-17\\ses-01\\eeg\\sub-17_ses-01_task-DriveRandomSound_run-2_events.tsv to \\\\192.168.0.179\\NASdata4\\summaryTests\\ds004105-download\\derivatives\\remodel\\backups\\test_backup\\backup_root\\sub-17\\ses-01\\eeg\\sub-17_ses-01_task-DriveRandomSound_run-2_events.tsv\n"
     ]
    }
   ],
   "source": [
    "import os\n",
    "import hed.tools.remodeling.cli.run_remodel_backup as cli_backup\n",
    "\n",
    "#data_root = os.path.realpath('../../../datasets/eeg_ds003645s_hed_remodel')\n",
    "data_root = 't:/summaryTests/ds004105-download'\n",
    "backup_name = 'test_backup'\n",
    "arg_list = [data_root, '-bn', backup_name, '-x', 'derivatives', 'stimuli', 'code', 'sourcedata'\n",
    "                '-f', 'events', '-e', '.tsv', '-v']\n",
    "cli_backup.main(arg_list)\n"
   ],
   "metadata": {
    "collapsed": false,
    "pycharm": {
     "name": "#%%\n"
    },
    "ExecuteTime": {
     "end_time": "2023-10-22T21:27:19.165151200Z",
     "start_time": "2023-10-22T21:27:17.679498700Z"
    }
   }
  }
 ],
 "metadata": {
  "kernelspec": {
   "display_name": "Python 3",
   "language": "python",
   "name": "python3"
  },
  "language_info": {
   "codemirror_mode": {
    "name": "ipython",
    "version": 2
   },
   "file_extension": ".py",
   "mimetype": "text/x-python",
   "name": "python",
   "nbconvert_exporter": "python",
   "pygments_lexer": "ipython2",
   "version": "2.7.6"
  }
 },
 "nbformat": 4,
 "nbformat_minor": 0
}
