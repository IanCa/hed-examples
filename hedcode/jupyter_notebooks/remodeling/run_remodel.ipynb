{
 "cells": [
  {
   "cell_type": "markdown",
   "metadata": {
    "collapsed": true,
    "pycharm": {
     "name": "#%% md\n"
    }
   },
   "source": [
    "# Remodel an events file\n",
    "\n",
    "This notebook uses the `run_remodel.main(arglist)` to remodel an events file.\n",
    "The `arglist` is a list of parameters taking from the following table:\n",
    "\n",
    "| parameter | default | dest | other | meaning |\n",
    "| --------- | ------- | ---- | ----- | ------- |\n",
    "| data_dir  |         | data_dir |   | Full path of dataset root directory. |\n",
    "| model-path |    | model_path |   | Full path of the file with remodeling instructions. |\n",
    "| -n, --backup_name | default_back | backup_name |   | Name of the default backup for remodeling. |\n",
    "| -t, --task-names | []   |task_names | nargs=* |The name of the task. |\n",
    "| -x, --exclude-dirs | [] |exclude_dirs | nargs=* | Directories names to exclude from search for files.<br/>If omitted, no directories except the backup directory will be excluded.<br/>Note data_dir/remodel/backup will always be excluded. |\n",
    "| -f, --file-suffix | ['events']  | file_suffix | nargs=* | Filename suffix of files to be backed up.<br/>A * indicates all files allowed. |\n",
    "| -e, --extensions | ['.tsv'] | extensions | nargs=* | File extensions to allow in locating files.<br/>A * indicates all files allowed. |\n",
    "| -s, --save-formats | ['.json', '.txt'] | save_formats | nargs=* | Format for saving any summaries, if any.<br/>If empty, then no summaries are saved. |\n",
    "| -b, --bids-format |   | use_bids | action=store_true | If present, the dataset is in BIDS format with sidecars.<br/>HED analysis is available. |\n",
    "| -v, --verbose |   |  verbose | action=store_true | If present, output informative messages as computation progresses. |"
   ]
  },
  {
   "cell_type": "code",
   "execution_count": 1,
   "outputs": [
    {
     "name": "stdout",
     "output_type": "stream",
     "text": [
      "Data directory: \\\\192.168.0.179\\NASdata4\\summaryTests\\ds004105-download\n",
      "Model path: \\\\192.168.0.179\\NASdata4\\summaryTests\\ds004105-download\\derivatives\\remodel\\summarize_validate_rmdl.json\n",
      "Successfully parsed BIDS dataset with HED schema ['\"8.0.0\"']\n",
      "Processing \\\\192.168.0.179\\NASdata4\\summaryTests\\ds004105-download\n",
      "Tabular file \\\\192.168.0.179\\NASdata4\\summaryTests\\ds004105-download\\sub-01\\ses-01\\eeg\\sub-01_ses-01_task-DriveRandomSound_run-1_events.tsv  sidecar <hed.models.sidecar.Sidecar object at 0x0000012EBDF40970>\n",
      "Reading \\\\192.168.0.179\\NASdata4\\summaryTests\\ds004105-download\\sub-01\\ses-01\\eeg\\sub-01_ses-01_task-DriveRandomSound_run-1_events.tsv...\n",
      "Tabular file \\\\192.168.0.179\\NASdata4\\summaryTests\\ds004105-download\\sub-01\\ses-01\\eeg\\sub-01_ses-01_task-DriveRandomSound_run-2_events.tsv  sidecar <hed.models.sidecar.Sidecar object at 0x0000012EBDF40970>\n",
      "Reading \\\\192.168.0.179\\NASdata4\\summaryTests\\ds004105-download\\sub-01\\ses-01\\eeg\\sub-01_ses-01_task-DriveRandomSound_run-2_events.tsv...\n",
      "Tabular file \\\\192.168.0.179\\NASdata4\\summaryTests\\ds004105-download\\sub-02\\ses-01\\eeg\\sub-02_ses-01_task-DriveRandomSound_run-1_events.tsv  sidecar <hed.models.sidecar.Sidecar object at 0x0000012EBDF40970>\n",
      "Reading \\\\192.168.0.179\\NASdata4\\summaryTests\\ds004105-download\\sub-02\\ses-01\\eeg\\sub-02_ses-01_task-DriveRandomSound_run-1_events.tsv...\n",
      "Tabular file \\\\192.168.0.179\\NASdata4\\summaryTests\\ds004105-download\\sub-02\\ses-01\\eeg\\sub-02_ses-01_task-DriveRandomSound_run-2_events.tsv  sidecar <hed.models.sidecar.Sidecar object at 0x0000012EBDF40970>\n",
      "Reading \\\\192.168.0.179\\NASdata4\\summaryTests\\ds004105-download\\sub-02\\ses-01\\eeg\\sub-02_ses-01_task-DriveRandomSound_run-2_events.tsv...\n",
      "Tabular file \\\\192.168.0.179\\NASdata4\\summaryTests\\ds004105-download\\sub-03\\ses-01\\eeg\\sub-03_ses-01_task-DriveRandomSound_run-1_events.tsv  sidecar <hed.models.sidecar.Sidecar object at 0x0000012EBDF40970>\n",
      "Reading \\\\192.168.0.179\\NASdata4\\summaryTests\\ds004105-download\\sub-03\\ses-01\\eeg\\sub-03_ses-01_task-DriveRandomSound_run-1_events.tsv...\n",
      "Tabular file \\\\192.168.0.179\\NASdata4\\summaryTests\\ds004105-download\\sub-03\\ses-01\\eeg\\sub-03_ses-01_task-DriveRandomSound_run-2_events.tsv  sidecar <hed.models.sidecar.Sidecar object at 0x0000012EBDF40970>\n",
      "Reading \\\\192.168.0.179\\NASdata4\\summaryTests\\ds004105-download\\sub-03\\ses-01\\eeg\\sub-03_ses-01_task-DriveRandomSound_run-2_events.tsv...\n",
      "Tabular file \\\\192.168.0.179\\NASdata4\\summaryTests\\ds004105-download\\sub-04\\ses-01\\eeg\\sub-04_ses-01_task-DriveRandomSound_run-1_events.tsv  sidecar <hed.models.sidecar.Sidecar object at 0x0000012EBDF40970>\n",
      "Reading \\\\192.168.0.179\\NASdata4\\summaryTests\\ds004105-download\\sub-04\\ses-01\\eeg\\sub-04_ses-01_task-DriveRandomSound_run-1_events.tsv...\n",
      "Tabular file \\\\192.168.0.179\\NASdata4\\summaryTests\\ds004105-download\\sub-04\\ses-01\\eeg\\sub-04_ses-01_task-DriveRandomSound_run-2_events.tsv  sidecar <hed.models.sidecar.Sidecar object at 0x0000012EBDF40970>\n",
      "Reading \\\\192.168.0.179\\NASdata4\\summaryTests\\ds004105-download\\sub-04\\ses-01\\eeg\\sub-04_ses-01_task-DriveRandomSound_run-2_events.tsv...\n",
      "Tabular file \\\\192.168.0.179\\NASdata4\\summaryTests\\ds004105-download\\sub-05\\ses-01\\eeg\\sub-05_ses-01_task-DriveRandomSound_run-1_events.tsv  sidecar <hed.models.sidecar.Sidecar object at 0x0000012EBDF40970>\n",
      "Reading \\\\192.168.0.179\\NASdata4\\summaryTests\\ds004105-download\\sub-05\\ses-01\\eeg\\sub-05_ses-01_task-DriveRandomSound_run-1_events.tsv...\n",
      "Tabular file \\\\192.168.0.179\\NASdata4\\summaryTests\\ds004105-download\\sub-05\\ses-01\\eeg\\sub-05_ses-01_task-DriveRandomSound_run-2_events.tsv  sidecar <hed.models.sidecar.Sidecar object at 0x0000012EBDF40970>\n",
      "Reading \\\\192.168.0.179\\NASdata4\\summaryTests\\ds004105-download\\sub-05\\ses-01\\eeg\\sub-05_ses-01_task-DriveRandomSound_run-2_events.tsv...\n",
      "Tabular file \\\\192.168.0.179\\NASdata4\\summaryTests\\ds004105-download\\sub-06\\ses-01\\eeg\\sub-06_ses-01_task-DriveRandomSound_run-1_events.tsv  sidecar <hed.models.sidecar.Sidecar object at 0x0000012EBDF40970>\n",
      "Reading \\\\192.168.0.179\\NASdata4\\summaryTests\\ds004105-download\\sub-06\\ses-01\\eeg\\sub-06_ses-01_task-DriveRandomSound_run-1_events.tsv...\n",
      "Tabular file \\\\192.168.0.179\\NASdata4\\summaryTests\\ds004105-download\\sub-06\\ses-01\\eeg\\sub-06_ses-01_task-DriveRandomSound_run-2_events.tsv  sidecar <hed.models.sidecar.Sidecar object at 0x0000012EBDF40970>\n",
      "Reading \\\\192.168.0.179\\NASdata4\\summaryTests\\ds004105-download\\sub-06\\ses-01\\eeg\\sub-06_ses-01_task-DriveRandomSound_run-2_events.tsv...\n",
      "Tabular file \\\\192.168.0.179\\NASdata4\\summaryTests\\ds004105-download\\sub-07\\ses-01\\eeg\\sub-07_ses-01_task-DriveRandomSound_run-1_events.tsv  sidecar <hed.models.sidecar.Sidecar object at 0x0000012EBDF40970>\n",
      "Reading \\\\192.168.0.179\\NASdata4\\summaryTests\\ds004105-download\\sub-07\\ses-01\\eeg\\sub-07_ses-01_task-DriveRandomSound_run-1_events.tsv...\n",
      "Tabular file \\\\192.168.0.179\\NASdata4\\summaryTests\\ds004105-download\\sub-07\\ses-01\\eeg\\sub-07_ses-01_task-DriveRandomSound_run-2_events.tsv  sidecar <hed.models.sidecar.Sidecar object at 0x0000012EBDF40970>\n",
      "Reading \\\\192.168.0.179\\NASdata4\\summaryTests\\ds004105-download\\sub-07\\ses-01\\eeg\\sub-07_ses-01_task-DriveRandomSound_run-2_events.tsv...\n",
      "Tabular file \\\\192.168.0.179\\NASdata4\\summaryTests\\ds004105-download\\sub-08\\ses-01\\eeg\\sub-08_ses-01_task-DriveRandomSound_run-1_events.tsv  sidecar <hed.models.sidecar.Sidecar object at 0x0000012EBDF40970>\n",
      "Reading \\\\192.168.0.179\\NASdata4\\summaryTests\\ds004105-download\\sub-08\\ses-01\\eeg\\sub-08_ses-01_task-DriveRandomSound_run-1_events.tsv...\n",
      "Tabular file \\\\192.168.0.179\\NASdata4\\summaryTests\\ds004105-download\\sub-08\\ses-01\\eeg\\sub-08_ses-01_task-DriveRandomSound_run-2_events.tsv  sidecar <hed.models.sidecar.Sidecar object at 0x0000012EBDF40970>\n",
      "Reading \\\\192.168.0.179\\NASdata4\\summaryTests\\ds004105-download\\sub-08\\ses-01\\eeg\\sub-08_ses-01_task-DriveRandomSound_run-2_events.tsv...\n",
      "Tabular file \\\\192.168.0.179\\NASdata4\\summaryTests\\ds004105-download\\sub-09\\ses-01\\eeg\\sub-09_ses-01_task-DriveRandomSound_run-1_events.tsv  sidecar <hed.models.sidecar.Sidecar object at 0x0000012EBDF40970>\n",
      "Reading \\\\192.168.0.179\\NASdata4\\summaryTests\\ds004105-download\\sub-09\\ses-01\\eeg\\sub-09_ses-01_task-DriveRandomSound_run-1_events.tsv...\n",
      "Tabular file \\\\192.168.0.179\\NASdata4\\summaryTests\\ds004105-download\\sub-09\\ses-01\\eeg\\sub-09_ses-01_task-DriveRandomSound_run-2_events.tsv  sidecar <hed.models.sidecar.Sidecar object at 0x0000012EBDF40970>\n",
      "Reading \\\\192.168.0.179\\NASdata4\\summaryTests\\ds004105-download\\sub-09\\ses-01\\eeg\\sub-09_ses-01_task-DriveRandomSound_run-2_events.tsv...\n",
      "Tabular file \\\\192.168.0.179\\NASdata4\\summaryTests\\ds004105-download\\sub-10\\ses-01\\eeg\\sub-10_ses-01_task-DriveRandomSound_run-1_events.tsv  sidecar <hed.models.sidecar.Sidecar object at 0x0000012EBDF40970>\n",
      "Reading \\\\192.168.0.179\\NASdata4\\summaryTests\\ds004105-download\\sub-10\\ses-01\\eeg\\sub-10_ses-01_task-DriveRandomSound_run-1_events.tsv...\n",
      "Tabular file \\\\192.168.0.179\\NASdata4\\summaryTests\\ds004105-download\\sub-10\\ses-01\\eeg\\sub-10_ses-01_task-DriveRandomSound_run-2_events.tsv  sidecar <hed.models.sidecar.Sidecar object at 0x0000012EBDF40970>\n",
      "Reading \\\\192.168.0.179\\NASdata4\\summaryTests\\ds004105-download\\sub-10\\ses-01\\eeg\\sub-10_ses-01_task-DriveRandomSound_run-2_events.tsv...\n",
      "Tabular file \\\\192.168.0.179\\NASdata4\\summaryTests\\ds004105-download\\sub-11\\ses-01\\eeg\\sub-11_ses-01_task-DriveRandomSound_run-1_events.tsv  sidecar <hed.models.sidecar.Sidecar object at 0x0000012EBDF40970>\n",
      "Reading \\\\192.168.0.179\\NASdata4\\summaryTests\\ds004105-download\\sub-11\\ses-01\\eeg\\sub-11_ses-01_task-DriveRandomSound_run-1_events.tsv...\n",
      "Tabular file \\\\192.168.0.179\\NASdata4\\summaryTests\\ds004105-download\\sub-11\\ses-01\\eeg\\sub-11_ses-01_task-DriveRandomSound_run-2_events.tsv  sidecar <hed.models.sidecar.Sidecar object at 0x0000012EBDF40970>\n",
      "Reading \\\\192.168.0.179\\NASdata4\\summaryTests\\ds004105-download\\sub-11\\ses-01\\eeg\\sub-11_ses-01_task-DriveRandomSound_run-2_events.tsv...\n",
      "Tabular file \\\\192.168.0.179\\NASdata4\\summaryTests\\ds004105-download\\sub-12\\ses-01\\eeg\\sub-12_ses-01_task-DriveRandomSound_run-1_events.tsv  sidecar <hed.models.sidecar.Sidecar object at 0x0000012EBDF40970>\n",
      "Reading \\\\192.168.0.179\\NASdata4\\summaryTests\\ds004105-download\\sub-12\\ses-01\\eeg\\sub-12_ses-01_task-DriveRandomSound_run-1_events.tsv...\n",
      "Tabular file \\\\192.168.0.179\\NASdata4\\summaryTests\\ds004105-download\\sub-12\\ses-01\\eeg\\sub-12_ses-01_task-DriveRandomSound_run-2_events.tsv  sidecar <hed.models.sidecar.Sidecar object at 0x0000012EBDF40970>\n",
      "Reading \\\\192.168.0.179\\NASdata4\\summaryTests\\ds004105-download\\sub-12\\ses-01\\eeg\\sub-12_ses-01_task-DriveRandomSound_run-2_events.tsv...\n",
      "Tabular file \\\\192.168.0.179\\NASdata4\\summaryTests\\ds004105-download\\sub-13\\ses-01\\eeg\\sub-13_ses-01_task-DriveRandomSound_run-1_events.tsv  sidecar <hed.models.sidecar.Sidecar object at 0x0000012EBDF40970>\n",
      "Reading \\\\192.168.0.179\\NASdata4\\summaryTests\\ds004105-download\\sub-13\\ses-01\\eeg\\sub-13_ses-01_task-DriveRandomSound_run-1_events.tsv...\n",
      "Tabular file \\\\192.168.0.179\\NASdata4\\summaryTests\\ds004105-download\\sub-13\\ses-01\\eeg\\sub-13_ses-01_task-DriveRandomSound_run-2_events.tsv  sidecar <hed.models.sidecar.Sidecar object at 0x0000012EBDF40970>\n",
      "Reading \\\\192.168.0.179\\NASdata4\\summaryTests\\ds004105-download\\sub-13\\ses-01\\eeg\\sub-13_ses-01_task-DriveRandomSound_run-2_events.tsv...\n",
      "Tabular file \\\\192.168.0.179\\NASdata4\\summaryTests\\ds004105-download\\sub-14\\ses-01\\eeg\\sub-14_ses-01_task-DriveRandomSound_run-1_events.tsv  sidecar <hed.models.sidecar.Sidecar object at 0x0000012EBDF40970>\n",
      "Reading \\\\192.168.0.179\\NASdata4\\summaryTests\\ds004105-download\\sub-14\\ses-01\\eeg\\sub-14_ses-01_task-DriveRandomSound_run-1_events.tsv...\n",
      "Tabular file \\\\192.168.0.179\\NASdata4\\summaryTests\\ds004105-download\\sub-14\\ses-01\\eeg\\sub-14_ses-01_task-DriveRandomSound_run-2_events.tsv  sidecar <hed.models.sidecar.Sidecar object at 0x0000012EBDF40970>\n",
      "Reading \\\\192.168.0.179\\NASdata4\\summaryTests\\ds004105-download\\sub-14\\ses-01\\eeg\\sub-14_ses-01_task-DriveRandomSound_run-2_events.tsv...\n",
      "Tabular file \\\\192.168.0.179\\NASdata4\\summaryTests\\ds004105-download\\sub-15\\ses-01\\eeg\\sub-15_ses-01_task-DriveRandomSound_run-1_events.tsv  sidecar <hed.models.sidecar.Sidecar object at 0x0000012EBDF40970>\n",
      "Reading \\\\192.168.0.179\\NASdata4\\summaryTests\\ds004105-download\\sub-15\\ses-01\\eeg\\sub-15_ses-01_task-DriveRandomSound_run-1_events.tsv...\n",
      "Tabular file \\\\192.168.0.179\\NASdata4\\summaryTests\\ds004105-download\\sub-15\\ses-01\\eeg\\sub-15_ses-01_task-DriveRandomSound_run-2_events.tsv  sidecar <hed.models.sidecar.Sidecar object at 0x0000012EBDF40970>\n",
      "Reading \\\\192.168.0.179\\NASdata4\\summaryTests\\ds004105-download\\sub-15\\ses-01\\eeg\\sub-15_ses-01_task-DriveRandomSound_run-2_events.tsv...\n",
      "Tabular file \\\\192.168.0.179\\NASdata4\\summaryTests\\ds004105-download\\sub-16\\ses-01\\eeg\\sub-16_ses-01_task-DriveRandomSound_run-1_events.tsv  sidecar <hed.models.sidecar.Sidecar object at 0x0000012EBDF40970>\n",
      "Reading \\\\192.168.0.179\\NASdata4\\summaryTests\\ds004105-download\\sub-16\\ses-01\\eeg\\sub-16_ses-01_task-DriveRandomSound_run-1_events.tsv...\n",
      "Tabular file \\\\192.168.0.179\\NASdata4\\summaryTests\\ds004105-download\\sub-16\\ses-01\\eeg\\sub-16_ses-01_task-DriveRandomSound_run-2_events.tsv  sidecar <hed.models.sidecar.Sidecar object at 0x0000012EBDF40970>\n",
      "Reading \\\\192.168.0.179\\NASdata4\\summaryTests\\ds004105-download\\sub-16\\ses-01\\eeg\\sub-16_ses-01_task-DriveRandomSound_run-2_events.tsv...\n",
      "Tabular file \\\\192.168.0.179\\NASdata4\\summaryTests\\ds004105-download\\sub-17\\ses-01\\eeg\\sub-17_ses-01_task-DriveRandomSound_run-1_events.tsv  sidecar <hed.models.sidecar.Sidecar object at 0x0000012EBDF40970>\n",
      "Reading \\\\192.168.0.179\\NASdata4\\summaryTests\\ds004105-download\\sub-17\\ses-01\\eeg\\sub-17_ses-01_task-DriveRandomSound_run-1_events.tsv...\n",
      "Tabular file \\\\192.168.0.179\\NASdata4\\summaryTests\\ds004105-download\\sub-17\\ses-01\\eeg\\sub-17_ses-01_task-DriveRandomSound_run-2_events.tsv  sidecar <hed.models.sidecar.Sidecar object at 0x0000012EBDF40970>\n",
      "Reading \\\\192.168.0.179\\NASdata4\\summaryTests\\ds004105-download\\sub-17\\ses-01\\eeg\\sub-17_ses-01_task-DriveRandomSound_run-2_events.tsv...\n"
     ]
    }
   ],
   "source": [
    "import os\n",
    "import shutil\n",
    "import hed.tools.remodeling.cli.run_remodel as cli_remodel\n",
    "\n",
    "data_root = 't:/summaryTests/ds004105-download'\n",
    "model_path = os.path.realpath(os.path.join(data_root, 'derivatives/remodel/summarize_validate_rmdl.json'))\n",
    "arg_list = [data_root, model_path, '-b', '-nb', '-x', 'derivatives', 'stimuli', 'sourcedata', 'code',\n",
    "            '-f', 'events', '-e', '.tsv', '-i', 'consolidated', '-v']\n",
    "cli_remodel.main(arg_list)\n"
   ],
   "metadata": {
    "collapsed": false,
    "pycharm": {
     "name": "#%%  This removes all summaries from eeg_ds003645s_hed_remodel and then reruns.\n"
    },
    "ExecuteTime": {
     "end_time": "2023-10-22T21:36:00.919686Z",
     "start_time": "2023-10-22T21:34:56.555799500Z"
    }
   }
  },
  {
   "cell_type": "code",
   "execution_count": 1,
   "outputs": [],
   "source": [],
   "metadata": {
    "collapsed": false,
    "ExecuteTime": {
     "end_time": "2023-10-22T21:36:00.937688400Z",
     "start_time": "2023-10-22T21:36:00.921685100Z"
    }
   }
  }
 ],
 "metadata": {
  "kernelspec": {
   "display_name": "Python 3",
   "language": "python",
   "name": "python3"
  },
  "language_info": {
   "codemirror_mode": {
    "name": "ipython",
    "version": 2
   },
   "file_extension": ".py",
   "mimetype": "text/x-python",
   "name": "python",
   "nbconvert_exporter": "python",
   "pygments_lexer": "ipython2",
   "version": "2.7.6"
  }
 },
 "nbformat": 4,
 "nbformat_minor": 0
}
