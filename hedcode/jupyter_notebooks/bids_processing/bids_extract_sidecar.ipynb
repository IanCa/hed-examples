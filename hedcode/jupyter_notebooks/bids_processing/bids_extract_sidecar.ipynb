{
 "cells": [
  {
   "cell_type": "markdown",
   "metadata": {
    "collapsed": true,
    "pycharm": {
     "name": "#%% md\n"
    }
   },
   "source": [
    "## Extract a JSON sidecar template from a BIDS dataset.\n",
    "\n",
    "The steps are:\n",
    "\n",
    "1. Set the dataset location (`bids_root_path`) to the absolute path to the root of your BIDS dataset.\n",
    "2. Set the columns to be excluded (`column_to_skip`) from the summary. Usually, these are columns\n",
    "that are specific or unique to each event including `onset`, `duration`, `sample`, and `HED`.\n",
    "The skip columns will not be annotated.\n",
    "3. Create a dictionary of the unique values in each column.\n",
    "4. Output the results.\n",
    "\n",
    "The example below uses a small version of the Wakeman-Hanson face-processing dataset\n",
    "available on openNeuro as ds003654."
   ]
  },
  {
   "cell_type": "code",
   "source": [
    "import os\n",
    "import json\n",
    "from hed.tools.summaries.col_dict import ColumnDict\n",
    "from hed.util import get_file_list\n",
    "\n",
    "file_base = '\\d\\eeg_ds003654s_hed_sub-02_run-1'\n",
    "bids_root_path =  os.path.abspath(os.path.join(os.path.dirname(os.path.abspath('')),\n",
    "                                               os.path.join('../../datasets/eeg_ds003654s_hed')))\n",
    "event_files = get_file_list(bids_root_path, extensions=[\".tsv\"], name_suffix=\"_events\")\n",
    "columns_to_skip = [\"onset\", \"duration\", \"sample\", \"response_time\"]\n",
    "value_columns = [\"rep_lag\", \"stim_file\", \"trial\", \"value\"]\n",
    "col_dict = ColumnDict(skip_cols=columns_to_skip, value_cols=value_columns, name=bids_root_path)\n",
    "col_dict.update(event_files)\n",
    "sidecar_template = col_dict.extract_sidecar_template()\n",
    "str_json = json.dumps(sidecar_template, indent=4)\n",
    "print(str_json)\n"
   ],
   "metadata": {
    "collapsed": false,
    "pycharm": {
     "name": "#%% Set the location of the dataset the dataset\n"
    }
   },
   "execution_count": 1,
   "outputs": [
    {
     "name": "stdout",
     "output_type": "stream",
     "text": [
      "Extracting template.....\n",
      "column_name:event_type\n",
      "column_valuedouble_press\n",
      "column_valueleft_press\n",
      "column_valueright_press\n",
      "column_valuesetup_right_sym\n",
      "column_valueshow_circle\n",
      "column_valueshow_cross\n",
      "column_valueshow_face\n",
      "column_valueshow_face_initial\n",
      "column_name:face_type\n",
      "column_valuefamous_face\n",
      "column_valuen/a\n",
      "column_valuescrambled_face\n",
      "column_valueunfamiliar_face\n",
      "column_name:rep_status\n",
      "column_valuedelayed_repeat\n",
      "column_valuefirst_show\n",
      "column_valueimmediate_repeat\n",
      "column_valuen/a\n",
      "column_name:rep_lag\n",
      "column_name:stim_file\n",
      "column_name:trial\n",
      "column_name:value\n",
      "{\n",
      "    \"event_type\": {\n",
      "        \"Description\": \"Description for event_type\",\n",
      "        \"HED\": {\n",
      "            \"double_press\": \"Description/Tags for double_press\",\n",
      "            \"left_press\": \"Description/Tags for left_press\",\n",
      "            \"right_press\": \"Description/Tags for right_press\",\n",
      "            \"setup_right_sym\": \"Description/Tags for setup_right_sym\",\n",
      "            \"show_circle\": \"Description/Tags for show_circle\",\n",
      "            \"show_cross\": \"Description/Tags for show_cross\",\n",
      "            \"show_face\": \"Description/Tags for show_face\",\n",
      "            \"show_face_initial\": \"Description/Tags for show_face_initial\"\n",
      "        },\n",
      "        \"Levels\": {\n",
      "            \"double_press\": \"Level for double_press\",\n",
      "            \"left_press\": \"Level for left_press\",\n",
      "            \"right_press\": \"Level for right_press\",\n",
      "            \"setup_right_sym\": \"Level for setup_right_sym\",\n",
      "            \"show_circle\": \"Level for show_circle\",\n",
      "            \"show_cross\": \"Level for show_cross\",\n",
      "            \"show_face\": \"Level for show_face\",\n",
      "            \"show_face_initial\": \"Level for show_face_initial\"\n",
      "        }\n",
      "    },\n",
      "    \"face_type\": {\n",
      "        \"Description\": \"Description for face_type\",\n",
      "        \"HED\": {\n",
      "            \"famous_face\": \"Description/Tags for famous_face\",\n",
      "            \"scrambled_face\": \"Description/Tags for scrambled_face\",\n",
      "            \"unfamiliar_face\": \"Description/Tags for unfamiliar_face\"\n",
      "        },\n",
      "        \"Levels\": {\n",
      "            \"famous_face\": \"Level for famous_face\",\n",
      "            \"scrambled_face\": \"Level for scrambled_face\",\n",
      "            \"unfamiliar_face\": \"Level for unfamiliar_face\"\n",
      "        }\n",
      "    },\n",
      "    \"rep_status\": {\n",
      "        \"Description\": \"Description for rep_status\",\n",
      "        \"HED\": {\n",
      "            \"delayed_repeat\": \"Description/Tags for delayed_repeat\",\n",
      "            \"first_show\": \"Description/Tags for first_show\",\n",
      "            \"immediate_repeat\": \"Description/Tags for immediate_repeat\"\n",
      "        },\n",
      "        \"Levels\": {\n",
      "            \"delayed_repeat\": \"Level for delayed_repeat\",\n",
      "            \"first_show\": \"Level for first_show\",\n",
      "            \"immediate_repeat\": \"Level for immediate_repeat\"\n",
      "        }\n",
      "    },\n",
      "    \"rep_lag\": {\n",
      "        \"Description\": \"Description for rep_lag\",\n",
      "        \"HED\": \"Label/#\"\n",
      "    },\n",
      "    \"stim_file\": {\n",
      "        \"Description\": \"Description for stim_file\",\n",
      "        \"HED\": \"Label/#\"\n",
      "    },\n",
      "    \"trial\": {\n",
      "        \"Description\": \"Description for trial\",\n",
      "        \"HED\": \"Label/#\"\n",
      "    },\n",
      "    \"value\": {\n",
      "        \"Description\": \"Description for value\",\n",
      "        \"HED\": \"Label/#\"\n",
      "    }\n",
      "}\n"
     ]
    }
   ]
  }
 ],
 "metadata": {
  "kernelspec": {
   "display_name": "Python 3",
   "language": "python",
   "name": "python3"
  },
  "language_info": {
   "codemirror_mode": {
    "name": "ipython",
    "version": 2
   },
   "file_extension": ".py",
   "mimetype": "text/x-python",
   "name": "python",
   "nbconvert_exporter": "python",
   "pygments_lexer": "ipython2",
   "version": "2.7.6"
  }
 },
 "nbformat": 4,
 "nbformat_minor": 0
}