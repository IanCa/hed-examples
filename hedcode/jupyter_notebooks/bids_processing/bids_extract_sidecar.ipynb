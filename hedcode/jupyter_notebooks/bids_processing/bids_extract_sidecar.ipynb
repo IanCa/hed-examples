{
 "cells": [
  {
   "cell_type": "markdown",
   "metadata": {
    "collapsed": true,
    "pycharm": {
     "name": "#%% md\n"
    }
   },
   "source": [
    "## Extract a JSON events sidecar template from a BIDS dataset.\n",
    "\n",
    "General strategy for machine-actionable annotation using HED in BIDS is\n",
    "to create a single `events.json` sidecar file in the BIDS dataset root directory.\n",
    "Ideally, this sidecar will contain all the annotations needed for users to\n",
    "understand and analyze the data.\n",
    "(See the [**BIDS annotation quickstart**](BidsAnnotationQuickstart.md) for additional\n",
    "information on this strategy.)\n",
    "\n",
    "This notebook shows how to create a JSON sidecar template from the information in all\n",
    "the event files in a BIDS dataset.\n",
    "\n",
    "To use the notebook with your own BIDS dataset, you will need to:\n",
    "\n",
    "1. Set the dataset location (`bids_root_path`) to the absolute path to the root of your BIDS dataset.\n",
    "2. Set list of the columns to be excluded (`column_to_skip`) from the summary. Usually, these are columns\n",
    "that are specific or unique to each event such as `onset`, `duration`, `sample`, and `HED`.\n",
    "The skip columns will not be annotated.\n",
    "3. Set list of columns that will be annotated as a whole rather than annotated by individual\n",
    "column values (`value_cols`).\n",
    "\n",
    "When run, the script creates a dictionary of the unique values in each column\n",
    "by consolidating the information in all of the `events.tsv` files in the dataset.\n",
    "It then outputs the result as a JSON string.\n",
    "\n",
    "The example below uses a\n",
    "[small version](https://github.com/hed-standard/hed-examples/tree/main/datasets/eeg_ds003654s_hed)\n",
    "of the Wakeman-Hanson face-processing dataset available on openNeuro as\n",
    "[ds003654](https://openneuro.org/datasets/ds003645/versions/2.0.0).\n"
   ]
  },
  {
   "cell_type": "code",
   "source": [
    "import os\n",
    "import json\n",
    "from hed.tools import ColumnSummary\n",
    "from hed.util import get_file_list\n",
    "\n",
    "bids_root_path =  os.path.abspath(os.path.join(os.path.dirname(os.path.abspath('')),\n",
    "                                               os.path.join('../../datasets/eeg_ds003654s_hed')))\n",
    "event_files = get_file_list(bids_root_path, extensions=[\".tsv\"], name_suffix=\"_events\")\n",
    "columns_to_skip = [\"onset\", \"duration\", \"sample\", \"response_time\"]\n",
    "value_columns = [\"rep_lag\", \"stim_file\", \"trial\", \"value\"]\n",
    "col_sum = ColumnSummary(skip_cols=columns_to_skip, value_cols=value_columns, name=bids_root_path)\n",
    "col_sum.update(event_files)\n",
    "sidecar_template = col_sum.extract_sidecar_template()\n",
    "str_json = json.dumps(sidecar_template, indent=4)\n",
    "print(str_json)\n"
   ],
   "metadata": {
    "collapsed": false,
    "pycharm": {
     "name": "#%% Extract a JSON sidecar template from all the event files\n"
    }
   },
   "execution_count": 2,
   "outputs": [
    {
     "name": "stdout",
     "output_type": "stream",
     "text": [
      "Extracting template.....\n",
      "{\n",
      "    \"event_type\": {\n",
      "        \"Description\": \"Description for event_type\",\n",
      "        \"HED\": {\n",
      "            \"double_press\": \"Label/double_press\",\n",
      "            \"left_press\": \"Label/left_press\",\n",
      "            \"right_press\": \"Label/right_press\",\n",
      "            \"setup_right_sym\": \"Label/setup_right_sym\",\n",
      "            \"show_circle\": \"Label/show_circle\",\n",
      "            \"show_cross\": \"Label/show_cross\",\n",
      "            \"show_face\": \"Label/show_face\",\n",
      "            \"show_face_initial\": \"Label/show_face_initial\"\n",
      "        },\n",
      "        \"Levels\": {\n",
      "            \"double_press\": \"Description for double_press\",\n",
      "            \"left_press\": \"Description for left_press\",\n",
      "            \"right_press\": \"Description for right_press\",\n",
      "            \"setup_right_sym\": \"Description for setup_right_sym\",\n",
      "            \"show_circle\": \"Description for show_circle\",\n",
      "            \"show_cross\": \"Description for show_cross\",\n",
      "            \"show_face\": \"Description for show_face\",\n",
      "            \"show_face_initial\": \"Description for show_face_initial\"\n",
      "        }\n",
      "    },\n",
      "    \"face_type\": {\n",
      "        \"Description\": \"Description for face_type\",\n",
      "        \"HED\": {\n",
      "            \"famous_face\": \"Label/famous_face\",\n",
      "            \"scrambled_face\": \"Label/scrambled_face\",\n",
      "            \"unfamiliar_face\": \"Label/unfamiliar_face\"\n",
      "        },\n",
      "        \"Levels\": {\n",
      "            \"famous_face\": \"Description for famous_face\",\n",
      "            \"scrambled_face\": \"Description for scrambled_face\",\n",
      "            \"unfamiliar_face\": \"Description for unfamiliar_face\"\n",
      "        }\n",
      "    },\n",
      "    \"rep_status\": {\n",
      "        \"Description\": \"Description for rep_status\",\n",
      "        \"HED\": {\n",
      "            \"delayed_repeat\": \"Label/delayed_repeat\",\n",
      "            \"first_show\": \"Label/first_show\",\n",
      "            \"immediate_repeat\": \"Label/immediate_repeat\"\n",
      "        },\n",
      "        \"Levels\": {\n",
      "            \"delayed_repeat\": \"Description for delayed_repeat\",\n",
      "            \"first_show\": \"Description for first_show\",\n",
      "            \"immediate_repeat\": \"Description for immediate_repeat\"\n",
      "        }\n",
      "    },\n",
      "    \"rep_lag\": {\n",
      "        \"Description\": \"Description for rep_lag\",\n",
      "        \"HED\": \"Label/#\"\n",
      "    },\n",
      "    \"stim_file\": {\n",
      "        \"Description\": \"Description for stim_file\",\n",
      "        \"HED\": \"Label/#\"\n",
      "    },\n",
      "    \"trial\": {\n",
      "        \"Description\": \"Description for trial\",\n",
      "        \"HED\": \"Label/#\"\n",
      "    },\n",
      "    \"value\": {\n",
      "        \"Description\": \"Description for value\",\n",
      "        \"HED\": \"Label/#\"\n",
      "    }\n",
      "}\n"
     ]
    }
   ]
  }
 ],
 "metadata": {
  "kernelspec": {
   "display_name": "Python 3",
   "language": "python",
   "name": "python3"
  },
  "language_info": {
   "codemirror_mode": {
    "name": "ipython",
    "version": 2
   },
   "file_extension": ".py",
   "mimetype": "text/x-python",
   "name": "python",
   "nbconvert_exporter": "python",
   "pygments_lexer": "ipython2",
   "version": "2.7.6"
  }
 },
 "nbformat": 4,
 "nbformat_minor": 0
}