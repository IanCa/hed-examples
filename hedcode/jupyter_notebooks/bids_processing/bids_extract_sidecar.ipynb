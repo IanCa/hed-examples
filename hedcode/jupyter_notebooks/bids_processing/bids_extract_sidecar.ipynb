{
 "cells": [
  {
   "cell_type": "markdown",
   "metadata": {
    "collapsed": true,
    "pycharm": {
     "name": "#%% md\n"
    }
   },
   "source": [
    "## Extract a JSON events sidecar template from a BIDS dataset.\n",
    "\n",
    "General strategy for machine-actionable annotation using HED in BIDS is\n",
    "to create a single `events.json` sidecar file in the BIDS dataset root directory.\n",
    "Ideally, this sidecar will contain all the annotations needed for users to\n",
    "understand and analyze the data.\n",
    "(See the [**BIDS annotation quickstart**](https://hed-examples.readthedocs.io/en/latest/BidsAnnotationQuickstart.html) for additional\n",
    "information on this strategy.)\n",
    "\n",
    "This notebook shows how to create a JSON sidecar template from the information in all\n",
    "the event files in a BIDS dataset.\n",
    "\n",
    "To use this notebook, substitute the specifics of your BIDS\n",
    "dataset for the following variables:\n",
    "\n",
    "| Variable | Purpose |\n",
    "| -------- | ------- |\n",
    "| bids_root_path | Full path to root directory of dataset.|\n",
    "| exclude_dirs | List of directories to exclude when constructing the list of event files. |\n",
    "| name_indices  | Indices used to construct a unique keys representing event filenames.<br>(See [Dictionaries of filenames](dictionaries-of-filenames-anchor) for examples of how to choose these indices.)|\n",
    "| skip_columns  |  List of column names in the `events.tsv` files to skip in the analysis. |\n",
    "| value_columns | List of columns names in the `events.tsv` files to annotate as<br>as a whole rather than by individual column value. |\n",
    "\n",
    "\n",
    "For large datasets, be sure to exclude columns such as\n",
    "`onset` and `sample`, since the summary produces counts of the number of times\n",
    "each unique value appears somewhere in dataset event files.\n",
    "\n",
    "When run, the script creates a dictionary of the unique values in each column\n",
    "by consolidating the information in all of the `events.tsv` files in the dataset.\n",
    "It then outputs the result as a JSON string representing a JSON sidecar.\n",
    "\n",
    "The example below uses a\n",
    "[small version](https://github.com/hed-standard/hed-examples/tree/main/datasets/eeg_ds003654s_hed)\n",
    "of the Wakeman-Hanson face-processing dataset available on openNeuro as\n",
    "[ds003654](https://openneuro.org/datasets/ds003645/versions/2.0.0).\n"
   ]
  },
  {
   "cell_type": "code",
   "source": [
    "import os\n",
    "import json\n",
    "from hed.tools import EventFileDictionary, EventValueSummary\n",
    "from hed.util import get_file_list\n",
    "\n",
    "# Variables to set for the specific dataset\n",
    "bids_root_path =  os.path.realpath('../../../datasets/eeg_ds003654s_hed')\n",
    "exclude_dirs = ['stimuli']\n",
    "name_indices = (0, 2)\n",
    "skip_columns = [\"onset\", \"duration\", \"sample\", \"trial\", \"response_time\"]\n",
    "value_columns = [\"rep_lag\", \"stim_file\", \"value\"]\n",
    "\n",
    "# Construct the event file dictionary for the BIDS event files\n",
    "event_files = get_file_list(bids_root_path, extensions=[\".tsv\"], name_suffix=\"_events\", exclude_dirs=exclude_dirs)\n",
    "file_dict = EventFileDictionary(event_files, name_indices=name_indices)\n",
    "\n",
    "# Construct the event file value summary and extract a sidecar template representing dataset\n",
    "value_summary = EventValueSummary(value_cols=value_columns, skip_cols=skip_columns, name=\"Wakeman-Hanson test data\")\n",
    "value_summary.update(event_files)\n",
    "sidecar_template = value_summary.extract_sidecar_template()\n",
    "str_json = json.dumps(sidecar_template, indent=4)\n",
    "print(str_json)\n"
   ],
   "metadata": {
    "collapsed": false,
    "pycharm": {
     "name": "#%% Extract a JSON sidecar template from all the event files\n"
    }
   },
   "execution_count": 1,
   "outputs": [
    {
     "name": "stdout",
     "output_type": "stream",
     "text": [
      "{\n",
      "    \"event_type\": {\n",
      "        \"Description\": \"Description for event_type\",\n",
      "        \"HED\": {\n",
      "            \"double_press\": \"Label/double_press\",\n",
      "            \"left_press\": \"Label/left_press\",\n",
      "            \"right_press\": \"Label/right_press\",\n",
      "            \"setup_right_sym\": \"Label/setup_right_sym\",\n",
      "            \"show_circle\": \"Label/show_circle\",\n",
      "            \"show_cross\": \"Label/show_cross\",\n",
      "            \"show_face\": \"Label/show_face\",\n",
      "            \"show_face_initial\": \"Label/show_face_initial\"\n",
      "        },\n",
      "        \"Levels\": {\n",
      "            \"double_press\": \"Description for double_press\",\n",
      "            \"left_press\": \"Description for left_press\",\n",
      "            \"right_press\": \"Description for right_press\",\n",
      "            \"setup_right_sym\": \"Description for setup_right_sym\",\n",
      "            \"show_circle\": \"Description for show_circle\",\n",
      "            \"show_cross\": \"Description for show_cross\",\n",
      "            \"show_face\": \"Description for show_face\",\n",
      "            \"show_face_initial\": \"Description for show_face_initial\"\n",
      "        }\n",
      "    },\n",
      "    \"face_type\": {\n",
      "        \"Description\": \"Description for face_type\",\n",
      "        \"HED\": {\n",
      "            \"famous_face\": \"Label/famous_face\",\n",
      "            \"scrambled_face\": \"Label/scrambled_face\",\n",
      "            \"unfamiliar_face\": \"Label/unfamiliar_face\"\n",
      "        },\n",
      "        \"Levels\": {\n",
      "            \"famous_face\": \"Description for famous_face\",\n",
      "            \"scrambled_face\": \"Description for scrambled_face\",\n",
      "            \"unfamiliar_face\": \"Description for unfamiliar_face\"\n",
      "        }\n",
      "    },\n",
      "    \"rep_status\": {\n",
      "        \"Description\": \"Description for rep_status\",\n",
      "        \"HED\": {\n",
      "            \"delayed_repeat\": \"Label/delayed_repeat\",\n",
      "            \"first_show\": \"Label/first_show\",\n",
      "            \"immediate_repeat\": \"Label/immediate_repeat\"\n",
      "        },\n",
      "        \"Levels\": {\n",
      "            \"delayed_repeat\": \"Description for delayed_repeat\",\n",
      "            \"first_show\": \"Description for first_show\",\n",
      "            \"immediate_repeat\": \"Description for immediate_repeat\"\n",
      "        }\n",
      "    },\n",
      "    \"rep_lag\": {\n",
      "        \"Description\": \"Description for rep_lag\",\n",
      "        \"HED\": \"Label/#\"\n",
      "    },\n",
      "    \"stim_file\": {\n",
      "        \"Description\": \"Description for stim_file\",\n",
      "        \"HED\": \"Label/#\"\n",
      "    },\n",
      "    \"value\": {\n",
      "        \"Description\": \"Description for value\",\n",
      "        \"HED\": \"Label/#\"\n",
      "    }\n",
      "}\n"
     ]
    }
   ]
  }
 ],
 "metadata": {
  "kernelspec": {
   "display_name": "Python 3",
   "language": "python",
   "name": "python3"
  },
  "language_info": {
   "codemirror_mode": {
    "name": "ipython",
    "version": 2
   },
   "file_extension": ".py",
   "mimetype": "text/x-python",
   "name": "python",
   "nbconvert_exporter": "python",
   "pygments_lexer": "ipython2",
   "version": "2.7.6"
  }
 },
 "nbformat": 4,
 "nbformat_minor": 0
}