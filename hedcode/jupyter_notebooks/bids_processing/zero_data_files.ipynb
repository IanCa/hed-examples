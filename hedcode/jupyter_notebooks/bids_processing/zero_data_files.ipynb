{
 "cells": [
  {
   "cell_type": "markdown",
   "metadata": {
    "collapsed": true,
    "pycharm": {
     "name": "#%% md\n"
    }
   },
   "source": [
    "## Create data files of zero length\n",
    "\n",
    "Example datasets, such as those in bids-examples or hed-examples GitHub repositories are\n",
    "used as test cases for various validation and other operations.\n",
    "Because the neuroimaging portion of the data is so large,\n",
    "these datasets cannot be stored in GitHub.\n",
    "\n",
    "This script traverses a directory tree and zeros the length of the files with the specified types."
   ]
  },
  {
   "cell_type": "code",
   "execution_count": 1,
   "outputs": [
    {
     "name": "stdout",
     "output_type": "stream",
     "text": [
      "Truncating D:\\Research\\HED\\hed-examples\\datasets\\fmri_ds002790s_hed\\sub-0001\\anat\\sub-0001_T1w.nii.gz ...\n",
      "Truncating D:\\Research\\HED\\hed-examples\\datasets\\fmri_ds002790s_hed\\sub-0001\\fmap\\sub-0001_magnitude1.nii.gz ...\n",
      "Truncating D:\\Research\\HED\\hed-examples\\datasets\\fmri_ds002790s_hed\\sub-0001\\fmap\\sub-0001_phasediff.nii.gz ...\n",
      "Truncating D:\\Research\\HED\\hed-examples\\datasets\\fmri_ds002790s_hed\\sub-0001\\func\\sub-0001_task-restingstate_acq-seq_bold.nii.gz ...\n",
      "Truncating D:\\Research\\HED\\hed-examples\\datasets\\fmri_ds002790s_hed\\sub-0001\\func\\sub-0001_task-stopsignal_acq-seq_bold.nii.gz ...\n",
      "Truncating D:\\Research\\HED\\hed-examples\\datasets\\fmri_ds002790s_hed\\sub-0001\\func\\sub-0001_task-workingmemory_acq-seq_bold.nii.gz ...\n",
      "Truncating D:\\Research\\HED\\hed-examples\\datasets\\fmri_ds002790s_hed\\sub-0002\\anat\\sub-0002_T1w.nii.gz ...\n",
      "Truncating D:\\Research\\HED\\hed-examples\\datasets\\fmri_ds002790s_hed\\sub-0002\\fmap\\sub-0002_magnitude1.nii.gz ...\n",
      "Truncating D:\\Research\\HED\\hed-examples\\datasets\\fmri_ds002790s_hed\\sub-0002\\fmap\\sub-0002_phasediff.nii.gz ...\n",
      "Truncating D:\\Research\\HED\\hed-examples\\datasets\\fmri_ds002790s_hed\\sub-0002\\func\\sub-0002_task-emomatching_acq-seq_bold.nii.gz ...\n",
      "Truncating D:\\Research\\HED\\hed-examples\\datasets\\fmri_ds002790s_hed\\sub-0002\\func\\sub-0002_task-restingstate_acq-seq_bold.nii.gz ...\n",
      "Truncating D:\\Research\\HED\\hed-examples\\datasets\\fmri_ds002790s_hed\\sub-0002\\func\\sub-0002_task-stopsignal_acq-seq_bold.nii.gz ...\n",
      "Truncating D:\\Research\\HED\\hed-examples\\datasets\\fmri_ds002790s_hed\\sub-0002\\func\\sub-0002_task-workingmemory_acq-seq_bold.nii.gz ...\n"
     ]
    }
   ],
   "source": [
    "import os\n",
    "from hed.util import get_file_list\n",
    "\n",
    "eeglab_exts = [\".set\", \".fdt\"]\n",
    "fmri_exts = [\".nii\", \".nii.gz\"]\n",
    "#bids_root_path = os.path.realpath('../../../datasets/eeg_ds002893s_hed')\n",
    "#bids_root_path = os.path.realpath('../../../datasets/eeg_ds003654s_hed')\n",
    "#bids_root_path = os.path.realpath('../../../datasets/eeg_ds004105s_hed')\n",
    "#bids_root_path = os.path.realpath('../../../datasets/eeg_ds004106s_hed')\n",
    "bids_root_path = os.path.realpath('../../../datasets/fmri_ds002790s_hed')\n",
    "files_bids = get_file_list(bids_root_path, extensions=fmri_exts, exclude_dirs=[\"derivatives\"])\n",
    "\n",
    "\n",
    "# Make the set files zero length\n",
    "for file in files_bids:\n",
    "    print(f\"Truncating {file} ...\")\n",
    "    fd = open(file, \"w+\")\n",
    "    fd.truncate(0)\n",
    "    fd.close()"
   ],
   "metadata": {
    "collapsed": false,
    "pycharm": {
     "name": "#%% Find the files\n"
    }
   }
  }
 ],
 "metadata": {
  "kernelspec": {
   "display_name": "Python 3",
   "language": "python",
   "name": "python3"
  },
  "language_info": {
   "codemirror_mode": {
    "name": "ipython",
    "version": 2
   },
   "file_extension": ".py",
   "mimetype": "text/x-python",
   "name": "python",
   "nbconvert_exporter": "python",
   "pygments_lexer": "ipython2",
   "version": "2.7.6"
  }
 },
 "nbformat": 4,
 "nbformat_minor": 0
}