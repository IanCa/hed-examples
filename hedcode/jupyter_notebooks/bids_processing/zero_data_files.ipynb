{
 "cells": [
  {
   "cell_type": "markdown",
   "metadata": {
    "collapsed": true,
    "pycharm": {
     "name": "#%% md\n"
    }
   },
   "source": [
    "## Create data files of zero length\n",
    "\n",
    "Example datasets, such as those in bids-examples or hed-examples GitHub repositories are\n",
    "used as test cases for various validation and other operations.\n",
    "Because the neuroimaging portion of the data is so large,\n",
    "these datasets cannot be stored in GitHub.\n",
    "\n",
    "This script traverses a directory tree and zeros the length of the files with the specified types."
   ]
  },
  {
   "cell_type": "code",
   "execution_count": 1,
   "outputs": [
    {
     "name": "stdout",
     "output_type": "stream",
     "text": [
      "Truncating D:\\Research\\HED\\hed-examples\\datasets\\eeg_rsvp_base_hed\\sub-01\\ses-01\\eeg\\sub-01_ses-01_task-RSVPRestBlink_run-1_eeg.set ...\n",
      "Truncating D:\\Research\\HED\\hed-examples\\datasets\\eeg_rsvp_base_hed\\sub-02\\ses-01\\eeg\\sub-02_ses-01_task-RSVPRestBlink_run-1_eeg.set ...\n"
     ]
    }
   ],
   "source": [
    "import os\n",
    "from hed.util import get_file_list\n",
    "\n",
    "exclude_dirs = [\"code\", \"sourcedata\", \"derivatives\"]\n",
    "eeglab_exts = [\".set\", \".fdt\"]\n",
    "fmri_exts = [\".nii\", \".nii.gz\"]\n",
    "bids_root_path = os.path.realpath('../../../datasets/eeg_rsvp_base_hed')\n",
    "files_bids = get_file_list(bids_root_path, extensions=eeglab_exts, exclude_dirs=exclude_dirs)\n",
    "\n",
    "\n",
    "# Make the set files zero length\n",
    "for file in files_bids:\n",
    "    print(f\"Truncating {file} ...\")\n",
    "    fd = open(file, \"w+\")\n",
    "    fd.truncate(0)\n",
    "    fd.close()"
   ],
   "metadata": {
    "collapsed": false,
    "pycharm": {
     "name": "#%% Find the files\n"
    }
   }
  }
 ],
 "metadata": {
  "kernelspec": {
   "display_name": "Python 3",
   "language": "python",
   "name": "python3"
  },
  "language_info": {
   "codemirror_mode": {
    "name": "ipython",
    "version": 2
   },
   "file_extension": ".py",
   "mimetype": "text/x-python",
   "name": "python",
   "nbconvert_exporter": "python",
   "pygments_lexer": "ipython2",
   "version": "2.7.6"
  }
 },
 "nbformat": 4,
 "nbformat_minor": 0
}