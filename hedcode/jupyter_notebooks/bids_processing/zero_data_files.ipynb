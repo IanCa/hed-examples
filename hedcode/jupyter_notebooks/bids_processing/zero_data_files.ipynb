{
 "cells": [
  {
   "cell_type": "markdown",
   "metadata": {
    "collapsed": true,
    "pycharm": {
     "name": "#%% md\n"
    }
   },
   "source": [
    "## Create data files of zero length\n",
    "\n",
    "Example datasets, such as those in bids-examplesThis script traverses a directory tree and zeros the\n",
    "length of the files with the specified type.\n",
    "\n",
    "This script is used to create example datasets."
   ]
  },
  {
   "cell_type": "code",
   "execution_count": 1,
   "outputs": [
    {
     "name": "stdout",
     "output_type": "stream",
     "text": [
      "Truncating D:\\Research\\HED\\hed-examples\\datasets\\eeg_ds003654s_hed\\sub-002\\eeg\\sub-002_task-FacePerception_run-1_eeg.set ...\n",
      "Truncating D:\\Research\\HED\\hed-examples\\datasets\\eeg_ds003654s_hed\\sub-002\\eeg\\sub-002_task-FacePerception_run-2_eeg.set ...\n",
      "Truncating D:\\Research\\HED\\hed-examples\\datasets\\eeg_ds003654s_hed\\sub-002\\eeg\\sub-002_task-FacePerception_run-3_eeg.set ...\n",
      "Truncating D:\\Research\\HED\\hed-examples\\datasets\\eeg_ds003654s_hed\\sub-003\\eeg\\sub-003_task-FacePerception_run-1_eeg.set ...\n",
      "Truncating D:\\Research\\HED\\hed-examples\\datasets\\eeg_ds003654s_hed\\sub-003\\eeg\\sub-003_task-FacePerception_run-2_eeg.set ...\n",
      "Truncating D:\\Research\\HED\\hed-examples\\datasets\\eeg_ds003654s_hed\\sub-003\\eeg\\sub-003_task-FacePerception_run-3_eeg.set ...\n"
     ]
    }
   ],
   "source": [
    "import os\n",
    "from hed.util import get_file_list\n",
    "\n",
    "bids_root_path = os.path.realpath('../../../datasets/eeg_ds003654s_hed')\n",
    "set_files_bids = get_file_list(bids_root_path, extensions=[\".set\"])\n",
    "fdt_files_bids = get_file_list(bids_root_path, extensions=[\".fdt\"])\n",
    "\n",
    "# Make the set files zero length\n",
    "for file in set_files_bids:\n",
    "    print(f\"Truncating {file} ...\")\n",
    "    fd = open(file, \"w+\")\n",
    "    fd.truncate(0)\n",
    "    fd.close()\n",
    "\n",
    "# Remove the fdt files\n",
    "for file in fdt_files_bids:\n",
    "    print(f\"Removing {file} ...\")\n",
    "    os.remove(file)"
   ],
   "metadata": {
    "collapsed": false,
    "pycharm": {
     "name": "#%% Find the files\n"
    }
   }
  }
 ],
 "metadata": {
  "kernelspec": {
   "display_name": "Python 3",
   "language": "python",
   "name": "python3"
  },
  "language_info": {
   "codemirror_mode": {
    "name": "ipython",
    "version": 2
   },
   "file_extension": ".py",
   "mimetype": "text/x-python",
   "name": "python",
   "nbconvert_exporter": "python",
   "pygments_lexer": "ipython2",
   "version": "2.7.6"
  }
 },
 "nbformat": 4,
 "nbformat_minor": 0
}