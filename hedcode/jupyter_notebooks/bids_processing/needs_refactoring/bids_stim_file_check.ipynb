{
 "cells": [
  {
   "cell_type": "markdown",
   "metadata": {
    "collapsed": true,
    "pycharm": {
     "name": "#%% md\n"
    }
   },
   "source": [
    "## Check BIDS stim_file consistency\n",
    "** In development**\n",
    "\n",
    "BIDS requires that files in the `stimuli` directory appear somewhere\n",
    "in the event files in the `stim_file` column.\n",
    "This script creates a dictionary of the `stim_file` files used in the dataset and\n",
    "eliminates the unused stimuli files.\n",
    "\n",
    "You can choose whether to delete the extra stim files. The steps are:\n",
    "\n",
    "1. Set the dataset location (`bids_root_path`) to the absolute path to the root of your BIDS dataset).\n",
    "2. Get a list of the event files in the BIDS dataset.\n",
    "3. Create a dictionary of the unique entries in the `stim_file` column of the events files.\n",
    "4.\n",
    "\n",
    "The example below uses a small version of the Wakeman-Hanson face-processing dataset\n",
    "available on openNeuro as ds003654."
   ]
  },
  {
   "cell_type": "code",
   "execution_count": 1,
   "outputs": [
    {
     "name": "stdout",
     "output_type": "stream",
     "text": [
      "Bids root path: D:\\Research\\HED\\hed-examples\\datasets\\eeg_ds003654s\n",
      "\n",
      "BIDS event files: 6\n",
      "Total events: 3362 unique stimuli: 346\n"
     ]
    }
   ],
   "source": [
    "import os\n",
    "from hed.tools import HedLogger\n",
    "from hed.util import get_file_list, get_new_dataframe\n",
    "\n",
    "\n",
    "remove_extra_files = False\n",
    "stim_file_exts = [\".bmp\"]\n",
    "dataset = \"eeg_ds003654s\"\n",
    "bids_root_path =  os.path.join(os.path.dirname(os.path.abspath('')), os.path.join('../../datasets/', dataset))\n",
    "bids_root_path = os.path.abspath(bids_root_path)\n",
    "bids_files = get_file_list(bids_root_path, extensions=[\".tsv\"], name_suffix=\"_events\")\n",
    "\n",
    "## Make a dictionary of the unique stim files in the event files\n",
    "total_events = 0\n",
    "stim_dict = {}\n",
    "for file in bids_files:\n",
    "    df = get_new_dataframe(file)\n",
    "    for value in df['stim_file'].items():\n",
    "        stim_dict[os.path.basename(value)] = True\n",
    "\n",
    "## Find out what stim files are actually there\n",
    "stimuli_path = os.path.abspath(os.path.join(bids_root_path, 'stimuli'))\n",
    "missing_files = []\n",
    "extra_files = []\n",
    "stim_files = get_file_list(stimuli_path, extensions=stim_file_exts)\n",
    "remove_count = 0\n",
    "status = HedLogger()\n",
    "for file in stim_files:\n",
    "    basename = os.path.basename(file)\n",
    "    if basename in stim_dict:\n",
    "        continue\n",
    "\n",
    "    os.remove(file)\n",
    "    remove_count += 1\n",
    "    status.add(dataset, f\"Removed {remove_count} out of {len(stim_files)} files\", also_print=True)\n",
    "\n",
    "status.print_log()"
   ],
   "metadata": {
    "collapsed": false,
    "pycharm": {
     "name": "#%% Get list of BIDS event files\n"
    }
   }
  }
 ],
 "metadata": {
  "kernelspec": {
   "display_name": "Python 3",
   "language": "python",
   "name": "python3"
  },
  "language_info": {
   "codemirror_mode": {
    "name": "ipython",
    "version": 2
   },
   "file_extension": ".py",
   "mimetype": "text/x-python",
   "name": "python",
   "nbconvert_exporter": "python",
   "pygments_lexer": "ipython2",
   "version": "2.7.6"
  }
 },
 "nbformat": 4,
 "nbformat_minor": 0
}