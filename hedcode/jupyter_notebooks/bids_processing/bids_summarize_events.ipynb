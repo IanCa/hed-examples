{
 "cells": [
  {
   "cell_type": "markdown",
   "metadata": {
    "collapsed": true,
    "pycharm": {
     "name": "#%% md\n"
    }
   },
   "source": [
    "## Summarize the contents of the event files in a BIDS dataset.\n",
    "\n",
    "A first step in annotating a BIDS dataset is to find out what is in the dataset\n",
    "event files.\n",
    "Sometimes event files will have a few unexpected or incorrect codes.\n",
    "It is usually a good idea to find out what is actually in the dataset\n",
    "event files before starting the annotation process.\n",
    "\n",
    "This notebook traverses through the BIDS data set and gathers the unique\n",
    "values for each column and number of times each value appears in the dataset.\n",
    "\n",
    "To use the notebook for your own data:\n",
    "\n",
    "1. Set the dataset location (`bids_root_path`) to the absolute path to\n",
    "the root of your BIDS dataset.\n",
    "2. Set the `columns_to_skip` to a list of the columns that will not be\n",
    "included in the summary.\n",
    "\n",
    "For large datasets, you will want to be sure to exclude columns such as\n",
    "`onset` and `sample`, since the summary produces the number of times\n",
    "each unique value appears somewhere in an event file.\n",
    "\n",
    "The notebook uses the `ColumnSummary` object to handle the summarization.\n",
    "\n",
    "The example below uses a\n",
    "[small version](https://github.com/hed-standard/hed-examples/tree/main/datasets/eeg_ds003654s_hed)\n",
    "of the Wakeman-Hanson face-processing dataset available on openNeuro as\n",
    "[ds003654](https://openneuro.org/datasets/ds003645/versions/2.0.0)."
   ]
  },
  {
   "cell_type": "code",
   "execution_count": 2,
   "outputs": [
    {
     "name": "stdout",
     "output_type": "stream",
     "text": [
      "Summary of event file values with counts for D:\\Research\\HED\\hed-examples\\datasets\\eeg_ds003654s_hed\n",
      "  Categorical columns (5):\n",
      "    event_type (8 distinct values):\n",
      "      double_press: 1\n",
      "      left_press: 246\n",
      "      right_press: 457\n",
      "      setup_right_sym: 6\n",
      "      show_circle: 884\n",
      "      show_cross: 884\n",
      "      show_face: 878\n",
      "      show_face_initial: 6\n",
      "    face_type (4 distinct values):\n",
      "      famous_face: 294\n",
      "      n/a: 2478\n",
      "      scrambled_face: 298\n",
      "      unfamiliar_face: 292\n",
      "    rep_lag (12 distinct values):\n",
      "      1: 216\n",
      "      10: 49\n",
      "      11: 57\n",
      "      12: 40\n",
      "      13: 17\n",
      "      14: 15\n",
      "      15: 3\n",
      "      6: 1\n",
      "      7: 5\n",
      "      8: 10\n",
      "      9: 21\n",
      "      n/a: 2928\n",
      "    rep_status (4 distinct values):\n",
      "      delayed_repeat: 218\n",
      "      first_show: 450\n",
      "      immediate_repeat: 216\n",
      "      n/a: 2478\n",
      "    value (15 distinct values):\n",
      "      0: 884\n",
      "      1: 884\n",
      "      13: 150\n",
      "      14: 64\n",
      "      15: 78\n",
      "      17: 150\n",
      "      18: 82\n",
      "      19: 66\n",
      "      256: 246\n",
      "      3: 6\n",
      "      4096: 457\n",
      "      4352: 1\n",
      "      5: 150\n",
      "      6: 70\n",
      "      7: 74\n",
      "  Value columns (0):\n"
     ]
    }
   ],
   "source": [
    "import os\n",
    "from hed.tools import ColumnSummary\n",
    "from hed.util import get_file_list\n",
    "\n",
    "bids_root_path =  os.path.abspath(os.path.join(os.path.dirname(os.path.abspath('')),\n",
    "                                               os.path.join('../../datasets/eeg_ds003654s_hed')))\n",
    "event_files = get_file_list(bids_root_path, extensions=[\".tsv\"], name_suffix=\"_events\")\n",
    "columns_to_skip = [\"onset\", \"duration\", \"sample\", \"stim_file\", \"trial\", \"response_time\"]\n",
    "col_sum = ColumnSummary(skip_cols=columns_to_skip, name=bids_root_path)\n",
    "col_sum.update(event_files)\n",
    "col_sum.print(title=f\"Summary of event file values with counts for {bids_root_path}\")"
   ],
   "metadata": {
    "collapsed": false,
    "pycharm": {
     "name": "#%% Set the location of the dataset the dataset\n"
    }
   }
  }
 ],
 "metadata": {
  "kernelspec": {
   "display_name": "Python 3",
   "language": "python",
   "name": "python3"
  },
  "language_info": {
   "codemirror_mode": {
    "name": "ipython",
    "version": 2
   },
   "file_extension": ".py",
   "mimetype": "text/x-python",
   "name": "python",
   "nbconvert_exporter": "python",
   "pygments_lexer": "ipython2",
   "version": "2.7.6"
  }
 },
 "nbformat": 4,
 "nbformat_minor": 0
}