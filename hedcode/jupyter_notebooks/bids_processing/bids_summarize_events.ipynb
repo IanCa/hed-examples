{
 "cells": [
  {
   "cell_type": "markdown",
   "metadata": {
    "collapsed": true,
    "pycharm": {
     "name": "#%% md\n"
    }
   },
   "source": [
    "## Summarize the contents of the event files in a BIDS dataset.\n",
    "\n",
    "The first step in annotating a BIDS dataset is to find out what is in the dataset\n",
    "event files. This tool traverse through the BIDS data set and gathers the unique\n",
    "values for each column and number of times each value appears in the dataset.\n",
    "\n",
    "The steps are:\n",
    "\n",
    "1. Set the dataset location (`bids_root_path`) to the absolute path to the root of your BIDS dataset.\n",
    "2. Get a list of the event files in the BIDS dataset.\n",
    "3. Set the columns to be excluded (`column_to_skip`) from the summary.\n",
    "Usually, these are columns that are specific or unique to each event\n",
    "including `onset`, `duration`, `sample`, and `HED`.\n",
    "4. Create a dictionary of the unique values in each column.\n",
    "5. Output the results.\n",
    "\n",
    "The example below uses a small version of the Wakeman-Hanson face-processing dataset\n",
    "available on openNeuro as ds003654."
   ]
  },
  {
   "cell_type": "code",
   "execution_count": 19,
   "outputs": [
    {
     "name": "stdout",
     "output_type": "stream",
     "text": [
      "Bids root path: D:\\Research\\HED\\hed-examples\\datasets\\eeg_ds003654s_hed\n",
      "Summary for column dictionary D:\\Research\\HED\\hed-examples\\datasets\\eeg_ds003654s_hed:\n",
      "  Categorical columns (5):\n",
      "    event_type (8 distinct values):\n",
      "      double_press: 1\n",
      "      left_press: 246\n",
      "      right_press: 457\n",
      "      setup_right_sym: 6\n",
      "      show_circle: 884\n",
      "      show_cross: 884\n",
      "      show_face: 878\n",
      "      show_face_initial: 6\n",
      "    face_type (4 distinct values):\n",
      "      famous_face: 294\n",
      "      n/a: 2478\n",
      "      scrambled_face: 298\n",
      "      unfamiliar_face: 292\n",
      "    rep_lag (12 distinct values):\n",
      "      1: 216\n",
      "      10: 49\n",
      "      11: 57\n",
      "      12: 40\n",
      "      13: 17\n",
      "      14: 15\n",
      "      15: 3\n",
      "      6: 1\n",
      "      7: 5\n",
      "      8: 10\n",
      "      9: 21\n",
      "      n/a: 2928\n",
      "    rep_status (4 distinct values):\n",
      "      delayed_repeat: 218\n",
      "      first_show: 450\n",
      "      immediate_repeat: 216\n",
      "      n/a: 2478\n",
      "    value (15 distinct values):\n",
      "      0: 884\n",
      "      1: 884\n",
      "      13: 150\n",
      "      14: 64\n",
      "      15: 78\n",
      "      17: 150\n",
      "      18: 82\n",
      "      19: 66\n",
      "      256: 246\n",
      "      3: 6\n",
      "      4096: 457\n",
      "      4352: 1\n",
      "      5: 150\n",
      "      6: 70\n",
      "      7: 74\n",
      "  Value columns (0):\n",
      "to here\n",
      "{\n",
      "    \"event_type\": {\n",
      "        \"Description\": \"Description for event_type\",\n",
      "        \"HED\": \"Label/#\"\n",
      "    },\n",
      "    \"face_type\": {\n",
      "        \"Description\": \"Description for face_type\",\n",
      "        \"HED\": \"Label/#\"\n",
      "    },\n",
      "    \"rep_status\": {\n",
      "        \"Description\": \"Description for rep_status\",\n",
      "        \"HED\": \"Label/#\"\n",
      "    },\n",
      "    \"rep_lag\": {\n",
      "        \"Description\": \"Description for rep_lag\",\n",
      "        \"HED\": \"Label/#\"\n",
      "    },\n",
      "    \"value\": {\n",
      "        \"Description\": \"Description for value\",\n",
      "        \"HED\": \"Label/#\"\n",
      "    }\n",
      "}\n",
      "to here 1\n"
     ]
    }
   ],
   "source": [
    "import os\n",
    "import json\n",
    "from hed.tools import generate_sidecar_entry\n",
    "from hed.tools import ColumnDict\n",
    "from hed.util import get_file_list\n",
    "\n",
    "\n",
    "bids_root_path =  os.path.abspath(os.path.join(os.path.dirname(os.path.abspath('')),\n",
    "                                               os.path.join('../../datasets/eeg_ds003654s_hed')))\n",
    "event_files = get_file_list(bids_root_path, extensions=[\".tsv\"], name_suffix=\"_events\")\n",
    "column_to_skip = [\"onset\", \"duration\", \"sample\", \"stim_file\", \"trial\", \"response_time\"]\n",
    "col_dict = ColumnDict(skip_cols=column_to_skip, name=bids_root_path)\n",
    "for file in event_files:\n",
    "    col_dict.update(file)\n",
    "col_dict.print()\n",
    "\n",
    "side_dict = {}\n",
    "cat_col = col_dict.categorical_info\n",
    "print(\"to here\")\n",
    "\n",
    "side_dict = {}\n",
    "for column_name, columns in cat_col.items():\n",
    "    side_dict[column_name] = generate_sidecar_entry(column_name, list(columns.keys()).sort())\n",
    "str_json = json.dumps(side_dict, indent=4)\n",
    "print(str_json)\n",
    "print(\"to here 1\")"
   ],
   "metadata": {
    "collapsed": false,
    "pycharm": {
     "name": "#%% Set the location of the dataset the dataset\n"
    }
   }
  }
 ],
 "metadata": {
  "kernelspec": {
   "display_name": "Python 3",
   "language": "python",
   "name": "python3"
  },
  "language_info": {
   "codemirror_mode": {
    "name": "ipython",
    "version": 2
   },
   "file_extension": ".py",
   "mimetype": "text/x-python",
   "name": "python",
   "nbconvert_exporter": "python",
   "pygments_lexer": "ipython2",
   "version": "2.7.6"
  }
 },
 "nbformat": 4,
 "nbformat_minor": 0
}