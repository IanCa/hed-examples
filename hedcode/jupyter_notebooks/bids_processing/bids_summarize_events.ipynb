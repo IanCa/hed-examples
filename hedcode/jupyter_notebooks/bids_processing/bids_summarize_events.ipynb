{
 "cells": [
  {
   "cell_type": "markdown",
   "metadata": {
    "collapsed": true,
    "pycharm": {
     "name": "#%% md\n"
    }
   },
   "source": [
    "## Summarize the contents of the event files in a BIDS dataset.\n",
    "\n",
    "A first step in annotating a BIDS dataset is to find out what is in the dataset\n",
    "event files.\n",
    "Sometimes event files will have a few unexpected or incorrect codes.\n",
    "It is usually a good idea to find out what is actually in the dataset\n",
    "event files before starting the annotation process.\n",
    "\n",
    "This notebook traverses through the BIDS data set and gathers the unique\n",
    "values for each column and number of times each value appears in the dataset.\n",
    "\n",
    "To use this notebook, substitute the specifics of your BIDS\n",
    "dataset for the following variables:\n",
    "\n",
    "| Variable | Purpose |\n",
    "| -------- | ------- |\n",
    "| bids_root_path | Full path to root directory of dataset.|\n",
    "| exclude_dirs | List of directories to exclude when constructing file lists. |\n",
    "| name_indices  | Indices used by make_file_dict to construct a unique key.<br>(See [Dictionaries of filenames](https://hed-examples.readthedocs.io/en/latest/HedInPython.html#dictionaries-of-filenames-anchor) for examples of how to choose these indices.)|\n",
    "| skip_columns  |  List of column names in the `events.tsv` files to skip in the analysis. |\n",
    "\n",
    "For large datasets, you will want to be sure to exclude columns such as\n",
    "`onset` and `sample`, since the summary produces counts of the number of times\n",
    "each unique value appears somewhere in an event file.\n",
    "\n",
    "The notebook creates `EventFileDictionary` and `EventValueSummary` objects\n",
    "to handle the summarization.\n",
    "\n",
    "The example below uses a\n",
    "[small version](https://github.com/hed-standard/hed-examples/tree/main/datasets/eeg_ds003654s_hed)\n",
    "of the Wakeman-Hanson face-processing dataset available on openNeuro as\n",
    "[ds003654](https://openneuro.org/datasets/ds003645/versions/2.0.0)\n",
    "which is distributed as part of this dataset."
   ]
  },
  {
   "cell_type": "code",
   "execution_count": 1,
   "outputs": [],
   "source": [
    "import os\n",
    "from hed.tools import TsvFileDictionary\n",
    "from hed.util import get_file_list\n",
    "\n",
    "# Variables to set for the specific dataset\n",
    "bids_root_path =  os.path.realpath('../../../datasets/eeg_ds003654s_hed')\n",
    "exclude_dirs = ['stimuli']\n",
    "name_indices = (0, 2)\n",
    "skip_columns = [\"onset\", \"duration\", \"sample\", \"stim_file\", \"trial\", \"response_time\"]\n",
    "\n",
    "\n",
    "# Construct the event file dictionary for the BIDS event files\n",
    "event_files = get_file_list(bids_root_path, extensions=[\".tsv\"], name_suffix=\"_events\", exclude_dirs=exclude_dirs)\n",
    "file_dict = TsvFileDictionary(event_files, name_indices=name_indices)"
   ],
   "metadata": {
    "collapsed": false,
    "pycharm": {
     "name": "#%% Set variables for the desired dataset\n"
    }
   }
  },
  {
   "cell_type": "code",
   "execution_count": 2,
   "outputs": [
    {
     "name": "stdout",
     "output_type": "stream",
     "text": [
      "Summarizing D:\\Research\\HED\\hed-examples\\datasets\\eeg_ds003654s_hed...\n",
      "\n",
      "BIDS style event files (6 files)\n",
      "sub-002_run-1: sub-002_task-FacePerception_run-1_events.tsv\n",
      "sub-002_run-2: sub-002_task-FacePerception_run-2_events.tsv\n",
      "sub-002_run-3: sub-002_task-FacePerception_run-3_events.tsv\n",
      "sub-003_run-1: sub-003_task-FacePerception_run-1_events.tsv\n",
      "sub-003_run-2: sub-003_task-FacePerception_run-2_events.tsv\n",
      "sub-003_run-3: sub-003_task-FacePerception_run-3_events.tsv\n"
     ]
    }
   ],
   "source": [
    "print(f\"Summarizing {bids_root_path}...\")\n",
    "file_dict.print_files(title=\"\\nBIDS style event files\")\n"
   ],
   "metadata": {
    "collapsed": false,
    "pycharm": {
     "name": "#%% Output a list of files\n"
    }
   }
  },
  {
   "cell_type": "code",
   "execution_count": 3,
   "outputs": [
    {
     "name": "stdout",
     "output_type": "stream",
     "text": [
      "\n",
      "BIDS style event file columns:\n",
      "sub-002_run-1 [552 events]: ['onset', 'duration', 'sample', 'event_type', 'face_type', 'rep_status', 'trial', 'rep_lag', 'value', 'stim_file']\n",
      "sub-002_run-2 [516 events]: ['onset', 'duration', 'sample', 'event_type', 'face_type', 'rep_status', 'trial', 'rep_lag', 'value', 'stim_file']\n",
      "sub-002_run-3 [533 events]: ['onset', 'duration', 'sample', 'event_type', 'face_type', 'rep_status', 'trial', 'rep_lag', 'value', 'stim_file']\n",
      "sub-003_run-1 [589 events]: ['onset', 'duration', 'sample', 'event_type', 'face_type', 'rep_status', 'trial', 'rep_lag', 'value', 'stim_file']\n",
      "sub-003_run-2 [589 events]: ['onset', 'duration', 'sample', 'event_type', 'face_type', 'rep_status', 'trial', 'rep_lag', 'value', 'stim_file']\n",
      "sub-003_run-3 [583 events]: ['onset', 'duration', 'sample', 'event_type', 'face_type', 'rep_status', 'trial', 'rep_lag', 'value', 'stim_file']\n"
     ]
    }
   ],
   "source": [
    "print(f\"\\nBIDS style event file columns:\")\n",
    "for key, file, rowcount, columns in file_dict.iter_event_info():\n",
    "    print(f\"{key} [{rowcount} events]: {str(columns)}\")\n"
   ],
   "metadata": {
    "collapsed": false,
    "pycharm": {
     "name": "#%% Output the column names for each type of event file\n"
    }
   }
  },
  {
   "cell_type": "code",
   "execution_count": 4,
   "outputs": [
    {
     "name": "stdout",
     "output_type": "stream",
     "text": [
      "\n",
      "BIDS events summary:\n",
      "Summary for column dictionary :\n",
      "  Categorical columns (5):\n",
      "    event_type (8 distinct values):\n",
      "      double_press: 1\n",
      "      left_press: 246\n",
      "      right_press: 457\n",
      "      setup_right_sym: 6\n",
      "      show_circle: 884\n",
      "      show_cross: 884\n",
      "      show_face: 878\n",
      "      show_face_initial: 6\n",
      "    face_type (4 distinct values):\n",
      "      famous_face: 294\n",
      "      n/a: 2478\n",
      "      scrambled_face: 298\n",
      "      unfamiliar_face: 292\n",
      "    rep_lag (12 distinct values):\n",
      "      1: 216\n",
      "      10: 49\n",
      "      11: 57\n",
      "      12: 40\n",
      "      13: 17\n",
      "      14: 15\n",
      "      15: 3\n",
      "      6: 1\n",
      "      7: 5\n",
      "      8: 10\n",
      "      9: 21\n",
      "      n/a: 2928\n",
      "    rep_status (4 distinct values):\n",
      "      delayed_repeat: 218\n",
      "      first_show: 450\n",
      "      immediate_repeat: 216\n",
      "      n/a: 2478\n",
      "    value (15 distinct values):\n",
      "      0: 884\n",
      "      1: 884\n",
      "      13: 150\n",
      "      14: 64\n",
      "      15: 78\n",
      "      17: 150\n",
      "      18: 82\n",
      "      19: 66\n",
      "      256: 246\n",
      "      3: 6\n",
      "      4096: 457\n",
      "      4352: 1\n",
      "      5: 150\n",
      "      6: 70\n",
      "      7: 74\n",
      "  Value columns (0):\n"
     ]
    }
   ],
   "source": [
    "from hed.tools import EventValueSummary\n",
    "print('\\nBIDS events summary:')\n",
    "bids_dicts_all, bids_dicts =  EventValueSummary.make_combined_dicts(file_dict, skip_cols=skip_columns)\n",
    "bids_dicts_all.print()"
   ],
   "metadata": {
    "collapsed": false,
    "pycharm": {
     "name": "#%% Create a summary of the original BIDS events file content\n"
    }
   }
  }
 ],
 "metadata": {
  "kernelspec": {
   "display_name": "Python 3",
   "language": "python",
   "name": "python3"
  },
  "language_info": {
   "codemirror_mode": {
    "name": "ipython",
    "version": 2
   },
   "file_extension": ".py",
   "mimetype": "text/x-python",
   "name": "python",
   "nbconvert_exporter": "python",
   "pygments_lexer": "ipython2",
   "version": "2.7.6"
  }
 },
 "nbformat": 4,
 "nbformat_minor": 0
}