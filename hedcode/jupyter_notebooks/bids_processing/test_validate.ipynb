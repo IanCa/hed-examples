{
 "cells": [
  {
   "cell_type": "code",
   "execution_count": 4,
   "metadata": {
    "collapsed": true
   },
   "outputs": [
    {
     "name": "stdout",
     "output_type": "stream",
     "text": [
      "No issues found when library is used as a base schema\n",
      "base and library schema\n",
      "Issues in row 0:\n",
      "\tIssues in column 2:\n",
      "\t\thed string: Background-activity\n",
      "\t\tERROR: 'Background-activity' in Background-activity is not a valid base hed tag.  Problem spans string indexes: 0, 19\n",
      "\n",
      "\n"
     ]
    }
   ],
   "source": [
    "from hed.errors import get_printable_issue_string\n",
    "from hed.tools import BidsTabularFile\n",
    "from hed.validator import HedValidator\n",
    "from hed.schema import load_schema, load_schema_version, HedSchemaGroup\n",
    "\n",
    "# CASE 1: Score used as a base schema\n",
    "event_path = \"F:/temp/bids-examples/xeeg_hed_score/sub-eegSeizureTUH/ses-eeg01/eeg/\" + \\\n",
    "                \"sub-eegSeizureTUH_ses-eeg01_task-rest_run-001_events.tsv\"\n",
    "library1_url = \"https://raw.githubusercontent.com/hed-standard/hed-schema-library/main/\" + \\\n",
    "               \"library_schemas/score/prerelease/HED_score_1.0.0.xml\"\n",
    "schema1 = load_schema(library1_url, library_prefix=\"sc\")\n",
    "hed_ops = [HedValidator(hed_schema=schema1)]\n",
    "events = BidsTabularFile(event_path)\n",
    "check_for_warnings = False\n",
    "events.set_contents(overwrite=False)\n",
    "issues = events.contents.validate_file(hed_ops=hed_ops,\n",
    "                                       check_for_warnings=check_for_warnings)\n",
    "if issues:\n",
    "    print(get_printable_issue_string(issues, \"Use library as base schema\"))\n",
    "else:\n",
    "    print(\"No issues found when library is used as a base schema\")\n",
    "\n",
    "schema2 = load_schema_version(xml_version=\"8.1.0\")\n",
    "schemas = HedSchemaGroup([schema1, schema2])\n",
    "hed_ops2 = [HedValidator(hed_schema=schemas)]\n",
    "\n",
    "issues2 = events.contents.validate_file(hed_ops=hed_ops2,\n",
    "                                       check_for_warnings=check_for_warnings)\n",
    "if issues2:\n",
    "    print(get_printable_issue_string(issues2, \"base and library schema\"))\n",
    "else:\n",
    "    print(\"No issues found when base and are used.\")"
   ]
  }
 ],
 "metadata": {
  "kernelspec": {
   "display_name": "Python 3",
   "language": "python",
   "name": "python3"
  },
  "language_info": {
   "codemirror_mode": {
    "name": "ipython",
    "version": 2
   },
   "file_extension": ".py",
   "mimetype": "text/x-python",
   "name": "python",
   "nbconvert_exporter": "python",
   "pygments_lexer": "ipython2",
   "version": "2.7.6"
  }
 },
 "nbformat": 4,
 "nbformat_minor": 0
}