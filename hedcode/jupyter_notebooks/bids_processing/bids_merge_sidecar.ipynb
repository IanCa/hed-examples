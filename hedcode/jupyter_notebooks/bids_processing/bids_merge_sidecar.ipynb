{
 "cells": [
  {
   "cell_type": "markdown",
   "metadata": {
    "collapsed": true,
    "pycharm": {
     "name": "#%% md\n"
    }
   },
   "source": [
    "## Merge a HED tag spreadsheet with an existing JSON sidecar.\n",
    "\n",
    "To use this notebook, substitute the specifics of your BIDS\n",
    "dataset for the following variables:\n",
    "\n",
    "| Variable | Purpose |\n",
    "| -------- | ------- |\n",
    "| bids_root_path | Full path to root directory of dataset.|\n",
    "| exclude_dirs | List of directories to exclude when constructing file lists. |\n",
    "| name_indices  | Indices used by make_file_dict to construct a unique key.<br>(See [Dictionaries of filenames](https://hed-examples.readthedocs.io/en/latest/HedInPython.html#dictionaries-of-filenames-anchor) for examples of how to choose these indices.) |\n",
    "| skip_columns  | List of columns in the `events.tsv` files to skip in the analysis. |\n",
    "| value_columns | List of columns in the `events.tsv` files to annotate as<br>as a whole rather than by individual column value. |\n",
    "\n",
    "**Note:** To actually do the merge of spreadsheet into a JSON sidecar,\n",
    "you only need to have the file names of the spreadsheet and the JSON sidecar.\n",
    "\n",
    "For large datasets, you will want to be sure to exclude columns such as\n",
    "`onset` and `sample`, since the summary produces counts of the number of times\n",
    "each unique value appears somewhere in an event file.\n",
    "\n",
    "When run, the script extracts a JSON sidecar and converts it to a spreadsheet\n",
    "for illustrating the merge. To merge, the spreadsheet is converted back and then\n",
    "merged with another JSON sidecar.\n",
    "\n",
    "The example below uses a\n",
    "[small version](https://github.com/hed-standard/hed-examples/tree/main/datasets/eeg_ds003654s_hed)\n",
    "of the Wakeman-Hanson face-processing dataset available on openNeuro as\n",
    "[ds003654](https://openneuro.org/datasets/ds003645/versions/2.0.0)."
   ]
  },
  {
   "cell_type": "code",
   "execution_count": 1,
   "outputs": [
    {
     "name": "stdout",
     "output_type": "stream",
     "text": [
      "{\n",
      "    \"event_type\": {\n",
      "        \"Levels\": {\n",
      "            \"double_press\": \"Description for double_press\",\n",
      "            \"left_press\": \"Description for left_press\",\n",
      "            \"right_press\": \"Description for right_press\",\n",
      "            \"setup_right_sym\": \"Description for setup_right_sym\",\n",
      "            \"show_circle\": \"Description for show_circle\",\n",
      "            \"show_cross\": \"Description for show_cross\",\n",
      "            \"show_face\": \"Description for show_face\",\n",
      "            \"show_face_initial\": \"Description for show_face_initial\"\n",
      "        },\n",
      "        \"HED\": {\n",
      "            \"double_press\": \"Label/double_press\",\n",
      "            \"left_press\": \"Label/left_press\",\n",
      "            \"right_press\": \"Label/right_press\",\n",
      "            \"setup_right_sym\": \"Label/setup_right_sym\",\n",
      "            \"show_circle\": \"Label/show_circle\",\n",
      "            \"show_cross\": \"Label/show_cross\",\n",
      "            \"show_face\": \"Label/show_face\",\n",
      "            \"show_face_initial\": \"Label/show_face_initial\"\n",
      "        }\n",
      "    },\n",
      "    \"face_type\": {\n",
      "        \"Levels\": {\n",
      "            \"famous_face\": \"Description for famous_face\",\n",
      "            \"scrambled_face\": \"Description for scrambled_face\",\n",
      "            \"unfamiliar_face\": \"Description for unfamiliar_face\"\n",
      "        },\n",
      "        \"HED\": {\n",
      "            \"famous_face\": \"Label/famous_face\",\n",
      "            \"scrambled_face\": \"Label/scrambled_face\",\n",
      "            \"unfamiliar_face\": \"Label/unfamiliar_face\"\n",
      "        }\n",
      "    },\n",
      "    \"rep_status\": {\n",
      "        \"Levels\": {\n",
      "            \"delayed_repeat\": \"Description for delayed_repeat\",\n",
      "            \"first_show\": \"Description for first_show\",\n",
      "            \"immediate_repeat\": \"Description for immediate_repeat\"\n",
      "        },\n",
      "        \"HED\": {\n",
      "            \"delayed_repeat\": \"Label/delayed_repeat\",\n",
      "            \"first_show\": \"Label/first_show\",\n",
      "            \"immediate_repeat\": \"Label/immediate_repeat\"\n",
      "        }\n",
      "    },\n",
      "    \"rep_lag\": {\n",
      "        \"Description\": \"Description for rep_lag\",\n",
      "        \"HED\": \"Label/#\"\n",
      "    },\n",
      "    \"stim_file\": {\n",
      "        \"Description\": \"Description for stim_file\",\n",
      "        \"HED\": \"Label/#\"\n",
      "    },\n",
      "    \"value\": {\n",
      "        \"Description\": \"Description for value\",\n",
      "        \"HED\": \"Label/#\"\n",
      "    }\n",
      "}\n"
     ]
    }
   ],
   "source": [
    "import os\n",
    "import json\n",
    "from hed.tools import EventFileDictionary, EventValueSummary, hed_to_df, df_to_hed, merge_hed_dict\n",
    "from hed.util import get_file_list\n",
    "\n",
    "# Variables to set for the specific dataset\n",
    "bids_root_path =  os.path.realpath('../../../datasets/eeg_ds003654s_hed')\n",
    "exclude_dirs = ['stimuli']\n",
    "name_indices = (0, 2)\n",
    "skip_columns = [\"onset\", \"duration\", \"sample\", \"trial\", \"response_time\"]\n",
    "value_columns = [\"rep_lag\", \"stim_file\", \"value\"]\n",
    "\n",
    "# Construct the event file dictionary for the BIDS event files\n",
    "event_files = get_file_list(bids_root_path, extensions=[\".tsv\"], name_suffix=\"_events\", exclude_dirs=exclude_dirs)\n",
    "file_dict = EventFileDictionary(event_files, name_indices=name_indices)\n",
    "\n",
    "# Get a test spreadsheet for merging\n",
    "value_sum = EventValueSummary(value_cols=value_columns, skip_cols=skip_columns)\n",
    "value_sum.update(event_files)\n",
    "sidecar_template = value_sum.extract_sidecar_template()\n",
    "str_json = json.dumps(sidecar_template, indent=4)\n",
    "example_spreadsheet = hed_to_df(sidecar_template)\n",
    "\n",
    "# Use an empty sidecar to merge into, but any valid sidecar will work\n",
    "spreadsheet_sidecar = df_to_hed(example_spreadsheet, description_tag=False)\n",
    "example_sidecar = {}\n",
    "merge_hed_dict(example_sidecar, spreadsheet_sidecar)\n",
    "str_json = json.dumps(example_sidecar, indent=4)\n",
    "print(str_json)"
   ],
   "metadata": {
    "collapsed": false,
    "pycharm": {
     "name": "#%% Extract a JSON sidecar template from all the event files\n"
    }
   }
  }
 ],
 "metadata": {
  "kernelspec": {
   "display_name": "Python 3",
   "language": "python",
   "name": "python3"
  },
  "language_info": {
   "codemirror_mode": {
    "name": "ipython",
    "version": 2
   },
   "file_extension": ".py",
   "mimetype": "text/x-python",
   "name": "python",
   "nbconvert_exporter": "python",
   "pygments_lexer": "ipython2",
   "version": "2.7.6"
  }
 },
 "nbformat": 4,
 "nbformat_minor": 0
}