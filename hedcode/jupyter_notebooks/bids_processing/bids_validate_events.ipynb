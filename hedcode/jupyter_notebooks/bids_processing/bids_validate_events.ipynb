{
 "cells": [
  {
   "cell_type": "markdown",
   "metadata": {
    "collapsed": true,
    "pycharm": {
     "name": "#%% md\n"
    }
   },
   "source": [
    "## Validate event files and HED in a BIDS dataset.\n",
    "\n",
    "This tool traverse through the BIDS data set and validates the HED.\n",
    "\n",
    "The steps are:\n",
    "\n",
    "1. Set the dataset location (`bids_root_path`) to the absolute path of the root of your BIDS dataset.\n",
    "2. Indicate whether you want to check for warnings during validation ('check_for_warnings').\n",
    "3. Create a BidsDataset for your dataset.\n",
    "4. Validate your dataset.\n",
    "\n",
    "**Note:** This validation pertains to event files and HED annotation only. It does not do a full BIDS validation.\n",
    "\n",
    "The example below uses a small version of the Wakeman-Hanson face-processing dataset\n",
    "available on openNeuro as ds003654."
   ]
  },
  {
   "cell_type": "code",
   "execution_count": 3,
   "outputs": [
    {
     "name": "stdout",
     "output_type": "stream",
     "text": [
      "Bids root path: D:\\Research\\HED\\hed-examples\\datasets\\eeg_ds003654s_hed\n",
      "HED_library\n",
      "WARNING: Column named 'sample' found in file, but not specified as a tag column or identified in sidecars.\n",
      "WARNING: Column named 'sample' found in file, but not specified as a tag column or identified in sidecars.\n",
      "WARNING: Column named 'sample' found in file, but not specified as a tag column or identified in sidecars.\n",
      "WARNING: Column named 'sample' found in file, but not specified as a tag column or identified in sidecars.\n",
      "WARNING: Column named 'sample' found in file, but not specified as a tag column or identified in sidecars.\n",
      "WARNING: Column named 'sample' found in file, but not specified as a tag column or identified in sidecars.\n",
      "\n",
      "\n"
     ]
    }
   ],
   "source": [
    "import os\n",
    "from hed.errors import get_printable_issue_string\n",
    "from hed.tools import BidsDataset\n",
    "\n",
    "## Set the dataset location and the check_for_warnings flag\n",
    "check_for_warnings = True\n",
    "bids_root_path = os.path.abspath(os.path.join(os.path.dirname(os.path.abspath('')), '../../datasets/eeg_ds003654s_hed'))\n",
    "print(f\"Bids root path: {bids_root_path}\")\n",
    "\n",
    "## Validate the dataset\n",
    "bids = BidsDataset(bids_root_path)\n",
    "issue_list = bids.validate(check_for_warnings=check_for_warnings)\n",
    "if issue_list:\n",
    "    issue_str = get_printable_issue_string(issue_list, \"HED_library\")\n",
    "else:\n",
    "    issue_str = \"No issues\"\n",
    "print(issue_str)"
   ],
   "metadata": {
    "collapsed": false,
    "pycharm": {
     "name": "#%%\n"
    }
   }
  }
 ],
 "metadata": {
  "kernelspec": {
   "display_name": "Python 3",
   "language": "python",
   "name": "python3"
  },
  "language_info": {
   "codemirror_mode": {
    "name": "ipython",
    "version": 2
   },
   "file_extension": ".py",
   "mimetype": "text/x-python",
   "name": "python",
   "nbconvert_exporter": "python",
   "pygments_lexer": "ipython2",
   "version": "2.7.6"
  }
 },
 "nbformat": 4,
 "nbformat_minor": 0
}