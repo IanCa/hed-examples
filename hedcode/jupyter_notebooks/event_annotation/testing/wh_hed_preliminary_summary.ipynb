{
 "cells": [
  {
   "cell_type": "markdown",
   "metadata": {
    "collapsed": true,
    "pycharm": {
     "name": "#%% md\n"
    }
   },
   "source": [
    "## Preliminary summary of the Wakeman-Henson\n",
    "\n",
    "This script does a preliminary summary of the contents of the events files.\n",
    "The summary includes printing out the column names of each event file so\n",
    "that they can be manually checked for differences.\n"
   ]
  },
  {
   "cell_type": "code",
   "execution_count": 10,
   "outputs": [
    {
     "name": "stdout",
     "output_type": "stream",
     "text": [
      "\n",
      "108 BIDS style event files\n",
      "sub-002_run-1: G:\\WH_working3\\sub-002\\sub-002_task-FacePerception_run-1_events.tsv\n",
      "sub-002_run-2: G:\\WH_working3\\sub-002\\sub-002_task-FacePerception_run-2_events.tsv\n",
      "sub-002_run-3: G:\\WH_working3\\sub-002\\sub-002_task-FacePerception_run-3_events.tsv\n",
      "sub-002_run-4: G:\\WH_working3\\sub-002\\sub-002_task-FacePerception_run-4_events.tsv\n",
      "sub-002_run-5: G:\\WH_working3\\sub-002\\sub-002_task-FacePerception_run-5_events.tsv\n",
      "sub-002_run-6: G:\\WH_working3\\sub-002\\sub-002_task-FacePerception_run-6_events.tsv\n",
      "sub-003_run-1: G:\\WH_working3\\sub-003\\sub-003_task-FacePerception_run-1_events.tsv\n",
      "sub-003_run-2: G:\\WH_working3\\sub-003\\sub-003_task-FacePerception_run-2_events.tsv\n",
      "sub-003_run-3: G:\\WH_working3\\sub-003\\sub-003_task-FacePerception_run-3_events.tsv\n",
      "sub-003_run-4: G:\\WH_working3\\sub-003\\sub-003_task-FacePerception_run-4_events.tsv\n",
      "sub-003_run-5: G:\\WH_working3\\sub-003\\sub-003_task-FacePerception_run-5_events.tsv\n",
      "sub-003_run-6: G:\\WH_working3\\sub-003\\sub-003_task-FacePerception_run-6_events.tsv\n",
      "sub-004_run-1: G:\\WH_working3\\sub-004\\sub-004_task-FacePerception_run-1_events.tsv\n",
      "sub-004_run-2: G:\\WH_working3\\sub-004\\sub-004_task-FacePerception_run-2_events.tsv\n",
      "sub-004_run-3: G:\\WH_working3\\sub-004\\sub-004_task-FacePerception_run-3_events.tsv\n",
      "sub-004_run-4: G:\\WH_working3\\sub-004\\sub-004_task-FacePerception_run-4_events.tsv\n",
      "sub-004_run-5: G:\\WH_working3\\sub-004\\sub-004_task-FacePerception_run-5_events.tsv\n",
      "sub-004_run-6: G:\\WH_working3\\sub-004\\sub-004_task-FacePerception_run-6_events.tsv\n",
      "sub-005_run-1: G:\\WH_working3\\sub-005\\sub-005_task-FacePerception_run-1_events.tsv\n",
      "sub-005_run-2: G:\\WH_working3\\sub-005\\sub-005_task-FacePerception_run-2_events.tsv\n",
      "sub-005_run-3: G:\\WH_working3\\sub-005\\sub-005_task-FacePerception_run-3_events.tsv\n",
      "sub-005_run-4: G:\\WH_working3\\sub-005\\sub-005_task-FacePerception_run-4_events.tsv\n",
      "sub-005_run-5: G:\\WH_working3\\sub-005\\sub-005_task-FacePerception_run-5_events.tsv\n",
      "sub-005_run-6: G:\\WH_working3\\sub-005\\sub-005_task-FacePerception_run-6_events.tsv\n",
      "sub-006_run-1: G:\\WH_working3\\sub-006\\sub-006_task-FacePerception_run-1_events.tsv\n",
      "sub-006_run-2: G:\\WH_working3\\sub-006\\sub-006_task-FacePerception_run-2_events.tsv\n",
      "sub-006_run-3: G:\\WH_working3\\sub-006\\sub-006_task-FacePerception_run-3_events.tsv\n",
      "sub-006_run-4: G:\\WH_working3\\sub-006\\sub-006_task-FacePerception_run-4_events.tsv\n",
      "sub-006_run-5: G:\\WH_working3\\sub-006\\sub-006_task-FacePerception_run-5_events.tsv\n",
      "sub-006_run-6: G:\\WH_working3\\sub-006\\sub-006_task-FacePerception_run-6_events.tsv\n",
      "sub-007_run-1: G:\\WH_working3\\sub-007\\sub-007_task-FacePerception_run-1_events.tsv\n",
      "sub-007_run-2: G:\\WH_working3\\sub-007\\sub-007_task-FacePerception_run-2_events.tsv\n",
      "sub-007_run-3: G:\\WH_working3\\sub-007\\sub-007_task-FacePerception_run-3_events.tsv\n",
      "sub-007_run-4: G:\\WH_working3\\sub-007\\sub-007_task-FacePerception_run-4_events.tsv\n",
      "sub-007_run-5: G:\\WH_working3\\sub-007\\sub-007_task-FacePerception_run-5_events.tsv\n",
      "sub-007_run-6: G:\\WH_working3\\sub-007\\sub-007_task-FacePerception_run-6_events.tsv\n",
      "sub-008_run-1: G:\\WH_working3\\sub-008\\sub-008_task-FacePerception_run-1_events.tsv\n",
      "sub-008_run-2: G:\\WH_working3\\sub-008\\sub-008_task-FacePerception_run-2_events.tsv\n",
      "sub-008_run-3: G:\\WH_working3\\sub-008\\sub-008_task-FacePerception_run-3_events.tsv\n",
      "sub-008_run-4: G:\\WH_working3\\sub-008\\sub-008_task-FacePerception_run-4_events.tsv\n",
      "sub-008_run-5: G:\\WH_working3\\sub-008\\sub-008_task-FacePerception_run-5_events.tsv\n",
      "sub-008_run-6: G:\\WH_working3\\sub-008\\sub-008_task-FacePerception_run-6_events.tsv\n",
      "sub-009_run-1: G:\\WH_working3\\sub-009\\sub-009_task-FacePerception_run-1_events.tsv\n",
      "sub-009_run-2: G:\\WH_working3\\sub-009\\sub-009_task-FacePerception_run-2_events.tsv\n",
      "sub-009_run-3: G:\\WH_working3\\sub-009\\sub-009_task-FacePerception_run-3_events.tsv\n",
      "sub-009_run-4: G:\\WH_working3\\sub-009\\sub-009_task-FacePerception_run-4_events.tsv\n",
      "sub-009_run-5: G:\\WH_working3\\sub-009\\sub-009_task-FacePerception_run-5_events.tsv\n",
      "sub-009_run-6: G:\\WH_working3\\sub-009\\sub-009_task-FacePerception_run-6_events.tsv\n",
      "sub-010_run-1: G:\\WH_working3\\sub-010\\sub-010_task-FacePerception_run-1_events.tsv\n",
      "sub-010_run-2: G:\\WH_working3\\sub-010\\sub-010_task-FacePerception_run-2_events.tsv\n",
      "sub-010_run-3: G:\\WH_working3\\sub-010\\sub-010_task-FacePerception_run-3_events.tsv\n",
      "sub-010_run-4: G:\\WH_working3\\sub-010\\sub-010_task-FacePerception_run-4_events.tsv\n",
      "sub-010_run-5: G:\\WH_working3\\sub-010\\sub-010_task-FacePerception_run-5_events.tsv\n",
      "sub-010_run-6: G:\\WH_working3\\sub-010\\sub-010_task-FacePerception_run-6_events.tsv\n",
      "sub-011_run-1: G:\\WH_working3\\sub-011\\sub-011_task-FacePerception_run-1_events.tsv\n",
      "sub-011_run-2: G:\\WH_working3\\sub-011\\sub-011_task-FacePerception_run-2_events.tsv\n",
      "sub-011_run-3: G:\\WH_working3\\sub-011\\sub-011_task-FacePerception_run-3_events.tsv\n",
      "sub-011_run-4: G:\\WH_working3\\sub-011\\sub-011_task-FacePerception_run-4_events.tsv\n",
      "sub-011_run-5: G:\\WH_working3\\sub-011\\sub-011_task-FacePerception_run-5_events.tsv\n",
      "sub-011_run-6: G:\\WH_working3\\sub-011\\sub-011_task-FacePerception_run-6_events.tsv\n",
      "sub-012_run-1: G:\\WH_working3\\sub-012\\sub-012_task-FacePerception_run-1_events.tsv\n",
      "sub-012_run-2: G:\\WH_working3\\sub-012\\sub-012_task-FacePerception_run-2_events.tsv\n",
      "sub-012_run-3: G:\\WH_working3\\sub-012\\sub-012_task-FacePerception_run-3_events.tsv\n",
      "sub-012_run-4: G:\\WH_working3\\sub-012\\sub-012_task-FacePerception_run-4_events.tsv\n",
      "sub-012_run-5: G:\\WH_working3\\sub-012\\sub-012_task-FacePerception_run-5_events.tsv\n",
      "sub-012_run-6: G:\\WH_working3\\sub-012\\sub-012_task-FacePerception_run-6_events.tsv\n",
      "sub-013_run-1: G:\\WH_working3\\sub-013\\sub-013_task-FacePerception_run-1_events.tsv\n",
      "sub-013_run-2: G:\\WH_working3\\sub-013\\sub-013_task-FacePerception_run-2_events.tsv\n",
      "sub-013_run-3: G:\\WH_working3\\sub-013\\sub-013_task-FacePerception_run-3_events.tsv\n",
      "sub-013_run-4: G:\\WH_working3\\sub-013\\sub-013_task-FacePerception_run-4_events.tsv\n",
      "sub-013_run-5: G:\\WH_working3\\sub-013\\sub-013_task-FacePerception_run-5_events.tsv\n",
      "sub-013_run-6: G:\\WH_working3\\sub-013\\sub-013_task-FacePerception_run-6_events.tsv\n",
      "sub-014_run-1: G:\\WH_working3\\sub-014\\sub-014_task-FacePerception_run-1_events.tsv\n",
      "sub-014_run-2: G:\\WH_working3\\sub-014\\sub-014_task-FacePerception_run-2_events.tsv\n",
      "sub-014_run-3: G:\\WH_working3\\sub-014\\sub-014_task-FacePerception_run-3_events.tsv\n",
      "sub-014_run-4: G:\\WH_working3\\sub-014\\sub-014_task-FacePerception_run-4_events.tsv\n",
      "sub-014_run-5: G:\\WH_working3\\sub-014\\sub-014_task-FacePerception_run-5_events.tsv\n",
      "sub-014_run-6: G:\\WH_working3\\sub-014\\sub-014_task-FacePerception_run-6_events.tsv\n",
      "sub-015_run-1: G:\\WH_working3\\sub-015\\sub-015_task-FacePerception_run-1_events.tsv\n",
      "sub-015_run-2: G:\\WH_working3\\sub-015\\sub-015_task-FacePerception_run-2_events.tsv\n",
      "sub-015_run-3: G:\\WH_working3\\sub-015\\sub-015_task-FacePerception_run-3_events.tsv\n",
      "sub-015_run-4: G:\\WH_working3\\sub-015\\sub-015_task-FacePerception_run-4_events.tsv\n",
      "sub-015_run-5: G:\\WH_working3\\sub-015\\sub-015_task-FacePerception_run-5_events.tsv\n",
      "sub-015_run-6: G:\\WH_working3\\sub-015\\sub-015_task-FacePerception_run-6_events.tsv\n",
      "sub-016_run-1: G:\\WH_working3\\sub-016\\sub-016_task-FacePerception_run-1_events.tsv\n",
      "sub-016_run-2: G:\\WH_working3\\sub-016\\sub-016_task-FacePerception_run-2_events.tsv\n",
      "sub-016_run-3: G:\\WH_working3\\sub-016\\sub-016_task-FacePerception_run-3_events.tsv\n",
      "sub-016_run-4: G:\\WH_working3\\sub-016\\sub-016_task-FacePerception_run-4_events.tsv\n",
      "sub-016_run-5: G:\\WH_working3\\sub-016\\sub-016_task-FacePerception_run-5_events.tsv\n",
      "sub-016_run-6: G:\\WH_working3\\sub-016\\sub-016_task-FacePerception_run-6_events.tsv\n",
      "sub-017_run-1: G:\\WH_working3\\sub-017\\sub-017_task-FacePerception_run-1_events.tsv\n",
      "sub-017_run-2: G:\\WH_working3\\sub-017\\sub-017_task-FacePerception_run-2_events.tsv\n",
      "sub-017_run-3: G:\\WH_working3\\sub-017\\sub-017_task-FacePerception_run-3_events.tsv\n",
      "sub-017_run-4: G:\\WH_working3\\sub-017\\sub-017_task-FacePerception_run-4_events.tsv\n",
      "sub-017_run-5: G:\\WH_working3\\sub-017\\sub-017_task-FacePerception_run-5_events.tsv\n",
      "sub-017_run-6: G:\\WH_working3\\sub-017\\sub-017_task-FacePerception_run-6_events.tsv\n",
      "sub-018_run-1: G:\\WH_working3\\sub-018\\sub-018_task-FacePerception_run-1_events.tsv\n",
      "sub-018_run-2: G:\\WH_working3\\sub-018\\sub-018_task-FacePerception_run-2_events.tsv\n",
      "sub-018_run-3: G:\\WH_working3\\sub-018\\sub-018_task-FacePerception_run-3_events.tsv\n",
      "sub-018_run-4: G:\\WH_working3\\sub-018\\sub-018_task-FacePerception_run-4_events.tsv\n",
      "sub-018_run-5: G:\\WH_working3\\sub-018\\sub-018_task-FacePerception_run-5_events.tsv\n",
      "sub-018_run-6: G:\\WH_working3\\sub-018\\sub-018_task-FacePerception_run-6_events.tsv\n",
      "sub-019_run-1: G:\\WH_working3\\sub-019\\sub-019_task-FacePerception_run-1_events.tsv\n",
      "sub-019_run-2: G:\\WH_working3\\sub-019\\sub-019_task-FacePerception_run-2_events.tsv\n",
      "sub-019_run-3: G:\\WH_working3\\sub-019\\sub-019_task-FacePerception_run-3_events.tsv\n",
      "sub-019_run-4: G:\\WH_working3\\sub-019\\sub-019_task-FacePerception_run-4_events.tsv\n",
      "sub-019_run-5: G:\\WH_working3\\sub-019\\sub-019_task-FacePerception_run-5_events.tsv\n",
      "sub-019_run-6: G:\\WH_working3\\sub-019\\sub-019_task-FacePerception_run-6_events.tsv\n"
     ]
    }
   ],
   "source": [
    "# from hed.util.io_util import get_file_list, make_file_dict\n",
    "#\n",
    "# # Construct the dictionary for BIDS events files\n",
    "# bids_root = \"G:\\WH_working3\"\n",
    "# event_files = get_file_list(bids_root, extensions=[\".tsv\"], name_suffix=\"_events\")\n",
    "# file_dict = make_file_dict(event_files, indices=(0, 2))\n",
    "# print(f\"\\n{len(list(file_dict))} BIDS style event files\")\n",
    "# for key, value in file_dict.items():\n",
    "#     print(f\"{key}: {value}\")\n"
   ],
   "metadata": {
    "collapsed": false,
    "pycharm": {
     "name": "#%% Create dictionaries for the BIDS events files and the EEG.event files\n"
    }
   }
  },
  {
   "cell_type": "code",
   "execution_count": 11,
   "outputs": [
    {
     "name": "stdout",
     "output_type": "stream",
     "text": [
      "MEEG event files:\n",
      "sub-002_run-1: events: 552 columns:['onset', 'duration', 'sample', 'event_type', 'face_type', 'rep_status', 'rep_lag', 'trial', 'value', 'stim_file']\n",
      "sub-002_run-2: events: 516 columns:['onset', 'duration', 'sample', 'event_type', 'face_type', 'rep_status', 'rep_lag', 'trial', 'value', 'stim_file']\n",
      "sub-002_run-3: events: 533 columns:['onset', 'duration', 'sample', 'event_type', 'face_type', 'rep_status', 'rep_lag', 'trial', 'value', 'stim_file']\n",
      "sub-002_run-4: events: 532 columns:['onset', 'duration', 'sample', 'event_type', 'face_type', 'rep_status', 'rep_lag', 'trial', 'value', 'stim_file']\n",
      "sub-002_run-5: events: 546 columns:['onset', 'duration', 'sample', 'event_type', 'face_type', 'rep_status', 'rep_lag', 'trial', 'value', 'stim_file']\n",
      "sub-002_run-6: events: 575 columns:['onset', 'duration', 'sample', 'event_type', 'face_type', 'rep_status', 'rep_lag', 'trial', 'value', 'stim_file']\n",
      "sub-003_run-1: events: 589 columns:['onset', 'duration', 'sample', 'event_type', 'face_type', 'rep_status', 'rep_lag', 'trial', 'value', 'stim_file']\n",
      "sub-003_run-2: events: 589 columns:['onset', 'duration', 'sample', 'event_type', 'face_type', 'rep_status', 'rep_lag', 'trial', 'value', 'stim_file']\n",
      "sub-003_run-3: events: 583 columns:['onset', 'duration', 'sample', 'event_type', 'face_type', 'rep_status', 'rep_lag', 'trial', 'value', 'stim_file']\n",
      "sub-003_run-4: events: 584 columns:['onset', 'duration', 'sample', 'event_type', 'face_type', 'rep_status', 'rep_lag', 'trial', 'value', 'stim_file']\n",
      "sub-003_run-5: events: 579 columns:['onset', 'duration', 'sample', 'event_type', 'face_type', 'rep_status', 'rep_lag', 'trial', 'value', 'stim_file']\n",
      "sub-003_run-6: events: 588 columns:['onset', 'duration', 'sample', 'event_type', 'face_type', 'rep_status', 'rep_lag', 'trial', 'value', 'stim_file']\n",
      "sub-004_run-1: events: 589 columns:['onset', 'duration', 'sample', 'event_type', 'face_type', 'rep_status', 'rep_lag', 'trial', 'value', 'stim_file']\n",
      "sub-004_run-2: events: 573 columns:['onset', 'duration', 'sample', 'event_type', 'face_type', 'rep_status', 'rep_lag', 'trial', 'value', 'stim_file']\n",
      "sub-004_run-3: events: 560 columns:['onset', 'duration', 'sample', 'event_type', 'face_type', 'rep_status', 'rep_lag', 'trial', 'value', 'stim_file']\n",
      "sub-004_run-4: events: 570 columns:['onset', 'duration', 'sample', 'event_type', 'face_type', 'rep_status', 'rep_lag', 'trial', 'value', 'stim_file']\n",
      "sub-004_run-5: events: 590 columns:['onset', 'duration', 'sample', 'event_type', 'face_type', 'rep_status', 'rep_lag', 'trial', 'value', 'stim_file']\n",
      "sub-004_run-6: events: 595 columns:['onset', 'duration', 'sample', 'event_type', 'face_type', 'rep_status', 'rep_lag', 'trial', 'value', 'stim_file']\n",
      "sub-005_run-1: events: 537 columns:['onset', 'duration', 'sample', 'event_type', 'face_type', 'rep_status', 'rep_lag', 'trial', 'value', 'stim_file']\n",
      "sub-005_run-2: events: 581 columns:['onset', 'duration', 'sample', 'event_type', 'face_type', 'rep_status', 'rep_lag', 'trial', 'value', 'stim_file']\n",
      "sub-005_run-3: events: 584 columns:['onset', 'duration', 'sample', 'event_type', 'face_type', 'rep_status', 'rep_lag', 'trial', 'value', 'stim_file']\n",
      "sub-005_run-4: events: 592 columns:['onset', 'duration', 'sample', 'event_type', 'face_type', 'rep_status', 'rep_lag', 'trial', 'value', 'stim_file']\n",
      "sub-005_run-5: events: 589 columns:['onset', 'duration', 'sample', 'event_type', 'face_type', 'rep_status', 'rep_lag', 'trial', 'value', 'stim_file']\n",
      "sub-005_run-6: events: 583 columns:['onset', 'duration', 'sample', 'event_type', 'face_type', 'rep_status', 'rep_lag', 'trial', 'value', 'stim_file']\n",
      "sub-006_run-1: events: 589 columns:['onset', 'duration', 'sample', 'event_type', 'face_type', 'rep_status', 'rep_lag', 'trial', 'value', 'stim_file']\n",
      "sub-006_run-2: events: 594 columns:['onset', 'duration', 'sample', 'event_type', 'face_type', 'rep_status', 'rep_lag', 'trial', 'value', 'stim_file']\n",
      "sub-006_run-3: events: 589 columns:['onset', 'duration', 'sample', 'event_type', 'face_type', 'rep_status', 'rep_lag', 'trial', 'value', 'stim_file']\n",
      "sub-006_run-4: events: 585 columns:['onset', 'duration', 'sample', 'event_type', 'face_type', 'rep_status', 'rep_lag', 'trial', 'value', 'stim_file']\n",
      "sub-006_run-5: events: 593 columns:['onset', 'duration', 'sample', 'event_type', 'face_type', 'rep_status', 'rep_lag', 'trial', 'value', 'stim_file']\n",
      "sub-006_run-6: events: 589 columns:['onset', 'duration', 'sample', 'event_type', 'face_type', 'rep_status', 'rep_lag', 'trial', 'value', 'stim_file']\n",
      "sub-007_run-1: events: 585 columns:['onset', 'duration', 'sample', 'event_type', 'face_type', 'rep_status', 'rep_lag', 'trial', 'value', 'stim_file']\n",
      "sub-007_run-2: events: 586 columns:['onset', 'duration', 'sample', 'event_type', 'face_type', 'rep_status', 'rep_lag', 'trial', 'value', 'stim_file']\n",
      "sub-007_run-3: events: 596 columns:['onset', 'duration', 'sample', 'event_type', 'face_type', 'rep_status', 'rep_lag', 'trial', 'value', 'stim_file']\n",
      "sub-007_run-4: events: 593 columns:['onset', 'duration', 'sample', 'event_type', 'face_type', 'rep_status', 'rep_lag', 'trial', 'value', 'stim_file']\n",
      "sub-007_run-5: events: 593 columns:['onset', 'duration', 'sample', 'event_type', 'face_type', 'rep_status', 'rep_lag', 'trial', 'value', 'stim_file']\n",
      "sub-007_run-6: events: 593 columns:['onset', 'duration', 'sample', 'event_type', 'face_type', 'rep_status', 'rep_lag', 'trial', 'value', 'stim_file']\n",
      "sub-008_run-1: events: 593 columns:['onset', 'duration', 'sample', 'event_type', 'face_type', 'rep_status', 'rep_lag', 'trial', 'value', 'stim_file']\n",
      "sub-008_run-2: events: 593 columns:['onset', 'duration', 'sample', 'event_type', 'face_type', 'rep_status', 'rep_lag', 'trial', 'value', 'stim_file']\n",
      "sub-008_run-3: events: 593 columns:['onset', 'duration', 'sample', 'event_type', 'face_type', 'rep_status', 'rep_lag', 'trial', 'value', 'stim_file']\n",
      "sub-008_run-4: events: 585 columns:['onset', 'duration', 'sample', 'event_type', 'face_type', 'rep_status', 'rep_lag', 'trial', 'value', 'stim_file']\n",
      "sub-008_run-5: events: 581 columns:['onset', 'duration', 'sample', 'event_type', 'face_type', 'rep_status', 'rep_lag', 'trial', 'value', 'stim_file']\n",
      "sub-008_run-6: events: 589 columns:['onset', 'duration', 'sample', 'event_type', 'face_type', 'rep_status', 'rep_lag', 'trial', 'value', 'stim_file']\n",
      "sub-009_run-1: events: 593 columns:['onset', 'duration', 'sample', 'event_type', 'face_type', 'rep_status', 'rep_lag', 'trial', 'value', 'stim_file']\n",
      "sub-009_run-2: events: 593 columns:['onset', 'duration', 'sample', 'event_type', 'face_type', 'rep_status', 'rep_lag', 'trial', 'value', 'stim_file']\n",
      "sub-009_run-3: events: 598 columns:['onset', 'duration', 'sample', 'event_type', 'face_type', 'rep_status', 'rep_lag', 'trial', 'value', 'stim_file']\n",
      "sub-009_run-4: events: 593 columns:['onset', 'duration', 'sample', 'event_type', 'face_type', 'rep_status', 'rep_lag', 'trial', 'value', 'stim_file']\n",
      "sub-009_run-5: events: 597 columns:['onset', 'duration', 'sample', 'event_type', 'face_type', 'rep_status', 'rep_lag', 'trial', 'value', 'stim_file']\n",
      "sub-009_run-6: events: 589 columns:['onset', 'duration', 'sample', 'event_type', 'face_type', 'rep_status', 'rep_lag', 'trial', 'value', 'stim_file']\n",
      "sub-010_run-1: events: 588 columns:['onset', 'duration', 'sample', 'event_type', 'face_type', 'rep_status', 'rep_lag', 'trial', 'value', 'stim_file']\n",
      "sub-010_run-2: events: 593 columns:['onset', 'duration', 'sample', 'event_type', 'face_type', 'rep_status', 'rep_lag', 'trial', 'value', 'stim_file']\n",
      "sub-010_run-3: events: 596 columns:['onset', 'duration', 'sample', 'event_type', 'face_type', 'rep_status', 'rep_lag', 'trial', 'value', 'stim_file']\n",
      "sub-010_run-4: events: 589 columns:['onset', 'duration', 'sample', 'event_type', 'face_type', 'rep_status', 'rep_lag', 'trial', 'value', 'stim_file']\n",
      "sub-010_run-5: events: 590 columns:['onset', 'duration', 'sample', 'event_type', 'face_type', 'rep_status', 'rep_lag', 'trial', 'value', 'stim_file']\n",
      "sub-010_run-6: events: 589 columns:['onset', 'duration', 'sample', 'event_type', 'face_type', 'rep_status', 'rep_lag', 'trial', 'value', 'stim_file']\n",
      "sub-011_run-1: events: 585 columns:['onset', 'duration', 'sample', 'event_type', 'face_type', 'rep_status', 'rep_lag', 'trial', 'value', 'stim_file']\n",
      "sub-011_run-2: events: 585 columns:['onset', 'duration', 'sample', 'event_type', 'face_type', 'rep_status', 'rep_lag', 'trial', 'value', 'stim_file']\n",
      "sub-011_run-3: events: 597 columns:['onset', 'duration', 'sample', 'event_type', 'face_type', 'rep_status', 'rep_lag', 'trial', 'value', 'stim_file']\n",
      "sub-011_run-4: events: 593 columns:['onset', 'duration', 'sample', 'event_type', 'face_type', 'rep_status', 'rep_lag', 'trial', 'value', 'stim_file']\n",
      "sub-011_run-5: events: 593 columns:['onset', 'duration', 'sample', 'event_type', 'face_type', 'rep_status', 'rep_lag', 'trial', 'value', 'stim_file']\n",
      "sub-011_run-6: events: 589 columns:['onset', 'duration', 'sample', 'event_type', 'face_type', 'rep_status', 'rep_lag', 'trial', 'value', 'stim_file']\n",
      "sub-012_run-1: events: 594 columns:['onset', 'duration', 'sample', 'event_type', 'face_type', 'rep_status', 'rep_lag', 'trial', 'value', 'stim_file']\n",
      "sub-012_run-2: events: 594 columns:['onset', 'duration', 'sample', 'event_type', 'face_type', 'rep_status', 'rep_lag', 'trial', 'value', 'stim_file']\n",
      "sub-012_run-3: events: 597 columns:['onset', 'duration', 'sample', 'event_type', 'face_type', 'rep_status', 'rep_lag', 'trial', 'value', 'stim_file']\n",
      "sub-012_run-4: events: 593 columns:['onset', 'duration', 'sample', 'event_type', 'face_type', 'rep_status', 'rep_lag', 'trial', 'value', 'stim_file']\n",
      "sub-012_run-5: events: 588 columns:['onset', 'duration', 'sample', 'event_type', 'face_type', 'rep_status', 'rep_lag', 'trial', 'value', 'stim_file']\n",
      "sub-012_run-6: events: 593 columns:['onset', 'duration', 'sample', 'event_type', 'face_type', 'rep_status', 'rep_lag', 'trial', 'value', 'stim_file']\n",
      "sub-013_run-1: events: 589 columns:['onset', 'duration', 'sample', 'event_type', 'face_type', 'rep_status', 'rep_lag', 'trial', 'value', 'stim_file']\n",
      "sub-013_run-2: events: 593 columns:['onset', 'duration', 'sample', 'event_type', 'face_type', 'rep_status', 'rep_lag', 'trial', 'value', 'stim_file']\n",
      "sub-013_run-3: events: 593 columns:['onset', 'duration', 'sample', 'event_type', 'face_type', 'rep_status', 'rep_lag', 'trial', 'value', 'stim_file']\n",
      "sub-013_run-4: events: 589 columns:['onset', 'duration', 'sample', 'event_type', 'face_type', 'rep_status', 'rep_lag', 'trial', 'value', 'stim_file']\n",
      "sub-013_run-5: events: 585 columns:['onset', 'duration', 'sample', 'event_type', 'face_type', 'rep_status', 'rep_lag', 'trial', 'value', 'stim_file']\n",
      "sub-013_run-6: events: 585 columns:['onset', 'duration', 'sample', 'event_type', 'face_type', 'rep_status', 'rep_lag', 'trial', 'value', 'stim_file']\n",
      "sub-014_run-1: events: 590 columns:['onset', 'duration', 'sample', 'event_type', 'face_type', 'rep_status', 'rep_lag', 'trial', 'value', 'stim_file']\n",
      "sub-014_run-2: events: 592 columns:['onset', 'duration', 'sample', 'event_type', 'face_type', 'rep_status', 'rep_lag', 'trial', 'value', 'stim_file']\n",
      "sub-014_run-3: events: 597 columns:['onset', 'duration', 'sample', 'event_type', 'face_type', 'rep_status', 'rep_lag', 'trial', 'value', 'stim_file']\n",
      "sub-014_run-4: events: 593 columns:['onset', 'duration', 'sample', 'event_type', 'face_type', 'rep_status', 'rep_lag', 'trial', 'value', 'stim_file']\n",
      "sub-014_run-5: events: 590 columns:['onset', 'duration', 'sample', 'event_type', 'face_type', 'rep_status', 'rep_lag', 'trial', 'value', 'stim_file']\n",
      "sub-014_run-6: events: 591 columns:['onset', 'duration', 'sample', 'event_type', 'face_type', 'rep_status', 'rep_lag', 'trial', 'value', 'stim_file']\n",
      "sub-015_run-1: events: 586 columns:['onset', 'duration', 'sample', 'event_type', 'face_type', 'rep_status', 'rep_lag', 'trial', 'value', 'stim_file']\n",
      "sub-015_run-2: events: 592 columns:['onset', 'duration', 'sample', 'event_type', 'face_type', 'rep_status', 'rep_lag', 'trial', 'value', 'stim_file']\n",
      "sub-015_run-3: events: 586 columns:['onset', 'duration', 'sample', 'event_type', 'face_type', 'rep_status', 'rep_lag', 'trial', 'value', 'stim_file']\n",
      "sub-015_run-4: events: 590 columns:['onset', 'duration', 'sample', 'event_type', 'face_type', 'rep_status', 'rep_lag', 'trial', 'value', 'stim_file']\n",
      "sub-015_run-5: events: 589 columns:['onset', 'duration', 'sample', 'event_type', 'face_type', 'rep_status', 'rep_lag', 'trial', 'value', 'stim_file']\n",
      "sub-015_run-6: events: 586 columns:['onset', 'duration', 'sample', 'event_type', 'face_type', 'rep_status', 'rep_lag', 'trial', 'value', 'stim_file']\n",
      "sub-016_run-1: events: 597 columns:['onset', 'duration', 'sample', 'event_type', 'face_type', 'rep_status', 'rep_lag', 'trial', 'value', 'stim_file']\n",
      "sub-016_run-2: events: 593 columns:['onset', 'duration', 'sample', 'event_type', 'face_type', 'rep_status', 'rep_lag', 'trial', 'value', 'stim_file']\n",
      "sub-016_run-3: events: 589 columns:['onset', 'duration', 'sample', 'event_type', 'face_type', 'rep_status', 'rep_lag', 'trial', 'value', 'stim_file']\n",
      "sub-016_run-4: events: 593 columns:['onset', 'duration', 'sample', 'event_type', 'face_type', 'rep_status', 'rep_lag', 'trial', 'value', 'stim_file']\n",
      "sub-016_run-5: events: 591 columns:['onset', 'duration', 'sample', 'event_type', 'face_type', 'rep_status', 'rep_lag', 'trial', 'value', 'stim_file']\n",
      "sub-016_run-6: events: 592 columns:['onset', 'duration', 'sample', 'event_type', 'face_type', 'rep_status', 'rep_lag', 'trial', 'value', 'stim_file']\n",
      "sub-017_run-1: events: 589 columns:['onset', 'duration', 'sample', 'event_type', 'face_type', 'rep_status', 'rep_lag', 'trial', 'value', 'stim_file']\n",
      "sub-017_run-2: events: 593 columns:['onset', 'duration', 'sample', 'event_type', 'face_type', 'rep_status', 'rep_lag', 'trial', 'value', 'stim_file']\n",
      "sub-017_run-3: events: 594 columns:['onset', 'duration', 'sample', 'event_type', 'face_type', 'rep_status', 'rep_lag', 'trial', 'value', 'stim_file']\n",
      "sub-017_run-4: events: 589 columns:['onset', 'duration', 'sample', 'event_type', 'face_type', 'rep_status', 'rep_lag', 'trial', 'value', 'stim_file']\n",
      "sub-017_run-5: events: 590 columns:['onset', 'duration', 'sample', 'event_type', 'face_type', 'rep_status', 'rep_lag', 'trial', 'value', 'stim_file']\n",
      "sub-017_run-6: events: 586 columns:['onset', 'duration', 'sample', 'event_type', 'face_type', 'rep_status', 'rep_lag', 'trial', 'value', 'stim_file']\n",
      "sub-018_run-1: events: 589 columns:['onset', 'duration', 'sample', 'event_type', 'face_type', 'rep_status', 'rep_lag', 'trial', 'value', 'stim_file']\n",
      "sub-018_run-2: events: 588 columns:['onset', 'duration', 'sample', 'event_type', 'face_type', 'rep_status', 'rep_lag', 'trial', 'value', 'stim_file']\n",
      "sub-018_run-3: events: 589 columns:['onset', 'duration', 'sample', 'event_type', 'face_type', 'rep_status', 'rep_lag', 'trial', 'value', 'stim_file']\n",
      "sub-018_run-4: events: 597 columns:['onset', 'duration', 'sample', 'event_type', 'face_type', 'rep_status', 'rep_lag', 'trial', 'value', 'stim_file']\n",
      "sub-018_run-5: events: 584 columns:['onset', 'duration', 'sample', 'event_type', 'face_type', 'rep_status', 'rep_lag', 'trial', 'value', 'stim_file']\n",
      "sub-018_run-6: events: 585 columns:['onset', 'duration', 'sample', 'event_type', 'face_type', 'rep_status', 'rep_lag', 'trial', 'value', 'stim_file']\n",
      "sub-019_run-1: events: 587 columns:['onset', 'duration', 'sample', 'event_type', 'face_type', 'rep_status', 'rep_lag', 'trial', 'value', 'stim_file']\n",
      "sub-019_run-2: events: 587 columns:['onset', 'duration', 'sample', 'event_type', 'face_type', 'rep_status', 'rep_lag', 'trial', 'value', 'stim_file']\n",
      "sub-019_run-3: events: 593 columns:['onset', 'duration', 'sample', 'event_type', 'face_type', 'rep_status', 'rep_lag', 'trial', 'value', 'stim_file']\n",
      "sub-019_run-4: events: 593 columns:['onset', 'duration', 'sample', 'event_type', 'face_type', 'rep_status', 'rep_lag', 'trial', 'value', 'stim_file']\n",
      "sub-019_run-5: events: 587 columns:['onset', 'duration', 'sample', 'event_type', 'face_type', 'rep_status', 'rep_lag', 'trial', 'value', 'stim_file']\n",
      "sub-019_run-6: events: 592 columns:['onset', 'duration', 'sample', 'event_type', 'face_type', 'rep_status', 'rep_lag', 'trial', 'value', 'stim_file']\n",
      "Event files:108 total events:63320 average events/file:586.2962962962963\n"
     ]
    }
   ],
   "source": [
    "# from hed.util.data_util import get_new_dataframe\n",
    "#\n",
    "# total_events = 0\n",
    "# print(f\"MEEG event files:\")\n",
    "# for key, file in file_dict.items():\n",
    "#     df = get_new_dataframe(file)\n",
    "#     print(f\"{key}: events: {len(df.index)} columns:{str(list(df.columns.values))}\")\n",
    "#     total_events = total_events + len(df.index)\n",
    "#\n",
    "# print(f\"Event files:{len(file_dict)} total events:{total_events} average events/file:{total_events/len(file_dict)}\")"
   ],
   "metadata": {
    "collapsed": false,
    "pycharm": {
     "name": "#%% Output the column names for each file\n"
    }
   }
  },
  {
   "cell_type": "code",
   "execution_count": 12,
   "outputs": [],
   "source": [
    "# from hed.util.data_util import get_new_dataframe\n",
    "#\n",
    "# total_events = 0\n",
    "# print(f\"MEG event files:\")\n",
    "# for key, file in meg_dict.items():\n",
    "#     df = get_new_dataframe(file)\n",
    "#     print(f\"{key}: events: {len(df.index)} columns:{str(list(df.columns.values))}\")\n",
    "#     total_events = total_events + len(df.index)\n",
    "#\n",
    "# print(f\"meg event files:{len(meg_dict)} total events:{total_events} average events/file:{total_events/len(meg_dict)}\")"
   ],
   "metadata": {
    "collapsed": false,
    "pycharm": {
     "name": "#%% Output the column names for each MEG file\n"
    }
   }
  },
  {
   "cell_type": "code",
   "execution_count": 13,
   "outputs": [],
   "source": [
    "from hed.util.data_util import get_new_dataframe\n",
    "\n",
    "# total_events = 0\n",
    "# print(f\"BEH event files:\")\n",
    "# for key, file in beh_dict.items():\n",
    "#     df = get_new_dataframe(file)\n",
    "#     print(f\"{key}: events: {len(df.index)} columns:{str(list(df.columns.values))}\")\n",
    "#     total_events = total_events + len(df.index)\n",
    "#\n",
    "# print(f\"bej event files:{len(beh_dict)} total events:{total_events} average events/file:{total_events/len(beh_dict)}\")\n"
   ],
   "metadata": {
    "collapsed": false,
    "pycharm": {
     "name": "#%%\n"
    }
   }
  },
  {
   "cell_type": "code",
   "execution_count": 14,
   "outputs": [],
   "source": [
    "# from hed.tools.summaries.map_summary import make_combined_dicts\n",
    "# bids_skip = ['onset', 'duration', 'circle_duration', 'response_time', 'stim_file']\n",
    "# print('\\nFMRI events summary:')\n",
    "# bids_dicts_all, bids_dicts =  make_combined_dicts(mri_dict, skip_cols=bids_skip)\n",
    "# bids_dicts_all.print()"
   ],
   "metadata": {
    "collapsed": false,
    "pycharm": {
     "name": "#%% Create summary dictionaries of the original BIDS events files and output column names\n"
    }
   }
  },
  {
   "cell_type": "code",
   "execution_count": 15,
   "outputs": [],
   "source": [
    "# from hed.tools.summaries.map_summary import make_combined_dicts\n",
    "# bids_skip = ['onset', 'duration', 'onset_sample',  'stim_file']\n",
    "# print('\\nMEG events summary:')\n",
    "# meg_dicts_all, meg_dicts =  make_combined_dicts(meg_dict, skip_cols=bids_skip)\n",
    "# meg_dicts_all.print()\n"
   ],
   "metadata": {
    "collapsed": false,
    "pycharm": {
     "name": "#%% Create summary dictionaries of the original BIDS events files and output column names\n"
    }
   }
  }
 ],
 "metadata": {
  "kernelspec": {
   "display_name": "Python 3",
   "language": "python",
   "name": "python3"
  },
  "language_info": {
   "codemirror_mode": {
    "name": "ipython",
    "version": 2
   },
   "file_extension": ".py",
   "mimetype": "text/x-python",
   "name": "python",
   "nbconvert_exporter": "python",
   "pygments_lexer": "ipython2",
   "version": "2.7.6"
  }
 },
 "nbformat": 4,
 "nbformat_minor": 0
}