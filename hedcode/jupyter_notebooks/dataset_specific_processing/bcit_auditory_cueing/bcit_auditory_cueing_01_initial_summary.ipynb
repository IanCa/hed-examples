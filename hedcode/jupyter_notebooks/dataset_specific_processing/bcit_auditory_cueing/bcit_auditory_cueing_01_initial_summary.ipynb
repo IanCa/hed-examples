{
 "cells": [
  {
   "cell_type": "markdown",
   "metadata": {
    "collapsed": true,
    "pycharm": {
     "name": "#%% md\n"
    }
   },
   "source": [
    "## Initial summary of event files\n",
    "\n",
    "**Dataset**: BCIT Auditory Cueing (in process)\n",
    "\n",
    "This script does a preliminary summary of the contents of the events files.\n",
    "The summary includes printing out the column names of each event file so\n",
    "that they can be manually checked for differences.\n",
    "\n",
    "The script assumes that the data is in BIDS format and that each BIDS events\n",
    "file of the form `_events.tsv` has a corresponding events file with\n",
    "suffix `_events_temp.tsv` that was previously dumped from the `EEG.set` files.\n",
    "\n",
    "This script does a preliminary summary of the contents of the events files.\n",
    "The summary includes printing out the column names of each event file so\n",
    "that they can be manually checked for differences.\n",
    "\n",
    "The script assumes that the data is in BIDS format and that each BIDS events\n",
    "file of the form `_events.tsv` has a corresponding events file with\n",
    "suffix `_events_temp.tsv` that was previously dumped from the `EEG.set` files.\n",
    "Keys are specified by a `entities` tuple lists the BIDS entity names\n",
    "to include in the key.\n",
    "BIDS base file names are constructed of entity *name*-*value* pairs separated\n",
    "by underbars and followed by an ending *_suffix*.\n",
    "\n",
    "For a file name `sub-001_ses-3_task-target_run-01_events.tsv`,\n",
    "the tuple ('sub', 'task') gives a key of `sub-001_task-target`,\n",
    "while the tuple ('sub', 'ses', 'run) gives a key of `sub-001_ses-3_run-01`.\n",
    "The use of dictionaries of file names with such keys makes it\n",
    "easier to associate related files in the BIDS naming structure.\n",
    "\n",
    "The setup requires the setting of the following variables for your dataset:\n",
    "\n",
    "| Variable | Purpose |\n",
    "| -------- | ------- |\n",
    "| bids_root_path | Full path to root directory of dataset.|\n",
    "| exclude_dirs | List of directories to exclude when constructing file lists. |\n",
    "| entities  | Tuple of entity names used to construct a unique keys representing filenames. <br>(See [Dictionaries of filenames](https://hed-examples.readthedocs.io/en/latest/HedInPython.html#dictionaries-of-filenames-anchor) for examples of how to choose the keys.)|\n",
    "| bids_skip_columns  |  List of column names in the `events.tsv` files to skip in the analysis. |\n",
    "| eeg_skip_columns  | List of column names in the `events_temp.tsv` files form EEG.events to skip in analysis.|"
   ]
  },
  {
   "cell_type": "code",
   "execution_count": 1,
   "outputs": [],
   "source": [
    "from hed.tools import BidsTsvDictionary\n",
    "from hed.util import get_file_list\n",
    "\n",
    "# Variables to set for the specific dataset\n",
    "bids_root_path = 'F:/ARLBidsStart/AuditoryCueingWorking'\n",
    "exclude_dirs = ['sourcedata', 'stimuli', 'code']\n",
    "entities = ('sub', 'ses', 'run')\n",
    "bids_skip_columns = ['onset']\n",
    "eeg_skip_columns = ['latency', 'urevent', 'usertags']\n",
    "\n",
    "# Construct the event file dictionaries for the BIDS and for EEG.event files\n",
    "files_bids = get_file_list(bids_root_path, extensions=[\".tsv\"], name_suffix=\"_events\", exclude_dirs=exclude_dirs)\n",
    "bids_dict = BidsTsvDictionary(files_bids, entities=entities)\n",
    "files_eeg = get_file_list(bids_root_path, extensions=[\".tsv\"], name_suffix=\"_events_temp\", exclude_dirs=exclude_dirs)\n",
    "eeg_dict = BidsTsvDictionary(files_eeg, entities=entities)"
   ],
   "metadata": {
    "collapsed": false,
    "pycharm": {
     "name": "#%% Set up the variables for producing a summary and construct dictionaries\n"
    }
   }
  },
  {
   "cell_type": "code",
   "execution_count": 2,
   "outputs": [
    {
     "name": "stdout",
     "output_type": "stream",
     "text": [
      "Summarizing F:/ARLBidsStart/AuditoryCueingWorking...\n",
      "\n",
      "BIDS style event files (34 files)\n",
      "sub-01_ses-01_run-1: sub-01_ses-01_task-DriveRandomSound_run-1_events.tsv\n",
      "sub-01_ses-01_run-2: sub-01_ses-01_task-DriveRandomSound_run-2_events.tsv\n",
      "sub-02_ses-01_run-1: sub-02_ses-01_task-DriveRandomSound_run-1_events.tsv\n",
      "sub-02_ses-01_run-2: sub-02_ses-01_task-DriveRandomSound_run-2_events.tsv\n",
      "sub-03_ses-01_run-1: sub-03_ses-01_task-DriveRandomSound_run-1_events.tsv\n",
      "sub-03_ses-01_run-2: sub-03_ses-01_task-DriveRandomSound_run-2_events.tsv\n",
      "sub-04_ses-01_run-1: sub-04_ses-01_task-DriveRandomSound_run-1_events.tsv\n",
      "sub-04_ses-01_run-2: sub-04_ses-01_task-DriveRandomSound_run-2_events.tsv\n",
      "sub-05_ses-01_run-1: sub-05_ses-01_task-DriveRandomSound_run-1_events.tsv\n",
      "sub-05_ses-01_run-2: sub-05_ses-01_task-DriveRandomSound_run-2_events.tsv\n",
      "sub-06_ses-01_run-1: sub-06_ses-01_task-DriveRandomSound_run-1_events.tsv\n",
      "sub-06_ses-01_run-2: sub-06_ses-01_task-DriveRandomSound_run-2_events.tsv\n",
      "sub-07_ses-01_run-1: sub-07_ses-01_task-DriveRandomSound_run-1_events.tsv\n",
      "sub-07_ses-01_run-2: sub-07_ses-01_task-DriveRandomSound_run-2_events.tsv\n",
      "sub-08_ses-01_run-1: sub-08_ses-01_task-DriveRandomSound_run-1_events.tsv\n",
      "sub-08_ses-01_run-2: sub-08_ses-01_task-DriveRandomSound_run-2_events.tsv\n",
      "sub-09_ses-01_run-1: sub-09_ses-01_task-DriveRandomSound_run-1_events.tsv\n",
      "sub-09_ses-01_run-2: sub-09_ses-01_task-DriveRandomSound_run-2_events.tsv\n",
      "sub-10_ses-01_run-1: sub-10_ses-01_task-DriveRandomSound_run-1_events.tsv\n",
      "sub-10_ses-01_run-2: sub-10_ses-01_task-DriveRandomSound_run-2_events.tsv\n",
      "sub-11_ses-01_run-1: sub-11_ses-01_task-DriveRandomSound_run-1_events.tsv\n",
      "sub-11_ses-01_run-2: sub-11_ses-01_task-DriveRandomSound_run-2_events.tsv\n",
      "sub-12_ses-01_run-1: sub-12_ses-01_task-DriveRandomSound_run-1_events.tsv\n",
      "sub-12_ses-01_run-2: sub-12_ses-01_task-DriveRandomSound_run-2_events.tsv\n",
      "sub-13_ses-01_run-1: sub-13_ses-01_task-DriveRandomSound_run-1_events.tsv\n",
      "sub-13_ses-01_run-2: sub-13_ses-01_task-DriveRandomSound_run-2_events.tsv\n",
      "sub-14_ses-01_run-1: sub-14_ses-01_task-DriveRandomSound_run-1_events.tsv\n",
      "sub-14_ses-01_run-2: sub-14_ses-01_task-DriveRandomSound_run-2_events.tsv\n",
      "sub-15_ses-01_run-1: sub-15_ses-01_task-DriveRandomSound_run-1_events.tsv\n",
      "sub-15_ses-01_run-2: sub-15_ses-01_task-DriveRandomSound_run-2_events.tsv\n",
      "sub-16_ses-01_run-1: sub-16_ses-01_task-DriveRandomSound_run-1_events.tsv\n",
      "sub-16_ses-01_run-2: sub-16_ses-01_task-DriveRandomSound_run-2_events.tsv\n",
      "sub-17_ses-01_run-1: sub-17_ses-01_task-DriveRandomSound_run-1_events.tsv\n",
      "sub-17_ses-01_run-2: sub-17_ses-01_task-DriveRandomSound_run-2_events.tsv\n",
      "\n",
      "EEG.event style event files (34 files)\n",
      "sub-01_ses-01_run-1: sub-01_ses-01_task-DriveRandomSound_run-1_events_temp.tsv\n",
      "sub-01_ses-01_run-2: sub-01_ses-01_task-DriveRandomSound_run-2_events_temp.tsv\n",
      "sub-02_ses-01_run-1: sub-02_ses-01_task-DriveRandomSound_run-1_events_temp.tsv\n",
      "sub-02_ses-01_run-2: sub-02_ses-01_task-DriveRandomSound_run-2_events_temp.tsv\n",
      "sub-03_ses-01_run-1: sub-03_ses-01_task-DriveRandomSound_run-1_events_temp.tsv\n",
      "sub-03_ses-01_run-2: sub-03_ses-01_task-DriveRandomSound_run-2_events_temp.tsv\n",
      "sub-04_ses-01_run-1: sub-04_ses-01_task-DriveRandomSound_run-1_events_temp.tsv\n",
      "sub-04_ses-01_run-2: sub-04_ses-01_task-DriveRandomSound_run-2_events_temp.tsv\n",
      "sub-05_ses-01_run-1: sub-05_ses-01_task-DriveRandomSound_run-1_events_temp.tsv\n",
      "sub-05_ses-01_run-2: sub-05_ses-01_task-DriveRandomSound_run-2_events_temp.tsv\n",
      "sub-06_ses-01_run-1: sub-06_ses-01_task-DriveRandomSound_run-1_events_temp.tsv\n",
      "sub-06_ses-01_run-2: sub-06_ses-01_task-DriveRandomSound_run-2_events_temp.tsv\n",
      "sub-07_ses-01_run-1: sub-07_ses-01_task-DriveRandomSound_run-1_events_temp.tsv\n",
      "sub-07_ses-01_run-2: sub-07_ses-01_task-DriveRandomSound_run-2_events_temp.tsv\n",
      "sub-08_ses-01_run-1: sub-08_ses-01_task-DriveRandomSound_run-1_events_temp.tsv\n",
      "sub-08_ses-01_run-2: sub-08_ses-01_task-DriveRandomSound_run-2_events_temp.tsv\n",
      "sub-09_ses-01_run-1: sub-09_ses-01_task-DriveRandomSound_run-1_events_temp.tsv\n",
      "sub-09_ses-01_run-2: sub-09_ses-01_task-DriveRandomSound_run-2_events_temp.tsv\n",
      "sub-10_ses-01_run-1: sub-10_ses-01_task-DriveRandomSound_run-1_events_temp.tsv\n",
      "sub-10_ses-01_run-2: sub-10_ses-01_task-DriveRandomSound_run-2_events_temp.tsv\n",
      "sub-11_ses-01_run-1: sub-11_ses-01_task-DriveRandomSound_run-1_events_temp.tsv\n",
      "sub-11_ses-01_run-2: sub-11_ses-01_task-DriveRandomSound_run-2_events_temp.tsv\n",
      "sub-12_ses-01_run-1: sub-12_ses-01_task-DriveRandomSound_run-1_events_temp.tsv\n",
      "sub-12_ses-01_run-2: sub-12_ses-01_task-DriveRandomSound_run-2_events_temp.tsv\n",
      "sub-13_ses-01_run-1: sub-13_ses-01_task-DriveRandomSound_run-1_events_temp.tsv\n",
      "sub-13_ses-01_run-2: sub-13_ses-01_task-DriveRandomSound_run-2_events_temp.tsv\n",
      "sub-14_ses-01_run-1: sub-14_ses-01_task-DriveRandomSound_run-1_events_temp.tsv\n",
      "sub-14_ses-01_run-2: sub-14_ses-01_task-DriveRandomSound_run-2_events_temp.tsv\n",
      "sub-15_ses-01_run-1: sub-15_ses-01_task-DriveRandomSound_run-1_events_temp.tsv\n",
      "sub-15_ses-01_run-2: sub-15_ses-01_task-DriveRandomSound_run-2_events_temp.tsv\n",
      "sub-16_ses-01_run-1: sub-16_ses-01_task-DriveRandomSound_run-1_events_temp.tsv\n",
      "sub-16_ses-01_run-2: sub-16_ses-01_task-DriveRandomSound_run-2_events_temp.tsv\n",
      "sub-17_ses-01_run-1: sub-17_ses-01_task-DriveRandomSound_run-1_events_temp.tsv\n",
      "sub-17_ses-01_run-2: sub-17_ses-01_task-DriveRandomSound_run-2_events_temp.tsv\n"
     ]
    }
   ],
   "source": [
    "print(f\"Summarizing {bids_root_path}...\")\n",
    "bids_dict.print_files(title=\"\\nBIDS style event files\")\n",
    "eeg_dict.print_files(title=\"\\nEEG.event style event files\")"
   ],
   "metadata": {
    "collapsed": false,
    "pycharm": {
     "name": "#%% Output a list of files for the two cases\n"
    }
   }
  },
  {
   "cell_type": "code",
   "execution_count": 3,
   "outputs": [
    {
     "name": "stdout",
     "output_type": "stream",
     "text": [
      "Key differences between EEG and BIDS events: []\n"
     ]
    }
   ],
   "source": [
    "key_diff = bids_dict.key_diffs(eeg_dict)\n",
    "print(f\"Key differences between EEG and BIDS events: {str(key_diff)}\")"
   ],
   "metadata": {
    "collapsed": false,
    "pycharm": {
     "name": "#%% Compare keys from the two dictionaries to make sure they are the same\n"
    }
   }
  },
  {
   "cell_type": "code",
   "execution_count": 4,
   "outputs": [
    {
     "name": "stdout",
     "output_type": "stream",
     "text": [
      "\n",
      "BIDS style event file columns:\n",
      "sub-01_ses-01_run-1 [2967 events]: ['onset', 'duration', 'event_code']\n",
      "sub-01_ses-01_run-2 [2967 events]: ['onset', 'duration', 'event_code']\n",
      "sub-02_ses-01_run-1 [3111 events]: ['onset', 'duration', 'event_code']\n",
      "sub-02_ses-01_run-2 [3111 events]: ['onset', 'duration', 'event_code']\n",
      "sub-03_ses-01_run-1 [2956 events]: ['onset', 'duration', 'event_code']\n",
      "sub-03_ses-01_run-2 [2956 events]: ['onset', 'duration', 'event_code']\n",
      "sub-04_ses-01_run-1 [3158 events]: ['onset', 'duration', 'event_code']\n",
      "sub-04_ses-01_run-2 [3158 events]: ['onset', 'duration', 'event_code']\n",
      "sub-05_ses-01_run-1 [3272 events]: ['onset', 'duration', 'event_code']\n",
      "sub-05_ses-01_run-2 [3272 events]: ['onset', 'duration', 'event_code']\n",
      "sub-06_ses-01_run-1 [2963 events]: ['onset', 'duration', 'event_code']\n",
      "sub-06_ses-01_run-2 [2963 events]: ['onset', 'duration', 'event_code']\n",
      "sub-07_ses-01_run-1 [2989 events]: ['onset', 'duration', 'event_code']\n",
      "sub-07_ses-01_run-2 [2989 events]: ['onset', 'duration', 'event_code']\n",
      "sub-08_ses-01_run-1 [2801 events]: ['onset', 'duration', 'event_code']\n",
      "sub-08_ses-01_run-2 [2801 events]: ['onset', 'duration', 'event_code']\n",
      "sub-09_ses-01_run-1 [2805 events]: ['onset', 'duration', 'event_code']\n",
      "sub-09_ses-01_run-2 [2805 events]: ['onset', 'duration', 'event_code']\n",
      "sub-10_ses-01_run-1 [2907 events]: ['onset', 'duration', 'event_code']\n",
      "sub-10_ses-01_run-2 [2907 events]: ['onset', 'duration', 'event_code']\n",
      "sub-11_ses-01_run-1 [3018 events]: ['onset', 'duration', 'event_code']\n",
      "sub-11_ses-01_run-2 [3018 events]: ['onset', 'duration', 'event_code']\n",
      "sub-12_ses-01_run-1 [2837 events]: ['onset', 'duration', 'event_code']\n",
      "sub-12_ses-01_run-2 [2837 events]: ['onset', 'duration', 'event_code']\n",
      "sub-13_ses-01_run-1 [3258 events]: ['onset', 'duration', 'event_code']\n",
      "sub-13_ses-01_run-2 [3258 events]: ['onset', 'duration', 'event_code']\n",
      "sub-14_ses-01_run-1 [3130 events]: ['onset', 'duration', 'event_code']\n",
      "sub-14_ses-01_run-2 [3130 events]: ['onset', 'duration', 'event_code']\n",
      "sub-15_ses-01_run-1 [3180 events]: ['onset', 'duration', 'event_code']\n",
      "sub-15_ses-01_run-2 [3180 events]: ['onset', 'duration', 'event_code']\n",
      "sub-16_ses-01_run-1 [2985 events]: ['onset', 'duration', 'event_code']\n",
      "sub-16_ses-01_run-2 [2985 events]: ['onset', 'duration', 'event_code']\n",
      "sub-17_ses-01_run-1 [2925 events]: ['onset', 'duration', 'event_code']\n",
      "sub-17_ses-01_run-2 [2925 events]: ['onset', 'duration', 'event_code']\n",
      "\n",
      "EEG.event style event file columns:\n",
      "sub-01_ses-01_run-1 [2960 events]: ['type', 'latency', 'urevent', 'usertags']\n",
      "sub-01_ses-01_run-2 [2967 events]: ['type', 'latency', 'urevent', 'usertags']\n",
      "sub-02_ses-01_run-1 [2851 events]: ['type', 'latency', 'urevent', 'usertags']\n",
      "sub-02_ses-01_run-2 [3111 events]: ['type', 'latency', 'urevent', 'usertags']\n",
      "sub-03_ses-01_run-1 [3052 events]: ['type', 'latency', 'urevent', 'usertags']\n",
      "sub-03_ses-01_run-2 [2956 events]: ['type', 'latency', 'urevent', 'usertags']\n",
      "sub-04_ses-01_run-1 [3145 events]: ['type', 'latency', 'urevent', 'usertags']\n",
      "sub-04_ses-01_run-2 [3158 events]: ['type', 'latency', 'urevent', 'usertags']\n",
      "sub-05_ses-01_run-1 [3069 events]: ['type', 'latency', 'urevent', 'usertags']\n",
      "sub-05_ses-01_run-2 [3272 events]: ['type', 'latency', 'urevent', 'usertags']\n",
      "sub-06_ses-01_run-1 [2916 events]: ['type', 'latency', 'urevent', 'usertags']\n",
      "sub-06_ses-01_run-2 [2963 events]: ['type', 'latency', 'urevent', 'usertags']\n",
      "sub-07_ses-01_run-1 [3092 events]: ['type', 'latency', 'urevent', 'usertags']\n",
      "sub-07_ses-01_run-2 [2989 events]: ['type', 'latency', 'urevent', 'usertags']\n",
      "sub-08_ses-01_run-1 [2630 events]: ['type', 'latency', 'urevent', 'usertags']\n",
      "sub-08_ses-01_run-2 [2801 events]: ['type', 'latency', 'urevent', 'usertags']\n",
      "sub-09_ses-01_run-1 [2889 events]: ['type', 'latency', 'urevent', 'usertags']\n",
      "sub-09_ses-01_run-2 [2805 events]: ['type', 'latency', 'urevent', 'usertags']\n",
      "sub-10_ses-01_run-1 [2799 events]: ['type', 'latency', 'urevent', 'usertags']\n",
      "sub-10_ses-01_run-2 [2907 events]: ['type', 'latency', 'urevent', 'usertags']\n",
      "sub-11_ses-01_run-1 [3109 events]: ['type', 'latency', 'urevent', 'usertags']\n",
      "sub-11_ses-01_run-2 [3018 events]: ['type', 'latency', 'urevent', 'usertags']\n",
      "sub-12_ses-01_run-1 [2966 events]: ['type', 'latency', 'urevent', 'usertags']\n",
      "sub-12_ses-01_run-2 [2837 events]: ['type', 'latency', 'urevent', 'usertags']\n",
      "sub-13_ses-01_run-1 [3185 events]: ['type', 'latency', 'urevent', 'usertags']\n",
      "sub-13_ses-01_run-2 [3258 events]: ['type', 'latency', 'urevent', 'usertags']\n",
      "sub-14_ses-01_run-1 [3129 events]: ['type', 'latency', 'urevent', 'usertags']\n",
      "sub-14_ses-01_run-2 [3130 events]: ['type', 'latency', 'urevent', 'usertags']\n",
      "sub-15_ses-01_run-1 [3100 events]: ['type', 'latency', 'urevent', 'usertags']\n",
      "sub-15_ses-01_run-2 [3180 events]: ['type', 'latency', 'urevent', 'usertags']\n",
      "sub-16_ses-01_run-1 [3071 events]: ['type', 'latency', 'urevent', 'usertags']\n",
      "sub-16_ses-01_run-2 [2985 events]: ['type', 'latency', 'urevent', 'usertags']\n",
      "sub-17_ses-01_run-1 [3145 events]: ['type', 'latency', 'urevent', 'usertags']\n",
      "sub-17_ses-01_run-2 [2925 events]: ['type', 'latency', 'urevent', 'usertags']\n"
     ]
    }
   ],
   "source": [
    "print(f\"\\nBIDS style event file columns:\")\n",
    "for key, file, rowcount, columns in bids_dict.iter_tsv_info():\n",
    "    print(f\"{key} [{rowcount} events]: {str(columns)}\")\n",
    "\n",
    "print(f\"\\nEEG.event style event file columns:\")\n",
    "for key, file, rowcount, columns in eeg_dict.iter_tsv_info():\n",
    "    print(f\"{key} [{rowcount} events]: {str(columns)}\")"
   ],
   "metadata": {
    "collapsed": false,
    "pycharm": {
     "name": "#%% Output the column names for each type of event file\n"
    }
   }
  },
  {
   "cell_type": "code",
   "execution_count": 5,
   "outputs": [
    {
     "name": "stdout",
     "output_type": "stream",
     "text": [
      "The number of BIDS events and EEG.event events differ for the following:\n",
      "sub-01_ses-01_run-1: 2967 BIDS events and 2960 EEG.events\n",
      "sub-02_ses-01_run-1: 3111 BIDS events and 2851 EEG.events\n",
      "sub-03_ses-01_run-1: 2956 BIDS events and 3052 EEG.events\n",
      "sub-04_ses-01_run-1: 3158 BIDS events and 3145 EEG.events\n",
      "sub-05_ses-01_run-1: 3272 BIDS events and 3069 EEG.events\n",
      "sub-06_ses-01_run-1: 2963 BIDS events and 2916 EEG.events\n",
      "sub-07_ses-01_run-1: 2989 BIDS events and 3092 EEG.events\n",
      "sub-08_ses-01_run-1: 2801 BIDS events and 2630 EEG.events\n",
      "sub-09_ses-01_run-1: 2805 BIDS events and 2889 EEG.events\n",
      "sub-10_ses-01_run-1: 2907 BIDS events and 2799 EEG.events\n",
      "sub-11_ses-01_run-1: 3018 BIDS events and 3109 EEG.events\n",
      "sub-12_ses-01_run-1: 2837 BIDS events and 2966 EEG.events\n",
      "sub-13_ses-01_run-1: 3258 BIDS events and 3185 EEG.events\n",
      "sub-14_ses-01_run-1: 3130 BIDS events and 3129 EEG.events\n",
      "sub-15_ses-01_run-1: 3180 BIDS events and 3100 EEG.events\n",
      "sub-16_ses-01_run-1: 2985 BIDS events and 3071 EEG.events\n",
      "sub-17_ses-01_run-1: 2925 BIDS events and 3145 EEG.events\n"
     ]
    }
   ],
   "source": [
    "count_diffs = bids_dict.count_diffs(eeg_dict)\n",
    "if count_diffs:\n",
    "    print(\"The number of BIDS events and EEG.event events differ for the following:\")\n",
    "    for item in count_diffs:\n",
    "        print(f\"{item[0]}: {item[1]} BIDS events and {item[2]} EEG.events\")\n",
    "else:\n",
    "    print(\"The BIDS event files and EEG.event structures have the same number of events\")"
   ],
   "metadata": {
    "collapsed": false,
    "pycharm": {
     "name": "#%% Output keys for files in which the BIDS and EEG.events have different numbers of events\n"
    }
   }
  },
  {
   "cell_type": "code",
   "execution_count": 6,
   "outputs": [
    {
     "name": "stdout",
     "output_type": "stream",
     "text": [
      "\n",
      "BIDS events summary\n",
      "  Categorical columns (2):\n",
      "    duration (1 distinct values):\n",
      "      n/a: 102524\n",
      "    event_code (25 distinct values):\n",
      "      1111: 2664\n",
      "      1112: 2664\n",
      "      1121: 2726\n",
      "      1122: 2726\n",
      "      1131: 3066\n",
      "      1132: 3066\n",
      "      1141: 3070\n",
      "      1142: 3070\n",
      "      1211: 34\n",
      "      1212: 34\n",
      "      1311: 5070\n",
      "      1312: 5070\n",
      "      1321: 6126\n",
      "      1322: 6126\n",
      "      2621: 2268\n",
      "      2622: 2266\n",
      "      3111: 34\n",
      "      3112: 34\n",
      "      3200: 2364\n",
      "      3310: 34\n",
      "      4210: 15220\n",
      "      4220: 6866\n",
      "      4230: 8370\n",
      "      4311: 11246\n",
      "      4312: 8310\n",
      "  Value columns (0):\n",
      "\n",
      "EEG.event events summary\n",
      "  Categorical columns (1):\n",
      "    type (26 distinct values):\n",
      "      1111: 2938\n",
      "      1112: 2938\n",
      "      1121: 2883\n",
      "      1122: 2883\n",
      "      1131: 2904\n",
      "      1132: 2904\n",
      "      1141: 2894\n",
      "      1142: 2894\n",
      "      1211: 34\n",
      "      1212: 34\n",
      "      1311: 5193\n",
      "      1312: 5193\n",
      "      1321: 5796\n",
      "      1322: 5796\n",
      "      2621: 2239\n",
      "      2622: 2238\n",
      "      3111: 34\n",
      "      3112: 34\n",
      "      3200: 2342\n",
      "      3310: 34\n",
      "      4210: 15172\n",
      "      4220: 6745\n",
      "      4230: 8439\n",
      "      4311: 11324\n",
      "      4312: 8484\n",
      "      4411: 1\n",
      "  Value columns (0):\n"
     ]
    }
   ],
   "source": [
    "from hed.tools import BidsTsvSummary\n",
    "\n",
    "bids_sum_all, bids_sum =  BidsTsvSummary.make_combined_dicts(bids_dict, skip_cols=bids_skip_columns)\n",
    "bids_sum_all.print('\\nBIDS events summary')\n",
    "\n",
    "eeg_sum_all, eeg_sum =  BidsTsvSummary.make_combined_dicts(eeg_dict, skip_cols=eeg_skip_columns)\n",
    "eeg_sum_all.print('\\nEEG.event events summary')"
   ],
   "metadata": {
    "collapsed": false,
    "pycharm": {
     "name": "#%% Create summary dictionaries of the original BIDS events files and output column names\n"
    }
   }
  }
 ],
 "metadata": {
  "kernelspec": {
   "display_name": "Python 3",
   "language": "python",
   "name": "python3"
  },
  "language_info": {
   "codemirror_mode": {
    "name": "ipython",
    "version": 2
   },
   "file_extension": ".py",
   "mimetype": "text/x-python",
   "name": "python",
   "nbconvert_exporter": "python",
   "pygments_lexer": "ipython2",
   "version": "2.7.6"
  }
 },
 "nbformat": 4,
 "nbformat_minor": 0
}