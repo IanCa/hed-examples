{
 "cells": [
  {
   "cell_type": "markdown",
   "metadata": {
    "collapsed": true,
    "pycharm": {
     "name": "#%% md\n"
    }
   },
   "source": [
    "## Remove the extra files from BCIT Advanced Guard Duty\n",
    "\n",
    "This script assumes that you have copied the AdvancedGuardDutyWorking directory into\n",
    "the AdvancedGuardDutyWorkingPhaseTwo directory.\n",
    "\n",
    "This script removes `_events.tsv` and `_events_temp.tsv` and then\n",
    "renames `_events_temp1.tsv` to `_events.tsv`."
   ]
  },
  {
   "cell_type": "code",
   "execution_count": 1,
   "outputs": [],
   "source": [
    "import os\n",
    "from hed.tools import BidsTsvDictionary, HedLogger\n",
    "from hed.util import get_file_list\n",
    "\n",
    "# Variables to set for the specific dataset\n",
    "bids_root_path = 'F:/ARLBidsStart/AuditoryCueingWorking'\n",
    "exclude_dirs = ['sourcedata', 'stimuli', 'code']\n",
    "entities = ('sub', 'ses', 'run')\n",
    "\n",
    "# Construct the event file dictionaries for the BIDS and for EEG.event files\n",
    "files_bids = get_file_list(bids_root_path, extensions=[\".tsv\"], name_suffix=\"_eventstem1\", exclude_dirs=exclude_dirs)\n",
    "\n",
    "for filename in files_bids:\n",
    "    # Remove events.tsv\n",
    "    os.remove(filename)\n",
    "\n",
    "# # Set logger and remove the appropriate files\n",
    "# count = 0\n",
    "# for filename in files_bids:\n",
    "#     # Remove events.tsv\n",
    "#     filename_new = filename[:-9] + \"temp.tsv\"\n",
    "#     os.rename(filename, filename_new)\n",
    "#     filename_temp1 = filename[:-9] + \"_temp1.tsv\"\n",
    "#     if os.path.isfile(filename_temp1):\n",
    "#         os.remove(filename_temp1)\n",
    "#         count = count + 1\n",
    "#\n",
    "# print(f\"{count} files removed\")"
   ],
   "metadata": {
    "collapsed": false,
    "pycharm": {
     "name": "#%% Set up the directories and create a dictionary for _events.tsv\n"
    }
   }
  }
 ],
 "metadata": {
  "kernelspec": {
   "display_name": "Python 3",
   "language": "python",
   "name": "python3"
  },
  "language_info": {
   "codemirror_mode": {
    "name": "ipython",
    "version": 2
   },
   "file_extension": ".py",
   "mimetype": "text/x-python",
   "name": "python",
   "nbconvert_exporter": "python",
   "pygments_lexer": "ipython2",
   "version": "2.7.6"
  }
 },
 "nbformat": 4,
 "nbformat_minor": 0
}