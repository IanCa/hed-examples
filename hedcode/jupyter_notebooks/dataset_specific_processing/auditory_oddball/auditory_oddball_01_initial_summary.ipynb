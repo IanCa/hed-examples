{
 "cells": [
  {
   "cell_type": "markdown",
   "metadata": {
    "collapsed": true,
    "pycharm": {
     "name": "#%% md\n"
    }
   },
   "source": [
    "## Initial summary of event files\n",
    "\n",
    "This script does a preliminary summary of the contents of the events files.\n",
    "The summary includes printing out the column names of each event file so\n",
    "that they can be manually checked for differences.\n",
    "\n",
    "The script assumes that the data is in BIDS format and that each BIDS events\n",
    "file of the form `_events.tsv` has a corresponding events file with\n",
    "suffix `_events_temp.tsv` that was previously dumped from the `EEG.set` files.\n",
    "\n",
    "In order to compare the events coming from the BIDS events files and those\n",
    "from the EEG.set files, the script creates dictionaries of `key` to full path\n",
    "for each type of file.  The `key` is of the form `sub-xxx_run-y` which\n",
    "uniquely specify each event file in the dataset. If a dataset contains\n",
    "multiple sessions for each subject, the `key` should include additional\n",
    "parts of the file name to uniquely specify each subject.\n",
    "\n",
    "Keys are specified by a `name_indices` tuple which consists of the\n",
    "pieces of the file name to include. Here pieces are separated by the\n",
    "underbar character.\n",
    "\n",
    "For a file name `sub-001_ses-3_task-target_run-01_events.tsv`,\n",
    "the tuple (0, 2) gives a key of `sub-001_task-target`,\n",
    "while the tuple (0, 3) gives a key of `sub-001_run-01`.\n",
    "The use of dictionaries of file names with such keys makes it\n",
    "easier to associate related files in the BIDS naming structure.\n",
    "\n",
    "The setup requires the setting of the following variables for your dataset:\n",
    "\n",
    "| Variable | Purpose |\n",
    "| -------- | ------- |\n",
    "| bids_root_path | Full path to root directory of dataset.|\n",
    "| exclude_dirs | List of directories to exclude when constructing file lists. |\n",
    "| name_indices  | Indices used to construct a unique keys representing event filenames. |\n",
    "| bids_skip  |  List of column names in the `events.tsv` files to skip in the analysis. |\n",
    "| eeg_skip  | List of column names in the `events_temp.tsv` files form EEG.events to skip in analysis.|"
   ]
  },
  {
   "cell_type": "code",
   "execution_count": 1,
   "outputs": [],
   "source": [
    "from hed.tools import TsvFileDictionary\n",
    "from hed.util import get_file_list\n",
    "\n",
    "# Variables to set for the specific dataset\n",
    "bids_root_path = 'G:\\AuditoryOddball\\AuditoryOddballWorking'\n",
    "exclude_dirs = ['code', 'stimuli']\n",
    "name_indices = (0, 2)\n",
    "bids_skip_columns = ['onset', 'duration', 'sample', 'response_time']\n",
    "eeg_skip_columns = ['latency', 'duration', 'sample', 'response_time']\n",
    "\n",
    "# Construct the event file dictionaries for the BIDS and for EEG.event files\n",
    "event_files_bids = get_file_list(bids_root_path, extensions=[\".tsv\"], name_suffix=\"_events\",\n",
    "                                 exclude_dirs=exclude_dirs)\n",
    "bids_dict = TsvFileDictionary(event_files_bids, name_indices=name_indices)\n",
    "event_files_eeg = get_file_list(bids_root_path, extensions=[\".tsv\"], name_suffix=\"_events_temp\",\n",
    "                                exclude_dirs=exclude_dirs)\n",
    "eeg_dict = TsvFileDictionary(event_files_eeg, name_indices=name_indices)"
   ],
   "metadata": {
    "collapsed": false,
    "pycharm": {
     "name": "#%% Create dictionaries for the BIDS events files and the EEG.event files\n"
    }
   }
  },
  {
   "cell_type": "code",
   "execution_count": 2,
   "outputs": [
    {
     "name": "stdout",
     "output_type": "stream",
     "text": [
      "Summarizing G:\\AuditoryOddball\\AuditoryOddballWorking...\n",
      "\n",
      "BIDS style event files (39 files)\n",
      "sub-001_run-1: sub-001_task-P300_run-1_events.tsv\n",
      "sub-001_run-2: sub-001_task-P300_run-2_events.tsv\n",
      "sub-001_run-3: sub-001_task-P300_run-3_events.tsv\n",
      "sub-002_run-1: sub-002_task-P300_run-1_events.tsv\n",
      "sub-002_run-2: sub-002_task-P300_run-2_events.tsv\n",
      "sub-002_run-3: sub-002_task-P300_run-3_events.tsv\n",
      "sub-003_run-1: sub-003_task-P300_run-1_events.tsv\n",
      "sub-003_run-2: sub-003_task-P300_run-2_events.tsv\n",
      "sub-003_run-3: sub-003_task-P300_run-3_events.tsv\n",
      "sub-004_run-1: sub-004_task-P300_run-1_events.tsv\n",
      "sub-004_run-2: sub-004_task-P300_run-2_events.tsv\n",
      "sub-004_run-3: sub-004_task-P300_run-3_events.tsv\n",
      "sub-005_run-1: sub-005_task-P300_run-1_events.tsv\n",
      "sub-005_run-2: sub-005_task-P300_run-2_events.tsv\n",
      "sub-005_run-3: sub-005_task-P300_run-3_events.tsv\n",
      "sub-006_run-1: sub-006_task-P300_run-1_events.tsv\n",
      "sub-006_run-2: sub-006_task-P300_run-2_events.tsv\n",
      "sub-006_run-3: sub-006_task-P300_run-3_events.tsv\n",
      "sub-007_run-1: sub-007_task-P300_run-1_events.tsv\n",
      "sub-007_run-2: sub-007_task-P300_run-2_events.tsv\n",
      "sub-007_run-3: sub-007_task-P300_run-3_events.tsv\n",
      "sub-008_run-1: sub-008_task-P300_run-1_events.tsv\n",
      "sub-008_run-2: sub-008_task-P300_run-2_events.tsv\n",
      "sub-008_run-3: sub-008_task-P300_run-3_events.tsv\n",
      "sub-009_run-1: sub-009_task-P300_run-1_events.tsv\n",
      "sub-009_run-2: sub-009_task-P300_run-2_events.tsv\n",
      "sub-009_run-3: sub-009_task-P300_run-3_events.tsv\n",
      "sub-010_run-1: sub-010_task-P300_run-1_events.tsv\n",
      "sub-010_run-2: sub-010_task-P300_run-2_events.tsv\n",
      "sub-010_run-3: sub-010_task-P300_run-3_events.tsv\n",
      "sub-011_run-1: sub-011_task-P300_run-1_events.tsv\n",
      "sub-011_run-2: sub-011_task-P300_run-2_events.tsv\n",
      "sub-011_run-3: sub-011_task-P300_run-3_events.tsv\n",
      "sub-012_run-1: sub-012_task-P300_run-1_events.tsv\n",
      "sub-012_run-2: sub-012_task-P300_run-2_events.tsv\n",
      "sub-012_run-3: sub-012_task-P300_run-3_events.tsv\n",
      "sub-013_run-1: sub-013_task-P300_run-1_events.tsv\n",
      "sub-013_run-2: sub-013_task-P300_run-2_events.tsv\n",
      "sub-013_run-3: sub-013_task-P300_run-3_events.tsv\n",
      "\n",
      "EEG.event style event files (39 files)\n",
      "sub-001_run-1: sub-001_task-P300_run-1_events_temp.tsv\n",
      "sub-001_run-2: sub-001_task-P300_run-2_events_temp.tsv\n",
      "sub-001_run-3: sub-001_task-P300_run-3_events_temp.tsv\n",
      "sub-002_run-1: sub-002_task-P300_run-1_events_temp.tsv\n",
      "sub-002_run-2: sub-002_task-P300_run-2_events_temp.tsv\n",
      "sub-002_run-3: sub-002_task-P300_run-3_events_temp.tsv\n",
      "sub-003_run-1: sub-003_task-P300_run-1_events_temp.tsv\n",
      "sub-003_run-2: sub-003_task-P300_run-2_events_temp.tsv\n",
      "sub-003_run-3: sub-003_task-P300_run-3_events_temp.tsv\n",
      "sub-004_run-1: sub-004_task-P300_run-1_events_temp.tsv\n",
      "sub-004_run-2: sub-004_task-P300_run-2_events_temp.tsv\n",
      "sub-004_run-3: sub-004_task-P300_run-3_events_temp.tsv\n",
      "sub-005_run-1: sub-005_task-P300_run-1_events_temp.tsv\n",
      "sub-005_run-2: sub-005_task-P300_run-2_events_temp.tsv\n",
      "sub-005_run-3: sub-005_task-P300_run-3_events_temp.tsv\n",
      "sub-006_run-1: sub-006_task-P300_run-1_events_temp.tsv\n",
      "sub-006_run-2: sub-006_task-P300_run-2_events_temp.tsv\n",
      "sub-006_run-3: sub-006_task-P300_run-3_events_temp.tsv\n",
      "sub-007_run-1: sub-007_task-P300_run-1_events_temp.tsv\n",
      "sub-007_run-2: sub-007_task-P300_run-2_events_temp.tsv\n",
      "sub-007_run-3: sub-007_task-P300_run-3_events_temp.tsv\n",
      "sub-008_run-1: sub-008_task-P300_run-1_events_temp.tsv\n",
      "sub-008_run-2: sub-008_task-P300_run-2_events_temp.tsv\n",
      "sub-008_run-3: sub-008_task-P300_run-3_events_temp.tsv\n",
      "sub-009_run-1: sub-009_task-P300_run-1_events_temp.tsv\n",
      "sub-009_run-2: sub-009_task-P300_run-2_events_temp.tsv\n",
      "sub-009_run-3: sub-009_task-P300_run-3_events_temp.tsv\n",
      "sub-010_run-1: sub-010_task-P300_run-1_events_temp.tsv\n",
      "sub-010_run-2: sub-010_task-P300_run-2_events_temp.tsv\n",
      "sub-010_run-3: sub-010_task-P300_run-3_events_temp.tsv\n",
      "sub-011_run-1: sub-011_task-P300_run-1_events_temp.tsv\n",
      "sub-011_run-2: sub-011_task-P300_run-2_events_temp.tsv\n",
      "sub-011_run-3: sub-011_task-P300_run-3_events_temp.tsv\n",
      "sub-012_run-1: sub-012_task-P300_run-1_events_temp.tsv\n",
      "sub-012_run-2: sub-012_task-P300_run-2_events_temp.tsv\n",
      "sub-012_run-3: sub-012_task-P300_run-3_events_temp.tsv\n",
      "sub-013_run-1: sub-013_task-P300_run-1_events_temp.tsv\n",
      "sub-013_run-2: sub-013_task-P300_run-2_events_temp.tsv\n",
      "sub-013_run-3: sub-013_task-P300_run-3_events_temp.tsv\n"
     ]
    }
   ],
   "source": [
    "print(f\"Summarizing {bids_root_path}...\")\n",
    "bids_dict.print_files(title=\"\\nBIDS style event files\")\n",
    "eeg_dict.print_files(title=\"\\nEEG.event style event files\")"
   ],
   "metadata": {
    "collapsed": false,
    "pycharm": {
     "name": "#%% Output a list of files for the two cases\n"
    }
   }
  },
  {
   "cell_type": "code",
   "execution_count": 3,
   "outputs": [
    {
     "name": "stdout",
     "output_type": "stream",
     "text": [
      "Key differences between EEG and BIDS events: []\n"
     ]
    }
   ],
   "source": [
    "key_diff = bids_dict.key_diffs(eeg_dict)\n",
    "print(f\"Key differences between EEG and BIDS events: {str(key_diff)}\")"
   ],
   "metadata": {
    "collapsed": false,
    "pycharm": {
     "name": "#%% Compare keys from the two dictionaries to make sure they are the same\n"
    }
   }
  },
  {
   "cell_type": "code",
   "execution_count": 4,
   "outputs": [
    {
     "name": "stdout",
     "output_type": "stream",
     "text": [
      "\n",
      "BIDS style event file columns:\n",
      "sub-001_run-1 [863 events]: ['onset', 'duration', 'sample', 'trial_type', 'response_time', 'stim_file', 'value']\n",
      "sub-001_run-2 [862 events]: ['onset', 'duration', 'sample', 'trial_type', 'response_time', 'stim_file', 'value']\n",
      "sub-001_run-3 [860 events]: ['onset', 'duration', 'sample', 'trial_type', 'response_time', 'stim_file', 'value']\n",
      "sub-002_run-1 [812 events]: ['onset', 'duration', 'sample', 'trial_type', 'response_time', 'stim_file', 'value']\n",
      "sub-002_run-2 [807 events]: ['onset', 'duration', 'sample', 'trial_type', 'response_time', 'stim_file', 'value']\n",
      "sub-002_run-3 [799 events]: ['onset', 'duration', 'sample', 'trial_type', 'response_time', 'stim_file', 'value']\n",
      "sub-003_run-1 [861 events]: ['onset', 'duration', 'sample', 'trial_type', 'response_time', 'stim_file', 'value']\n",
      "sub-003_run-2 [860 events]: ['onset', 'duration', 'sample', 'trial_type', 'response_time', 'stim_file', 'value']\n",
      "sub-003_run-3 [861 events]: ['onset', 'duration', 'sample', 'trial_type', 'response_time', 'stim_file', 'value']\n",
      "sub-004_run-1 [860 events]: ['onset', 'duration', 'sample', 'trial_type', 'response_time', 'stim_file', 'value']\n",
      "sub-004_run-2 [857 events]: ['onset', 'duration', 'sample', 'trial_type', 'response_time', 'stim_file', 'value']\n",
      "sub-004_run-3 [861 events]: ['onset', 'duration', 'sample', 'trial_type', 'response_time', 'stim_file', 'value']\n",
      "sub-005_run-1 [860 events]: ['onset', 'duration', 'sample', 'trial_type', 'response_time', 'stim_file', 'value']\n",
      "sub-005_run-2 [862 events]: ['onset', 'duration', 'sample', 'trial_type', 'response_time', 'stim_file', 'value']\n",
      "sub-005_run-3 [857 events]: ['onset', 'duration', 'sample', 'trial_type', 'response_time', 'stim_file', 'value']\n",
      "sub-006_run-1 [855 events]: ['onset', 'duration', 'sample', 'trial_type', 'response_time', 'stim_file', 'value']\n",
      "sub-006_run-2 [835 events]: ['onset', 'duration', 'sample', 'trial_type', 'response_time', 'stim_file', 'value']\n",
      "sub-006_run-3 [859 events]: ['onset', 'duration', 'sample', 'trial_type', 'response_time', 'stim_file', 'value']\n",
      "sub-007_run-1 [863 events]: ['onset', 'duration', 'sample', 'trial_type', 'response_time', 'stim_file', 'value']\n",
      "sub-007_run-2 [849 events]: ['onset', 'duration', 'sample', 'trial_type', 'response_time', 'stim_file', 'value']\n",
      "sub-007_run-3 [856 events]: ['onset', 'duration', 'sample', 'trial_type', 'response_time', 'stim_file', 'value']\n",
      "sub-008_run-1 [821 events]: ['onset', 'duration', 'sample', 'trial_type', 'response_time', 'stim_file', 'value']\n",
      "sub-008_run-2 [825 events]: ['onset', 'duration', 'sample', 'trial_type', 'response_time', 'stim_file', 'value']\n",
      "sub-008_run-3 [797 events]: ['onset', 'duration', 'sample', 'trial_type', 'response_time', 'stim_file', 'value']\n",
      "sub-009_run-1 [862 events]: ['onset', 'duration', 'sample', 'trial_type', 'response_time', 'stim_file', 'value']\n",
      "sub-009_run-2 [860 events]: ['onset', 'duration', 'sample', 'trial_type', 'response_time', 'stim_file', 'value']\n",
      "sub-009_run-3 [860 events]: ['onset', 'duration', 'sample', 'trial_type', 'response_time', 'stim_file', 'value']\n",
      "sub-010_run-1 [867 events]: ['onset', 'duration', 'sample', 'trial_type', 'response_time', 'stim_file', 'value']\n",
      "sub-010_run-2 [862 events]: ['onset', 'duration', 'sample', 'trial_type', 'response_time', 'stim_file', 'value']\n",
      "sub-010_run-3 [858 events]: ['onset', 'duration', 'sample', 'trial_type', 'response_time', 'stim_file', 'value']\n",
      "sub-011_run-1 [861 events]: ['onset', 'duration', 'sample', 'trial_type', 'response_time', 'stim_file', 'value']\n",
      "sub-011_run-2 [858 events]: ['onset', 'duration', 'sample', 'trial_type', 'response_time', 'stim_file', 'value']\n",
      "sub-011_run-3 [854 events]: ['onset', 'duration', 'sample', 'trial_type', 'response_time', 'stim_file', 'value']\n",
      "sub-012_run-1 [100 events]: ['onset', 'duration', 'sample', 'trial_type', 'response_time', 'stim_file', 'value']\n",
      "sub-012_run-2 [785 events]: ['onset', 'duration', 'sample', 'trial_type', 'response_time', 'stim_file', 'value']\n",
      "sub-012_run-3 [861 events]: ['onset', 'duration', 'sample', 'trial_type', 'response_time', 'stim_file', 'value']\n",
      "sub-013_run-1 [852 events]: ['onset', 'duration', 'sample', 'trial_type', 'response_time', 'stim_file', 'value']\n",
      "sub-013_run-2 [862 events]: ['onset', 'duration', 'sample', 'trial_type', 'response_time', 'stim_file', 'value']\n",
      "sub-013_run-3 [860 events]: ['onset', 'duration', 'sample', 'trial_type', 'response_time', 'stim_file', 'value']\n",
      "\n",
      "EEG.event style event file columns:\n",
      "sub-001_run-1 [863 events]: ['latency', 'duration', 'sample', 'type', 'trial_type', 'response_time', 'stim_file']\n",
      "sub-001_run-2 [862 events]: ['latency', 'duration', 'sample', 'type', 'trial_type', 'response_time', 'stim_file']\n",
      "sub-001_run-3 [860 events]: ['latency', 'duration', 'sample', 'type', 'trial_type', 'response_time', 'stim_file']\n",
      "sub-002_run-1 [812 events]: ['latency', 'duration', 'sample', 'type', 'trial_type', 'response_time', 'stim_file']\n",
      "sub-002_run-2 [807 events]: ['latency', 'duration', 'sample', 'type', 'trial_type', 'response_time', 'stim_file']\n",
      "sub-002_run-3 [799 events]: ['latency', 'duration', 'sample', 'type', 'trial_type', 'response_time', 'stim_file']\n",
      "sub-003_run-1 [861 events]: ['latency', 'duration', 'sample', 'type', 'trial_type', 'response_time', 'stim_file']\n",
      "sub-003_run-2 [860 events]: ['latency', 'duration', 'sample', 'type', 'trial_type', 'response_time', 'stim_file']\n",
      "sub-003_run-3 [861 events]: ['latency', 'duration', 'sample', 'type', 'trial_type', 'response_time', 'stim_file']\n",
      "sub-004_run-1 [860 events]: ['latency', 'duration', 'sample', 'type', 'trial_type', 'response_time', 'stim_file']\n",
      "sub-004_run-2 [857 events]: ['latency', 'duration', 'sample', 'type', 'trial_type', 'response_time', 'stim_file']\n",
      "sub-004_run-3 [861 events]: ['latency', 'duration', 'sample', 'type', 'trial_type', 'response_time', 'stim_file']\n",
      "sub-005_run-1 [860 events]: ['latency', 'duration', 'sample', 'type', 'trial_type', 'response_time', 'stim_file']\n",
      "sub-005_run-2 [862 events]: ['latency', 'duration', 'sample', 'type', 'trial_type', 'response_time', 'stim_file']\n",
      "sub-005_run-3 [857 events]: ['latency', 'duration', 'sample', 'type', 'trial_type', 'response_time', 'stim_file']\n",
      "sub-006_run-1 [855 events]: ['latency', 'duration', 'sample', 'type', 'trial_type', 'response_time', 'stim_file']\n",
      "sub-006_run-2 [835 events]: ['latency', 'duration', 'sample', 'type', 'trial_type', 'response_time', 'stim_file']\n",
      "sub-006_run-3 [859 events]: ['latency', 'duration', 'sample', 'type', 'trial_type', 'response_time', 'stim_file']\n",
      "sub-007_run-1 [863 events]: ['latency', 'duration', 'sample', 'type', 'trial_type', 'response_time', 'stim_file']\n",
      "sub-007_run-2 [849 events]: ['latency', 'duration', 'sample', 'type', 'trial_type', 'response_time', 'stim_file']\n",
      "sub-007_run-3 [856 events]: ['latency', 'duration', 'sample', 'type', 'trial_type', 'response_time', 'stim_file']\n",
      "sub-008_run-1 [821 events]: ['latency', 'duration', 'sample', 'type', 'trial_type', 'response_time', 'stim_file']\n",
      "sub-008_run-2 [825 events]: ['latency', 'duration', 'sample', 'type', 'trial_type', 'response_time', 'stim_file']\n",
      "sub-008_run-3 [797 events]: ['latency', 'duration', 'sample', 'type', 'trial_type', 'response_time', 'stim_file']\n",
      "sub-009_run-1 [862 events]: ['latency', 'duration', 'sample', 'type', 'trial_type', 'response_time', 'stim_file']\n",
      "sub-009_run-2 [860 events]: ['latency', 'duration', 'sample', 'type', 'trial_type', 'response_time', 'stim_file']\n",
      "sub-009_run-3 [860 events]: ['latency', 'duration', 'sample', 'type', 'trial_type', 'response_time', 'stim_file']\n",
      "sub-010_run-1 [867 events]: ['latency', 'duration', 'sample', 'type', 'trial_type', 'response_time', 'stim_file']\n",
      "sub-010_run-2 [862 events]: ['latency', 'duration', 'sample', 'type', 'trial_type', 'response_time', 'stim_file']\n",
      "sub-010_run-3 [858 events]: ['latency', 'duration', 'sample', 'type', 'trial_type', 'response_time', 'stim_file']\n",
      "sub-011_run-1 [861 events]: ['latency', 'duration', 'sample', 'type', 'trial_type', 'response_time', 'stim_file']\n",
      "sub-011_run-2 [858 events]: ['latency', 'duration', 'sample', 'type', 'trial_type', 'response_time', 'stim_file']\n",
      "sub-011_run-3 [854 events]: ['latency', 'duration', 'sample', 'type', 'trial_type', 'response_time', 'stim_file']\n",
      "sub-012_run-1 [100 events]: ['latency', 'duration', 'sample', 'type', 'trial_type', 'response_time', 'stim_file']\n",
      "sub-012_run-2 [785 events]: ['latency', 'duration', 'sample', 'type', 'trial_type', 'response_time', 'stim_file']\n",
      "sub-012_run-3 [861 events]: ['latency', 'duration', 'sample', 'type', 'trial_type', 'response_time', 'stim_file']\n",
      "sub-013_run-1 [852 events]: ['latency', 'duration', 'sample', 'type', 'trial_type', 'response_time', 'stim_file']\n",
      "sub-013_run-2 [862 events]: ['latency', 'duration', 'sample', 'type', 'trial_type', 'response_time', 'stim_file']\n",
      "sub-013_run-3 [860 events]: ['latency', 'duration', 'sample', 'type', 'trial_type', 'response_time', 'stim_file']\n"
     ]
    }
   ],
   "source": [
    "print(f\"\\nBIDS style event file columns:\")\n",
    "for key, file, rowcount, columns in bids_dict.iter_event_info():\n",
    "    print(f\"{key} [{rowcount} events]: {str(columns)}\")\n",
    "\n",
    "print(f\"\\nEEG.event style event file columns:\")\n",
    "for key, file, rowcount, columns in eeg_dict.iter_event_info():\n",
    "    print(f\"{key} [{rowcount} events]: {str(columns)}\")"
   ],
   "metadata": {
    "collapsed": false,
    "pycharm": {
     "name": "#%% Output the column names for each type of event file\n"
    }
   }
  },
  {
   "cell_type": "code",
   "execution_count": 5,
   "outputs": [
    {
     "name": "stdout",
     "output_type": "stream",
     "text": [
      "The BIDS event files and EEG.event structures have the same number of events\n"
     ]
    }
   ],
   "source": [
    "count_diffs = bids_dict.event_count_diffs(eeg_dict)\n",
    "if count_diffs:\n",
    "    print(\"The number of BIDS events and EEG.event events differ for the following:\")\n",
    "    for item in count_diffs:\n",
    "        print(f\"{item(1)}: {item(2)} BIDS events and {item(3)} EEG.events\")\n",
    "else:\n",
    "    print(\"The BIDS event files and EEG.event structures have the same number of events\")"
   ],
   "metadata": {
    "collapsed": false,
    "pycharm": {
     "name": "#%% Output keys for files in which the BIDS and EEG.events have different numbers of events\n"
    }
   }
  },
  {
   "cell_type": "code",
   "execution_count": 6,
   "outputs": [
    {
     "name": "stdout",
     "output_type": "stream",
     "text": [
      "\n",
      "BIDS events summary:\n",
      "Summary for column dictionary :\n",
      "  Categorical columns (3):\n",
      "    stim_file (1 distinct values):\n",
      "      n/a: 32364\n",
      "    trial_type (4 distinct values):\n",
      "      STATUS: 2\n",
      "      n/a: 139\n",
      "      response: 3771\n",
      "      stimulus: 28452\n",
      "    value (9 distinct values):\n",
      "      condition 5: 2\n",
      "      ignore: 139\n",
      "      noise: 4243\n",
      "      noise_with_reponse: 21\n",
      "      oddball: 586\n",
      "      oddball_with_reponse: 3667\n",
      "      response: 3771\n",
      "      standard: 19855\n",
      "      standard_with_reponse: 80\n",
      "  Value columns (0):\n",
      "\n",
      "EEG.event events summary:\n",
      "Summary for column dictionary :\n",
      "  Categorical columns (3):\n",
      "    stim_file (1 distinct values):\n",
      "      NaN: 32364\n",
      "    trial_type (4 distinct values):\n",
      "      STATUS: 2\n",
      "      n/a: 139\n",
      "      response: 3771\n",
      "      stimulus: 28452\n",
      "    type (9 distinct values):\n",
      "      condition 5: 2\n",
      "      ignore: 139\n",
      "      noise: 4243\n",
      "      noise_with_reponse: 21\n",
      "      oddball: 586\n",
      "      oddball_with_reponse: 3667\n",
      "      response: 3771\n",
      "      standard: 19855\n",
      "      standard_with_reponse: 80\n",
      "  Value columns (0):\n"
     ]
    }
   ],
   "source": [
    "from hed.tools import EventValueSummary\n",
    "print('\\nBIDS events summary:')\n",
    "bids_dicts_all, bids_dicts =  EventValueSummary.make_combined_dicts(bids_dict, skip_cols=bids_skip_columns)\n",
    "bids_dicts_all.print()\n",
    "\n",
    "print('\\nEEG.event events summary:')\n",
    "eeg_dicts_all, eeg_dicts =  EventValueSummary.make_combined_dicts(eeg_dict, skip_cols=eeg_skip_columns)\n",
    "eeg_dicts_all.print()"
   ],
   "metadata": {
    "collapsed": false,
    "pycharm": {
     "name": "#%% Create summary dictionaries of the original BIDS events files and output column names\n"
    }
   }
  }
 ],
 "metadata": {
  "kernelspec": {
   "display_name": "Python 3",
   "language": "python",
   "name": "python3"
  },
  "language_info": {
   "codemirror_mode": {
    "name": "ipython",
    "version": 2
   },
   "file_extension": ".py",
   "mimetype": "text/x-python",
   "name": "python",
   "nbconvert_exporter": "python",
   "pygments_lexer": "ipython2",
   "version": "2.7.6"
  }
 },
 "nbformat": 4,
 "nbformat_minor": 0
}