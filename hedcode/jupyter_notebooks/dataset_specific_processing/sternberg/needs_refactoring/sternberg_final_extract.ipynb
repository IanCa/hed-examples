{
 "cells": [
  {
   "cell_type": "markdown",
   "metadata": {
    "collapsed": true,
    "pycharm": {
     "name": "#%% md\n"
    }
   },
   "source": [
    "## Sternberg extract a spreadsheet with the tag values in it.\n"
   ]
  },
  {
   "cell_type": "code",
   "execution_count": 2,
   "outputs": [
    {
     "name": "stdout",
     "output_type": "stream",
     "text": [
      "Writing the extracted values to G:/Sternberg/SternbergInfo/Sternberg_extracted.tsv\n"
     ]
    }
   ],
   "source": [
    "import json\n",
    "from hed.util import get_file_list\n",
    "from hed.tools import EventValueSummary, hed_to_df\n",
    "\n",
    "info_path = 'G:/Sternberg/SternbergInfo'\n",
    "event_files = get_file_list(info_path, extensions=[\".tsv\"], name_suffix=\"_events\")\n",
    "extracted_file = 'G:/Sternberg/SternbergInfo/Sternberg_extracted.tsv'\n",
    "value_cols = ['duration', 'letter', 'trial']\n",
    "skip_cols = ['onset', 'sample',\t'value']\n",
    "col_summary = EventValueSummary(value_cols= value_cols, skip_cols=skip_cols)\n",
    "col_summary.update(event_files)\n",
    "sidecar_template = col_summary.extract_sidecar_template()\n",
    "str_json = json.dumps(sidecar_template, indent=4)\n",
    "print(str_json)\n",
    "df = hed_to_df(sidecar_template)\n",
    "df.to_csv(extracted_file, sep='\\t', index=False)"
   ],
   "metadata": {
    "collapsed": false,
    "pycharm": {
     "name": "#%% Copy the event files to a separate directory\n"
    }
   }
  }
 ],
 "metadata": {
  "kernelspec": {
   "display_name": "Python 3",
   "language": "python",
   "name": "python3"
  },
  "language_info": {
   "codemirror_mode": {
    "name": "ipython",
    "version": 2
   },
   "file_extension": ".py",
   "mimetype": "text/x-python",
   "name": "python",
   "nbconvert_exporter": "python",
   "pygments_lexer": "ipython2",
   "version": "2.7.6"
  }
 },
 "nbformat": 4,
 "nbformat_minor": 0
}