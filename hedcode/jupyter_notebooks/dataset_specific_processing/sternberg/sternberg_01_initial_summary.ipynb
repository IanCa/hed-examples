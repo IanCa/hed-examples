{
 "cells": [
  {
   "cell_type": "code",
   "execution_count": null,
   "outputs": [],
   "source": [
    "import os\n",
    "from hed.tools import BidsTsvDictionary, BidsTsvSummary, HedLogger, report_tsv_diffs\n",
    "from hed.util import get_file_list\n",
    "\n",
    "# Variables to set for the specific dataset\n",
    "bids_root_path = 'G:/Sternberg/SternbergWorking/'\n",
    "exclude_dirs = ['code', 'stimuli']\n",
    "entities = ('sub', 'ses', 'run')\n",
    "bids_skip_columns = ['onset', 'duration', 'sample', 'response_time', 'trial_type', 'stim_file']\n",
    "eeg_skip_columns = ['latency', 'urevent', 'ReqTime', 'ReqDur', 'init_index', 'init_time',\n",
    "                    'event_code', 'cond_code', 'sample_offset', 'duration', 'TTime']\n",
    "log_file_name = 'sternberg_01_initial_summary_log.json'\n",
    "\n",
    "# Construct the event file dictionaries for the BIDS and for EEG.event files\n",
    "files_bids = get_file_list(bids_root_path, extensions=[\".tsv\"], name_suffix=\"_events\", exclude_dirs=exclude_dirs)\n",
    "bids_dict = BidsTsvDictionary(\"Bids event files\", files_bids, entities=entities)\n",
    "files_eeg = get_file_list(bids_root_path, extensions=[\".tsv\"], name_suffix=\"_events_temp\", exclude_dirs=exclude_dirs)\n",
    "eeg_dict = BidsTsvDictionary(\"EEG event files\", files_eeg, entities=entities)\n",
    "\n",
    "# Set logger and Output a list of files for the two cases\n",
    "logger = HedLogger()\n",
    "report_tsv_diffs(bids_dict, eeg_dict, logger)\n",
    "\n",
    "# Create summary dictionaries of the original BIDS events files and output column names\n",
    "bids_sum_all, bids_sum =  BidsTsvSummary.make_combined_dicts(bids_dict, skip_cols=bids_skip_columns)\n",
    "bids_sum_all.print('\\nBIDS events summary')\n",
    "\n",
    "eeg_sum_all, eeg_sum =  BidsTsvSummary.make_combined_dicts(eeg_dict, skip_cols=eeg_skip_columns)\n",
    "eeg_sum_all.print('\\nEEG.event events summary')\n",
    "\n",
    "# Output and save the log\n",
    "logger.print_log()\n",
    "save_path = os.path.join(bids_root_path, 'code')\n",
    "logger.save_log(save_path, log_name=log_file_name)\n",
    "\n",
    "# Output errors\n",
    "print(\"\\nERROR Summary:\")\n",
    "logger.print_log(level=\"ERROR\")"
   ],
   "metadata": {
    "collapsed": false,
    "pycharm": {
     "name": "#%% Create dictionaries for the BIDS events files and the EEG.event files\n"
    }
   }
  }
 ],
 "metadata": {
  "kernelspec": {
   "display_name": "Python 3",
   "language": "python",
   "name": "python3"
  },
  "language_info": {
   "codemirror_mode": {
    "name": "ipython",
    "version": 2
   },
   "file_extension": ".py",
   "mimetype": "text/x-python",
   "name": "python",
   "nbconvert_exporter": "python",
   "pygments_lexer": "ipython2",
   "version": "2.7.6"
  },
  "pycharm": {
   "stem_cell": {
    "cell_type": "raw",
    "source": [
     "## Initial summary of event files\n",
     "\n",
     "**Dataset**: Modified Sternberg Working Memory Task [headit Sternberg](https://headit.ucsd.edu/studies/e5e644be-a236-11e2-b5e7-0050563f2612).\n",
     "\n",
     "This script does a preliminary summary of the contents of the events files.\n",
     "The summary includes printing out the column names of each event file so\n",
     "that they can be manually checked for differences.\n",
     "\n",
     "The script assumes that the data is in BIDS format and that each BIDS events\n",
     "file of the form `_events.tsv` has a corresponding events file with\n",
     "suffix `_events_temp.tsv` that was previously dumped from the `EEG.set` files.\n",
     "\n",
     "Keys are specified by a `entities` tuple lists the BIDS entity names\n",
     "to include in the key.\n",
     "BIDS base file names are constructed of entity *name*-*value* pairs separated\n",
     "by underbars and followed by an ending *_suffix*.\n",
     "\n",
     "For a file name `sub-001_ses-3_task-target_run-01_events.tsv`,\n",
     "the tuple ('sub', 'task') gives a key of `sub-001_task-target`,\n",
     "while the tuple ('sub', 'ses', 'run) gives a key of `sub-001_ses-3_run-01`.\n",
     "The use of dictionaries of file names with such keys makes it\n",
     "easier to associate related files in the BIDS naming structure.\n",
     "\n",
     "For a file name `sub-001_ses-3_task-target_run-01_events.tsv`,\n",
     "the tuple (0, 2) gives a key of `sub-001_task-target`,\n",
     "while the tuple (0, 3) gives a key of `sub-001_run-01`.\n",
     "The use of dictionaries of file names with such keys makes it\n",
     "easier to associate related files in the BIDS naming structure.\n",
     "\n",
     "The setup requires the setting of the following variables for your dataset:\n",
     "\n",
     "| Variable | Purpose |\n",
     "| -------- | ------- |\n",
     "| bids_root_path | Full path to root directory of dataset.|\n",
     "| exclude_dirs | List of directories to exclude when constructing file lists. |\n",
     "| entities  | Tuple of entity names used to construct a unique keys representing filenames. <br>(See [Dictionaries of filenames](https://hed-examples.readthedocs.io/en/latest/HedInPython.html#dictionaries-of-filenames-anchor) for examples of how to choose the keys.)|\n",
     "| bids_skip  |  List of column names in the `events.tsv` files to skip in the analysis. |\n",
     "| eeg_skip  | List of column names in the `events_temp.tsv` files form EEG.events to skip in analysis.|\n",
     "| log_file_name | Name of the log file (saved in the `code` subdirectory). |\n"
    ],
    "metadata": {
     "collapsed": false
    }
   }
  }
 },
 "nbformat": 4,
 "nbformat_minor": 0
}