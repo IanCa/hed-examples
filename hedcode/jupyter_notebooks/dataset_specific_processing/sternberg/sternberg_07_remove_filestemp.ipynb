{
 "cells": [
  {
   "cell_type": "markdown",
   "metadata": {
    "collapsed": true,
    "pycharm": {
     "name": "#%% md\n"
    }
   },
   "source": [
    "## Remove the extra files\n",
    "\n",
    "This script assumes that you have copied the SternbergWorking directory into\n",
    "the SternbergWorkingPhaseTwo directory.\n",
    "\n",
    "This script removes `_events.tsv` and renames `_eventstemp3.tsv` to `_events.tsv`.\n",
    "The script then removes `_eventstemp.tsv`, `_eventstemp1.tsv`, and `_eventstemp2.tsv`,\n"
   ]
  },
  {
   "cell_type": "code",
   "execution_count": 1,
   "outputs": [],
   "source": [
    "import os\n",
    "from hed.util import get_file_list\n",
    "\n",
    "# Variables to set for the specific dataset\n",
    "bids_root_path = 'G:\\Sternberg\\SternbergWorking'\n",
    "exclude_dirs = ['sourcedata', 'stimuli', 'code']\n",
    "entities = ('sub', 'ses', 'run')\n",
    "\n",
    "#log_file_name = 'sternberg_07_remove_files_log.json'\n",
    "\n",
    "bids_files = get_file_list(bids_root_path, extensions=[\".tsv\"], name_suffix=\"_events\", exclude_dirs=exclude_dirs)\n",
    "\n",
    "for file in bids_files:\n",
    "    filename = file[:-4] + \"temp1.tsv\"\n",
    "    if os.path.isfile(filename):\n",
    "        os.remove(filename)\n",
    "    filename = file[:-4] + \"temp2.tsv\"\n",
    "    if os.path.isfile(filename):\n",
    "        os.remove(filename)\n",
    "    filename = file[:-4] + \"temp3.tsv\"\n",
    "    if os.path.isfile(filename):\n",
    "        os.remove(filename)\n",
    "\n",
    "# Now make sure there aren't any unexpected leftovers\n",
    "\n",
    "temp1_files = get_file_list(bids_root_path, extensions=[\".tsv\"], name_suffix=\"_eventstemp1\", exclude_dirs=exclude_dirs)\n",
    "if temp1_files:\n",
    "    for file in temp1_files:\n",
    "        print(f\"{os.path.basename(file)} is unexpectedly leftover\")\n",
    "\n",
    "temp2_files = get_file_list(bids_root_path, extensions=[\".tsv\"], name_suffix=\"_eventstemp2\", exclude_dirs=exclude_dirs)\n",
    "if temp2_files:\n",
    "    for file in temp2_files:\n",
    "        print(f\"{os.path.basename(file)} is unexpectedly leftover\")\n",
    "\n",
    "temp3_files = get_file_list(bids_root_path, extensions=[\".tsv\"], name_suffix=\"_eventstemp3\", exclude_dirs=exclude_dirs)\n",
    "if temp3_files:\n",
    "    for file in temp3_files:\n",
    "        print(f\"{os.path.basename(file)} is unexpectedly leftover\")"
   ],
   "metadata": {
    "collapsed": false,
    "pycharm": {
     "name": "#%% Run the script\n"
    }
   }
  }
 ],
 "metadata": {
  "kernelspec": {
   "display_name": "Python 3",
   "language": "python",
   "name": "python3"
  },
  "language_info": {
   "codemirror_mode": {
    "name": "ipython",
    "version": 2
   },
   "file_extension": ".py",
   "mimetype": "text/x-python",
   "name": "python",
   "nbconvert_exporter": "python",
   "pygments_lexer": "ipython2",
   "version": "2.7.6"
  }
 },
 "nbformat": 4,
 "nbformat_minor": 0
}