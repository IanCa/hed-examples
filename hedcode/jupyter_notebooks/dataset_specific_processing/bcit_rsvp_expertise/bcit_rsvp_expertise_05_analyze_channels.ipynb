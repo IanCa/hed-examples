{
 "cells": [
  {
   "cell_type": "markdown",
   "metadata": {
    "collapsed": true,
    "pycharm": {
     "name": "#%% md\n"
    }
   },
   "source": [
    "## Analyze the channels for the RSVP Expertise\n",
    "\n",
    "This notebook assumes that a JSON dictionary called `originalChannels.json`\n",
    "has been created in the `/code` subdirectory of the dataset."
   ]
  },
  {
   "cell_type": "code",
   "execution_count": 1,
   "outputs": [
    {
     "name": "stdout",
     "output_type": "stream",
     "text": [
      "\n",
      "\n",
      "Log output:\n",
      "rsvp_expertise_05_analyze_channels_log: Level None\n",
      "sub-01_ses-01_task-RSVPObjectRestBlink_run-1_eeg.set:\n",
      "\t[ This key has 59 files with the same 262 channels]\n",
      "\t[ The channels are ['A1', 'A2', 'A3', 'A4', 'A5', 'A6', 'A7', 'A8', 'A9', 'A10', 'A11', 'A12', 'A13', 'A14', 'A15', 'A16', 'A17', 'A18', 'A19', 'A20', 'A21', 'A22', 'A23', 'A24', 'A25', 'A26', 'A27', 'A28', 'A29', 'A30', 'A31', 'A32', 'B1', 'B2', 'B3', 'B4', 'B5', 'B6', 'B7', 'B8', 'B9', 'B10', 'B11', 'B12', 'B13', 'B14', 'B15', 'B16', 'B17', 'B18', 'B19', 'B20', 'B21', 'B22', 'B23', 'B24', 'B25', 'B26', 'B27', 'B28', 'B29', 'B30', 'B31', 'B32', 'C1', 'C2', 'C3', 'C4', 'C5', 'C6', 'C7', 'C8', 'C9', 'C10', 'C11', 'C12', 'C13', 'C14', 'C15', 'C16', 'C17', 'C18', 'C19', 'C20', 'C21', 'C22', 'C23', 'C24', 'C25', 'C26', 'C27', 'C28', 'C29', 'C30', 'C31', 'C32', 'D1', 'D2', 'D3', 'D4', 'D5', 'D6', 'D7', 'D8', 'D9', 'D10', 'D11', 'D12', 'D13', 'D14', 'D15', 'D16', 'D17', 'D18', 'D19', 'D20', 'D21', 'D22', 'D23', 'D24', 'D25', 'D26', 'D27', 'D28', 'D29', 'D30', 'D31', 'D32', 'E1', 'E2', 'E3', 'E4', 'E5', 'E6', 'E7', 'E8', 'E9', 'E10', 'E11', 'E12', 'E13', 'E14', 'E15', 'E16', 'E17', 'E18', 'E19', 'E20', 'E21', 'E22', 'E23', 'E24', 'E25', 'E26', 'E27', 'E28', 'E29', 'E30', 'E31', 'E32', 'F1', 'F2', 'F3', 'F4', 'F5', 'F6', 'F7', 'F8', 'F9', 'F10', 'F11', 'F12', 'F13', 'F14', 'F15', 'F16', 'F17', 'F18', 'F19', 'F20', 'F21', 'F22', 'F23', 'F24', 'F25', 'F26', 'F27', 'F28', 'F29', 'F30', 'F31', 'F32', 'G1', 'G2', 'G3', 'G4', 'G5', 'G6', 'G7', 'G8', 'G9', 'G10', 'G11', 'G12', 'G13', 'G14', 'G15', 'G16', 'G17', 'G18', 'G19', 'G20', 'G21', 'G22', 'G23', 'G24', 'G25', 'G26', 'G27', 'G28', 'G29', 'G30', 'G31', 'G32', 'H1', 'H2', 'H3', 'H4', 'H5', 'H6', 'H7', 'H8', 'H9', 'H10', 'H11', 'H12', 'H13', 'H14', 'H15', 'H16', 'H17', 'H18', 'H19', 'H20', 'H21', 'H22', 'H23', 'H24', 'H25', 'H26', 'H27', 'H28', 'H29', 'H30', 'H31', 'H32', 'EXG1', 'EXG2', 'EXG3', 'EXG4', 'EXG5', 'EXG6']]\n",
      "Overall:\n",
      "\t[ Dataset has 262 unique channels]\n",
      "\t[ {'F24', 'H10', 'E10', 'C7', 'A11', 'A13', 'E9', 'G20', 'E29', 'C1', 'G29', 'EXG4', 'A2', 'C28', 'B29', 'D26', 'B30', 'B20', 'H15', 'D1', 'D13', 'H23', 'B23', 'A14', 'C25', 'E28', 'A24', 'D28', 'G27', 'G6', 'G10', 'H5', 'H6', 'B15', 'E15', 'F1', 'A5', 'C18', 'E7', 'C9', 'H13', 'B24', 'A15', 'F4', 'G17', 'F29', 'B3', 'C31', 'EXG3', 'B9', 'B27', 'H8', 'E1', 'F6', 'G7', 'G14', 'EXG5', 'C22', 'B31', 'A6', 'G31', 'B21', 'E27', 'B13', 'C3', 'A7', 'E5', 'F12', 'C14', 'E26', 'H9', 'H29', 'C8', 'E18', 'C32', 'G9', 'A4', 'B16', 'B4', 'B8', 'F14', 'F26', 'B32', 'D23', 'H4', 'B6', 'A18', 'E32', 'H24', 'A26', 'B10', 'C16', 'H14', 'H25', 'A23', 'B28', 'H16', 'D21', 'F28', 'G13', 'E11', 'H27', 'H30', 'C15', 'G21', 'A20', 'A29', 'E2', 'C6', 'B25', 'D3', 'D19', 'E22', 'G26', 'H22', 'D10', 'D9', 'F7', 'C17', 'F17', 'F8', 'F15', 'C19', 'G11', 'E31', 'G24', 'A12', 'G8', 'G16', 'B2', 'D32', 'E17', 'D22', 'G23', 'D2', 'G28', 'D16', 'A31', 'F32', 'A9', 'A27', 'H1', 'B12', 'EXG6', 'D27', 'C26', 'F30', 'D24', 'F13', 'F11', 'A3', 'E12', 'C4', 'G30', 'C23', 'E24', 'D30', 'A30', 'F21', 'C29', 'H7', 'D14', 'H19', 'H12', 'D17', 'G5', 'E4', 'B7', 'H18', 'B1', 'A8', 'F5', 'F31', 'A10', 'E25', 'H17', 'F16', 'A32', 'F3', 'E3', 'F27', 'H31', 'E20', 'A17', 'D29', 'E6', 'B14', 'E21', 'D5', 'F23', 'F19', 'C20', 'H20', 'EXG2', 'H11', 'D18', 'F20', 'D12', 'E23', 'C24', 'B5', 'C30', 'D11', 'A22', 'D4', 'C13', 'E16', 'G3', 'G4', 'A19', 'E13', 'A1', 'G1', 'H2', 'A25', 'F25', 'D6', 'H21', 'H28', 'G19', 'C5', 'A28', 'G18', 'H32', 'F2', 'C11', 'E14', 'B11', 'G32', 'G25', 'B19', 'C2', 'C10', 'C12', 'G12', 'G22', 'F22', 'F18', 'D7', 'EXG1', 'H3', 'D15', 'B18', 'B22', 'B26', 'E19', 'E8', 'B17', 'C21', 'G2', 'F10', 'F9', 'D8', 'H26', 'D25', 'A21', 'C27', 'D31', 'E30', 'G15', 'A16', 'D20'}]\n",
      "\n",
      "\n",
      "ERROR Summary:\n",
      "rsvp_expertise_05_analyze_channels_log: Level ERROR\n",
      "sub-01_ses-01_task-RSVPObjectRestBlink_run-1_eeg.set:\n",
      "Overall:\n"
     ]
    }
   ],
   "source": [
    "import os\n",
    "import datetime\n",
    "import json\n",
    "from hed.tools import HedLogger\n",
    "from hed.util import get_file_list\n",
    "\n",
    "# Variables to set for the specific dataset\n",
    "bids_root_path = 's:/bcit/RSVPExpertiseWorkingPhaseTwo'\n",
    "exclude_dirs = ['sourcedata', 'stimuli', 'code']\n",
    "entities = ('sub', 'ses', 'run')\n",
    "log_name = 'rsvp_expertise_05_analyze_channels_log'\n",
    "channel_file = os.path.realpath(os.path.join(bids_root_path, \"code/channelsOriginal.json\"))\n",
    "\n",
    "# Set up the logger\n",
    "log_file_name = f\"code/curation_logs/{log_name}.txt\"\n",
    "logger = HedLogger(name=log_name)\n",
    "\n",
    "# Load the channels file\n",
    "with open(channel_file, 'r') as fp:\n",
    "    channel_info = json.load(fp)\n",
    "\n",
    "# Make the file list and dictionary for _events\n",
    "eeg_files = get_file_list(bids_root_path, extensions=[\".set\"], name_suffix=\"_eeg\", exclude_dirs=exclude_dirs)\n",
    "\n",
    "# Create the dictionaries of channels\n",
    "key_list = list(channel_info.keys())\n",
    "unique_dict = {}\n",
    "name_dict = {}\n",
    "for file_key, item in channel_info.items():\n",
    "    search_key = None\n",
    "    for skey in name_dict.keys():\n",
    "        if item == channel_info[skey]:\n",
    "            search_key = skey\n",
    "            break\n",
    "    if search_key:\n",
    "        search_values = name_dict[search_key]\n",
    "        name_dict[search_key].append(file_key)\n",
    "    else:\n",
    "        name_dict[file_key] = [file_key]\n",
    "\n",
    "# Now check the order of the elements in the list:\n",
    "all_channels = set\n",
    "for file_key, file_list in name_dict.items():\n",
    "    logger.add(file_key, f\"This key has {len(file_list)} files with the same {len(channel_info[file_key])} channels\")\n",
    "    logger.add(file_key, f\"The channels are {str(channel_info[file_key])}\")\n",
    "\n",
    "\n",
    "key_list = list(name_dict.keys())\n",
    "union_channels = set()\n",
    "inter_channels = set(channel_info[key_list[0]])\n",
    "for file_key in key_list:\n",
    "    union_channels = union_channels.union(set(channel_info[file_key]))\n",
    "    inter_channels = inter_channels.intersection(set(channel_info[file_key]))\n",
    "logger.add(\"Overall\", f\"Dataset has {len(union_channels)} unique channels\")\n",
    "logger.add(\"Overall\", f\"{str(union_channels)}\")\n",
    "\n",
    "# Output and save the log\n",
    "log_string = \"\\n\\nLog output:\\n\" + logger.get_log_string()\n",
    "error_string = \"\\n\\nERROR Summary:\\n\" + logger.get_log_string(level=\"ERROR\")\n",
    "print(log_string)\n",
    "print(error_string)\n",
    "save_path = os.path.join(bids_root_path, log_file_name)\n",
    "with open(save_path, \"w\") as fp:\n",
    "    fp.write(f\"{log_file_name} {datetime.datetime.now()}\\n\")\n",
    "    fp.write(log_string)\n",
    "    fp.write(error_string)"
   ],
   "metadata": {
    "collapsed": false,
    "pycharm": {
     "name": "#%% Create the template for the dataset\n"
    }
   }
  }
 ],
 "metadata": {
  "kernelspec": {
   "display_name": "Python 3",
   "language": "python",
   "name": "python3"
  },
  "language_info": {
   "codemirror_mode": {
    "name": "ipython",
    "version": 2
   },
   "file_extension": ".py",
   "mimetype": "text/x-python",
   "name": "python",
   "nbconvert_exporter": "python",
   "pygments_lexer": "ipython2",
   "version": "2.7.6"
  }
 },
 "nbformat": 4,
 "nbformat_minor": 0
}