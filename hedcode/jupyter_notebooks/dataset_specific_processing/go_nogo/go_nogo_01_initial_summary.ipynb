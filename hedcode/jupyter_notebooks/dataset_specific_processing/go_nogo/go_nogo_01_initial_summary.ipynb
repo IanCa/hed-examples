{
 "cells": [
  {
   "cell_type": "markdown",
   "metadata": {
    "collapsed": true,
    "pycharm": {
     "name": "#%% md\n"
    }
   },
   "source": [
    "## Initial summary of event files\n",
    "\n",
    "**Dataset**: Go-nogo categorization and detection task v1.2.0 [openNeuro ds002680](https://openneuro.org/datasets/ds002680/versions/1.2.0).\n",
    "\n",
    "This script does a preliminary summary of the contents of the events files.\n",
    "The summary includes printing out the column names of each event file so\n",
    "that they can be manually checked for differences.\n",
    "\n",
    "The script assumes that the data is in BIDS format and that each BIDS events\n",
    "file of the form `_events.tsv` has a corresponding events file with\n",
    "suffix `_events_temp.tsv` that was previously dumped from the `EEG.set` files.\n",
    "\n",
    "In order to compare the events coming from the BIDS events files and those\n",
    "from the EEG.set files, the script creates dictionaries of `key` to full path\n",
    "for each type of file.  The `key` is of the form `sub-xxx_run-y` which\n",
    "uniquely specify each event file in the dataset. If a dataset contains\n",
    "multiple sessions for each subject, the `key` should include additional\n",
    "parts of the file name to uniquely specify each subject.\n",
    "\n",
    "Keys are specified by a `entities` tuple lists the BIDS entity names\n",
    "to include in the key.\n",
    "BIDS base file names are constructed of entity *name*-*value* pairs separated\n",
    "by underbars and followed by an ending *_suffix*.\n",
    "\n",
    "For a file name `sub-001_ses-3_task-target_run-01_events.tsv`,\n",
    "the tuple ('sub', 'task') gives a key of `sub-001_task-target`,\n",
    "while the tuple ('sub', 'ses', 'run) gives a key of `sub-001_ses-3_run-01`.\n",
    "The use of dictionaries of file names with such keys makes it\n",
    "easier to associate related files in the BIDS naming structure.\n",
    "\n",
    "The setup requires the setting of the following variables for your dataset:\n",
    "\n",
    "| Variable | Purpose |\n",
    "| -------- | ------- |\n",
    "| bids_root_path | Full path to root directory of dataset.|\n",
    "| exclude_dirs | List of directories to exclude when constructing file lists. |\n",
    "| entities  | Tuple of entity names used to construct a unique keys representing filenames. <br>(See [Dictionaries of filenames](https://hed-examples.readthedocs.io/en/latest/HedInPython.html#dictionaries-of-filenames-anchor) for examples of how to choose the keys.)|\n",
    "| bids_skip_columns  |  List of column names in the `events.tsv` files to skip in the analysis. |\n",
    "| eeg_skip_columns  | List of column names in the `events_temp.tsv` files form EEG.events to skip in analysis.|"
   ]
  },
  {
   "cell_type": "code",
   "execution_count": 1,
   "outputs": [
    {
     "ename": "HedFileError",
     "evalue": "('BadKeyValue', 'The piece events is not in key-value form', '')",
     "output_type": "error",
     "traceback": [
      "\u001B[1;31m---------------------------------------------------------------------------\u001B[0m",
      "\u001B[1;31mHedFileError\u001B[0m                              Traceback (most recent call last)",
      "\u001B[1;32m~\\AppData\\Local\\Temp/ipykernel_26508/1780064974.py\u001B[0m in \u001B[0;36m<module>\u001B[1;34m\u001B[0m\n\u001B[0;32m     20\u001B[0m event_files_eeg = get_file_list(bids_root_path, extensions=[\".tsv\"], name_suffix=\"_events_temp\",\n\u001B[0;32m     21\u001B[0m                                 exclude_dirs=exclude_dirs)\n\u001B[1;32m---> 22\u001B[1;33m \u001B[0meeg_dict\u001B[0m \u001B[1;33m=\u001B[0m \u001B[0mBidsTabularDictionary\u001B[0m\u001B[1;33m(\u001B[0m\u001B[1;34m\"Go nogo eeg\"\u001B[0m\u001B[1;33m,\u001B[0m \u001B[0mevent_files_eeg\u001B[0m\u001B[1;33m,\u001B[0m \u001B[0mentities\u001B[0m\u001B[1;33m=\u001B[0m\u001B[0mentities\u001B[0m\u001B[1;33m)\u001B[0m\u001B[1;33m\u001B[0m\u001B[1;33m\u001B[0m\u001B[0m\n\u001B[0m\u001B[0;32m     23\u001B[0m \u001B[1;33m\u001B[0m\u001B[0m\n\u001B[0;32m     24\u001B[0m \u001B[1;33m\u001B[0m\u001B[0m\n",
      "\u001B[1;32mD:\\Research\\HED\\hed-examples\\venv\\lib\\site-packages\\hed\\tools\\bids\\bids_tabular_dictionary.py\u001B[0m in \u001B[0;36m__init__\u001B[1;34m(self, collection_name, files, entities)\u001B[0m\n\u001B[0;32m     28\u001B[0m         \"\"\"\n\u001B[0;32m     29\u001B[0m \u001B[1;33m\u001B[0m\u001B[0m\n\u001B[1;32m---> 30\u001B[1;33m         \u001B[0msuper\u001B[0m\u001B[1;33m(\u001B[0m\u001B[1;33m)\u001B[0m\u001B[1;33m.\u001B[0m\u001B[0m__init__\u001B[0m\u001B[1;33m(\u001B[0m\u001B[0mcollection_name\u001B[0m\u001B[1;33m,\u001B[0m \u001B[0mfiles\u001B[0m\u001B[1;33m,\u001B[0m \u001B[0mentities\u001B[0m\u001B[1;33m=\u001B[0m\u001B[0mentities\u001B[0m\u001B[1;33m)\u001B[0m\u001B[1;33m\u001B[0m\u001B[1;33m\u001B[0m\u001B[0m\n\u001B[0m\u001B[0;32m     31\u001B[0m         \u001B[0mself\u001B[0m\u001B[1;33m.\u001B[0m\u001B[0mcolumn_dict\u001B[0m \u001B[1;33m=\u001B[0m \u001B[1;33m{\u001B[0m\u001B[1;33m}\u001B[0m\u001B[1;33m\u001B[0m\u001B[1;33m\u001B[0m\u001B[0m\n\u001B[0;32m     32\u001B[0m         \u001B[0mself\u001B[0m\u001B[1;33m.\u001B[0m\u001B[0mrowcount_dict\u001B[0m \u001B[1;33m=\u001B[0m \u001B[1;33m{\u001B[0m\u001B[1;33m}\u001B[0m\u001B[1;33m\u001B[0m\u001B[1;33m\u001B[0m\u001B[0m\n",
      "\u001B[1;32mD:\\Research\\HED\\hed-examples\\venv\\lib\\site-packages\\hed\\tools\\bids\\bids_file_dictionary.py\u001B[0m in \u001B[0;36m__init__\u001B[1;34m(self, collection_name, files, entities)\u001B[0m\n\u001B[0;32m     31\u001B[0m         \u001B[0msuper\u001B[0m\u001B[1;33m(\u001B[0m\u001B[1;33m)\u001B[0m\u001B[1;33m.\u001B[0m\u001B[0m__init__\u001B[0m\u001B[1;33m(\u001B[0m\u001B[0mcollection_name\u001B[0m\u001B[1;33m,\u001B[0m \u001B[1;32mNone\u001B[0m\u001B[1;33m,\u001B[0m \u001B[1;32mNone\u001B[0m\u001B[1;33m,\u001B[0m \u001B[0mseparator\u001B[0m\u001B[1;33m=\u001B[0m\u001B[1;34m'_'\u001B[0m\u001B[1;33m)\u001B[0m\u001B[1;33m\u001B[0m\u001B[1;33m\u001B[0m\u001B[0m\n\u001B[0;32m     32\u001B[0m         \u001B[0mself\u001B[0m\u001B[1;33m.\u001B[0m\u001B[0mentities\u001B[0m \u001B[1;33m=\u001B[0m \u001B[0mentities\u001B[0m\u001B[1;33m\u001B[0m\u001B[1;33m\u001B[0m\u001B[0m\n\u001B[1;32m---> 33\u001B[1;33m         \u001B[0mself\u001B[0m\u001B[1;33m.\u001B[0m\u001B[0mfile_dict\u001B[0m \u001B[1;33m=\u001B[0m \u001B[0mself\u001B[0m\u001B[1;33m.\u001B[0m\u001B[0mmake_dict\u001B[0m\u001B[1;33m(\u001B[0m\u001B[0mfiles\u001B[0m\u001B[1;33m,\u001B[0m \u001B[0mentities\u001B[0m\u001B[1;33m)\u001B[0m\u001B[1;33m\u001B[0m\u001B[1;33m\u001B[0m\u001B[0m\n\u001B[0m\u001B[0;32m     34\u001B[0m \u001B[1;33m\u001B[0m\u001B[0m\n\u001B[0;32m     35\u001B[0m     \u001B[1;33m@\u001B[0m\u001B[0mproperty\u001B[0m\u001B[1;33m\u001B[0m\u001B[1;33m\u001B[0m\u001B[0m\n",
      "\u001B[1;32mD:\\Research\\HED\\hed-examples\\venv\\lib\\site-packages\\hed\\tools\\bids\\bids_file_dictionary.py\u001B[0m in \u001B[0;36mmake_dict\u001B[1;34m(self, files, entities)\u001B[0m\n\u001B[0;32m    141\u001B[0m             \u001B[1;32mraise\u001B[0m \u001B[0mHedFileError\u001B[0m\u001B[1;33m(\u001B[0m\u001B[1;34m\"BadArgument\"\u001B[0m\u001B[1;33m,\u001B[0m \u001B[1;34m\"make_bids_file_dict expects a list or dict\"\u001B[0m\u001B[1;33m,\u001B[0m \u001B[1;33m[\u001B[0m\u001B[1;33m]\u001B[0m\u001B[1;33m)\u001B[0m\u001B[1;33m\u001B[0m\u001B[1;33m\u001B[0m\u001B[0m\n\u001B[0;32m    142\u001B[0m         \u001B[1;32mfor\u001B[0m \u001B[0mthe_file\u001B[0m \u001B[1;32min\u001B[0m \u001B[0mfiles\u001B[0m\u001B[1;33m:\u001B[0m\u001B[1;33m\u001B[0m\u001B[1;33m\u001B[0m\u001B[0m\n\u001B[1;32m--> 143\u001B[1;33m             \u001B[0mthe_file\u001B[0m \u001B[1;33m=\u001B[0m \u001B[0mself\u001B[0m\u001B[1;33m.\u001B[0m\u001B[0mcorrect_file\u001B[0m\u001B[1;33m(\u001B[0m\u001B[0mthe_file\u001B[0m\u001B[1;33m)\u001B[0m\u001B[1;33m\u001B[0m\u001B[1;33m\u001B[0m\u001B[0m\n\u001B[0m\u001B[0;32m    144\u001B[0m             \u001B[0mkey\u001B[0m \u001B[1;33m=\u001B[0m \u001B[0mthe_file\u001B[0m\u001B[1;33m.\u001B[0m\u001B[0mget_key\u001B[0m\u001B[1;33m(\u001B[0m\u001B[0mentities\u001B[0m\u001B[1;33m)\u001B[0m\u001B[1;33m\u001B[0m\u001B[1;33m\u001B[0m\u001B[0m\n\u001B[0;32m    145\u001B[0m             \u001B[1;32mif\u001B[0m \u001B[0mkey\u001B[0m \u001B[1;32min\u001B[0m \u001B[0mfile_dict\u001B[0m\u001B[1;33m:\u001B[0m\u001B[1;33m\u001B[0m\u001B[1;33m\u001B[0m\u001B[0m\n",
      "\u001B[1;32mD:\\Research\\HED\\hed-examples\\venv\\lib\\site-packages\\hed\\tools\\bids\\bids_tabular_dictionary.py\u001B[0m in \u001B[0;36mcorrect_file\u001B[1;34m(self, the_file)\u001B[0m\n\u001B[0;32m     47\u001B[0m         \"\"\"\n\u001B[0;32m     48\u001B[0m         \u001B[1;32mif\u001B[0m \u001B[0misinstance\u001B[0m\u001B[1;33m(\u001B[0m\u001B[0mthe_file\u001B[0m\u001B[1;33m,\u001B[0m \u001B[0mstr\u001B[0m\u001B[1;33m)\u001B[0m\u001B[1;33m:\u001B[0m\u001B[1;33m\u001B[0m\u001B[1;33m\u001B[0m\u001B[0m\n\u001B[1;32m---> 49\u001B[1;33m             \u001B[0mthe_file\u001B[0m \u001B[1;33m=\u001B[0m \u001B[0mBidsTabularFile\u001B[0m\u001B[1;33m(\u001B[0m\u001B[0mthe_file\u001B[0m\u001B[1;33m)\u001B[0m\u001B[1;33m\u001B[0m\u001B[1;33m\u001B[0m\u001B[0m\n\u001B[0m\u001B[0;32m     50\u001B[0m         \u001B[1;32melif\u001B[0m \u001B[1;32mnot\u001B[0m \u001B[0misinstance\u001B[0m\u001B[1;33m(\u001B[0m\u001B[0mthe_file\u001B[0m\u001B[1;33m,\u001B[0m \u001B[0mBidsFile\u001B[0m\u001B[1;33m)\u001B[0m\u001B[1;33m:\u001B[0m\u001B[1;33m\u001B[0m\u001B[1;33m\u001B[0m\u001B[0m\n\u001B[0;32m     51\u001B[0m             \u001B[0mHedFileError\u001B[0m\u001B[1;33m(\u001B[0m\u001B[1;34m\"BadArgument\"\u001B[0m\u001B[1;33m,\u001B[0m \u001B[1;34mf\"correct_file needs file path or BidsFile type but found {str(the_file)}\"\u001B[0m\u001B[1;33m,\u001B[0m \u001B[1;33m[\u001B[0m\u001B[1;33m]\u001B[0m\u001B[1;33m)\u001B[0m\u001B[1;33m\u001B[0m\u001B[1;33m\u001B[0m\u001B[0m\n",
      "\u001B[1;32mD:\\Research\\HED\\hed-examples\\venv\\lib\\site-packages\\hed\\tools\\bids\\bids_tabular_file.py\u001B[0m in \u001B[0;36m__init__\u001B[1;34m(self, file_path)\u001B[0m\n\u001B[0;32m     13\u001B[0m             \u001B[0mfile_path\u001B[0m \u001B[1;33m(\u001B[0m\u001B[0mstr\u001B[0m\u001B[1;33m)\u001B[0m\u001B[1;33m:\u001B[0m  \u001B[0mPath\u001B[0m \u001B[0mof\u001B[0m \u001B[0mthe\u001B[0m \u001B[0mtabular\u001B[0m \u001B[0mfile\u001B[0m\u001B[1;33m.\u001B[0m\u001B[1;33m\u001B[0m\u001B[1;33m\u001B[0m\u001B[0m\n\u001B[0;32m     14\u001B[0m         \"\"\"\n\u001B[1;32m---> 15\u001B[1;33m         \u001B[0msuper\u001B[0m\u001B[1;33m(\u001B[0m\u001B[1;33m)\u001B[0m\u001B[1;33m.\u001B[0m\u001B[0m__init__\u001B[0m\u001B[1;33m(\u001B[0m\u001B[0mfile_path\u001B[0m\u001B[1;33m)\u001B[0m\u001B[1;33m\u001B[0m\u001B[1;33m\u001B[0m\u001B[0m\n\u001B[0m\u001B[0;32m     16\u001B[0m \u001B[1;33m\u001B[0m\u001B[0m\n\u001B[0;32m     17\u001B[0m     \u001B[1;32mdef\u001B[0m \u001B[0mset_contents\u001B[0m\u001B[1;33m(\u001B[0m\u001B[0mself\u001B[0m\u001B[1;33m,\u001B[0m \u001B[0mcontent_info\u001B[0m\u001B[1;33m=\u001B[0m\u001B[1;32mNone\u001B[0m\u001B[1;33m,\u001B[0m \u001B[0moverwrite\u001B[0m\u001B[1;33m=\u001B[0m\u001B[1;32mFalse\u001B[0m\u001B[1;33m)\u001B[0m\u001B[1;33m:\u001B[0m\u001B[1;33m\u001B[0m\u001B[1;33m\u001B[0m\u001B[0m\n",
      "\u001B[1;32mD:\\Research\\HED\\hed-examples\\venv\\lib\\site-packages\\hed\\tools\\bids\\bids_file.py\u001B[0m in \u001B[0;36m__init__\u001B[1;34m(self, file_path)\u001B[0m\n\u001B[0;32m     27\u001B[0m         \"\"\"\n\u001B[0;32m     28\u001B[0m         \u001B[0mself\u001B[0m\u001B[1;33m.\u001B[0m\u001B[0mfile_path\u001B[0m \u001B[1;33m=\u001B[0m \u001B[0mos\u001B[0m\u001B[1;33m.\u001B[0m\u001B[0mpath\u001B[0m\u001B[1;33m.\u001B[0m\u001B[0mrealpath\u001B[0m\u001B[1;33m(\u001B[0m\u001B[0mfile_path\u001B[0m\u001B[1;33m)\u001B[0m\u001B[1;33m\u001B[0m\u001B[1;33m\u001B[0m\u001B[0m\n\u001B[1;32m---> 29\u001B[1;33m         \u001B[0msuffix\u001B[0m\u001B[1;33m,\u001B[0m \u001B[0mext\u001B[0m\u001B[1;33m,\u001B[0m \u001B[0mentity_dict\u001B[0m \u001B[1;33m=\u001B[0m \u001B[0mparse_bids_filename\u001B[0m\u001B[1;33m(\u001B[0m\u001B[0mself\u001B[0m\u001B[1;33m.\u001B[0m\u001B[0mfile_path\u001B[0m\u001B[1;33m)\u001B[0m\u001B[1;33m\u001B[0m\u001B[1;33m\u001B[0m\u001B[0m\n\u001B[0m\u001B[0;32m     30\u001B[0m         \u001B[0mself\u001B[0m\u001B[1;33m.\u001B[0m\u001B[0msuffix\u001B[0m \u001B[1;33m=\u001B[0m \u001B[0msuffix\u001B[0m\u001B[1;33m\u001B[0m\u001B[1;33m\u001B[0m\u001B[0m\n\u001B[0;32m     31\u001B[0m         \u001B[0mself\u001B[0m\u001B[1;33m.\u001B[0m\u001B[0mext\u001B[0m \u001B[1;33m=\u001B[0m \u001B[0mext\u001B[0m\u001B[1;33m\u001B[0m\u001B[1;33m\u001B[0m\u001B[0m\n",
      "\u001B[1;32mD:\\Research\\HED\\hed-examples\\venv\\lib\\site-packages\\hed\\util\\io_util.py\u001B[0m in \u001B[0;36mparse_bids_filename\u001B[1;34m(file_path)\u001B[0m\n\u001B[0;32m    251\u001B[0m         \u001B[0msplit_dict\u001B[0m \u001B[1;33m=\u001B[0m \u001B[0m_split_entity\u001B[0m\u001B[1;33m(\u001B[0m\u001B[0mentity\u001B[0m\u001B[1;33m)\u001B[0m\u001B[1;33m\u001B[0m\u001B[1;33m\u001B[0m\u001B[0m\n\u001B[0;32m    252\u001B[0m         \u001B[1;32mif\u001B[0m \u001B[1;34m\"key\"\u001B[0m \u001B[1;32mnot\u001B[0m \u001B[1;32min\u001B[0m \u001B[0msplit_dict\u001B[0m\u001B[1;33m:\u001B[0m\u001B[1;33m\u001B[0m\u001B[1;33m\u001B[0m\u001B[0m\n\u001B[1;32m--> 253\u001B[1;33m             \u001B[1;32mraise\u001B[0m \u001B[0mHedFileError\u001B[0m\u001B[1;33m(\u001B[0m\u001B[1;34m\"BadKeyValue\"\u001B[0m\u001B[1;33m,\u001B[0m \u001B[1;34mf\"The piece {entity} is not in key-value form\"\u001B[0m\u001B[1;33m,\u001B[0m \u001B[1;34m\"\"\u001B[0m\u001B[1;33m)\u001B[0m\u001B[1;33m\u001B[0m\u001B[1;33m\u001B[0m\u001B[0m\n\u001B[0m\u001B[0;32m    254\u001B[0m         \u001B[0mentity_dict\u001B[0m\u001B[1;33m[\u001B[0m\u001B[0msplit_dict\u001B[0m\u001B[1;33m[\u001B[0m\u001B[1;34m\"key\"\u001B[0m\u001B[1;33m]\u001B[0m\u001B[1;33m]\u001B[0m \u001B[1;33m=\u001B[0m \u001B[0msplit_dict\u001B[0m\u001B[1;33m[\u001B[0m\u001B[1;34m\"value\"\u001B[0m\u001B[1;33m]\u001B[0m\u001B[1;33m\u001B[0m\u001B[1;33m\u001B[0m\u001B[0m\n\u001B[0;32m    255\u001B[0m     \u001B[1;32mreturn\u001B[0m \u001B[0msuffix\u001B[0m\u001B[1;33m,\u001B[0m \u001B[0mext\u001B[0m\u001B[1;33m,\u001B[0m \u001B[0mentity_dict\u001B[0m\u001B[1;33m\u001B[0m\u001B[1;33m\u001B[0m\u001B[0m\n",
      "\u001B[1;31mHedFileError\u001B[0m: ('BadKeyValue', 'The piece events is not in key-value form', '')"
     ]
    }
   ],
   "source": [
    "from hed.tools import BidsTabularDictionary, HedLogger, report_diffs\n",
    "from hed.util import get_file_list\n",
    "\n",
    "# Variables to set for the specific dataset\n",
    "bids_root_path = 'G:/GoNogo/GoNogoWorking'\n",
    "exclude_dirs = ['code', 'stimuli']\n",
    "entities = ('sub', 'ses', 'run')\n",
    "bids_skip_columns = ['onset', 'response_time', 'stim_file']\n",
    "eeg_skip_columns = ['latency', 'response_time', 'stim_file']\n",
    "log_name = 'go_nogo_01_initial_summary_log'\n",
    "\n",
    "# Set up the logger\n",
    "log_file_name = f\"code/curation_logs/{log_name}.txt\"\n",
    "logger = HedLogger(name=log_name)\n",
    "\n",
    "# Construct the event file dictionaries for the BIDS and for EEG.event files\n",
    "event_files_bids = get_file_list(bids_root_path, extensions=[\".tsv\"], name_suffix=\"_events\",\n",
    "                                 exclude_dirs=exclude_dirs)\n",
    "bids_dict = BidsTabularDictionary(\"Go nogo bids\", event_files_bids, entities=entities)\n",
    "event_files_eeg = get_file_list(bids_root_path, extensions=[\".tsv\"], name_suffix=\"_events_temp\",\n",
    "                                exclude_dirs=exclude_dirs)\n",
    "eeg_dict = BidsTabularDictionary(\"Go nogo eeg\", event_files_eeg, entities=entities)\n",
    "\n",
    "\n",
    "# Output a list of files for the two cases and detect differences\n",
    "print(f\"\\n{report_diffs(bids_dict, eeg_dict, logger)}\\n\\n\")\n",
    "\n",
    "# Output the column names for each type of event file\n",
    "print(f\"\\nBIDS style event file columns:\")\n",
    "for key, file, rowcount, columns in bids_dict.iter_files():\n",
    "    print(f\"{key} [{rowcount} events]: {str(columns)}\")\n",
    "\n",
    "print(f\"\\nEEG.event style event file columns:\")\n",
    "for key, file, rowcount, columns in eeg_dict.iter_tsv_info():\n",
    "    print(f\"{key} [{rowcount} events]: {str(columns)}\")"
   ],
   "metadata": {
    "collapsed": false,
    "pycharm": {
     "name": "#%% Create dictionaries for the BIDS events files and the EEG.event files\n"
    }
   }
  },
  {
   "cell_type": "code",
   "execution_count": null,
   "outputs": [],
   "source": [
    "from hed.tools import BidsTabularSummary\n",
    "bids_dicts_all, bids_dicts =  BidsTabularSummary.make_combined_dicts(bids_dict, skip_cols=bids_skip_columns)\n",
    "print(f\"\\nSummary of all BIDS events files:\\n{bids_dicts_all}\")\n",
    "\n",
    "eeg_dicts_all, eeg_dicts =  BidsTabularSummary.make_combined_dicts(eeg_dict, skip_cols=eeg_skip_columns)\n",
    "print(f\"\\nSummary of all BIDS events files:\\n{eeg_dicts_all}\")"
   ],
   "metadata": {
    "collapsed": false,
    "pycharm": {
     "name": "#%% Create summary dictionaries of the original BIDS events files and output column names\n"
    }
   }
  }
 ],
 "metadata": {
  "kernelspec": {
   "display_name": "Python 3",
   "language": "python",
   "name": "python3"
  },
  "language_info": {
   "codemirror_mode": {
    "name": "ipython",
    "version": 2
   },
   "file_extension": ".py",
   "mimetype": "text/x-python",
   "name": "python",
   "nbconvert_exporter": "python",
   "pygments_lexer": "ipython2",
   "version": "2.7.6"
  }
 },
 "nbformat": 4,
 "nbformat_minor": 0
}