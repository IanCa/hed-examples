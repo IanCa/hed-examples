{
 "cells": [
  {
   "cell_type": "markdown",
   "metadata": {
    "collapsed": true,
    "pycharm": {
     "name": "#%% md\n"
    }
   },
   "source": [
    "## Create a template for event remapping for the attention shift data\n",
    "\n",
    "This notebook works through the process analyzing the contents of the event files in\n",
    "a BIDS dataset and creating a template for remapping event codes. The goal of such\n",
    "a remapping is to orthogonalize event design and make the meanings of contents\n",
    "of the event file more clear."
   ]
  },
  {
   "cell_type": "code",
   "execution_count": 1,
   "outputs": [
    {
     "name": "stdout",
     "output_type": "stream",
     "text": [
      "Counts for key [['event_code', 'cond_code', 'focus_modality']]:\n",
      "[1, 1, 'auditory']\t2339\n",
      "[1, 2, 'visual']\t2313\n",
      "[1, 3, 'auditory']\t7050\n",
      "[2, 1, 'auditory']\t2335\n",
      "[2, 2, 'visual']\t2317\n",
      "[2, 3, 'visual']\t7049\n",
      "[3, 1, 'auditory']\t4668\n",
      "[3, 2, 'visual']\t4628\n",
      "[4, 1, 'auditory']\t4668\n",
      "[4, 2, 'visual']\t4633\n",
      "[5, 1, 'auditory']\t18666\n",
      "[5, 2, 'visual']\t18505\n",
      "[6, 1, 'auditory']\t18668\n",
      "[6, 2, 'visual']\t18499\n",
      "[7, 3, 'auditory']\t9405\n",
      "[8, 3, 'visual']\t9407\n",
      "[9, 3, 'visual']\t4697\n",
      "[10, 3, 'auditory']\t4701\n",
      "[11, 3, 'auditory']\t37342\n",
      "[12, 3, 'visual']\t37461\n",
      "[13, 3, 'visual']\t18984\n",
      "[14, 3, 'auditory']\t18839\n",
      "[201, 1, 'auditory']\t4913\n",
      "[201, 2, 'visual']\t4698\n",
      "[201, 3, 'auditory']\t9733\n",
      "[201, 3, 'visual']\t9684\n",
      "[202, 1, 'auditory']\t191\n",
      "[202, 2, 'visual']\t190\n",
      "[202, 3, 'auditory']\t239\n",
      "[202, 3, 'n/a']\t38\n",
      "[202, 3, 'visual']\t269\n",
      "[255, 2, 'visual']\t6\n",
      "overall:\n",
      "\t[ Creating a key template with key_columns ['event_code', 'cond_code', 'focus_modality']]\n",
      "\t[ Adding information from 52 event files]\n",
      "\t[ Adding ['event_type', 'attention_status', 'task_role'] additional columns to template]\n",
      "\t[ Saving the template to G:\\AttentionShift\\AttentionShiftWorking\\code/attention_shift_remap_event_template.tsv]\n",
      "\n",
      "ERROR Summary:\n",
      "overall:\n"
     ]
    }
   ],
   "source": [
    "import os\n",
    "from hed.tools import KeyTemplate, HedLogger\n",
    "from hed.util import get_file_list\n",
    "\n",
    "# Variables to set for the specific dataset\n",
    "bids_root_path = 'G:\\AttentionShift\\AttentionShiftWorking'\n",
    "exclude_dirs = ['sourcedata', 'stimuli', 'code']\n",
    "entities = ('sub', 'run')\n",
    "key_columns = [\"event_code\", \"cond_code\", \"focus_modality\"]\n",
    "target_columns = [\"event_type\", \"attention_status\", \"task_role\"]\n",
    "log_file_name = 'attention_shift_08_create_remap_template_log.json'\n",
    "template_file = os.path.join(bids_root_path, \"code/attention_shift_remap_event_template.tsv\")\n",
    "\n",
    "# Make the file list for _events_temp4\n",
    "bids_files = get_file_list(bids_root_path, extensions=[\".tsv\"], name_suffix=\"_events_temp4\", exclude_dirs=exclude_dirs)\n",
    "\n",
    "# Create the template\n",
    "logger = HedLogger()\n",
    "logger.add(\"overall\", f\"Creating a key template with key_columns {str(key_columns)}\")\n",
    "template = KeyTemplate(key_columns)\n",
    "logger.add(\"overall\", f\"Adding information from {len(bids_files)} event files\")\n",
    "for file in bids_files:\n",
    "    template.update(file)\n",
    "template.resort()\n",
    "template.print()\n",
    "\n",
    "logger.add(\"overall\", f\"Adding {str(target_columns)} additional columns to template\")\n",
    "df = template.make_template(additional_cols=target_columns)\n",
    "df.to_csv(template_file, sep='\\t', index=False)\n",
    "logger.add(\"overall\", f\"Saving the template to {template_file}\")\n",
    "\n",
    "# Output and save the log\n",
    "logger.print_log()\n",
    "save_path = os.path.join(bids_root_path, 'code')\n",
    "logger.save_log(save_path, log_name=log_file_name)\n",
    "\n",
    "# Output errors\n",
    "print(\"\\nERROR Summary:\")\n",
    "logger.print_log(level=\"ERROR\")"
   ],
   "metadata": {
    "collapsed": false,
    "pycharm": {
     "name": "#%% Create the template for the dataset\n"
    }
   }
  }
 ],
 "metadata": {
  "kernelspec": {
   "display_name": "Python 3",
   "language": "python",
   "name": "python3"
  },
  "language_info": {
   "codemirror_mode": {
    "name": "ipython",
    "version": 2
   },
   "file_extension": ".py",
   "mimetype": "text/x-python",
   "name": "python",
   "nbconvert_exporter": "python",
   "pygments_lexer": "ipython2",
   "version": "2.7.6"
  }
 },
 "nbformat": 4,
 "nbformat_minor": 0
}