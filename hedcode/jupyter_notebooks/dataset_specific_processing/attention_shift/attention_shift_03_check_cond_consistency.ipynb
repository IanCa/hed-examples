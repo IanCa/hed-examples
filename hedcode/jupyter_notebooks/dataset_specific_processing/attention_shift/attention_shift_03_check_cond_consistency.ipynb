{
 "cells": [
  {
   "cell_type": "markdown",
   "source": [
    "## Checks that the event codes are consistent with conditions\n",
    "\n",
    "This script cross-checks for consistency after the initial `_events_temp1.tsv`\n",
    "files are produced by `attention_shift_02_initial_combination.ipynb` notebook.\n",
    "\n",
    "### Checking for forbidden codes\n",
    "       Codes 1 and 2 can appear anywhere\n",
    "       Codes 3 through 6 should appear only in the focus condition.\n",
    "       Codes 7 through 14 should appear only in the shift condition.\n",
    "       Codes 199, 201, 202, and 255 are not related to condition.\n",
    "\n",
    "The conclusions of running this script:\n",
    "* sub_005_run_01 has 5 shift event codes in a focus condition.\n",
    "* sub_008_run_01 has 2874 shift event codes in a focus condition.\n",
    "* sub_015_run_01 has 239 focus event codes in a shift condition.\n",
    "* sub_031_run_01 has 6067 cond_code values of 0.\n",
    "* sub_036_run_02 has 721 focus event codes in a shift condition.\n",
    "\n",
    "There are other issues with the data that are detected later in this process."
   ],
   "metadata": {
    "collapsed": false,
    "pycharm": {
     "name": "#%% md\n"
    }
   }
  },
  {
   "cell_type": "code",
   "execution_count": 1,
   "outputs": [
    {
     "name": "stdout",
     "output_type": "stream",
     "text": [
      "\n",
      "BIDS events summary\n",
      "  Categorical columns (2):\n",
      "    cond_code (4 distinct values):\n",
      "      0: 6067\n",
      "      1: 58184\n",
      "      2: 54044\n",
      "      3: 168840\n",
      "    event_code (16 distinct values):\n",
      "      1: 11703\n",
      "      10: 4702\n",
      "      11: 37548\n",
      "      12: 37524\n",
      "      13: 18778\n",
      "      14: 18779\n",
      "      2: 11701\n",
      "      201: 29028\n",
      "      202: 927\n",
      "      3: 9296\n",
      "      4: 9301\n",
      "      5: 37171\n",
      "      6: 37167\n",
      "      7: 9406\n",
      "      8: 9408\n",
      "      9: 4696\n",
      "  Value columns (0):\n"
     ]
    }
   ],
   "source": [
    "from hed.tools import BidsTsvDictionary, BidsTsvSummary, HedLogger\n",
    "from hed.util import get_file_list, get_new_dataframe\n",
    "\n",
    "# Set up the logger\n",
    "status = HedLogger()\n",
    "\n",
    "# Make the dictionaries of the events_temp1.tsv files with the combined event files\n",
    "bids_root_path = 'G:\\AttentionShift\\AttentionShiftWorking'\n",
    "exclude_dirs = ['sourcedata', 'stimuli', 'code']\n",
    "entities = ('sub', 'run')\n",
    "skip_cols = ['onset', 'duration', 'sample']\n",
    "\n",
    "bids_files = get_file_list(bids_root_path, extensions=[\".tsv\"], name_suffix=\"_events_temp1\",\n",
    "                           exclude_dirs=exclude_dirs)\n",
    "bids_dict = BidsTsvDictionary(bids_files, entities=entities)\n",
    "bids_sum_all, bids_sum =  BidsTsvSummary.make_combined_dicts(bids_dict, skip_cols=skip_cols)\n",
    "bids_sum_all.print('\\nBIDS events summary')"
   ],
   "metadata": {
    "collapsed": false,
    "pycharm": {
     "name": "#%% Setup the structure and column names\n"
    }
   }
  },
  {
   "cell_type": "code",
   "execution_count": 2,
   "outputs": [
    {
     "name": "stdout",
     "output_type": "stream",
     "text": [
      "Isolating the bad codes:\n"
     ]
    }
   ],
   "source": [
    "print(\"Isolating the bad codes:\")\n",
    "for key, file, rowcount, columns in bids_dict.iter_tsv_info():\n",
    "    df_bids = get_new_dataframe(file.file_path)\n",
    "\n",
    "    focus_cond_mask = df_bids['cond_code'].map(str).isin(['1', '2'])\n",
    "    shift_cond_mask = df_bids['cond_code'].map(str).isin(['3'])\n",
    "    focus_event_mask = df_bids['event_code'].map(str).isin(['3', '4', '5', '6'])\n",
    "    shift_event_mask = df_bids['event_code'].map(str).isin(['7', '8', '9', '10', '11', '12', '13', '14'])\n",
    "    bad_focus = sum(focus_cond_mask & shift_event_mask)\n",
    "    if bad_focus:\n",
    "        status.add(key, f\"{key} has {bad_focus} shift event codes in a focus condition\")\n",
    "\n",
    "    bad_shift = sum(shift_cond_mask & focus_event_mask)\n",
    "    if bad_shift:\n",
    "        status.add(key, f\"{key} has {bad_shift} focus event codes in a shift condition\")\n",
    "\n",
    "    bad_cond_mask = df_bids['cond_code'].map(str).isin(['0'])\n",
    "    if sum(bad_cond_mask):\n",
    "        status.add(key, f\"{key} has {sum(bad_cond_mask)} cond_code values of 0\")\n",
    "\n",
    "    pulse_code_mask = df_bids['event_code'].map(str).isin(['199'])\n",
    "    if sum(pulse_code_mask):\n",
    "        status.add(key, f\"{key} has {sum(pulse_code_mask)} event_code values of 199\")\n",
    "\n",
    "    pulse_combo_count = sum(pulse_code_mask & bad_cond_mask)\n",
    "    if pulse_combo_count:\n",
    "        status.add(key, f\"{key} has {pulse_combo_count} event_code values of 199 with cond_code 0\")\n",
    "\n",
    "    unknown_count = sum(df_bids['event_code'].map(str).isin(['255']))\n",
    "    if unknown_count:\n",
    "        status.add(key, f\"{key} has {unknown_count} event_code values of 255\")\n",
    "\n",
    "    pause_count = sum(df_bids['event_code'].map(str).isin(['202']))\n",
    "    if pause_count:\n",
    "        status.add(key, f\"{key} has {pause_count} event_code values of 202\")"
   ],
   "metadata": {
    "collapsed": false,
    "pycharm": {
     "name": "#%% Find which studies have bad codes\n"
    }
   }
  },
  {
   "cell_type": "code",
   "execution_count": 3,
   "outputs": [
    {
     "name": "stdout",
     "output_type": "stream",
     "text": [
      "sub-001_run-01\n",
      "\tsub-001_run-01 has 6 event_code values of 202\n",
      "sub-002_run-01\n",
      "\tsub-002_run-01 has 20 event_code values of 202\n",
      "sub-003_run-01\n",
      "\tsub-003_run-01 has 20 event_code values of 202\n",
      "sub-004_run-01\n",
      "\tsub-004_run-01 has 1 event_code values of 202\n",
      "sub-004_run-02\n",
      "\tsub-004_run-02 has 19 event_code values of 202\n",
      "sub-005_run-01\n",
      "\tsub-005_run-01 has 5 shift event codes in a focus condition\n",
      "\tsub-005_run-01 has 6 event_code values of 202\n",
      "sub-006_run-01\n",
      "\tsub-006_run-01 has 20 event_code values of 202\n",
      "sub-007_run-01\n",
      "\tsub-007_run-01 has 18 event_code values of 202\n",
      "sub-008_run-01\n",
      "\tsub-008_run-01 has 2874 shift event codes in a focus condition\n",
      "\tsub-008_run-01 has 11 event_code values of 202\n",
      "sub-009_run-01\n",
      "\tsub-009_run-01 has 26 event_code values of 202\n",
      "sub-010_run-01\n",
      "\tsub-010_run-01 has 18 event_code values of 202\n",
      "sub-011_run-01\n",
      "\tsub-011_run-01 has 21 event_code values of 202\n",
      "sub-012_run-01\n",
      "\tsub-012_run-01 has 22 event_code values of 202\n",
      "sub-013_run-01\n",
      "\tsub-013_run-01 has 20 event_code values of 202\n",
      "sub-014_run-01\n",
      "\tsub-014_run-01 has 19 event_code values of 202\n",
      "sub-015_run-01\n",
      "\tsub-015_run-01 has 239 focus event codes in a shift condition\n",
      "\tsub-015_run-01 has 21 event_code values of 202\n",
      "sub-016_run-01\n",
      "\tsub-016_run-01 has 22 event_code values of 202\n",
      "sub-017_run-01\n",
      "\tsub-017_run-01 has 19 event_code values of 202\n",
      "sub-018_run-01\n",
      "\tsub-018_run-01 has 19 event_code values of 202\n",
      "sub-019_run-01\n",
      "\tsub-019_run-01 has 16 event_code values of 202\n",
      "sub-020_run-02\n",
      "\tsub-020_run-02 has 9 event_code values of 202\n",
      "sub-021_run-02\n",
      "\tsub-021_run-02 has 22 event_code values of 202\n",
      "sub-022_run-02\n",
      "\tsub-022_run-02 has 17 event_code values of 202\n",
      "sub-023_run-01\n",
      "\tsub-023_run-01 has 20 event_code values of 202\n",
      "sub-024_run-01\n",
      "\tsub-024_run-01 has 13 event_code values of 202\n",
      "sub-025_run-01\n",
      "\tsub-025_run-01 has 20 event_code values of 202\n",
      "sub-026_run-01\n",
      "\tsub-026_run-01 has 20 event_code values of 202\n",
      "sub-027_run-01\n",
      "\tsub-027_run-01 has 17 event_code values of 202\n",
      "sub-028_run-01\n",
      "\tsub-028_run-01 has 14 event_code values of 202\n",
      "sub-028_run-02\n",
      "\tsub-028_run-02 has 5 event_code values of 202\n",
      "sub-029_run-01\n",
      "\tsub-029_run-01 has 20 event_code values of 202\n",
      "sub-030_run-01\n",
      "\tsub-030_run-01 has 20 event_code values of 202\n",
      "sub-031_run-01\n",
      "\tsub-031_run-01 has 6067 cond_code values of 0\n",
      "\tsub-031_run-01 has 20 event_code values of 202\n",
      "sub-032_run-01\n",
      "\tsub-032_run-01 has 20 event_code values of 202\n",
      "sub-033_run-01\n",
      "\tsub-033_run-01 has 20 event_code values of 202\n",
      "sub-034_run-01\n",
      "\tsub-034_run-01 has 19 event_code values of 202\n",
      "sub-035_run-01\n",
      "\tsub-035_run-01 has 17 event_code values of 202\n",
      "sub-036_run-01\n",
      "\tsub-036_run-01 has 1 event_code values of 202\n",
      "sub-036_run-02\n",
      "\tsub-036_run-02 has 721 focus event codes in a shift condition\n",
      "\tsub-036_run-02 has 20 event_code values of 202\n",
      "sub-037_run-01\n",
      "\tsub-037_run-01 has 22 event_code values of 202\n",
      "sub-038_run-01\n",
      "\tsub-038_run-01 has 20 event_code values of 202\n",
      "sub-039_run-01\n",
      "\tsub-039_run-01 has 21 event_code values of 202\n",
      "sub-040_run-01\n",
      "\tsub-040_run-01 has 20 event_code values of 202\n",
      "sub-041_run-01\n",
      "\tsub-041_run-01 has 19 event_code values of 202\n",
      "sub-042_run-01\n",
      "\tsub-042_run-01 has 22 event_code values of 202\n",
      "sub-043_run-01\n",
      "\tsub-043_run-01 has 21 event_code values of 202\n",
      "sub-044_run-01\n",
      "\tsub-044_run-01 has 21 event_code values of 202\n",
      "sub-045_run-01\n",
      "\tsub-045_run-01 has 19 event_code values of 202\n",
      "sub-046_run-01\n",
      "\tsub-046_run-01 has 20 event_code values of 202\n",
      "sub-047_run-01\n",
      "\tsub-047_run-01 has 21 event_code values of 202\n",
      "sub-048_run-01\n",
      "\tsub-048_run-01 has 23 event_code values of 202\n",
      "sub-049_run-01\n",
      "\tsub-049_run-01 has 20 event_code values of 202\n"
     ]
    }
   ],
   "source": [
    "status.print_log()\n",
    "status.save_log(bids_root_path, sub_path='code', log_name='as_hed_03_check_consistency_log.json')\n"
   ],
   "metadata": {
    "collapsed": false,
    "pycharm": {
     "name": "#%% Print the status log\n"
    }
   }
  }
 ],
 "metadata": {
  "kernelspec": {
   "display_name": "Python 3",
   "language": "python",
   "name": "python3"
  },
  "language_info": {
   "codemirror_mode": {
    "name": "ipython",
    "version": 2
   },
   "file_extension": ".py",
   "mimetype": "text/x-python",
   "name": "python",
   "nbconvert_exporter": "python",
   "pygments_lexer": "ipython2",
   "version": "2.7.6"
  }
 },
 "nbformat": 4,
 "nbformat_minor": 0
}