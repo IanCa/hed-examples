{
 "cells": [
  {
   "cell_type": "markdown",
   "metadata": {
    "collapsed": true,
    "pycharm": {
     "name": "#%% md\n"
    }
   },
   "source": [
    "## Create a template for event remapping fpr the attention shift data\n",
    "\n",
    "This notebook works through the process analyzing the contents of the event files in\n",
    "a BIDS dataset and creating a template for remapping event codes. The goal of such\n",
    "a remapping is to orthogonalize event design and make the meanings of contents\n",
    "of the event file more clear.\n",
    "\n",
    "The dataset `eeg_atten_orig` contains the original encoding of the\n",
    "\n",
    "Suppose we want to remap each unique combination in the key columns [`value`, `trial_type`]\n",
    "into a new combination in the target columns [`event_type`, `task_role`, `shift_cond`].\n",
    "\n",
    "**Table 1:** Template created from a BIDS dataset.\n",
    "\n",
    "| cond_code | event_type | focus_modality| event_type | task_role | shift_cond |\n",
    "| ----- | ---------- | ---------- | --------- | ---------- | --------- |\n",
    "| 11    | 1   | n/a  | n/a  | n/a   | n/a  |\n",
    "| 31    | 1   | n/a  | n/a  | n/a   | n/a  |\n",
    "| 41    | 1   | n/a  | n/a  | n/a   | n/a  |\n",
    "| 42    | 2   | n/a  | n/a  | n/a   | n/a  |\n",
    "| 201   | 3   | n/a  | n/a  | n/a   | n/a  |\n",
    "\n",
    "After creating a template file for your data, you must manually edit it\n",
    "to fill in the desired mapping.  Table 2 gives an example of a potential\n",
    "mapping.\n",
    "\n",
    "**Table 2:** An excerpt of the completed template for excerpt of Table 1.\n",
    "\n",
    "| value | trial_type | event_type   | task_role         | shift_cond    |\n",
    "| ----- | ---------- | ------------ | ----------------- | ------------- |\n",
    "| 11    | 1          | hear_cue     | cue               | auditory_cond |\n",
    "| 31    | 1          | high_tone    | target_attended   | auditory_cond |\n",
    "| 41    | 1          | light_bar    | target_unattended | auditory_cond |\n",
    "| 42    | 2          | light_bar    | target_attended   | visual_cond   |\n",
    "| 201   | 3          | button_press | target_detected   | shift_cond    |\n"
   ]
  },
  {
   "cell_type": "markdown",
   "source": [
    "#### Set dataset location\n",
    "\n",
    "The example used in this notebook is reduced version of an auditory attention shift\n",
    "dataset which is available at\n",
    "[https://github.com/hed-standard/hed-examples/data/eeg_ds0028932](https://github.com/hed-standard/hed-examples/data/eeg_ds0028932).\n",
    "\n",
    "To run this notebook, you will need download this dataset and set the `bids_root_path`\n",
    "variable to the local path of the dataset's root directory.\n",
    "\n",
    "Alternatively, you can set `bids_root_path` to the full path of your own BIDS dataset."
   ],
   "metadata": {
    "collapsed": false
   }
  },
  {
   "cell_type": "code",
   "execution_count": 1,
   "outputs": [],
   "source": [
    "bids_root_path = \"D:/eeg_ds002893s\""
   ],
   "metadata": {
    "collapsed": false,
    "pycharm": {
     "name": "#%% Set the location of the dataset the dataset\n"
    }
   }
  },
  {
   "cell_type": "markdown",
   "source": [
    "#### Set key and target columns\n",
    "\n",
    "The goal is to create a mapping of each unique combination of the key columns\n",
    "to a combination of target column values.\n",
    "\n",
    "(You will need to set the actual target column values manually after a template\n",
    "file is created.)"
   ],
   "metadata": {
    "collapsed": false
   }
  },
  {
   "cell_type": "code",
   "source": [
    "key_columns = [\"value\", \"trial_type\"]\n",
    "target_columns = [\"event_type\", \"task_role\", \"shift_cond\"]"
   ],
   "metadata": {
    "collapsed": false,
    "pycharm": {
     "name": "#%% Set up the variables for the dataset\n"
    }
   },
   "execution_count": 2,
   "outputs": []
  },
  {
   "cell_type": "markdown",
   "source": [
    "#### Get a list of event files\n",
    "\n",
    "The next example recursively traverses the directory tree and produces\n",
    "a list of the full paths of the dataset event files.\n",
    "\n",
    "Event files have extension `.tsv` and the file names end with `_events`.\n",
    "You may wish to check the returned list to verify that the expected event files\n",
    "are in the dataset."
   ],
   "metadata": {
    "collapsed": false,
    "pycharm": {
     "name": "#%% md\n"
    }
   }
  },
  {
   "cell_type": "code",
   "execution_count": 3,
   "outputs": [
    {
     "name": "stdout",
     "output_type": "stream",
     "text": [
      "Counts for key [['event_code', 'cond_code', 'focus_modality']]:\n",
      "[1, 1, 'auditory']\t2339\n",
      "[1, 2, 'visual']\t2313\n",
      "[1, 3, 'auditory']\t7050\n",
      "[2, 1, 'auditory']\t2335\n",
      "[2, 2, 'visual']\t2317\n",
      "[2, 3, 'visual']\t7049\n",
      "[3, 1, 'auditory']\t4668\n",
      "[3, 2, 'visual']\t4628\n",
      "[4, 1, 'auditory']\t4668\n",
      "[4, 2, 'visual']\t4633\n",
      "[5, 1, 'auditory']\t18666\n",
      "[5, 2, 'visual']\t18505\n",
      "[6, 1, 'auditory']\t18668\n",
      "[6, 2, 'visual']\t18499\n",
      "[7, 3, 'auditory']\t9400\n",
      "[7, 3, 'n/a']\t1\n",
      "[7, 3, 'visual']\t5\n",
      "[8, 3, 'auditory']\t2\n",
      "[8, 3, 'visual']\t9404\n",
      "[9, 3, 'auditory']\t4\n",
      "[9, 3, 'visual']\t4692\n",
      "[10, 3, 'auditory']\t4699\n",
      "[10, 3, 'visual']\t3\n",
      "[11, 3, 'auditory']\t37322\n",
      "[11, 3, 'n/a']\t5\n",
      "[11, 3, 'visual']\t221\n",
      "[12, 3, 'auditory']\t71\n",
      "[12, 3, 'visual']\t37450\n",
      "[13, 3, 'auditory']\t15\n",
      "[13, 3, 'visual']\t18763\n",
      "[14, 3, 'auditory']\t18766\n",
      "[14, 3, 'n/a']\t2\n",
      "[14, 3, 'visual']\t11\n",
      "[201, 1, 'auditory']\t4913\n",
      "[201, 2, 'visual']\t4698\n",
      "[201, 3, 'auditory']\t9732\n",
      "[201, 3, 'n/a']\t1\n",
      "[201, 3, 'visual']\t9684\n",
      "[202, 1, 'auditory']\t191\n",
      "[202, 2, 'visual']\t190\n",
      "[202, 3, 'auditory']\t238\n",
      "[202, 3, 'n/a']\t39\n",
      "[202, 3, 'visual']\t269\n",
      "[255, 2, 'visual']\t6\n"
     ]
    }
   ],
   "source": [
    "import os\n",
    "from hed.tools import KeyTemplate\n",
    "from hed.util import get_file_list\n",
    "\n",
    "# Variables to set for the specific dataset\n",
    "bids_root_path = 'G:\\AttentionShift\\AttentionShiftWorkingPhaseTwo'\n",
    "\n",
    "exclude_dirs = ['sourcedata', 'stimuli', 'code']\n",
    "entities = ('sub', 'run')\n",
    "key_columns = [\"event_code\", \"cond_code\", \"focus_modality\"]\n",
    "target_columns = [\"event_type\", \"attention_status\", \"task_role\"]\n",
    "bids_files = get_file_list(bids_root_path, extensions=[\".tsv\"], name_suffix=\"_events\",\n",
    "                           exclude_dirs=exclude_dirs)\n",
    "\n",
    "template = KeyTemplate(key_columns)\n",
    "for file in bids_files:\n",
    "    template.update(file)\n",
    "template.resort()\n",
    "template.print()\n",
    "\n",
    "df = template.make_template(additional_cols=target_columns)\n",
    "template_file = os.path.join(bids_root_path, \"attention_shift_remap_event_template.tsv\")\n",
    "df.to_csv(template_file, sep='\\t', index=False)"
   ],
   "metadata": {
    "collapsed": false,
    "pycharm": {
     "name": "#%% Get a list of full paths of the event files\n"
    }
   }
  }
 ],
 "metadata": {
  "kernelspec": {
   "display_name": "Python 3",
   "language": "python",
   "name": "python3"
  },
  "language_info": {
   "codemirror_mode": {
    "name": "ipython",
    "version": 2
   },
   "file_extension": ".py",
   "mimetype": "text/x-python",
   "name": "python",
   "nbconvert_exporter": "python",
   "pygments_lexer": "ipython2",
   "version": "2.7.6"
  }
 },
 "nbformat": 4,
 "nbformat_minor": 0
}