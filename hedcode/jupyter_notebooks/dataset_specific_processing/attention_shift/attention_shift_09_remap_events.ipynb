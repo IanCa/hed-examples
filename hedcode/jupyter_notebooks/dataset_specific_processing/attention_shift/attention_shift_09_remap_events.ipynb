{
 "cells": [
  {
   "cell_type": "markdown",
   "metadata": {
    "collapsed": true,
    "pycharm": {
     "name": "#%% md\n"
    }
   },
   "source": [
    "## Remap events for the Attention Shift Data\n",
    "\n",
    "This notebook assumes that you have already created a remaped template"
   ]
  },
  {
   "cell_type": "code",
   "execution_count": 1,
   "outputs": [
    {
     "name": "stdout",
     "output_type": "stream",
     "text": [
      "sub-001_run-01 [ERROR]: The keys [0, 25, 46, 77, 100, 122, 153, 172, 204, 224, 252, 272, 4132, 4156, 4181, 4204, 4232, 4257, 4277, 4305, 4332, 4353, 4375, 4397, 4418, 4443, 4468, 4498, 4520, 4538, 4560, 4586, 4614, 4638, 4659, 4677, 4705, 4725, 4752, 4775, 4802, 4829, 4859, 4880, 4901, 4920, 4944, 4970] were not in the map\n",
      "sub-002_run-01 [ERROR]: The keys [0, 23, 45, 74, 97, 118, 147, 168, 199, 219, 246, 267, 4144, 4169, 4194, 4217, 4245, 4270, 4290, 4318, 4346, 4367, 4389, 4411, 4433, 4458, 4483, 4513, 4535, 4553, 4575, 4601, 4629, 4653, 4674, 4693, 4722, 4742, 4770, 4793, 4819, 4845, 4875, 4896, 4917, 4936, 4960, 4986] were not in the map\n",
      "sub-003_run-01 [ERROR]: The keys [289, 312, 335, 364, 387, 408, 437, 458, 489, 509, 536, 556, 5003, 5028, 5053, 5076, 5104, 5129, 5149, 5177, 5205, 5226, 5248, 5270, 5292, 5317, 5341, 5371, 5393, 5411, 5433, 5459, 5487, 5511, 5532, 5551, 5580, 5600, 5628, 5651, 5678, 5705, 5735, 5756, 5777, 5796, 5819, 5844] were not in the map\n",
      "sub-004_run-02 [ERROR]: The keys [0, 23, 45, 75, 98, 119, 148, 169, 200, 220, 247, 267, 4705, 4730, 4755, 4778, 4806, 4831, 4851, 4879, 4907, 4928, 4950, 4972, 4994, 5019, 5044, 5074, 5096, 5114, 5136, 5162, 5190, 5214, 5235, 5254, 5283, 5303, 5331, 5354, 5381, 5408, 5438, 5459, 5480, 5499, 5523, 5549] were not in the map\n",
      "sub-005_run-01 [ERROR]: The keys [0, 22, 41, 69, 91, 110, 137, 155, 183, 201, 225, 243, 4048, 4073, 4098, 4122, 4149, 4174, 4194, 4222, 4250, 4271, 4293, 4315, 4336, 4360, 4385, 4415, 4437, 4455, 4477, 4503, 4531, 4555, 4576, 4595, 4623, 4643, 4671, 4694, 4720, 4747, 4777, 4798, 4819, 4838, 4862, 4888] were not in the map\n"
     ]
    },
    {
     "ename": "KeyboardInterrupt",
     "evalue": "",
     "output_type": "error",
     "traceback": [
      "\u001B[1;31m---------------------------------------------------------------------------\u001B[0m",
      "\u001B[1;31mKeyboardInterrupt\u001B[0m                         Traceback (most recent call last)",
      "\u001B[1;32m~\\AppData\\Local\\Temp/ipykernel_30304/416689837.py\u001B[0m in \u001B[0;36m<module>\u001B[1;34m\u001B[0m\n\u001B[0;32m     30\u001B[0m     \u001B[0mdf_bids\u001B[0m \u001B[1;33m=\u001B[0m \u001B[0mget_new_dataframe\u001B[0m\u001B[1;33m(\u001B[0m\u001B[0mfilename\u001B[0m\u001B[1;33m)\u001B[0m\u001B[1;33m\u001B[0m\u001B[1;33m\u001B[0m\u001B[0m\n\u001B[0;32m     31\u001B[0m     \u001B[0mlogger\u001B[0m\u001B[1;33m.\u001B[0m\u001B[0madd\u001B[0m\u001B[1;33m(\u001B[0m\u001B[0mkey\u001B[0m\u001B[1;33m,\u001B[0m \u001B[1;34mf\"Remapping {filename}\"\u001B[0m\u001B[1;33m)\u001B[0m\u001B[1;33m\u001B[0m\u001B[1;33m\u001B[0m\u001B[0m\n\u001B[1;32m---> 32\u001B[1;33m     \u001B[0mdf_new\u001B[0m\u001B[1;33m,\u001B[0m \u001B[0mmissing\u001B[0m \u001B[1;33m=\u001B[0m \u001B[0mkey_map\u001B[0m\u001B[1;33m.\u001B[0m\u001B[0mremap\u001B[0m\u001B[1;33m(\u001B[0m\u001B[0mfilename\u001B[0m\u001B[1;33m)\u001B[0m\u001B[1;33m\u001B[0m\u001B[1;33m\u001B[0m\u001B[0m\n\u001B[0m\u001B[0;32m     33\u001B[0m     \u001B[1;32mif\u001B[0m \u001B[0mmissing\u001B[0m\u001B[1;33m:\u001B[0m\u001B[1;33m\u001B[0m\u001B[1;33m\u001B[0m\u001B[0m\n\u001B[0;32m     34\u001B[0m         \u001B[0mlogger\u001B[0m\u001B[1;33m.\u001B[0m\u001B[0madd\u001B[0m\u001B[1;33m(\u001B[0m\u001B[0mkey\u001B[0m\u001B[1;33m,\u001B[0m \u001B[1;34mf\"The keys {str(missing)} were not in the map\"\u001B[0m\u001B[1;33m,\u001B[0m \u001B[0mlevel\u001B[0m\u001B[1;33m=\u001B[0m\u001B[1;34m\"ERROR\"\u001B[0m\u001B[1;33m,\u001B[0m \u001B[0malso_print\u001B[0m\u001B[1;33m=\u001B[0m\u001B[1;32mTrue\u001B[0m\u001B[1;33m)\u001B[0m\u001B[1;33m\u001B[0m\u001B[1;33m\u001B[0m\u001B[0m\n",
      "\u001B[1;32mD:\\Research\\HED\\hed-examples\\venv\\lib\\site-packages\\hed\\tools\\annotation\\key_map.py\u001B[0m in \u001B[0;36mremap\u001B[1;34m(self, data)\u001B[0m\n\u001B[0;32m     68\u001B[0m             \u001B[1;32mraise\u001B[0m \u001B[0mHedFileError\u001B[0m\u001B[1;33m(\u001B[0m\u001B[1;34m\"MissingKeys\"\u001B[0m\u001B[1;33m,\u001B[0m \u001B[1;34mf\"File must have key columns {str(self.key_cols)}\"\u001B[0m\u001B[1;33m,\u001B[0m \u001B[1;34m\"\"\u001B[0m\u001B[1;33m)\u001B[0m\u001B[1;33m\u001B[0m\u001B[1;33m\u001B[0m\u001B[0m\n\u001B[0;32m     69\u001B[0m         \u001B[0mdf_new\u001B[0m\u001B[1;33m[\u001B[0m\u001B[0mself\u001B[0m\u001B[1;33m.\u001B[0m\u001B[0mtarget_cols\u001B[0m\u001B[1;33m]\u001B[0m \u001B[1;33m=\u001B[0m \u001B[1;34m'n/a'\u001B[0m\u001B[1;33m\u001B[0m\u001B[1;33m\u001B[0m\u001B[0m\n\u001B[1;32m---> 70\u001B[1;33m         \u001B[0mmissing_indices\u001B[0m \u001B[1;33m=\u001B[0m \u001B[0mself\u001B[0m\u001B[1;33m.\u001B[0m\u001B[0m_remap\u001B[0m\u001B[1;33m(\u001B[0m\u001B[0mdf_new\u001B[0m\u001B[1;33m)\u001B[0m\u001B[1;33m\u001B[0m\u001B[1;33m\u001B[0m\u001B[0m\n\u001B[0m\u001B[0;32m     71\u001B[0m         \u001B[1;32mreturn\u001B[0m \u001B[0mdf_new\u001B[0m\u001B[1;33m,\u001B[0m \u001B[0mmissing_indices\u001B[0m\u001B[1;33m\u001B[0m\u001B[1;33m\u001B[0m\u001B[0m\n\u001B[0;32m     72\u001B[0m \u001B[1;33m\u001B[0m\u001B[0m\n",
      "\u001B[1;32mD:\\Research\\HED\\hed-examples\\venv\\lib\\site-packages\\hed\\tools\\annotation\\key_map.py\u001B[0m in \u001B[0;36m_remap\u001B[1;34m(self, df)\u001B[0m\n\u001B[0;32m     88\u001B[0m                 \u001B[0mresult\u001B[0m \u001B[1;33m=\u001B[0m \u001B[0mself\u001B[0m\u001B[1;33m.\u001B[0m\u001B[0mcol_map\u001B[0m\u001B[1;33m.\u001B[0m\u001B[0miloc\u001B[0m\u001B[1;33m[\u001B[0m\u001B[0mkey_value\u001B[0m\u001B[1;33m]\u001B[0m\u001B[1;33m\u001B[0m\u001B[1;33m\u001B[0m\u001B[0m\n\u001B[0;32m     89\u001B[0m                 \u001B[0mrow\u001B[0m\u001B[1;33m[\u001B[0m\u001B[0mself\u001B[0m\u001B[1;33m.\u001B[0m\u001B[0mtarget_cols\u001B[0m\u001B[1;33m]\u001B[0m \u001B[1;33m=\u001B[0m \u001B[0mresult\u001B[0m\u001B[1;33m[\u001B[0m\u001B[0mself\u001B[0m\u001B[1;33m.\u001B[0m\u001B[0mtarget_cols\u001B[0m\u001B[1;33m]\u001B[0m\u001B[1;33m.\u001B[0m\u001B[0mvalues\u001B[0m\u001B[1;33m\u001B[0m\u001B[1;33m\u001B[0m\u001B[0m\n\u001B[1;32m---> 90\u001B[1;33m                 \u001B[0mdf\u001B[0m\u001B[1;33m.\u001B[0m\u001B[0miloc\u001B[0m\u001B[1;33m[\u001B[0m\u001B[0mindex\u001B[0m\u001B[1;33m]\u001B[0m \u001B[1;33m=\u001B[0m \u001B[0mrow\u001B[0m\u001B[1;33m\u001B[0m\u001B[1;33m\u001B[0m\u001B[0m\n\u001B[0m\u001B[0;32m     91\u001B[0m             \u001B[1;32melse\u001B[0m\u001B[1;33m:\u001B[0m\u001B[1;33m\u001B[0m\u001B[1;33m\u001B[0m\u001B[0m\n\u001B[0;32m     92\u001B[0m                 \u001B[0mmissing_indices\u001B[0m\u001B[1;33m.\u001B[0m\u001B[0mappend\u001B[0m\u001B[1;33m(\u001B[0m\u001B[0mindex\u001B[0m\u001B[1;33m)\u001B[0m\u001B[1;33m\u001B[0m\u001B[1;33m\u001B[0m\u001B[0m\n",
      "\u001B[1;32mD:\\Research\\HED\\hed-examples\\venv\\lib\\site-packages\\pandas\\core\\indexing.py\u001B[0m in \u001B[0;36m__setitem__\u001B[1;34m(self, key, value)\u001B[0m\n\u001B[0;32m    721\u001B[0m \u001B[1;33m\u001B[0m\u001B[0m\n\u001B[0;32m    722\u001B[0m         \u001B[0miloc\u001B[0m \u001B[1;33m=\u001B[0m \u001B[0mself\u001B[0m \u001B[1;32mif\u001B[0m \u001B[0mself\u001B[0m\u001B[1;33m.\u001B[0m\u001B[0mname\u001B[0m \u001B[1;33m==\u001B[0m \u001B[1;34m\"iloc\"\u001B[0m \u001B[1;32melse\u001B[0m \u001B[0mself\u001B[0m\u001B[1;33m.\u001B[0m\u001B[0mobj\u001B[0m\u001B[1;33m.\u001B[0m\u001B[0miloc\u001B[0m\u001B[1;33m\u001B[0m\u001B[1;33m\u001B[0m\u001B[0m\n\u001B[1;32m--> 723\u001B[1;33m         \u001B[0miloc\u001B[0m\u001B[1;33m.\u001B[0m\u001B[0m_setitem_with_indexer\u001B[0m\u001B[1;33m(\u001B[0m\u001B[0mindexer\u001B[0m\u001B[1;33m,\u001B[0m \u001B[0mvalue\u001B[0m\u001B[1;33m,\u001B[0m \u001B[0mself\u001B[0m\u001B[1;33m.\u001B[0m\u001B[0mname\u001B[0m\u001B[1;33m)\u001B[0m\u001B[1;33m\u001B[0m\u001B[1;33m\u001B[0m\u001B[0m\n\u001B[0m\u001B[0;32m    724\u001B[0m \u001B[1;33m\u001B[0m\u001B[0m\n\u001B[0;32m    725\u001B[0m     \u001B[1;32mdef\u001B[0m \u001B[0m_validate_key\u001B[0m\u001B[1;33m(\u001B[0m\u001B[0mself\u001B[0m\u001B[1;33m,\u001B[0m \u001B[0mkey\u001B[0m\u001B[1;33m,\u001B[0m \u001B[0maxis\u001B[0m\u001B[1;33m:\u001B[0m \u001B[0mint\u001B[0m\u001B[1;33m)\u001B[0m\u001B[1;33m:\u001B[0m\u001B[1;33m\u001B[0m\u001B[1;33m\u001B[0m\u001B[0m\n",
      "\u001B[1;32mD:\\Research\\HED\\hed-examples\\venv\\lib\\site-packages\\pandas\\core\\indexing.py\u001B[0m in \u001B[0;36m_setitem_with_indexer\u001B[1;34m(self, indexer, value, name)\u001B[0m\n\u001B[0;32m   1728\u001B[0m         \u001B[1;32mif\u001B[0m \u001B[0mtake_split_path\u001B[0m\u001B[1;33m:\u001B[0m\u001B[1;33m\u001B[0m\u001B[1;33m\u001B[0m\u001B[0m\n\u001B[0;32m   1729\u001B[0m             \u001B[1;31m# We have to operate column-wise\u001B[0m\u001B[1;33m\u001B[0m\u001B[1;33m\u001B[0m\u001B[1;33m\u001B[0m\u001B[0m\n\u001B[1;32m-> 1730\u001B[1;33m             \u001B[0mself\u001B[0m\u001B[1;33m.\u001B[0m\u001B[0m_setitem_with_indexer_split_path\u001B[0m\u001B[1;33m(\u001B[0m\u001B[0mindexer\u001B[0m\u001B[1;33m,\u001B[0m \u001B[0mvalue\u001B[0m\u001B[1;33m,\u001B[0m \u001B[0mname\u001B[0m\u001B[1;33m)\u001B[0m\u001B[1;33m\u001B[0m\u001B[1;33m\u001B[0m\u001B[0m\n\u001B[0m\u001B[0;32m   1731\u001B[0m         \u001B[1;32melse\u001B[0m\u001B[1;33m:\u001B[0m\u001B[1;33m\u001B[0m\u001B[1;33m\u001B[0m\u001B[0m\n\u001B[0;32m   1732\u001B[0m             \u001B[0mself\u001B[0m\u001B[1;33m.\u001B[0m\u001B[0m_setitem_single_block\u001B[0m\u001B[1;33m(\u001B[0m\u001B[0mindexer\u001B[0m\u001B[1;33m,\u001B[0m \u001B[0mvalue\u001B[0m\u001B[1;33m,\u001B[0m \u001B[0mname\u001B[0m\u001B[1;33m)\u001B[0m\u001B[1;33m\u001B[0m\u001B[1;33m\u001B[0m\u001B[0m\n",
      "\u001B[1;32mD:\\Research\\HED\\hed-examples\\venv\\lib\\site-packages\\pandas\\core\\indexing.py\u001B[0m in \u001B[0;36m_setitem_with_indexer_split_path\u001B[1;34m(self, indexer, value, name)\u001B[0m\n\u001B[0;32m   1795\u001B[0m                 \u001B[1;31m# We are setting multiple columns in a single row.\u001B[0m\u001B[1;33m\u001B[0m\u001B[1;33m\u001B[0m\u001B[1;33m\u001B[0m\u001B[0m\n\u001B[0;32m   1796\u001B[0m                 \u001B[1;32mfor\u001B[0m \u001B[0mloc\u001B[0m\u001B[1;33m,\u001B[0m \u001B[0mv\u001B[0m \u001B[1;32min\u001B[0m \u001B[0mzip\u001B[0m\u001B[1;33m(\u001B[0m\u001B[0milocs\u001B[0m\u001B[1;33m,\u001B[0m \u001B[0mvalue\u001B[0m\u001B[1;33m)\u001B[0m\u001B[1;33m:\u001B[0m\u001B[1;33m\u001B[0m\u001B[1;33m\u001B[0m\u001B[0m\n\u001B[1;32m-> 1797\u001B[1;33m                     \u001B[0mself\u001B[0m\u001B[1;33m.\u001B[0m\u001B[0m_setitem_single_column\u001B[0m\u001B[1;33m(\u001B[0m\u001B[0mloc\u001B[0m\u001B[1;33m,\u001B[0m \u001B[0mv\u001B[0m\u001B[1;33m,\u001B[0m \u001B[0mpi\u001B[0m\u001B[1;33m)\u001B[0m\u001B[1;33m\u001B[0m\u001B[1;33m\u001B[0m\u001B[0m\n\u001B[0m\u001B[0;32m   1798\u001B[0m \u001B[1;33m\u001B[0m\u001B[0m\n\u001B[0;32m   1799\u001B[0m             \u001B[1;32melif\u001B[0m \u001B[0mlen\u001B[0m\u001B[1;33m(\u001B[0m\u001B[0milocs\u001B[0m\u001B[1;33m)\u001B[0m \u001B[1;33m==\u001B[0m \u001B[1;36m1\u001B[0m \u001B[1;32mand\u001B[0m \u001B[0mcom\u001B[0m\u001B[1;33m.\u001B[0m\u001B[0mis_null_slice\u001B[0m\u001B[1;33m(\u001B[0m\u001B[0mpi\u001B[0m\u001B[1;33m)\u001B[0m \u001B[1;32mand\u001B[0m \u001B[0mlen\u001B[0m\u001B[1;33m(\u001B[0m\u001B[0mself\u001B[0m\u001B[1;33m.\u001B[0m\u001B[0mobj\u001B[0m\u001B[1;33m)\u001B[0m \u001B[1;33m==\u001B[0m \u001B[1;36m0\u001B[0m\u001B[1;33m:\u001B[0m\u001B[1;33m\u001B[0m\u001B[1;33m\u001B[0m\u001B[0m\n",
      "\u001B[1;32mD:\\Research\\HED\\hed-examples\\venv\\lib\\site-packages\\pandas\\core\\indexing.py\u001B[0m in \u001B[0;36m_setitem_single_column\u001B[1;34m(self, loc, value, plane_indexer)\u001B[0m\n\u001B[0;32m   1922\u001B[0m \u001B[1;33m\u001B[0m\u001B[0m\n\u001B[0;32m   1923\u001B[0m         \u001B[1;31m# reset the sliced object if unique\u001B[0m\u001B[1;33m\u001B[0m\u001B[1;33m\u001B[0m\u001B[1;33m\u001B[0m\u001B[0m\n\u001B[1;32m-> 1924\u001B[1;33m         \u001B[0mself\u001B[0m\u001B[1;33m.\u001B[0m\u001B[0mobj\u001B[0m\u001B[1;33m.\u001B[0m\u001B[0m_iset_item\u001B[0m\u001B[1;33m(\u001B[0m\u001B[0mloc\u001B[0m\u001B[1;33m,\u001B[0m \u001B[0mser\u001B[0m\u001B[1;33m)\u001B[0m\u001B[1;33m\u001B[0m\u001B[1;33m\u001B[0m\u001B[0m\n\u001B[0m\u001B[0;32m   1925\u001B[0m \u001B[1;33m\u001B[0m\u001B[0m\n\u001B[0;32m   1926\u001B[0m     \u001B[1;32mdef\u001B[0m \u001B[0m_setitem_single_block\u001B[0m\u001B[1;33m(\u001B[0m\u001B[0mself\u001B[0m\u001B[1;33m,\u001B[0m \u001B[0mindexer\u001B[0m\u001B[1;33m,\u001B[0m \u001B[0mvalue\u001B[0m\u001B[1;33m,\u001B[0m \u001B[0mname\u001B[0m\u001B[1;33m:\u001B[0m \u001B[0mstr\u001B[0m\u001B[1;33m)\u001B[0m\u001B[1;33m:\u001B[0m\u001B[1;33m\u001B[0m\u001B[1;33m\u001B[0m\u001B[0m\n",
      "\u001B[1;32mD:\\Research\\HED\\hed-examples\\venv\\lib\\site-packages\\pandas\\core\\frame.py\u001B[0m in \u001B[0;36m_iset_item\u001B[1;34m(self, loc, value)\u001B[0m\n\u001B[0;32m   3764\u001B[0m     \u001B[1;32mdef\u001B[0m \u001B[0m_iset_item\u001B[0m\u001B[1;33m(\u001B[0m\u001B[0mself\u001B[0m\u001B[1;33m,\u001B[0m \u001B[0mloc\u001B[0m\u001B[1;33m:\u001B[0m \u001B[0mint\u001B[0m\u001B[1;33m,\u001B[0m \u001B[0mvalue\u001B[0m\u001B[1;33m)\u001B[0m \u001B[1;33m->\u001B[0m \u001B[1;32mNone\u001B[0m\u001B[1;33m:\u001B[0m\u001B[1;33m\u001B[0m\u001B[1;33m\u001B[0m\u001B[0m\n\u001B[0;32m   3765\u001B[0m         \u001B[0marraylike\u001B[0m \u001B[1;33m=\u001B[0m \u001B[0mself\u001B[0m\u001B[1;33m.\u001B[0m\u001B[0m_sanitize_column\u001B[0m\u001B[1;33m(\u001B[0m\u001B[0mvalue\u001B[0m\u001B[1;33m)\u001B[0m\u001B[1;33m\u001B[0m\u001B[1;33m\u001B[0m\u001B[0m\n\u001B[1;32m-> 3766\u001B[1;33m         \u001B[0mself\u001B[0m\u001B[1;33m.\u001B[0m\u001B[0m_iset_item_mgr\u001B[0m\u001B[1;33m(\u001B[0m\u001B[0mloc\u001B[0m\u001B[1;33m,\u001B[0m \u001B[0marraylike\u001B[0m\u001B[1;33m)\u001B[0m\u001B[1;33m\u001B[0m\u001B[1;33m\u001B[0m\u001B[0m\n\u001B[0m\u001B[0;32m   3767\u001B[0m \u001B[1;33m\u001B[0m\u001B[0m\n\u001B[0;32m   3768\u001B[0m         \u001B[1;31m# check if we are modifying a copy\u001B[0m\u001B[1;33m\u001B[0m\u001B[1;33m\u001B[0m\u001B[1;33m\u001B[0m\u001B[0m\n",
      "\u001B[1;32mD:\\Research\\HED\\hed-examples\\venv\\lib\\site-packages\\pandas\\core\\frame.py\u001B[0m in \u001B[0;36m_iset_item_mgr\u001B[1;34m(self, loc, value)\u001B[0m\n\u001B[0;32m   3744\u001B[0m     \u001B[1;32mdef\u001B[0m \u001B[0m_iset_item_mgr\u001B[0m\u001B[1;33m(\u001B[0m\u001B[0mself\u001B[0m\u001B[1;33m,\u001B[0m \u001B[0mloc\u001B[0m\u001B[1;33m:\u001B[0m \u001B[0mint\u001B[0m \u001B[1;33m|\u001B[0m \u001B[0mslice\u001B[0m \u001B[1;33m|\u001B[0m \u001B[0mnp\u001B[0m\u001B[1;33m.\u001B[0m\u001B[0mndarray\u001B[0m\u001B[1;33m,\u001B[0m \u001B[0mvalue\u001B[0m\u001B[1;33m)\u001B[0m \u001B[1;33m->\u001B[0m \u001B[1;32mNone\u001B[0m\u001B[1;33m:\u001B[0m\u001B[1;33m\u001B[0m\u001B[1;33m\u001B[0m\u001B[0m\n\u001B[0;32m   3745\u001B[0m         \u001B[1;31m# when called from _set_item_mgr loc can be anything returned from get_loc\u001B[0m\u001B[1;33m\u001B[0m\u001B[1;33m\u001B[0m\u001B[1;33m\u001B[0m\u001B[0m\n\u001B[1;32m-> 3746\u001B[1;33m         \u001B[0mself\u001B[0m\u001B[1;33m.\u001B[0m\u001B[0m_mgr\u001B[0m\u001B[1;33m.\u001B[0m\u001B[0miset\u001B[0m\u001B[1;33m(\u001B[0m\u001B[0mloc\u001B[0m\u001B[1;33m,\u001B[0m \u001B[0mvalue\u001B[0m\u001B[1;33m)\u001B[0m\u001B[1;33m\u001B[0m\u001B[1;33m\u001B[0m\u001B[0m\n\u001B[0m\u001B[0;32m   3747\u001B[0m         \u001B[0mself\u001B[0m\u001B[1;33m.\u001B[0m\u001B[0m_clear_item_cache\u001B[0m\u001B[1;33m(\u001B[0m\u001B[1;33m)\u001B[0m\u001B[1;33m\u001B[0m\u001B[1;33m\u001B[0m\u001B[0m\n\u001B[0;32m   3748\u001B[0m \u001B[1;33m\u001B[0m\u001B[0m\n",
      "\u001B[1;32mD:\\Research\\HED\\hed-examples\\venv\\lib\\site-packages\\pandas\\core\\internals\\managers.py\u001B[0m in \u001B[0;36miset\u001B[1;34m(self, loc, value)\u001B[0m\n\u001B[0;32m   1066\u001B[0m \u001B[1;33m\u001B[0m\u001B[0m\n\u001B[0;32m   1067\u001B[0m         \u001B[1;31m# Accessing public blknos ensures the public versions are initialized\u001B[0m\u001B[1;33m\u001B[0m\u001B[1;33m\u001B[0m\u001B[1;33m\u001B[0m\u001B[0m\n\u001B[1;32m-> 1068\u001B[1;33m         \u001B[0mblknos\u001B[0m \u001B[1;33m=\u001B[0m \u001B[0mself\u001B[0m\u001B[1;33m.\u001B[0m\u001B[0mblknos\u001B[0m\u001B[1;33m[\u001B[0m\u001B[0mloc\u001B[0m\u001B[1;33m]\u001B[0m\u001B[1;33m\u001B[0m\u001B[1;33m\u001B[0m\u001B[0m\n\u001B[0m\u001B[0;32m   1069\u001B[0m         \u001B[0mblklocs\u001B[0m \u001B[1;33m=\u001B[0m \u001B[0mself\u001B[0m\u001B[1;33m.\u001B[0m\u001B[0mblklocs\u001B[0m\u001B[1;33m[\u001B[0m\u001B[0mloc\u001B[0m\u001B[1;33m]\u001B[0m\u001B[1;33m.\u001B[0m\u001B[0mcopy\u001B[0m\u001B[1;33m(\u001B[0m\u001B[1;33m)\u001B[0m\u001B[1;33m\u001B[0m\u001B[1;33m\u001B[0m\u001B[0m\n\u001B[0;32m   1070\u001B[0m \u001B[1;33m\u001B[0m\u001B[0m\n",
      "\u001B[1;31mKeyboardInterrupt\u001B[0m: "
     ]
    }
   ],
   "source": [
    "import os\n",
    "from hed.tools import BidsTsvDictionary, KeyMap,  HedLogger\n",
    "from hed.util import get_file_list, get_new_dataframe\n",
    "\n",
    "# Variables to set for the specific dataset\n",
    "bids_root_path = 'G:\\AttentionShift\\AttentionShiftWorking'\n",
    "exclude_dirs = ['sourcedata', 'stimuli', 'code']\n",
    "entities = ('sub', 'run')\n",
    "key_columns = [\"event_code\", \"cond_code\", \"focus_modality\"]\n",
    "target_columns = [\"event_type\", \"attention_status\", \"task_role\"]\n",
    "log_file_name = 'attention_shift_09_remap_events_log.json'\n",
    "template_file = os.path.join(bids_root_path, \"code/attention_shift_remap_event_template_filled.tsv\")\n",
    "\n",
    "# Make the file list and dictionary for _events_temp4\n",
    "bids_files = get_file_list(bids_root_path, extensions=[\".tsv\"], name_suffix=\"_events_temp4\", exclude_dirs=exclude_dirs)\n",
    "bids_dict = BidsTsvDictionary(\"Event files\", bids_files, entities=entities)\n",
    "\n",
    "# Create the template\n",
    "logger = HedLogger()\n",
    "key_map = KeyMap(key_columns, target_columns, name='attention_shift_remap')\n",
    "logger.add(\"overall\",\n",
    "           f\"Creating a key map with key_columns {str(key_columns)} and target_columns {str(target_columns)}\")\n",
    "logger.add(\"overall\", f\"Read the template from {template_file}\")\n",
    "duplicates = key_map.update(template_file)\n",
    "if duplicates:\n",
    "    logger.add(\"overall\", f\"This mapping has {len(duplicates)} duplicate key entries\", level=\"ERROR\", also_print=True)\n",
    "\n",
    "for key, file, rowcount, columns in bids_dict.iter_tsv_info():\n",
    "    filename = file.file_path\n",
    "    df_bids = get_new_dataframe(filename)\n",
    "    logger.add(key, f\"Remapping {filename}\")\n",
    "    df_new, missing = key_map.remap(filename)\n",
    "    if missing:\n",
    "        logger.add(key, f\"The keys {str(missing)} were not in the map\", level=\"ERROR\", also_print=True)\n",
    "    filename_new = filename[:-5] + \"5.tsv\"\n",
    "    df_new.to_csv(filename_new, sep='\\t', index=False)\n",
    "    logger.add(key, f\"Writing {filename_new}\")\n",
    "    break\n",
    "\n",
    "# Output and save the log\n",
    "# logger.print_log()\n",
    "# save_path = os.path.join(bids_root_path, 'code')\n",
    "# logger.save_log(save_path, log_name=log_file_name)\n",
    "#\n",
    "# # Output errors\n",
    "# print(\"\\nERROR Summary:\")\n",
    "# logger.print_log(level=\"ERROR\")"
   ],
   "metadata": {
    "collapsed": false,
    "pycharm": {
     "name": "#%% Create the template for the dataset\n"
    }
   }
  }
 ],
 "metadata": {
  "kernelspec": {
   "display_name": "Python 3",
   "language": "python",
   "name": "python3"
  },
  "language_info": {
   "codemirror_mode": {
    "name": "ipython",
    "version": 2
   },
   "file_extension": ".py",
   "mimetype": "text/x-python",
   "name": "python",
   "nbconvert_exporter": "python",
   "pygments_lexer": "ipython2",
   "version": "2.7.6"
  }
 },
 "nbformat": 4,
 "nbformat_minor": 0
}