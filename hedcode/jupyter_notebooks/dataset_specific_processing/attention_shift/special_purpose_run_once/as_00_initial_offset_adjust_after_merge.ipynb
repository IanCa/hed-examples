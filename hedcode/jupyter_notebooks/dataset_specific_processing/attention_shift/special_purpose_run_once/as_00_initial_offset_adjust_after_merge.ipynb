{
 "cells": [
  {
   "cell_type": "markdown",
   "source": [
    "## Adjusting the times for two merged runs after concatenation.\n",
    "\n",
    "**THIS SHOULD ONLY BE EXECUTED ONCE**\n",
    "\n",
    "\n"
   ],
   "metadata": {
    "collapsed": false,
    "pycharm": {
     "name": "#%% md\n"
    }
   }
  },
  {
   "cell_type": "code",
   "execution_count": 1,
   "outputs": [
    {
     "name": "stdout",
     "output_type": "stream",
     "text": [
      "Adjusted the ['onset', 'sample'] for merge at event 288\n",
      "Adjusted the ['onset', 'sample'] for merge at event 289\n"
     ]
    }
   ],
   "source": [
    "from hed.util.io_util import get_file_list, make_file_dict\n",
    "from hed.util.data_util import get_new_dataframe\n",
    "from hed.tools.hed_logger import HedLogger\n",
    "\n",
    "\n",
    "def adjust_merge(df_merged, break_event_ind, columns):\n",
    "    total_events = len(df_merged.index)\n",
    "    for col in columns:\n",
    "        break_value = df_merged.loc[break_event_ind, col]\n",
    "        for ind in range((break_event_ind + 1), total_events):\n",
    "            df_merged.loc[ind, col] += break_value\n",
    "\n",
    "\n",
    "# Set up the logger\n",
    "status = HedLogger()\n",
    "\n",
    "# Make the dictionaries of the events.tsv files and the EEG.set events files\n",
    "bids_root_path = 'G:\\AttentionShift\\AttentionShiftWorking1'\n",
    "bids_files = get_file_list(bids_root_path, extensions=[\".tsv\"], name_suffix=\"_events\")\n",
    "bids_dict = make_file_dict(bids_files, indices=(0, 2))\n",
    "fatal_error = False\n",
    "\n",
    "# Subject 004\n",
    "key='sub-004_run-01'\n",
    "break_event = 288\n",
    "adjust_columns = ['onset', 'sample']\n",
    "file = bids_dict[key]\n",
    "df = get_new_dataframe(file)\n",
    "adjust_merge(df, break_event, adjust_columns)\n",
    "df.to_csv(file, sep='\\t', index=False)\n",
    "status.add(key, f\"Adjusted the {str(adjust_columns)} for merge at event {break_event}\", also_print=True)\n",
    "\n",
    "# Subject 036\n",
    "key='sub-036_run-01'\n",
    "break_event = 289\n",
    "adjust_columns = ['onset', 'sample']\n",
    "file = bids_dict[key]\n",
    "df = get_new_dataframe(file)\n",
    "adjust_merge(df, break_event, adjust_columns)\n",
    "df.to_csv(file, sep='\\t', index=False)\n",
    "status.add(key, f\"Adjusted the {str(adjust_columns)} for merge at event {break_event}\", also_print=True)"
   ],
   "metadata": {
    "collapsed": false,
    "pycharm": {
     "name": "#%% Setup the structure and column names\n"
    }
   }
  }
 ],
 "metadata": {
  "kernelspec": {
   "display_name": "Python 3",
   "language": "python",
   "name": "python3"
  },
  "language_info": {
   "codemirror_mode": {
    "name": "ipython",
    "version": 2
   },
   "file_extension": ".py",
   "mimetype": "text/x-python",
   "name": "python",
   "nbconvert_exporter": "python",
   "pygments_lexer": "ipython2",
   "version": "2.7.6"
  }
 },
 "nbformat": 4,
 "nbformat_minor": 0
}