{
 "cells": [
  {
   "cell_type": "markdown",
   "source": [
    "## Checks that the event codes are consistent with conditions\n",
    "\n",
    "This script cross-checks for consistency in `_events_temp3.tsv` after\n",
    "all corrections have been made notebook.\n",
    "\n",
    "### Checking for forbidden codes\n",
    "       Codes 1 and 2 can appear anywhere\n",
    "       Codes 3 through 6 should appear only in the focus condition.\n",
    "       Codes 7 through 14 should appear only in the shift condition.\n",
    "       Codes 199, 201, 202, and 255 are not related to condition."
   ],
   "metadata": {
    "collapsed": false,
    "pycharm": {
     "name": "#%% md\n"
    }
   }
  },
  {
   "cell_type": "code",
   "execution_count": null,
   "outputs": [],
   "source": [
    "from hed.tools import BidsTsvDictionary, HedLogger\n",
    "from hed.util import get_file_list, get_new_dataframe\n",
    "\n",
    "# Set up the directories and make a dictionary for _events_temp3.tsv\n",
    "bids_root_path = 'G:\\AttentionShift\\AttentionShiftWorking'\n",
    "exclude_dirs = ['sourcedata', 'stimuli', 'code']\n",
    "entities = ('sub', 'run')\n",
    "skip_cols = ['onset', 'duration', 'sample']\n",
    "\n",
    "bids_files = get_file_list(bids_root_path, extensions=[\".tsv\"], name_suffix=\"_events_temp3\",\n",
    "                           exclude_dirs=exclude_dirs)\n",
    "bids_dict = BidsTsvDictionary(bids_files, entities=entities)"
   ],
   "metadata": {
    "collapsed": false,
    "pycharm": {
     "name": "#%% Setup the structure and column names\n"
    }
   }
  },
  {
   "cell_type": "code",
   "execution_count": null,
   "outputs": [],
   "source": [
    "status = HedLogger()\n",
    "for key, file, rowcount, columns in bids_dict.iter_tsv_info():\n",
    "    df_bids = get_new_dataframe(file.file_path)\n",
    "    shift_cond_mask = df_bids['cond_code'].map(str).isin(['3'])\n",
    "    visual_shift_mask = shift_cond_mask & df_bids['focus_modality'].map(str).isin(['visual'])\n",
    "    auditory_shift_mask = shift_cond_mask & df_bids['focus_modality'].map(str).isin(['auditory'])\n",
    "\n",
    "    bad_7 = visual_shift_mask & df_bids['event_code'].map(str).isin(['7'])\n",
    "    if sum(bad_7):\n",
    "        df_bids.loc[df_bids.index[bad_7], 'event_code'] = '9'\n",
    "        status.add(key, f\"{key} has {sum(bad_7)} event code values of 7 in visual changing to 9\")\n",
    "        status.add(key, f\"{str(list(df_bids.index[bad_7]))}\")\n",
    "\n",
    "    bad_8 = auditory_shift_mask & df_bids['event_code'].map(str).isin(['8'])\n",
    "    if sum(bad_8):\n",
    "        df_bids.loc[df_bids.index[bad_8], 'event_code'] = '10'\n",
    "        status.add(key, f\"{key} has {sum(bad_8)} event code values of 8 in auditory changing to 10\")\n",
    "        status.add(key, f\"{str(list(df_bids.index[bad_8]))}\")\n",
    "\n",
    "    bad_9 = auditory_shift_mask & df_bids['event_code'].map(str).isin(['9'])\n",
    "    if sum(bad_9):\n",
    "        df_bids.loc[df_bids.index[bad_9], 'event_code'] = '7'\n",
    "        status.add(key, f\"{key} has {sum(bad_9)} event code values of 9 in auditory changing to 7\")\n",
    "        status.add(key, f\"{str(list(df_bids.index[bad_9]))}\")\n",
    "\n",
    "    bad_10 = visual_shift_mask & df_bids['event_code'].map(str).isin(['10'])\n",
    "    if sum(bad_10):\n",
    "        df_bids.loc[df_bids.index[bad_10], 'event_code'] = '8'\n",
    "        status.add(key, f\"{key} has {sum(bad_10)} event code values of 10 in visual changing to 8\")\n",
    "        status.add(key, f\"{str(list(df_bids.index[bad_10]))}\")\n",
    "\n",
    "    bad_11 = visual_shift_mask & df_bids['event_code'].map(str).isin(['10'])\n",
    "    if sum(bad_11):\n",
    "        df_bids.loc[df_bids.index[bad_11], 'event_code'] = '13'\n",
    "        status.add(key, f\"{key} has {sum(bad_11)} event code values of 11 in visual changing to 13\")\n",
    "        status.add(key, f\"{str(list(df_bids.index[bad_11]))}\")\n",
    "\n",
    "    bad_12 = auditory_shift_mask & df_bids['event_code'].map(str).isin(['12'])\n",
    "    if sum(bad_12):\n",
    "        df_bids.loc[df_bids.index[bad_12], 'event_code'] = '14'\n",
    "        status.add(key, f\"{key} has {sum(bad_12)} event code values of 12 in visual changing to 14\")\n",
    "        status.add(key, f\"{str(list(df_bids.index[bad_12]))}\")\n",
    "\n",
    "    bad_13 = auditory_shift_mask & df_bids['event_code'].map(str).isin(['13'])\n",
    "    if sum(bad_13):\n",
    "        df_bids.loc[df_bids.index[bad_13], 'event_code'] = '11'\n",
    "        status.add(key, f\"{key} has {sum(bad_13)} event code values of 13 in visual changing to 11\")\n",
    "        status.add(key, f\"{str(list(df_bids.index[bad_13]))}\")\n",
    "\n",
    "    bad_14 = visual_shift_mask & df_bids['event_code'].map(str).isin(['14'])\n",
    "    if sum(bad_14):\n",
    "        df_bids.loc[df_bids.index[bad_14], 'event_code'] = '12'\n",
    "        status.add(key, f\"{key} has {sum(bad_14)} event code values of 14 in visual changing to 12\")\n",
    "        status.add(key, f\"{str(list(df_bids.index[bad_14]))}\")\n",
    "    df_bids.to_csv(file.file_path, sep='\\t', index=False)"
   ],
   "metadata": {
    "collapsed": false,
    "pycharm": {
     "name": "#%% Find which studies have bad codes\n"
    }
   }
  },
  {
   "cell_type": "code",
   "execution_count": null,
   "outputs": [],
   "source": [
    "status.print_log()\n",
    "status.save_log(bids_root_path, sub_path='code', log_name='as_hed_06_fix_modality_code_inconsistencies.json')\n"
   ],
   "metadata": {
    "collapsed": false,
    "pycharm": {
     "name": "#%% Print the status log\n"
    }
   }
  }
 ],
 "metadata": {
  "kernelspec": {
   "display_name": "Python 3",
   "language": "python",
   "name": "python3"
  },
  "language_info": {
   "codemirror_mode": {
    "name": "ipython",
    "version": 2
   },
   "file_extension": ".py",
   "mimetype": "text/x-python",
   "name": "python",
   "nbconvert_exporter": "python",
   "pygments_lexer": "ipython2",
   "version": "2.7.6"
  }
 },
 "nbformat": 4,
 "nbformat_minor": 0
}