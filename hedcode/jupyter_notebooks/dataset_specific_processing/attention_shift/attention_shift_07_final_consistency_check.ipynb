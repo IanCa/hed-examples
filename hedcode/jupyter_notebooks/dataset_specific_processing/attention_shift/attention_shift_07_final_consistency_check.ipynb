{
 "cells": [
  {
   "cell_type": "markdown",
   "source": [
    "## Checks that the event codes are consistent with conditions for Attention Shift\n",
    "\n",
    "This script cross-checks for consistency in `_events_temp4.tsv` after\n",
    "all corrections have been made notebook.\n",
    "\n",
    "### Checking for forbidden codes\n",
    "       Codes 1 and 2 can appear anywhere\n",
    "       Codes 3 through 6 should appear only in the focus condition.\n",
    "       Codes 7 through 14 should appear only in the shift condition.\n",
    "       Codes 199, 201, 202, and 255 are not related to condition."
   ],
   "metadata": {
    "collapsed": false,
    "pycharm": {
     "name": "#%% md\n"
    }
   }
  },
  {
   "cell_type": "code",
   "execution_count": 1,
   "outputs": [],
   "source": [
    "import os\n",
    "from hed.tools import BidsTsvDictionary, HedLogger\n",
    "from hed.util import get_file_list, get_new_dataframe\n",
    "\n",
    "# Variables to set for the specific dataset\n",
    "bids_root_path = 'G:\\AttentionShift\\AttentionShiftWorking'\n",
    "exclude_dirs = ['sourcedata', 'stimuli', 'code']\n",
    "entities = ('sub', 'run')\n",
    "skip_cols = ['onset', 'duration', 'sample']\n",
    "log_file_name = 'attention_shift_07_final_consistency_check_log.json'\n",
    "\n",
    "# Construct the event file dictionary\n",
    "bids_files = get_file_list(bids_root_path, extensions=[\".tsv\"], name_suffix=\"_events_temp4\", exclude_dirs=exclude_dirs)\n",
    "bids_dict = BidsTsvDictionary(\"Event files\", bids_files, entities=entities)"
   ],
   "metadata": {
    "collapsed": false,
    "pycharm": {
     "name": "#%% Setup the structure and column names\n"
    }
   }
  },
  {
   "cell_type": "code",
   "execution_count": 2,
   "outputs": [
    {
     "name": "stdout",
     "output_type": "stream",
     "text": [
      "Isolating the bad codes:\n",
      "sub-005_run-01:\n",
      "\t[ sub-005_run-01 has 6 event_code values of 255]\n",
      "\t[ [266, 267, 268, 269, 270, 271]]\n",
      "\n",
      "ERROR Summary:\n",
      "sub-005_run-01:\n"
     ]
    }
   ],
   "source": [
    "logger = HedLogger()\n",
    "print(\"Isolating the bad codes:\")\n",
    "for key, file, rowcount, columns in bids_dict.iter_tsv_info():\n",
    "    df_bids = get_new_dataframe(file.file_path)\n",
    "\n",
    "    focus_cond_mask = df_bids['cond_code'].map(str).isin(['1', '2'])\n",
    "    shift_cond_mask = df_bids['cond_code'].map(str).isin(['3'])\n",
    "    focus_event_mask = df_bids['event_code'].map(str).isin(['3', '4', '5', '6'])\n",
    "    shift_event_mask = df_bids['event_code'].map(str).isin(['7', '8', '9', '10', '11', '12', '13', '14'])\n",
    "    bad_focus = sum(focus_cond_mask & shift_event_mask)\n",
    "    if bad_focus:\n",
    "        indices = df_bids.index[focus_cond_mask & shift_event_mask]\n",
    "        logger.add(key, f\"{key} has {bad_focus} shift event codes in a focus condition\")\n",
    "        logger.add(key, f\"{str(list(indices))}\")\n",
    "    bad_shift = sum(shift_cond_mask & focus_event_mask)\n",
    "    if bad_shift:\n",
    "        indices = df_bids.index[shift_cond_mask & focus_event_mask]\n",
    "        logger.add(key, f\"{key} has {bad_shift} focus event codes in a shift condition\")\n",
    "        logger.add(key, f\"{str(list(indices))}\")\n",
    "    bad_cond_mask = df_bids['cond_code'].map(str).isin(['0'])\n",
    "    if sum(bad_cond_mask):\n",
    "        logger.add(key, f\"{key} has {sum(bad_cond_mask)} cond_code values of 0\")\n",
    "        logger.add(key, f\"{str(list(df_bids.index[bad_cond_mask]))}\")\n",
    "    unknown_mask = df_bids['event_code'].map(str).isin(['255'])\n",
    "    if sum(unknown_mask):\n",
    "        logger.add(key, f\"{key} has {sum(unknown_mask)} event_code values of 255\")\n",
    "        logger.add(key, f\"{str(list(df_bids.index[unknown_mask]))}\")\n",
    "    auditory_shift_mask = df_bids['event_code'].map(str).isin(['7', '10', '11',  '14'])\n",
    "    visual_shift_mask = df_bids['event_code'].map(str).isin(['8', '9', '12', '13'])\n",
    "    visual_mask = df_bids['focus_modality'].map(str).isin(['visual', 'n/a'])\n",
    "    auditory_mask = df_bids['focus_modality'].map(str).isin(['auditory', 'n/a'])\n",
    "    bad_visual = shift_cond_mask & auditory_mask & visual_shift_mask\n",
    "    if sum(bad_visual):\n",
    "        logger.add(key, f\"{key} has {sum(bad_visual)} visual event_code values in auditory focus modality\")\n",
    "        logger.add(key, f\"{str(list(df_bids.index[bad_visual]))}\")\n",
    "    bad_auditory = shift_cond_mask & visual_mask & auditory_shift_mask\n",
    "    if sum(bad_auditory):\n",
    "        logger.add(key, f\"{key} has {sum(bad_auditory)} auditory event_code values in visual focus modality\")\n",
    "        logger.add(key, f\"{str(list(df_bids.index[bad_auditory]))}\")\n",
    "\n",
    "# Output and save the log\n",
    "logger.print_log()\n",
    "save_path = os.path.join(bids_root_path, 'code')\n",
    "logger.save_log(save_path, log_name=log_file_name)\n",
    "\n",
    "# Output errors\n",
    "print(\"\\nERROR Summary:\")\n",
    "logger.print_log(level=\"ERROR\")"
   ],
   "metadata": {
    "collapsed": false,
    "pycharm": {
     "name": "#%% Find which studies have bad codes\n"
    }
   }
  }
 ],
 "metadata": {
  "kernelspec": {
   "display_name": "Python 3",
   "language": "python",
   "name": "python3"
  },
  "language_info": {
   "codemirror_mode": {
    "name": "ipython",
    "version": 2
   },
   "file_extension": ".py",
   "mimetype": "text/x-python",
   "name": "python",
   "nbconvert_exporter": "python",
   "pygments_lexer": "ipython2",
   "version": "2.7.6"
  }
 },
 "nbformat": 4,
 "nbformat_minor": 0
}