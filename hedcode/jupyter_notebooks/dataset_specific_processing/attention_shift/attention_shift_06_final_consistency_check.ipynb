{
 "cells": [
  {
   "cell_type": "markdown",
   "source": [
    "## Checks that the event codes are consistent with conditions\n",
    "\n",
    "This script cross-checks for consistency in `_events_temp3.tsv` after\n",
    "all corrections have been made notebook.\n",
    "\n",
    "### Checking for forbidden codes\n",
    "       Codes 1 and 2 can appear anywhere\n",
    "       Codes 3 through 6 should appear only in the focus condition.\n",
    "       Codes 7 through 14 should appear only in the shift condition.\n",
    "       Codes 199, 201, 202, and 255 are not related to condition."
   ],
   "metadata": {
    "collapsed": false,
    "pycharm": {
     "name": "#%% md\n"
    }
   }
  },
  {
   "cell_type": "code",
   "execution_count": 1,
   "outputs": [],
   "source": [
    "from hed.tools import BidsTsvDictionary, HedLogger\n",
    "from hed.util import get_file_list, get_new_dataframe\n",
    "\n",
    "# Set up the directories and make a dictionary for _events_temp3.tsv\n",
    "bids_root_path = 'G:\\AttentionShift\\AttentionShiftWorking'\n",
    "exclude_dirs = ['sourcedata', 'stimuli', 'code']\n",
    "entities = ('sub', 'run')\n",
    "skip_cols = ['onset', 'duration', 'sample']\n",
    "\n",
    "bids_files = get_file_list(bids_root_path, extensions=[\".tsv\"], name_suffix=\"_events_temp3\",\n",
    "                           exclude_dirs=exclude_dirs)\n",
    "bids_dict = BidsTsvDictionary(bids_files, entities=entities)"
   ],
   "metadata": {
    "collapsed": false,
    "pycharm": {
     "name": "#%% Setup the structure and column names\n"
    }
   }
  },
  {
   "cell_type": "code",
   "execution_count": 2,
   "outputs": [
    {
     "name": "stdout",
     "output_type": "stream",
     "text": [
      "Isolating the bad codes:\n"
     ]
    }
   ],
   "source": [
    "status = HedLogger()\n",
    "print(\"Isolating the bad codes:\")\n",
    "for key, file, rowcount, columns in bids_dict.iter_tsv_info():\n",
    "    df_bids = get_new_dataframe(file.file_path)\n",
    "\n",
    "    focus_cond_mask = df_bids['cond_code'].map(str).isin(['1', '2'])\n",
    "    shift_cond_mask = df_bids['cond_code'].map(str).isin(['3'])\n",
    "    focus_event_mask = df_bids['event_code'].map(str).isin(['3', '4', '5', '6'])\n",
    "    shift_event_mask = df_bids['event_code'].map(str).isin(['7', '8', '9', '10', '11', '12', '13', '14'])\n",
    "    bad_focus = sum(focus_cond_mask & shift_event_mask)\n",
    "    if bad_focus:\n",
    "        indices = df_bids.index[focus_cond_mask & shift_event_mask]\n",
    "        status.add(key, f\"{key} has {bad_focus} shift event codes in a focus condition\")\n",
    "        status.add(key, f\"{str(list(indices))}\")\n",
    "    bad_shift = sum(shift_cond_mask & focus_event_mask)\n",
    "    if bad_shift:\n",
    "        indices = df_bids.index[shift_cond_mask & focus_event_mask]\n",
    "        status.add(key, f\"{key} has {bad_shift} focus event codes in a shift condition\")\n",
    "        status.add(key, f\"{str(list(indices))}\")\n",
    "    bad_cond_mask = df_bids['cond_code'].map(str).isin(['0'])\n",
    "    if sum(bad_cond_mask):\n",
    "        status.add(key, f\"{key} has {sum(bad_cond_mask)} cond_code values of 0\")\n",
    "        status.add(key, f\"{str(list(df_bids.index[bad_cond_mask]))}\")\n",
    "    unknown_mask = sum(df_bids['event_code'].map(str).isin(['255']))\n",
    "    if sum(unknown_mask):\n",
    "        status.add(key, f\"{key} has {sum(unknown_mask)} event_code values of 255\")\n",
    "        status.add(key, f\"{str(list(df_bids.index[unknown_mask]))}\")"
   ],
   "metadata": {
    "collapsed": false,
    "pycharm": {
     "name": "#%% Find which studies have bad codes\n"
    }
   }
  },
  {
   "cell_type": "code",
   "execution_count": 3,
   "outputs": [
    {
     "name": "stdout",
     "output_type": "stream",
     "text": [
      "sub-005_run-01\n",
      "\tsub-005_run-01 has 6 event_code values of 255\n"
     ]
    }
   ],
   "source": [
    "status.print_log()\n",
    "status.save_log(bids_root_path, sub_path='code', log_name='as_hed_06_final_consistency_check_log.json')\n"
   ],
   "metadata": {
    "collapsed": false,
    "pycharm": {
     "name": "#%% Print the status log\n"
    }
   }
  }
 ],
 "metadata": {
  "kernelspec": {
   "display_name": "Python 3",
   "language": "python",
   "name": "python3"
  },
  "language_info": {
   "codemirror_mode": {
    "name": "ipython",
    "version": 2
   },
   "file_extension": ".py",
   "mimetype": "text/x-python",
   "name": "python",
   "nbconvert_exporter": "python",
   "pygments_lexer": "ipython2",
   "version": "2.7.6"
  }
 },
 "nbformat": 4,
 "nbformat_minor": 0
}