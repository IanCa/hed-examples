{
 "cells": [
  {
   "cell_type": "markdown",
   "metadata": {
    "collapsed": true,
    "pycharm": {
     "name": "#%% md\n"
    }
   },
   "source": [
    "## Statistics of the event distribution\n",
    "\n",
    "This script looks at the distribution of event codes in the Attention Shift dataset.\n"
   ]
  },
  {
   "cell_type": "markdown",
   "source": [
    "### Set up the file paths\n",
    "\n",
    "This script assumes that the data is in BIDS format and that each BIDS events\n",
    "file of the form `_events.tsv` has a corresponding events file with\n",
    "suffix `_events_temp.tsv` that was previously dumped from the `EEG.set` files."
   ],
   "metadata": {
    "collapsed": false
   }
  },
  {
   "cell_type": "code",
   "execution_count": 1,
   "outputs": [],
   "source": [
    "import os\n",
    "from hed.tools.data_util import get_new_dataframe\n",
    "from hed.tools.io_util import get_file_list\n",
    "bids_root_path = 'G:/AttentionShift/AttentionShiftExperiments'\n",
    "event_files = get_file_list(bids_root_path, extensions=[\".tsv\"], name_suffix=\"_events_temp2\")\n",
    "file_dict = {}\n",
    "for file in event_files:\n",
    "    base = os.path.basename(file)\n",
    "    pieces = base.split('_')\n",
    "    key = f\"{pieces[0]}_{pieces[-3]}\"\n",
    "    df = get_new_dataframe(file)\n",
    "    file_dict[key] = file"
   ],
   "metadata": {
    "collapsed": false,
    "pycharm": {
     "name": "#%% Make a dictionary of event file names\n"
    }
   }
  },
  {
   "cell_type": "markdown",
   "source": [
    "## Create summary dictionaries\n",
    "\n",
    "The next two sections create summary dictionaries"
   ],
   "metadata": {
    "collapsed": false,
    "pycharm": {
     "name": "#%% md\n"
    }
   }
  },
  {
   "cell_type": "code",
   "execution_count": 2,
   "outputs": [],
   "source": [
    "# def count_seq():\n",
    "\n"
   ],
   "metadata": {
    "collapsed": false,
    "pycharm": {
     "name": "#%% Create summary dictionaries of the original BIDS events files\n"
    }
   }
  },
  {
   "cell_type": "code",
   "execution_count": 3,
   "outputs": [
    {
     "name": "stdout",
     "output_type": "stream",
     "text": [
      "sub-001_run-01: G:/AttentionShift/AttentionShiftExperiments\\sub-001\\eeg\\sub-001_task-AuditoryVisualShift_run-01_events_temp2.tsv\n",
      "sub-002_run-01: G:/AttentionShift/AttentionShiftExperiments\\sub-002\\eeg\\sub-002_task-AuditoryVisualShift_run-01_events_temp2.tsv\n",
      "sub-003_run-01: G:/AttentionShift/AttentionShiftExperiments\\sub-003\\eeg\\sub-003_task-AuditoryVisualShift_run-01_events_temp2.tsv\n",
      "sub-004_run-01: G:/AttentionShift/AttentionShiftExperiments\\sub-004\\eeg\\sub-004_task-AuditoryVisualShift_run-01_events_temp2.tsv\n",
      "sub-004_run-02: G:/AttentionShift/AttentionShiftExperiments\\sub-004\\eeg\\sub-004_task-AuditoryVisualShift_run-02_events_temp2.tsv\n",
      "sub-005_run-01: G:/AttentionShift/AttentionShiftExperiments\\sub-005\\eeg\\sub-005_task-AuditoryVisualShift_run-01_events_temp2.tsv\n",
      "sub-006_run-01: G:/AttentionShift/AttentionShiftExperiments\\sub-006\\eeg\\sub-006_task-AuditoryVisualShift_run-01_events_temp2.tsv\n",
      "sub-007_run-01: G:/AttentionShift/AttentionShiftExperiments\\sub-007\\eeg\\sub-007_task-AuditoryVisualShift_run-01_events_temp2.tsv\n",
      "sub-008_run-01: G:/AttentionShift/AttentionShiftExperiments\\sub-008\\eeg\\sub-008_task-AuditoryVisualShift_run-01_events_temp2.tsv\n",
      "sub-009_run-01: G:/AttentionShift/AttentionShiftExperiments\\sub-009\\eeg\\sub-009_task-AuditoryVisualShift_run-01_events_temp2.tsv\n",
      "sub-010_run-01: G:/AttentionShift/AttentionShiftExperiments\\sub-010\\eeg\\sub-010_task-AuditoryVisualShift_run-01_events_temp2.tsv\n",
      "sub-011_run-01: G:/AttentionShift/AttentionShiftExperiments\\sub-011\\eeg\\sub-011_task-AuditoryVisualShift_run-01_events_temp2.tsv\n",
      "sub-012_run-01: G:/AttentionShift/AttentionShiftExperiments\\sub-012\\eeg\\sub-012_task-AuditoryVisualShift_run-01_events_temp2.tsv\n",
      "sub-013_run-01: G:/AttentionShift/AttentionShiftExperiments\\sub-013\\eeg\\sub-013_task-AuditoryVisualShift_run-01_events_temp2.tsv\n",
      "sub-014_run-01: G:/AttentionShift/AttentionShiftExperiments\\sub-014\\eeg\\sub-014_task-AuditoryVisualShift_run-01_events_temp2.tsv\n",
      "sub-015_run-01: G:/AttentionShift/AttentionShiftExperiments\\sub-015\\eeg\\sub-015_task-AuditoryVisualShift_run-01_events_temp2.tsv\n",
      "sub-016_run-01: G:/AttentionShift/AttentionShiftExperiments\\sub-016\\eeg\\sub-016_task-AuditoryVisualShift_run-01_events_temp2.tsv\n",
      "sub-017_run-01: G:/AttentionShift/AttentionShiftExperiments\\sub-017\\eeg\\sub-017_task-AuditoryVisualShift_run-01_events_temp2.tsv\n",
      "sub-018_run-01: G:/AttentionShift/AttentionShiftExperiments\\sub-018\\eeg\\sub-018_task-AuditoryVisualShift_run-01_events_temp2.tsv\n",
      "sub-019_run-01: G:/AttentionShift/AttentionShiftExperiments\\sub-019\\eeg\\sub-019_task-AuditoryVisualShift_run-01_events_temp2.tsv\n",
      "sub-020_run-01: G:/AttentionShift/AttentionShiftExperiments\\sub-020\\eeg\\sub-020_task-AuditoryVisualShift_run-01_events_temp2.tsv\n",
      "sub-021_run-01: G:/AttentionShift/AttentionShiftExperiments\\sub-021\\eeg\\sub-021_task-AuditoryVisualShift_run-01_events_temp2.tsv\n",
      "sub-021_run-02: G:/AttentionShift/AttentionShiftExperiments\\sub-021\\eeg\\sub-021_task-AuditoryVisualShift_run-02_events_temp2.tsv\n",
      "sub-022_run-01: G:/AttentionShift/AttentionShiftExperiments\\sub-022\\eeg\\sub-022_task-AuditoryVisualShift_run-01_events_temp2.tsv\n",
      "sub-022_run-02: G:/AttentionShift/AttentionShiftExperiments\\sub-022\\eeg\\sub-022_task-AuditoryVisualShift_run-02_events_temp2.tsv\n",
      "sub-023_run-01: G:/AttentionShift/AttentionShiftExperiments\\sub-023\\eeg\\sub-023_task-AuditoryVisualShift_run-01_events_temp2.tsv\n",
      "sub-024_run-01: G:/AttentionShift/AttentionShiftExperiments\\sub-024\\eeg\\sub-024_task-AuditoryVisualShift_run-01_events_temp2.tsv\n",
      "sub-025_run-01: G:/AttentionShift/AttentionShiftExperiments\\sub-025\\eeg\\sub-025_task-AuditoryVisualShift_run-01_events_temp2.tsv\n",
      "sub-026_run-01: G:/AttentionShift/AttentionShiftExperiments\\sub-026\\eeg\\sub-026_task-AuditoryVisualShift_run-01_events_temp2.tsv\n",
      "sub-027_run-01: G:/AttentionShift/AttentionShiftExperiments\\sub-027\\eeg\\sub-027_task-AuditoryVisualShift_run-01_events_temp2.tsv\n",
      "sub-028_run-01: G:/AttentionShift/AttentionShiftExperiments\\sub-028\\eeg\\sub-028_task-AuditoryVisualShift_run-01_events_temp2.tsv\n",
      "sub-028_run-02: G:/AttentionShift/AttentionShiftExperiments\\sub-028\\eeg\\sub-028_task-AuditoryVisualShift_run-02_events_temp2.tsv\n",
      "sub-029_run-01: G:/AttentionShift/AttentionShiftExperiments\\sub-029\\eeg\\sub-029_task-AuditoryVisualShift_run-01_events_temp2.tsv\n",
      "sub-030_run-01: G:/AttentionShift/AttentionShiftExperiments\\sub-030\\eeg\\sub-030_task-AuditoryVisualShift_run-01_events_temp2.tsv\n",
      "sub-031_run-01: G:/AttentionShift/AttentionShiftExperiments\\sub-031\\eeg\\sub-031_task-AuditoryVisualShift_run-01_events_temp2.tsv\n",
      "sub-032_run-01: G:/AttentionShift/AttentionShiftExperiments\\sub-032\\eeg\\sub-032_task-AuditoryVisualShift_run-01_events_temp2.tsv\n",
      "sub-033_run-01: G:/AttentionShift/AttentionShiftExperiments\\sub-033\\eeg\\sub-033_task-AuditoryVisualShift_run-01_events_temp2.tsv\n",
      "sub-034_run-01: G:/AttentionShift/AttentionShiftExperiments\\sub-034\\eeg\\sub-034_task-AuditoryVisualShift_run-01_events_temp2.tsv\n",
      "sub-035_run-01: G:/AttentionShift/AttentionShiftExperiments\\sub-035\\eeg\\sub-035_task-AuditoryVisualShift_run-01_events_temp2.tsv\n",
      "sub-036_run-01: G:/AttentionShift/AttentionShiftExperiments\\sub-036\\eeg\\sub-036_task-AuditoryVisualShift_run-01_events_temp2.tsv\n",
      "sub-036_run-02: G:/AttentionShift/AttentionShiftExperiments\\sub-036\\eeg\\sub-036_task-AuditoryVisualShift_run-02_events_temp2.tsv\n",
      "sub-037_run-01: G:/AttentionShift/AttentionShiftExperiments\\sub-037\\eeg\\sub-037_task-AuditoryVisualShift_run-01_events_temp2.tsv\n",
      "sub-038_run-01: G:/AttentionShift/AttentionShiftExperiments\\sub-038\\eeg\\sub-038_task-AuditoryVisualShift_run-01_events_temp2.tsv\n",
      "sub-039_run-01: G:/AttentionShift/AttentionShiftExperiments\\sub-039\\eeg\\sub-039_task-AuditoryVisualShift_run-01_events_temp2.tsv\n",
      "sub-040_run-01: G:/AttentionShift/AttentionShiftExperiments\\sub-040\\eeg\\sub-040_task-AuditoryVisualShift_run-01_events_temp2.tsv\n",
      "sub-041_run-01: G:/AttentionShift/AttentionShiftExperiments\\sub-041\\eeg\\sub-041_task-AuditoryVisualShift_run-01_events_temp2.tsv\n",
      "sub-042_run-01: G:/AttentionShift/AttentionShiftExperiments\\sub-042\\eeg\\sub-042_task-AuditoryVisualShift_run-01_events_temp2.tsv\n",
      "sub-043_run-01: G:/AttentionShift/AttentionShiftExperiments\\sub-043\\eeg\\sub-043_task-AuditoryVisualShift_run-01_events_temp2.tsv\n",
      "sub-044_run-01: G:/AttentionShift/AttentionShiftExperiments\\sub-044\\eeg\\sub-044_task-AuditoryVisualShift_run-01_events_temp2.tsv\n",
      "sub-045_run-01: G:/AttentionShift/AttentionShiftExperiments\\sub-045\\eeg\\sub-045_task-AuditoryVisualShift_run-01_events_temp2.tsv\n",
      "sub-046_run-01: G:/AttentionShift/AttentionShiftExperiments\\sub-046\\eeg\\sub-046_task-AuditoryVisualShift_run-01_events_temp2.tsv\n",
      "sub-047_run-01: G:/AttentionShift/AttentionShiftExperiments\\sub-047\\eeg\\sub-047_task-AuditoryVisualShift_run-01_events_temp2.tsv\n",
      "sub-048_run-01: G:/AttentionShift/AttentionShiftExperiments\\sub-048\\eeg\\sub-048_task-AuditoryVisualShift_run-01_events_temp2.tsv\n",
      "sub-049_run-01: G:/AttentionShift/AttentionShiftExperiments\\sub-049\\eeg\\sub-049_task-AuditoryVisualShift_run-01_events_temp2.tsv\n"
     ]
    }
   ],
   "source": [
    "for key, file in file_dict.items():\n",
    "\n",
    "    print(f\"{key}: {file}\")\n",
    "    df = get_new_dataframe(file)\n",
    "    col_names = df.columns\n",
    "    # df.drop(['sample_offset', 'latency', 'urevent', 'usertags'], axis=1, inplace=True)\n",
    "    # df_eeg['new_col'] = df_eeg['cond_code'].map(str) + df_eeg['event_code'].map(str)\n",
    "    # code_255_col = df_eeg['event_code'].map(str) == '255'\n",
    "    # trial_col = df_eeg['cond_code'].map(str) != '0'\n",
    "    # pause_col = df_eeg['event_code'].map(str) != '202'\n",
    "    # type_col = df_eeg['type'].map(str) != '202'\n",
    "    # comp_col = df_eeg['new_col'].map(str) != df_eeg[\"type\"].map(str)\n",
    "    # x = comp_col & trial_col & pause_col\n",
    "    # y = (type_col & ~pause_col) | (~type_col & pause_col)\n",
    "    # print(f\"{key}: has {sum(x)} event_code and {sum(y)} 202 type disagreements :\")\n",
    "    # for index, value in x.iteritems():\n",
    "    #     if value:\n",
    "    #         row = df_eeg.loc[index]\n",
    "    #         print(f\"Key {key} index {index}: event_code:{row['event_code']} type:{row['type']} cond_code:{row['cond_code']}\")\n",
    "    #\n",
    "    # for index, value in y.iteritems():\n",
    "    #     if value:\n",
    "    #         row = df_eeg.loc[index]\n",
    "    #         print(f\"Key {key} index {index}: event_code:{row['event_code']} type:{row['type']}\")\n",
    "    #\n",
    "    # for index, value in code_255_col.iteritems():\n",
    "    #     if value:\n",
    "    #         row = df_eeg.loc[index]\n",
    "    #         print(f\"Key {key} index {index}: event_code:{row['event_code']} type:{row['type']}\")"
   ],
   "metadata": {
    "collapsed": false,
    "pycharm": {
     "name": "#%% Check that trial_type\n"
    }
   }
  },
  {
   "cell_type": "markdown",
   "source": [
    "### Verify event codes agree with headIT\n",
    "They do except for code 255."
   ],
   "metadata": {
    "collapsed": false
   }
  },
  {
   "cell_type": "markdown",
   "source": [
    "Find out which files have a cond_code of 0"
   ],
   "metadata": {
    "collapsed": false,
    "pycharm": {
     "name": "#%% md\n"
    }
   }
  },
  {
   "cell_type": "code",
   "execution_count": 4,
   "outputs": [],
   "source": [
    "# for key, file in eeg_file_dict.items():\n",
    "#     df_eeg = get_new_dataframe(file)\n",
    "#     trial_col = df_eeg['cond_code'].map(str) == '0'\n",
    "#     num_zeros = sum(trial_col)\n",
    "#     if num_zeros:\n",
    "#         print(f\"{key}: has {sum(trial_col)} cond_code value 0\")"
   ],
   "metadata": {
    "collapsed": false,
    "pycharm": {
     "name": "#%%\n"
    }
   }
  },
  {
   "cell_type": "markdown",
   "source": [
    "#### Find unique key column combinations\n",
    "\n",
    "Use the `KeyTemplate` class to find the unique value combinations\n",
    "of `cond_code` and `event_code` are properly used.\n",
    "\n",
    "Note:  Codes 1 through 6 should be in nonshifted\n",
    "       Codes 7 through 14 should be in shift condition\n",
    "       Codes 199, 201, 202, and 255 are not related to condition.\n"
   ],
   "metadata": {
    "collapsed": false,
    "pycharm": {
     "name": "#%% md\n"
    }
   }
  },
  {
   "cell_type": "code",
   "execution_count": 5,
   "outputs": [],
   "source": [
    "# from hed.tools import KeyTemplate\n",
    "# key_columns = ['cond_code', 'event_code']\n",
    "# template = KeyTemplate(key_columns)\n",
    "# for file in event_files_eeg:\n",
    "#     template.update(file)\n",
    "# template.resort()\n",
    "# template.print()"
   ],
   "metadata": {
    "collapsed": false,
    "pycharm": {
     "name": "#%% Use KeyTemplate to get the counts for each unique combination of key columns.\n"
    }
   }
  }
 ],
 "metadata": {
  "kernelspec": {
   "display_name": "Python 3",
   "language": "python",
   "name": "python3"
  },
  "language_info": {
   "codemirror_mode": {
    "name": "ipython",
    "version": 2
   },
   "file_extension": ".py",
   "mimetype": "text/x-python",
   "name": "python",
   "nbconvert_exporter": "python",
   "pygments_lexer": "ipython2",
   "version": "2.7.6"
  }
 },
 "nbformat": 4,
 "nbformat_minor": 0
}