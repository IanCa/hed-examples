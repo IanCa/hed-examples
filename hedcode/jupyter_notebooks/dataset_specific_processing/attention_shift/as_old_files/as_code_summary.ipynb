{
 "cells": [
  {
   "cell_type": "markdown",
   "metadata": {
    "collapsed": true,
    "pycharm": {
     "name": "#%% md\n"
    }
   },
   "source": [
    "## Code summary of the Attention Shift dataset\n",
    "\n",
    "This script does a preliminary summary of the contents of the events files.\n",
    "The summary includes printing out the column names of each event file so\n",
    "that they can be manually checked for differences.\n",
    "\n",
    "The script assumes that the data is in BIDS format and that each BIDS events\n",
    "file of the form `_events.tsv` has a corresponding events file with\n",
    "suffix `_events_temp.tsv` that was previously dumped from the `EEG.set` files.\n",
    "\n",
    "In order to compare the events coming from the BIDS events files and those\n",
    "from the EEG.set files, the script creates dictionaries of `key` to full path\n",
    "for each type of file.  The `key` is of the form `sub-xxx_run-y` which\n",
    "uniquely specify each event file in the dataset. If a dataset contains\n",
    "multiple sessions for each subject, the `key` should include additional\n",
    "parts of the file name to uniquely specify each subject."
   ]
  },
  {
   "cell_type": "code",
   "execution_count": 1,
   "outputs": [
    {
     "name": "stdout",
     "output_type": "stream",
     "text": [
      "\n",
      "49 Attention shift event files\n"
     ]
    }
   ],
   "source": [
    "from hed.tools.io_utils import get_file_list, make_file_dict\n",
    "bids_root_path = 'G:/AttentionShift/AttentionShiftExperiments'\n",
    "skip_columns = ['onset', 'duration', 'sample', 'stim_file', 'HED']\n",
    "#skip_columns = ['latency', 'urevent', 'usertags', 'sample_offset']\n",
    "name_suffix = \"_events_temp2\"\n",
    "files_bids = get_file_list(bids_root_path, extensions=[\".tsv\"], name_suffix=name_suffix)\n",
    "dict_bids = make_file_dict(files_bids)\n",
    "print(f\"\\n{len(list(dict_bids))} Attention shift event files\")"
   ],
   "metadata": {
    "collapsed": false,
    "pycharm": {
     "name": "#%% Setup the root path and make the file list\n"
    }
   }
  },
  {
   "cell_type": "code",
   "source": [
    "from hed.tools.data_util import get_new_dataframe\n",
    "\n",
    "print(f\"\\nBIDS style event file columns:\")\n",
    "for key, file in dict_bids.items():\n",
    "    df = get_new_dataframe(file)\n",
    "    print(f\"{key}: {str(list(df.columns.values))}\")"
   ],
   "metadata": {
    "collapsed": false,
    "pycharm": {
     "name": "#%% Output the column names for each file\n"
    }
   },
   "execution_count": 2,
   "outputs": [
    {
     "name": "stdout",
     "output_type": "stream",
     "text": [
      "\n",
      "BIDS style event file columns:\n",
      "sub-001_events: ['onset', 'duration', 'sample', 'trial_type', 'value', 'event_code', 'cond_code']\n",
      "sub-002_events: ['onset', 'duration', 'sample', 'trial_type', 'value', 'event_code', 'cond_code']\n",
      "sub-003_events: ['onset', 'duration', 'sample', 'trial_type', 'value', 'event_code', 'cond_code']\n",
      "sub-004_events: ['onset', 'duration', 'sample', 'trial_type', 'value', 'event_code', 'cond_code']\n",
      "sub-005_events: ['onset', 'duration', 'sample', 'trial_type', 'value', 'event_code', 'cond_code']\n",
      "sub-006_events: ['onset', 'duration', 'sample', 'trial_type', 'value', 'event_code', 'cond_code']\n",
      "sub-007_events: ['onset', 'duration', 'sample', 'trial_type', 'value', 'event_code', 'cond_code']\n",
      "sub-008_events: ['onset', 'duration', 'sample', 'trial_type', 'value', 'event_code', 'cond_code']\n",
      "sub-009_events: ['onset', 'duration', 'sample', 'trial_type', 'value', 'event_code', 'cond_code']\n",
      "sub-010_events: ['onset', 'duration', 'sample', 'trial_type', 'value', 'event_code', 'cond_code']\n",
      "sub-011_events: ['onset', 'duration', 'sample', 'trial_type', 'value', 'event_code', 'cond_code']\n",
      "sub-012_events: ['onset', 'duration', 'sample', 'trial_type', 'value', 'event_code', 'cond_code']\n",
      "sub-013_events: ['onset', 'duration', 'sample', 'trial_type', 'value', 'event_code', 'cond_code']\n",
      "sub-014_events: ['onset', 'duration', 'sample', 'trial_type', 'value', 'event_code', 'cond_code']\n",
      "sub-015_events: ['onset', 'duration', 'sample', 'trial_type', 'value', 'event_code', 'cond_code']\n",
      "sub-016_events: ['onset', 'duration', 'sample', 'trial_type', 'value', 'event_code', 'cond_code']\n",
      "sub-017_events: ['onset', 'duration', 'sample', 'trial_type', 'value', 'event_code', 'cond_code']\n",
      "sub-018_events: ['onset', 'duration', 'sample', 'trial_type', 'value', 'event_code', 'cond_code']\n",
      "sub-019_events: ['onset', 'duration', 'sample', 'trial_type', 'value', 'event_code', 'cond_code']\n",
      "sub-020_events: ['onset', 'duration', 'sample', 'trial_type', 'value', 'event_code', 'cond_code']\n",
      "sub-021_events: ['onset', 'duration', 'sample', 'trial_type', 'value', 'event_code', 'cond_code']\n",
      "sub-022_events: ['onset', 'duration', 'sample', 'trial_type', 'value', 'event_code', 'cond_code']\n",
      "sub-023_events: ['onset', 'duration', 'sample', 'trial_type', 'value', 'event_code', 'cond_code']\n",
      "sub-024_events: ['onset', 'duration', 'sample', 'trial_type', 'value', 'event_code', 'cond_code']\n",
      "sub-025_events: ['onset', 'duration', 'sample', 'trial_type', 'value', 'event_code', 'cond_code']\n",
      "sub-026_events: ['onset', 'duration', 'sample', 'trial_type', 'value', 'event_code', 'cond_code']\n",
      "sub-027_events: ['onset', 'duration', 'sample', 'trial_type', 'value', 'event_code', 'cond_code']\n",
      "sub-028_events: ['onset', 'duration', 'sample', 'trial_type', 'value', 'event_code', 'cond_code']\n",
      "sub-029_events: ['onset', 'duration', 'sample', 'trial_type', 'value', 'event_code', 'cond_code']\n",
      "sub-030_events: ['onset', 'duration', 'sample', 'trial_type', 'value', 'event_code', 'cond_code']\n",
      "sub-031_events: ['onset', 'duration', 'sample', 'trial_type', 'value', 'event_code', 'cond_code']\n",
      "sub-032_events: ['onset', 'duration', 'sample', 'trial_type', 'value', 'event_code', 'cond_code']\n",
      "sub-033_events: ['onset', 'duration', 'sample', 'trial_type', 'value', 'event_code', 'cond_code']\n",
      "sub-034_events: ['onset', 'duration', 'sample', 'trial_type', 'value', 'event_code', 'cond_code']\n",
      "sub-035_events: ['onset', 'duration', 'sample', 'trial_type', 'value', 'event_code', 'cond_code']\n",
      "sub-036_events: ['onset', 'duration', 'sample', 'trial_type', 'value', 'event_code', 'cond_code']\n",
      "sub-037_events: ['onset', 'duration', 'sample', 'trial_type', 'value', 'event_code', 'cond_code']\n",
      "sub-038_events: ['onset', 'duration', 'sample', 'trial_type', 'value', 'event_code', 'cond_code']\n",
      "sub-039_events: ['onset', 'duration', 'sample', 'trial_type', 'value', 'event_code', 'cond_code']\n",
      "sub-040_events: ['onset', 'duration', 'sample', 'trial_type', 'value', 'event_code', 'cond_code']\n",
      "sub-041_events: ['onset', 'duration', 'sample', 'trial_type', 'value', 'event_code', 'cond_code']\n",
      "sub-042_events: ['onset', 'duration', 'sample', 'trial_type', 'value', 'event_code', 'cond_code']\n",
      "sub-043_events: ['onset', 'duration', 'sample', 'trial_type', 'value', 'event_code', 'cond_code']\n",
      "sub-044_events: ['onset', 'duration', 'sample', 'trial_type', 'value', 'event_code', 'cond_code']\n",
      "sub-045_events: ['onset', 'duration', 'sample', 'trial_type', 'value', 'event_code', 'cond_code']\n",
      "sub-046_events: ['onset', 'duration', 'sample', 'trial_type', 'value', 'event_code', 'cond_code']\n",
      "sub-047_events: ['onset', 'duration', 'sample', 'trial_type', 'value', 'event_code', 'cond_code']\n",
      "sub-048_events: ['onset', 'duration', 'sample', 'trial_type', 'value', 'event_code', 'cond_code']\n",
      "sub-049_events: ['onset', 'duration', 'sample', 'trial_type', 'value', 'event_code', 'cond_code']\n"
     ]
    }
   ]
  },
  {
   "cell_type": "code",
   "execution_count": 3,
   "outputs": [
    {
     "name": "stdout",
     "output_type": "stream",
     "text": [
      "\n",
      "BIDS events summary:\n",
      "Summary for column dictionary :\n",
      "  Categorical columns (4):\n",
      "    cond_code (3 distinct values):\n",
      "      1: 58829\n",
      "      2: 54629\n",
      "      3: 168968\n",
      "    event_code (16 distinct values):\n",
      "      1: 11511\n",
      "      10: 4606\n",
      "      11: 36781\n",
      "      12: 36760\n",
      "      13: 18394\n",
      "      14: 18396\n",
      "      2: 11509\n",
      "      201: 28551\n",
      "      202: 912\n",
      "      3: 9200\n",
      "      4: 9205\n",
      "      5: 36788\n",
      "      6: 36783\n",
      "      7: 9214\n",
      "      8: 9216\n",
      "      9: 4600\n",
      "    trial_type (3 distinct values):\n",
      "      1: 58829\n",
      "      2: 54629\n",
      "      3: 168968\n",
      "    value (51 distinct values):\n",
      "      1: 240\n",
      "      10: 96\n",
      "      11: 3155\n",
      "      110: 96\n",
      "      111: 766\n",
      "      112: 766\n",
      "      113: 384\n",
      "      114: 382\n",
      "      12: 3149\n",
      "      1201: 5024\n",
      "      13: 4861\n",
      "      14: 4859\n",
      "      15: 17897\n",
      "      16: 17898\n",
      "      17: 192\n",
      "      18: 192\n",
      "      19: 96\n",
      "      2: 240\n",
      "      201: 764\n",
      "      202: 912\n",
      "      21: 2218\n",
      "      212: 3\n",
      "      22: 2221\n",
      "      2201: 4496\n",
      "      23: 4436\n",
      "      24: 4441\n",
      "      25: 17736\n",
      "      26: 17731\n",
      "      28: 2\n",
      "      3: 192\n",
      "      31: 6666\n",
      "      310: 4414\n",
      "      311: 35247\n",
      "      312: 35225\n",
      "      313: 17625\n",
      "      314: 17631\n",
      "      32: 6665\n",
      "      3201: 18267\n",
      "      33: 96\n",
      "      34: 96\n",
      "      35: 383\n",
      "      36: 385\n",
      "      37: 8830\n",
      "      38: 8830\n",
      "      39: 4408\n",
      "      4: 192\n",
      "      5: 772\n",
      "      6: 769\n",
      "      7: 192\n",
      "      8: 192\n",
      "      9: 96\n",
      "  Value columns (0):\n"
     ]
    }
   ],
   "source": [
    "from hed.tools.map_utils import make_combined_dicts\n",
    "\n",
    "print('\\nBIDS events summary:')\n",
    "bids_counts_all, bids_counts =  make_combined_dicts(dict_bids, skip_cols=skip_columns)\n",
    "bids_counts_all.print()"
   ],
   "metadata": {
    "collapsed": false,
    "pycharm": {
     "name": "#%% Create summary dictionaries of the original BIDS events files and output column names\n"
    }
   }
  }
 ],
 "metadata": {
  "kernelspec": {
   "display_name": "Python 3",
   "language": "python",
   "name": "python3"
  },
  "language_info": {
   "codemirror_mode": {
    "name": "ipython",
    "version": 2
   },
   "file_extension": ".py",
   "mimetype": "text/x-python",
   "name": "python",
   "nbconvert_exporter": "python",
   "pygments_lexer": "ipython2",
   "version": "2.7.6"
  }
 },
 "nbformat": 4,
 "nbformat_minor": 0
}