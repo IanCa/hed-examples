{
 "cells": [
  {
   "cell_type": "markdown",
   "metadata": {
    "collapsed": true,
    "pycharm": {
     "name": "#%% md\n"
    }
   },
   "source": [
    "## Final summary of event files\n",
    "\n",
    "This script performs a final event summary of the Attention Shift dataset."
   ]
  },
  {
   "cell_type": "code",
   "execution_count": 1,
   "outputs": [
    {
     "name": "stdout",
     "output_type": "stream",
     "text": [
      "\n",
      "BIDS events summary\n",
      "  Categorical columns (7):\n",
      "    attention_status (3 distinct values):\n",
      "      attended: 154180\n",
      "      n/a: 29961\n",
      "      unattended: 102994\n",
      "    cond_code (3 distinct values):\n",
      "      1: 56448\n",
      "      2: 55789\n",
      "      3: 174898\n",
      "    condition (3 distinct values):\n",
      "      attend_auditory: 56448\n",
      "      attend_visual: 55789\n",
      "      shift_attention: 174898\n",
      "    event_code (17 distinct values):\n",
      "      1: 11702\n",
      "      10: 4701\n",
      "      11: 37342\n",
      "      12: 37461\n",
      "      13: 18984\n",
      "      14: 18839\n",
      "      2: 11701\n",
      "      201: 29028\n",
      "      202: 927\n",
      "      255: 6\n",
      "      3: 9296\n",
      "      4: 9301\n",
      "      5: 37171\n",
      "      6: 37167\n",
      "      7: 9405\n",
      "      8: 9407\n",
      "      9: 4697\n",
      "    event_type (9 distinct values):\n",
      "      bad_event: 6\n",
      "      button_press: 29028\n",
      "      dark_bar: 93467\n",
      "      hear_word: 11702\n",
      "      high_tone: 23398\n",
      "      light_bar: 23409\n",
      "      look_word: 11701\n",
      "      low_tone: 93497\n",
      "      pause_recording: 927\n",
      "    focus_modality (3 distinct values):\n",
      "      auditory: 143757\n",
      "      n/a: 38\n",
      "      visual: 143340\n",
      "    task_role (7 distinct values):\n",
      "      cue_auditory: 9389\n",
      "      cue_ignore: 4648\n",
      "      cue_visual: 9366\n",
      "      n/a: 933\n",
      "      non_target: 186964\n",
      "      target: 46807\n",
      "      target_detected: 29028\n",
      "  Value columns (0):\n",
      "\n",
      "ERROR Summary:\n"
     ]
    }
   ],
   "source": [
    "import os\n",
    "from hed.tools import BidsTsvDictionary, BidsTsvSummary, HedLogger\n",
    "from hed.util import get_file_list\n",
    "\n",
    "# Variables to set for the specific dataset\n",
    "bids_root_path = 'G:\\AttentionShift\\AttentionShiftWorkingPhaseTwo'\n",
    "exclude_dirs = ['sourcedata', 'stimuli', 'code']\n",
    "entities = ('sub', 'run')\n",
    "skip_columns = [\"onset\", \"duration\", \"sample\", \"sub_block\", \"trial\"]\n",
    "log_file_name = 'attention_shift_11_final_summary_log.json'\n",
    "\n",
    "# Construct the event file dictionaries for the event files\n",
    "files_bids = get_file_list(bids_root_path, extensions=[\".tsv\"], name_suffix=\"_events\", exclude_dirs=exclude_dirs)\n",
    "bids_dict = BidsTsvDictionary(\"Bids event files\", files_bids, entities=entities)\n",
    "\n",
    "# Set logger and Output a list of files for the two cases\n",
    "logger = HedLogger()\n",
    "# Create summary dictionaries of the original BIDS events files and output column names\n",
    "bids_sum_all, bids_sum =  BidsTsvSummary.make_combined_dicts(bids_dict, skip_cols=skip_columns)\n",
    "bids_sum_all.print('\\nBIDS events summary')\n",
    "\n",
    "# Output and save the log\n",
    "logger.print_log()\n",
    "save_path = os.path.join(bids_root_path, 'code')\n",
    "logger.save_log(save_path, log_name=log_file_name)\n",
    "\n",
    "# Output errors\n",
    "print(\"\\nERROR Summary:\")\n",
    "logger.print_log(level=\"ERROR\")"
   ],
   "metadata": {
    "collapsed": false,
    "pycharm": {
     "name": "#%% Set up the variables for producing a summary and construct dictionaries\n"
    }
   }
  }
 ],
 "metadata": {
  "kernelspec": {
   "display_name": "Python 3",
   "language": "python",
   "name": "python3"
  },
  "language_info": {
   "codemirror_mode": {
    "name": "ipython",
    "version": 2
   },
   "file_extension": ".py",
   "mimetype": "text/x-python",
   "name": "python",
   "nbconvert_exporter": "python",
   "pygments_lexer": "ipython2",
   "version": "2.7.6"
  }
 },
 "nbformat": 4,
 "nbformat_minor": 0
}