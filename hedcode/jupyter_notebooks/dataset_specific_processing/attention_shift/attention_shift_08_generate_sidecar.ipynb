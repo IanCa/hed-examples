{
 "cells": [
  {
   "cell_type": "markdown",
   "metadata": {
    "collapsed": true,
    "pycharm": {
     "name": "#%% md\n"
    }
   },
   "source": [
    "## Generate a JSON events sidecar template and spreadsheet from a BIDS dataset\n",
    "\n",
    "This generates a JSON events sidecar template and a corresponding 4-column spreadsheet\n",
    "for the Attention Shift data.\n",
    "\n",
    "For tutorial examples of this process see the Jupyter notebooks:\n",
    "- [`bids_generate_sidecar.ipynb`](https://github.com/hed-standard/hed-examples/blob/main/hedcode/jupyter_notebooks/bids_processing/bids_generate_sidecar.ipynb)\n",
    "- [`bids_sidecar_to_spreadsheet.ipynb`](https://github.com/hed-standard/hed-examples/blob/main/hedcode/jupyter_notebooks/bids_processing/bids_sidecar_to_spreadsheet.ipynb)\n"
   ]
  },
  {
   "cell_type": "code",
   "source": [
    "import os\n",
    "import json\n",
    "from hed.tools import hed_to_df, BidsTsvDictionary, BidsTsvSummary\n",
    "from hed.util import get_file_list\n",
    "\n",
    "# Variables to set for the specific dataset\n",
    "bids_root_path = 'G:\\AttentionShift\\AttentionShiftWorkingPhaseTwo'\n",
    "json_path = os.path.realpath(os.path.join(bids_root_path, 'task-AuditoryVisualShift_events.json'))\n",
    "spreadsheet_path = os.path.realpath(os.path.join(bids_root_path, 'code/task-AuditoryVisualShift_hed_spreadsheet.tsv'))\n",
    "exclude_dirs = ['sourcedata', 'stimuli', 'code']\n",
    "entities = ('sub', 'run')\n",
    "skip_columns = ['onset', 'duration', 'sample']\n",
    "value_columns = [\"trial\", \"block\", \"sub_block\"]\n",
    "bids_files = get_file_list(bids_root_path, extensions=[\".tsv\"], name_suffix=\"_events\",\n",
    "                           exclude_dirs=exclude_dirs)\n",
    "bids_dict = BidsTsvDictionary(bids_files, entities=entities)\n",
    "# Construct the event file dictionary for the BIDS event files\n",
    "event_files = get_file_list(bids_root_path, extensions=[\".tsv\"], name_suffix=\"_events\", exclude_dirs=exclude_dirs)\n",
    "file_dict = BidsTsvDictionary(event_files, entities=entities)\n",
    "\n",
    "# Construct the event file value summary and generate a sidecar template representing dataset\n",
    "value_summary = BidsTsvSummary(value_cols=value_columns, skip_cols=skip_columns, name=\"Attention Shift\")\n",
    "value_summary.update(event_files)\n",
    "sidecar_template = value_summary.extract_sidecar_template()\n",
    "with open(json_path, 'w') as fp:\n",
    "   json.dump(sidecar_template, fp, indent=4)\n",
    "\n",
    "hed_spreadsheet = hed_to_df(sidecar_template)\n",
    "hed_spreadsheet.to_csv(spreadsheet_path, sep='\\t', index=False,)"
   ],
   "metadata": {
    "collapsed": false,
    "pycharm": {
     "name": "#%% Set up the directories and create a dictionary for events.tsv files\n"
    }
   },
   "execution_count": 1,
   "outputs": []
  }
 ],
 "metadata": {
  "kernelspec": {
   "display_name": "Python 3",
   "language": "python",
   "name": "python3"
  },
  "language_info": {
   "codemirror_mode": {
    "name": "ipython",
    "version": 2
   },
   "file_extension": ".py",
   "mimetype": "text/x-python",
   "name": "python",
   "nbconvert_exporter": "python",
   "pygments_lexer": "ipython2",
   "version": "2.7.6"
  }
 },
 "nbformat": 4,
 "nbformat_minor": 0
}