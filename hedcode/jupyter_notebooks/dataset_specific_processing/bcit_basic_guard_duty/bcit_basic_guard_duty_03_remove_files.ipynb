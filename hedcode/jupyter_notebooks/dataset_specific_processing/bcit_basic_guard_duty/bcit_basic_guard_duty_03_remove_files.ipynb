{
 "cells": [
  {
   "cell_type": "markdown",
   "metadata": {
    "collapsed": true,
    "pycharm": {
     "name": "#%% md\n"
    }
   },
   "source": [
    "## Remove the extra files\n",
    "\n",
    "This script assumes that you have copied the BasicGuardDutyWorking directory into\n",
    "the BasicGuardDutyWorkingPhaseTwo directory.\n",
    "\n",
    "This script removes `_events.tsv` and `_events_temp.tsv` and then\n",
    "renames `_events_temp1.tsv` to `_events.tsv`."
   ]
  },
  {
   "cell_type": "code",
   "execution_count": null,
   "outputs": [],
   "source": [
    "import os\n",
    "from hed.tools import BidsTsvDictionary, HedLogger\n",
    "from hed.util import get_file_list\n",
    "\n",
    "# Variables to set for the specific dataset\n",
    "bids_root_path = 'F:/ARLBidsStart/BasicGuardDutyWorkingPhaseTwo'\n",
    "exclude_dirs = ['sourcedata', 'stimuli', 'code']\n",
    "entities = ('sub', 'ses', 'run')\n",
    "log_file_name = 'bcit_basic_guard_duty_03_remove_files_log.json'\n",
    "\n",
    "# Construct the event file dictionaries for the BIDS and for EEG.event files\n",
    "files_bids = get_file_list(bids_root_path, extensions=[\".tsv\"], name_suffix=\"_events\", exclude_dirs=exclude_dirs)\n",
    "bids_dict = BidsTsvDictionary(\"Bids event files\", files_bids, entities=entities)\n",
    "\n",
    "# Set logger and remove the appropriate files\n",
    "logger = HedLogger()\n",
    "\n",
    "for key, file in bids_dict.iter_files():\n",
    "    # Remove events.tsv\n",
    "    filename = file.file_path\n",
    "    os.remove(filename)\n",
    "    logger.add(key, f\"Remove {filename}\")\n",
    "\n",
    "    # Remove events_temp.tsv\n",
    "    filename_temp = filename[:-4] + \"_temp.tsv\"\n",
    "    if os.path.isfile(filename_temp):\n",
    "        os.remove(filename_temp)\n",
    "        logger.add(key, f\"Removed {filename_temp}\")\n",
    "    else:\n",
    "        logger.add(key, f\"{filename_temp} does not exist and could not be removed\", level=\"WARNING\", also_print=True)\n",
    "\n",
    "    # Move events_temp1.tsv to events.tsv\n",
    "    filename_temp1 = filename[:-4] + \"_temp1.tsv\"\n",
    "    if os.path.isfile(filename_temp1):\n",
    "        os.rename(filename_temp1, filename)\n",
    "        logger.add(key, f\"Renamed {filename_temp1}\\n\\t\\tto {filename}\")\n",
    "    else:\n",
    "        logger.add(key, f\"{filename_temp1} does not exist and could not be moved\", level=\"WARNING\", also_print=True)\n",
    "\n",
    "# Now make sure there aren't any unexpected leftovers\n",
    "temp_files = get_file_list(bids_root_path, extensions=[\".tsv\"], name_suffix=\"_events_temp\",\n",
    "                           exclude_dirs=exclude_dirs)\n",
    "if temp_files:\n",
    "    for file in temp_files:\n",
    "        logger.add('', f\"{file} is unexpectedly left over\", level=\"WARNING\", also_print=True)\n",
    "\n",
    "temp1_files = get_file_list(bids_root_path, extensions=[\".tsv\"], name_suffix=\"_events_temp1\",\n",
    "                           exclude_dirs=exclude_dirs)\n",
    "if temp1_files:\n",
    "    for file in temp1_files:\n",
    "        logger.add('', f\"{file} is unexpectedly left over\", level=\"WARNING\", also_print=True)\n",
    "\n",
    "# Output and save the log\n",
    "logger.print_log()\n",
    "save_path = os.path.join(bids_root_path, 'code')\n",
    "logger.save_log(save_path, log_name=log_file_name)\n",
    "\n",
    "# Output errors\n",
    "print(\"\\nWARNING Summary:\")\n",
    "logger.print_log(level=\"WARNING\")"
   ],
   "metadata": {
    "collapsed": false,
    "pycharm": {
     "name": "#%% Set up the directories and create a dictionary for _events.tsv\n"
    }
   }
  }
 ],
 "metadata": {
  "kernelspec": {
   "display_name": "Python 3",
   "language": "python",
   "name": "python3"
  },
  "language_info": {
   "codemirror_mode": {
    "name": "ipython",
    "version": 2
   },
   "file_extension": ".py",
   "mimetype": "text/x-python",
   "name": "python",
   "nbconvert_exporter": "python",
   "pygments_lexer": "ipython2",
   "version": "2.7.6"
  }
 },
 "nbformat": 4,
 "nbformat_minor": 0
}