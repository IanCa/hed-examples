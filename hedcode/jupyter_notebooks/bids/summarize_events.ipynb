{
 "cells": [
  {
   "cell_type": "markdown",
   "metadata": {
    "collapsed": true,
    "pycharm": {
     "name": "#%% md\n"
    }
   },
   "source": [
    "## Summarize the contents of the event files in a dataset.\n",
    "\n",
    "A first step in annotating a dataset is to find out what is in the dataset event files. Sometimes event files will have a few unexpected or incorrect codes. It is usually a good idea to find out what is actually in the dataset event files before starting the annotation process.\n",
    "\n",
    "This notebook traverses through the dataset and gathers the unique values for each column and number of times each value appears in the dataset.\n",
    "\n",
    "The setup requires the setting of the following variables for your dataset:\n",
    "\n",
    "| Variable | Purpose |\n",
    "| -------- | ------- |\n",
    "| dataset_path | Full path to root directory of dataset.|\n",
    "| exclude_dirs | List of directories to exclude when constructing the list of event files. |\n",
    "| `skip_columns`  |  List of column names in the `events.tsv` files to skip in the summary. |\n",
    "| `value_columns` | List of columns names in the `events.tsv` files that are just listed with element counts. |\n",
    "\n",
    "For large datasets, you will want to be sure to skip columns such as `onset` and `sample`, since the summary produces counts of the number of times each unique value appears somewhere in an event file.\n",
    "\n",
    "The notebook creates a `TabularSummary` object to handle the summarization.\n",
    "\n",
    "The example below uses a\n",
    "[small version](https://github.com/hed-standard/hed-examples/tree/main/datasets/eeg_ds003645s_hed)\n",
    "of the Wakeman-Hanson face-processing dataset available on openNeuro as\n",
    "[ds003645](https://openneuro.org/datasets/ds003645/versions/2.0.0)\n",
    "which is distributed as part of this dataset."
   ]
  },
  {
   "cell_type": "markdown",
   "source": [
    "import os\n",
    "from hed.tools import TabularSummary, get_file_list\n",
    "\n",
    "# Variables to set for the specific dataset\n",
    "dataset_path =  os.path.realpath('../../../datasets/eeg_ds003645s_hed')\n",
    "output_path = 'D:\\tempit.txt'\n",
    "name = 'eeg_ds003645s_hed'\n",
    "exclude_dirs = ['stimuli']\n",
    "skip_columns = [\"onset\", \"duration\", \"sample\", \"trial\", \"response_time\"]\n",
    "value_columns = [\"stim_file\"]\n",
    "\n",
    "# Construct the file dictionary for the BIDS event files\n",
    "event_files = get_file_list(dataset_path, extensions=[\".tsv\"], name_suffix=\"_events\", exclude_dirs=exclude_dirs)\n",
    "\n",
    "# Create a tabular summary object\n",
    "tab_sum = TabularSummary(value_cols=value_columns, skip_cols=skip_columns, name=name)\n",
    "\n",
    "# Update the tabular summary with the information from each event file\n",
    "for events in event_files:\n",
    "    tab_sum.update(events)\n",
    "    \n",
    "# Save or print\n",
    "if output_path:\n",
    "    with (output_path, 'w') as fp:\n",
    "        fp.write(f\"{tab_sum}\")\n",
    "else:\n",
    "    print(f\"{tab_sum}\")\n"
   ],
   "metadata": {
    "collapsed": false,
    "ExecuteTime": {
     "end_time": "2023-08-20T22:40:59.000467500Z",
     "start_time": "2023-08-20T22:40:58.930467500Z"
    }
   }
  }
 ],
 "metadata": {
  "kernelspec": {
   "display_name": "Python 3",
   "language": "python",
   "name": "python3"
  },
  "language_info": {
   "codemirror_mode": {
    "name": "ipython",
    "version": 2
   },
   "file_extension": ".py",
   "mimetype": "text/x-python",
   "name": "python",
   "nbconvert_exporter": "python",
   "pygments_lexer": "ipython2",
   "version": "2.7.6"
  }
 },
 "nbformat": 4,
 "nbformat_minor": 0
}
