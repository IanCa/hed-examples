{
 "cells": [
  {
   "cell_type": "code",
   "execution_count": null,
   "outputs": [],
   "source": [],
   "metadata": {
    "collapsed": false,
    "ExecuteTime": {
     "end_time": "2023-08-19T17:58:24.649346300Z",
     "start_time": "2023-08-19T17:58:24.629346100Z"
    }
   }
  },
  {
   "cell_type": "raw",
   "source": [
    "## Generate a JSON events sidecar template from a dataset.\n",
    "\n",
    "General strategy for machine-actionable annotation using HED in BIDS is to create a single `events.json` sidecar file in the BIDS dataset root directory. Ideally, this sidecar will contain all the annotations needed for users to understand and analyze the data.\n",
    "\n",
    "(See the [**BIDS annotation quickstart**](https://hed-examples.readthedocs.io/en/latest/BidsAnnotationQuickstart.html) for additional information on this strategy.)\n",
    "\n",
    "This notebook shows how to create a JSON sidecar template from the information in all the event files in a BIDS dataset. To use this notebook, substitute the specifics of your BIDS dataset for the following variables:\n",
    "\n",
    "| Variable            | Purpose |\n",
    "|---------------------| ------- |\n",
    "| `dataset_root_path` | Full path to root directory of dataset.|\n",
    "| `exclude_dirs`      | List of directories to exclude when constructing the list of event files. |\n",
    "| `skip_columns`      |  List of column names in the `events.tsv` files to skip. |\n",
    "| `value_columns`     | List of columns names in the `events.tsv` files to annotate as<br>as a whole rather than by individual column value. |  \n",
    "| `output_path` | Full path of output file. If None, then output is printed. |\n",
    "\n",
    "A JSON sidecar appropriate for BIDS (Brain Imaging Data Structure) is generated containing placeholders for the descriptions and HED annotations of the values in the dataset event files. Values in columns that are not designated as `skip_columns` or `value_columns` are considered to contain categorical values, each of which should be annotated individually.\n",
    "\n",
    "Typical `skip_columns` include the `onset`, `duration`, and `sample` columns, which have well-defined meanings according to BIDS.  The `value_columns` just require a single annotation, applicable to each value in the column.\n",
    "\n",
    "For additional information see the tutorial [**Create a JSON template**](https://www.hed-resources.org/en/latest/BidsAnnotationQuickstart.html#create-a-json-template) which illustrates the creation of a template from a single event file using the online tools.\n",
    "\n",
    "Additional information about this notebook can be found in [**Extract JSON template**](https://www.hed-resources.org/en/latest/HedPythonTools.html#extract-json-template) in the HED Python Tools user guide."
   ],
   "metadata": {
    "collapsed": false
   }
  },
  {
   "cell_type": "code",
   "execution_count": 1,
   "outputs": [
    {
     "name": "stdout",
     "output_type": "stream",
     "text": [
      "{\n",
      "    \"rep_status\": {\n",
      "        \"Description\": \"Description for rep_status\",\n",
      "        \"HED\": {\n",
      "            \"delayed_repeat\": \"(Label/rep_status, Label/delayed_repeat)\",\n",
      "            \"first_show\": \"(Label/rep_status, Label/first_show)\",\n",
      "            \"immediate_repeat\": \"(Label/rep_status, Label/immediate_repeat)\",\n",
      "            \"nan\": \"(Label/rep_status, Label/nan)\"\n",
      "        },\n",
      "        \"Levels\": {\n",
      "            \"delayed_repeat\": \"Here describe column value delayed_repeat of column rep_status\",\n",
      "            \"first_show\": \"Here describe column value first_show of column rep_status\",\n",
      "            \"immediate_repeat\": \"Here describe column value immediate_repeat of column rep_status\",\n",
      "            \"nan\": \"Here describe column value nan of column rep_status\"\n",
      "        }\n",
      "    },\n",
      "    \"stim_file\": {\n",
      "        \"Description\": \"Description for stim_file\",\n",
      "        \"HED\": \"(Label/stim_file, Label/#)\"\n",
      "    },\n",
      "    \"trial\": {\n",
      "        \"Description\": \"Description for trial\",\n",
      "        \"HED\": \"(Label/trial, Label/#)\"\n",
      "    },\n",
      "    \"rep_lag\": {\n",
      "        \"Description\": \"Description for rep_lag\",\n",
      "        \"HED\": \"(Label/rep_lag, Label/#)\"\n",
      "    }\n",
      "}\n"
     ]
    }
   ],
   "source": [
    "import json\n",
    "from hed.tools.analysis.tabular_summary import TabularSummary\n",
    "from hed.tools.util.io_util import get_file_list\n",
    "\n",
    "dataset_root_path = '../../../datasets/eeg_ds003645s_hed'\n",
    "exclude_dirs = ['stimuli', 'code', 'derivatives', 'sourcedata']\n",
    "skip_columns = [\"onset\", \"duration\", \"sample\", \"value\", \"face_type\", \"response_time\", \"event_type\"]\n",
    "value_columns = [\"stim_file\", \"trial\", \"rep_lag\"]\n",
    "output_path = None\n",
    "\n",
    "# Construct the event file dictionary for the BIDS event files\n",
    "event_files = get_file_list(dataset_root_path, extensions=[\".tsv\"], name_suffix=\"_events\", exclude_dirs=exclude_dirs)\n",
    "\n",
    "# Construct the event file value summary and generate a sidecar template representing dataset\n",
    "value_summary = TabularSummary(value_cols=value_columns, skip_cols=skip_columns, name=\"Wakeman-Hanson test data\")\n",
    "value_summary.update(event_files)\n",
    "sidecar_template = value_summary.extract_sidecar_template()\n",
    "if output_path:\n",
    "    with open(output_path, \"w\") as f:\n",
    "        json.dump(sidecar_template, f, indent=4)\n",
    "else:\n",
    "    print(json.dumps(sidecar_template, indent=4))"
   ],
   "metadata": {
    "collapsed": false,
    "ExecuteTime": {
     "end_time": "2023-08-19T17:58:28.720001400Z",
     "start_time": "2023-08-19T17:58:24.656346200Z"
    }
   }
  }
 ],
 "metadata": {
  "kernelspec": {
   "display_name": "Python 3",
   "language": "python",
   "name": "python3"
  },
  "language_info": {
   "codemirror_mode": {
    "name": "ipython",
    "version": 2
   },
   "file_extension": ".py",
   "mimetype": "text/x-python",
   "name": "python",
   "nbconvert_exporter": "python",
   "pygments_lexer": "ipython2",
   "version": "2.7.6"
  }
 },
 "nbformat": 4,
 "nbformat_minor": 0
}
