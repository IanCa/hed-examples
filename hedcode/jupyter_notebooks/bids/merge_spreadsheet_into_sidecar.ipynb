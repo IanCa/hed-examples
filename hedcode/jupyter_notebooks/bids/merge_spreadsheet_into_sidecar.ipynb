{
 "cells": [
  {
   "cell_type": "raw",
   "source": [
    "## Merge a HED tag spreadsheet with an existing JSON sidecar.\n",
    "\n",
    "This notebook merges a 4-column spreadsheet into an existing BIDS JSON sidecar. This operation is used when the HED annotations are in a spreadsheet and the user wishes to incorporate the information into a BIDS JSON sidecar.\n",
    "\n",
    "The spreadsheet must have the following 4 columns: `column_name`, `column_value`, `description`, and `HED`.\n",
    "\n",
    "Although the merge operation itself does not require any information except the spreadsheet and the sidecar, this notebook constructs a test by first extracting a JSON sidecar from the information from dataset event files and transforming it into a spreadsheet. \n",
    "\n",
    "To use this notebook, substitute the specifics of your BIDS\n",
    "dataset for the following variables:\n",
    "\n",
    "| Variable | Purpose |\n",
    "| -------- | ------- |\n",
    "| json_sidecar_path | Full path to root directory of dataset.|\n",
    "| spreadsheet_path | List of directories to exclude when constructing file lists. |\n",
    "| skip_columns  | List of columns in the `events.tsv` files to skip. |\n",
    "| value_columns | List of columns in the `events.tsv` files to annotate as<br>as a whole rather than by individual column value. |\n",
    "\n",
    "**Note:** To actually do the merge of spreadsheet into a JSON sidecar,\n",
    "you only need to have the file names of the spreadsheet and the JSON sidecar.\n",
    "\n",
    "For large datasets, you will want to be sure to exclude columns such as\n",
    "`onset` and `sample`, since the summary produces counts of the number of times\n",
    "each unique value appears somewhere in an event file.\n",
    "\n",
    "When run, the script extracts a JSON sidecar and converts it to a spreadsheet\n",
    "for illustrating the merge. To merge, the spreadsheet is converted back and then\n",
    "merged with another JSON sidecar.\n",
    "\n",
    "The example below uses a\n",
    "[small version](https://github.com/hed-standard/hed-examples/tree/main/datasets/eeg_ds003645s_hed)\n",
    "of the Wakeman-Hanson face-processing dataset available on openNeuro as\n",
    "[ds003645](https://openneuro.org/datasets/ds003645/versions/2.0.0)."
   ],
   "metadata": {
    "collapsed": false
   }
  },
  {
   "cell_type": "code",
   "execution_count": 4,
   "outputs": [
    {
     "name": "stdout",
     "output_type": "stream",
     "text": [
      "\"{\\n    \\\"event_type\\\": {\\n        \\\"Levels\\\": {\\n            \\\"left_click\\\": \\\"Participant pushes the left button.\\\",\\n            \\\"right_click\\\": \\\"Participant pushes the right button\\\",\\n            \\\"show_cross\\\": \\\"Display an image of a cross character on the screen.\\\",\\n            \\\"show_dash\\\": \\\"Display an image of a dash character on the screen.\\\",\\n            \\\"show_letter\\\": \\\"Display a letter on the screen.\\\",\\n            \\\"sound_beep\\\": \\\"Play a beep sound.\\\",\\n            \\\"sound_buzz\\\": \\\"Play a buzz sound\\\"\\n        },\\n        \\\"HED\\\": {\\n            \\\"left_click\\\": \\\"Agent-action, Participant-response, (Press, (Push-button, (Left-side-of)))\\\",\\n            \\\"right_click\\\": \\\"Agent-action, Participant-response, (Press, (Push-button, (Right-side-of)))\\\",\\n            \\\"show_cross\\\": \\\"Sensory-event, Visual-presentation, (Cross, (Center-of, Computer-screen))\\\",\\n            \\\"show_dash\\\": \\\"Sensory-event, Visual-presentation, (Dash, (Center-of, Computer-screen))\\\",\\n            \\\"show_letter\\\": \\\"Sensory-event, Visual-presentation, (Character, (Center-of, Computer-screen))\\\",\\n            \\\"sound_beep\\\": \\\"Sensory-event, Auditory-presentation, Beep\\\",\\n            \\\"sound_buzz\\\": \\\"Sensory-event, Auditory-presentation, Buzz\\\"\\n        }\\n    },\\n    \\\"task_role\\\": {\\n        \\\"Levels\\\": {\\n            \\\"bad_trial\\\": \\\"This event is part of a bad or incomplete trial. Some of the expected trial events are missing.\\\",\\n            \\\"feedback_correct\\\": \\\"Feedback that the last participant response was correct.\\\",\\n            \\\"feedback_incorrect\\\": \\\"Feedback that the last participant response was incorrect.\\\",\\n            \\\"fixate\\\": \\\"Indicates participant should fixate.\\\",\\n            \\\"ignored_correct\\\": \\\"The participant correctly indicated that the probe was not a target.\\\",\\n            \\\"ignored_incorrect\\\": \\\"The participant indicated that the probe was not a target but the probe was a target.\\\",\\n            \\\"indicate_ready\\\": \\\"The participant presses a button to indicate ready.\\\",\\n            \\\"probe_not_shown\\\": \\\"The probe letter was not shown in the trial.\\\",\\n            \\\"probe_target\\\": \\\"The probe letter was a target to be remembered.\\\",\\n            \\\"remembered_correct\\\": \\\"Participant correctly indicated that the probe was a target.\\\",\\n            \\\"remembered_incorrect\\\": \\\"Participant indicated that the probe was a target but the probe was not a target.\\\",\\n            \\\"to_ignore\\\": \\\"This probe letter is not a target.\\\",\\n            \\\"to_remember\\\": \\\"This probe letter is a target.\\\",\\n            \\\"work_memory\\\": \\\"Cue to indicate that a probe letter is coming.\\\"\\n        },\\n        \\\"HED\\\": {\\n            \\\"bad_trial\\\": \\\"(Invalid, Experimental-trial)\\\",\\n            \\\"feedback_correct\\\": \\\"(Feedback, Correct-action)\\\",\\n            \\\"feedback_incorrect\\\": \\\"(Feedback, Incorrect-action)\\\",\\n            \\\"fixate\\\": \\\"(Task, Fixate)\\\",\\n            \\\"ignored_correct\\\": \\\"((Recall, Non-target), Correct-action)\\\",\\n            \\\"ignored_incorrect\\\": \\\"((Recall, Non-target), Incorrect-action)\\\",\\n            \\\"indicate_ready\\\": \\\"(Appropriate-action, Label/Indicate-ready)\\\",\\n            \\\"probe_not_shown\\\": \\\"(Cue, Non-target)\\\",\\n            \\\"probe_target\\\": \\\"(Cue, Target)\\\",\\n            \\\"remembered_correct\\\": \\\"((Recall, Target), Correct-action)\\\",\\n            \\\"remembered_incorrect\\\": \\\"((Recall, Target), Incorrect-action)\\\",\\n            \\\"to_ignore\\\": \\\"Non-target\\\",\\n            \\\"to_remember\\\": \\\"Target\\\",\\n            \\\"work_memory\\\": \\\"(Cue, Recall)\\\"\\n        }\\n    },\\n    \\\"trial\\\": {\\n        \\\"Description\\\": \\\"Number of the trial in the experiment\\\",\\n        \\\"HED\\\": \\\"Experimental-trial/#\\\"\\n    },\\n    \\\"letter\\\": {\\n        \\\"Description\\\": \\\"The character appearing on the screen\\\",\\n        \\\"HED\\\": \\\"(Character, Label/#)\\\"\\n    },\\n    \\\"memory_cond\\\": {\\n        \\\"Description\\\": \\\"Number of letters that must be paid attention to or remembered.\\\",\\n        \\\"HED\\\": \\\"(Condition-variable/Items-to-memorize, Item-count, Target, Label/#)\\\"\\n    }\\n}\"\n",
      "{\n",
      "    \"event_type\": {\n",
      "        \"Levels\": {\n",
      "            \"left_click\": \"Participant pushes the left button.\",\n",
      "            \"right_click\": \"Participant pushes the right button\",\n",
      "            \"show_cross\": \"Display an image of a cross character on the screen.\",\n",
      "            \"show_dash\": \"Display an image of a dash character on the screen.\",\n",
      "            \"show_letter\": \"Display a letter on the screen.\",\n",
      "            \"sound_beep\": \"Play a beep sound.\",\n",
      "            \"sound_buzz\": \"Play a buzz sound\"\n",
      "        },\n",
      "        \"HED\": {\n",
      "            \"left_click\": \"Agent-action, Participant-response, (Press, (Push-button, (Left-side-of)))\",\n",
      "            \"right_click\": \"Agent-action, Participant-response, (Press, (Push-button, (Right-side-of)))\",\n",
      "            \"show_cross\": \"Sensory-event, Visual-presentation, (Cross, (Center-of, Computer-screen))\",\n",
      "            \"show_dash\": \"Sensory-event, Visual-presentation, (Dash, (Center-of, Computer-screen))\",\n",
      "            \"show_letter\": \"Sensory-event, Visual-presentation, (Character, (Center-of, Computer-screen))\",\n",
      "            \"sound_beep\": \"Sensory-event, Auditory-presentation, Beep\",\n",
      "            \"sound_buzz\": \"Sensory-event, Auditory-presentation, Buzz\"\n",
      "        }\n",
      "    },\n",
      "    \"task_role\": {\n",
      "        \"Levels\": {\n",
      "            \"bad_trial\": \"This event is part of a bad or incomplete trial. Some of the expected trial events are missing.\",\n",
      "            \"feedback_correct\": \"Feedback that the last participant response was correct.\",\n",
      "            \"feedback_incorrect\": \"Feedback that the last participant response was incorrect.\",\n",
      "            \"fixate\": \"Indicates participant should fixate.\",\n",
      "            \"ignored_correct\": \"The participant correctly indicated that the probe was not a target.\",\n",
      "            \"ignored_incorrect\": \"The participant indicated that the probe was not a target but the probe was a target.\",\n",
      "            \"indicate_ready\": \"The participant presses a button to indicate ready.\",\n",
      "            \"probe_not_shown\": \"The probe letter was not shown in the trial.\",\n",
      "            \"probe_target\": \"The probe letter was a target to be remembered.\",\n",
      "            \"remembered_correct\": \"Participant correctly indicated that the probe was a target.\",\n",
      "            \"remembered_incorrect\": \"Participant indicated that the probe was a target but the probe was not a target.\",\n",
      "            \"to_ignore\": \"This probe letter is not a target.\",\n",
      "            \"to_remember\": \"This probe letter is a target.\",\n",
      "            \"work_memory\": \"Cue to indicate that a probe letter is coming.\"\n",
      "        },\n",
      "        \"HED\": {\n",
      "            \"bad_trial\": \"(Invalid, Experimental-trial)\",\n",
      "            \"feedback_correct\": \"(Feedback, Correct-action)\",\n",
      "            \"feedback_incorrect\": \"(Feedback, Incorrect-action)\",\n",
      "            \"fixate\": \"(Task, Fixate)\",\n",
      "            \"ignored_correct\": \"((Recall, Non-target), Correct-action)\",\n",
      "            \"ignored_incorrect\": \"((Recall, Non-target), Incorrect-action)\",\n",
      "            \"indicate_ready\": \"(Appropriate-action, Label/Indicate-ready)\",\n",
      "            \"probe_not_shown\": \"(Cue, Non-target)\",\n",
      "            \"probe_target\": \"(Cue, Target)\",\n",
      "            \"remembered_correct\": \"((Recall, Target), Correct-action)\",\n",
      "            \"remembered_incorrect\": \"((Recall, Target), Incorrect-action)\",\n",
      "            \"to_ignore\": \"Non-target\",\n",
      "            \"to_remember\": \"Target\",\n",
      "            \"work_memory\": \"(Cue, Recall)\"\n",
      "        }\n",
      "    },\n",
      "    \"trial\": {\n",
      "        \"Description\": \"Number of the trial in the experiment\",\n",
      "        \"HED\": \"Experimental-trial/#\"\n",
      "    },\n",
      "    \"letter\": {\n",
      "        \"Description\": \"The character appearing on the screen\",\n",
      "        \"HED\": \"(Character, Label/#)\"\n",
      "    },\n",
      "    \"memory_cond\": {\n",
      "        \"Description\": \"Number of letters that must be paid attention to or remembered.\",\n",
      "        \"HED\": \"(Condition-variable/Items-to-memorize, Item-count, Target, Label/#)\"\n",
      "    }\n",
      "}\n"
     ]
    }
   ],
   "source": [
    "import os\n",
    "import json\n",
    "from hed.tools import df_to_hed, merge_hed_dict\n",
    "\n",
    "# Turn the spreadsheet\n",
    "spreadsheet_path = '../../../_static/data/task-WorkingMemory_example_spreadsheet.tsv'\n",
    "spreadsheet_sidecar = df_to_hed(spreadsheet_path, description_tag=False)\n",
    "# Use an empty sidecar to merge into, but any valid sidecar will work\n",
    "target_sidecar = {}\n",
    "# Must convert the spreadsheet to a sidecar before merging\n",
    "\n",
    "merge_hed_dict(target_sidecar, test_sidecar)\n",
    "merged_json = json.dumps(target_sidecar, indent=4)\n",
    "print(merged_json)"
   ],
   "metadata": {
    "collapsed": false,
    "pycharm": {
     "name": "#%% Extract a JSON sidecar template from all the event files\n"
    },
    "ExecuteTime": {
     "end_time": "2023-08-21T15:06:24.442353800Z",
     "start_time": "2023-08-21T15:06:24.372350800Z"
    }
   }
  }
 ],
 "metadata": {
  "kernelspec": {
   "display_name": "Python 3",
   "language": "python",
   "name": "python3"
  },
  "language_info": {
   "codemirror_mode": {
    "name": "ipython",
    "version": 2
   },
   "file_extension": ".py",
   "mimetype": "text/x-python",
   "name": "python",
   "nbconvert_exporter": "python",
   "pygments_lexer": "ipython2",
   "version": "2.7.6"
  }
 },
 "nbformat": 4,
 "nbformat_minor": 0
}
