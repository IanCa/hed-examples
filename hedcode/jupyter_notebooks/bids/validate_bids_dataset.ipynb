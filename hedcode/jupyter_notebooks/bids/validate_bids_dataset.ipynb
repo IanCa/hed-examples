{
 "cells": [
  {
   "cell_type": "markdown",
   "source": [
    "## Validate HED in a BIDS dataset.\n",
    "\n",
    "Validating HED annotations as you develop them makes the annotation process much easier and faster to debug. This notebook validates HED in a BIDS dataset.\n",
    "\n",
    "The tool creates a `BidsDataset` object, which represents the information from a BIDS dataset that is relevant to HED, including the `dataset_description.json`, all `events.tsv` files, and all `events.json` sidecar files.\n",
    "\n",
    "The `validate` method of `BidsDataset` first validates all of the `events.json` sidecars and then assembles the relevant sidecars for each `events.tsv` file and validates it. The validation uses the HED schemas specified in the `HEDVersion` field of the dataset's `dataset_description.json` file.\n",
    "\n",
    "The script does the following steps:\n",
    "\n",
    "1. Set the dataset location (`dataset_path`) to the absolute path of the root of your BIDS dataset.\n",
    "2. Indicates whether to check for warnings during validation (`check_for_warnings`).\n",
    "3. Create a `BidsDataset` for the dataset.\n",
    "4. Validate the dataset and output the issues.\n",
    "\n",
    "**Note:** This validation pertains to event files and HED annotation only. It does not do a full BIDS validation.\n",
    "\n",
    "\n",
    "For validation of a single `events.json` file during annotation development, users often find the [**online sidecar tools**](https://hedtools.ucsd.edu/hed/sidecar) convenient, but the online tool does not provide complete dataset-level validation."
   ],
   "metadata": {
    "collapsed": false
   }
  },
  {
   "cell_type": "code",
   "execution_count": 2,
   "outputs": [
    {
     "name": "stdout",
     "output_type": "stream",
     "text": [
      "Using HEDTOOLS version: {'date': '2023-11-11T14:14:45-0600', 'dirty': True, 'error': None, 'full-revisionid': '35e3f997c4a7de7fbd79bf9dc9906a6a1bb92ea4', 'version': '0.4.0+8.g35e3f99.dirty'}\n",
      "HED Examples version: {'version': '0.2.0+197.g3c5c8e7.dirty', 'full-revisionid': '3c5c8e76850d488544d5ff8dfb37720c0bf09f51', 'dirty': True, 'error': None, 'date': '2023-12-29T10:25:39-0600'}\n",
      "HED validation errors: \n",
      "\n",
      "Errors in file 'sub-002_task-FacePerception_run-1_events.tsv'\n",
      "\tHED_UNKNOWN_COLUMN: (Warning) Column named 'sample' found in file, but not specified as a tag column or identified in sidecars.\n",
      "\n",
      "Errors in file 'sub-002_task-FacePerception_run-2_events.tsv'\n",
      "\tHED_UNKNOWN_COLUMN: (Warning) Column named 'sample' found in file, but not specified as a tag column or identified in sidecars.\n",
      "\n",
      "Errors in file 'sub-002_task-FacePerception_run-3_events.tsv'\n",
      "\tHED_UNKNOWN_COLUMN: (Warning) Column named 'sample' found in file, but not specified as a tag column or identified in sidecars.\n",
      "\n",
      "Errors in file 'sub-003_task-FacePerception_run-1_events.tsv'\n",
      "\tHED_UNKNOWN_COLUMN: (Warning) Column named 'sample' found in file, but not specified as a tag column or identified in sidecars.\n",
      "\n",
      "Errors in file 'sub-003_task-FacePerception_run-2_events.tsv'\n",
      "\tHED_UNKNOWN_COLUMN: (Warning) Column named 'sample' found in file, but not specified as a tag column or identified in sidecars.\n",
      "\n",
      "Errors in file 'sub-003_task-FacePerception_run-3_events.tsv'\n",
      "\tHED_UNKNOWN_COLUMN: (Warning) Column named 'sample' found in file, but not specified as a tag column or identified in sidecars.\n",
      "\n",
      "1176\n"
     ]
    }
   ],
   "source": [
    "from hed.errors import get_printable_issue_string\n",
    "from hed.tools import BidsDataset\n",
    "from hed import _version as vr\n",
    "from hedcode._version import get_versions\n",
    "\n",
    "print(f\"Using HEDTOOLS version: {str(vr.get_versions())}\")\n",
    "print(f\"HED Examples version: {str(get_versions())}\")\n",
    "\n",
    "## Set the dataset location and the check_for_warnings flag\n",
    "check_for_warnings = True\n",
    "#dataset_dir = '../../../datasets/eeg_ds004105s_hed'\n",
    "#dataset_dir = '../../../datasets/fmri_ds002790s_hed_aomic'\n",
    "dataset_dir = '../../../datasets/fmri_soccer21s_hed'\n",
    "dataset_dir = '../../../datasets/eeg_rsvp_base_hed'\n",
    "dataset_dir = 'T:/summaryTests/ds004350-download'\n",
    "outfile = 'temp.txt'\n",
    "\n",
    "## Validate the dataset\n",
    "bids = BidsDataset(dataset_dir)\n",
    "issue_list = bids.validate(check_for_warnings=check_for_warnings)\n",
    "if issue_list:\n",
    "    issue_str = get_printable_issue_string(issue_list, \"HED validation errors: \", skip_filename=False)\n",
    "else:\n",
    "    issue_str = \"No HED validation errors\"\n",
    "# print(issue_str)\n",
    "print(f\"{len(issue_str)}\")\n",
    "if outfile and issue_list:\n",
    "    with open(outfile, 'w') as fp:\n",
    "        fp.write(issue_str)\n"
   ],
   "metadata": {
    "collapsed": false,
    "ExecuteTime": {
     "end_time": "2023-12-29T16:35:27.373173700Z",
     "start_time": "2023-12-29T16:35:23.910175800Z"
    }
   }
  }
 ],
 "metadata": {
  "kernelspec": {
   "display_name": "Python 3",
   "language": "python",
   "name": "python3"
  },
  "language_info": {
   "codemirror_mode": {
    "name": "ipython",
    "version": 2
   },
   "file_extension": ".py",
   "mimetype": "text/x-python",
   "name": "python",
   "nbconvert_exporter": "python",
   "pygments_lexer": "ipython2",
   "version": "2.7.6"
  }
 },
 "nbformat": 4,
 "nbformat_minor": 0
}
