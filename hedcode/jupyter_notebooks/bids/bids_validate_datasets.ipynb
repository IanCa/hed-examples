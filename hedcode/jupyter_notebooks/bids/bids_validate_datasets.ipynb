{
 "cells": [
  {
   "cell_type": "markdown",
   "metadata": {
    "collapsed": true,
    "pycharm": {
     "name": "#%% md\n"
    }
   },
   "source": [
    "## Validate HED in a BIDS dataset.\n",
    "\n",
    "Validating annotations HED as you develop them makes the annotation process much easier and\n",
    "faster to debug. This notebook validates HED in a BIDS dataset.\n",
    "\n",
    "The tool creates a `BidsDataset` object, which represents the information from a BIDS\n",
    "dataset that is relevant to HED, including the `dataset_description.json`,\n",
    "all `events.tsv` files, and all `events.json` sidecar files.\n",
    "\n",
    "The `validate` method of `BidsDataset` first validates all of the `events.json` sidecars\n",
    "and then assembles the relevant sidecars for each `events.tsv` file and validates it.\n",
    "The validation uses the HED schemas specified in the `HEDVersion` field of the\n",
    "dataset's `dataset_description.json` file.\n",
    "\n",
    "The script does the following steps for each dataset in the list.\n",
    "\n",
    "1. Set the dataset location (`bids_root_path`) to the absolute path of the root of your BIDS dataset.\n",
    "2. Indicates whether to check for warnings during validation (`check_for_warnings`).\n",
    "3. Create a `BidsDataset` for the dataset.\n",
    "4. Validate the dataset and output the issues.\n",
    "\n",
    "**Note:** This validation pertains to event files and HED annotation only. It does not do a full BIDS validation.\n",
    "\n",
    "The example below validates a list of datasets in\n",
    "[datasets](https://github.com/hed-standard/hed-examples/tree/main/datasets) directory of the\n",
    "HED example repository on GitHub.\n",
    "\n",
    "These datasets have no validation errors."
   ]
  },
  {
   "cell_type": "code",
   "execution_count": 3,
   "outputs": [
    {
     "name": "stdout",
     "output_type": "stream",
     "text": [
      "Using HEDTOOLS version: {'date': '2022-09-29T10:41:51-0500', 'dirty': False, 'error': None, 'full-revisionid': '7fedc4b52dea27fdd309cbb10986ac273b80efa1', 'version': '0.1.0+126.g7fedc4b'}\n",
      "HED Examples version: {'version': '0.1.0+138.gb722a8b.dirty', 'full-revisionid': 'b722a8b55ec00bdaf2bbfd547506236c5729d068', 'dirty': True, 'error': None, 'date': '2022-09-29T10:45:23-0500'}\n",
      "Validating P\n"
     ]
    },
    {
     "ename": "FileNotFoundError",
     "evalue": "[Errno 2] No such file or directory: '\\\\\\\\192.168.0.179\\\\NASdata1\\\\P\\\\dataset_description.json'",
     "output_type": "error",
     "traceback": [
      "\u001B[1;31m---------------------------------------------------------------------------\u001B[0m",
      "\u001B[1;31mFileNotFoundError\u001B[0m                         Traceback (most recent call last)",
      "Cell \u001B[1;32mIn [3], line 25\u001B[0m\n\u001B[0;32m     22\u001B[0m \u001B[38;5;28mprint\u001B[39m(\u001B[38;5;124mf\u001B[39m\u001B[38;5;124m\"\u001B[39m\u001B[38;5;124mValidating \u001B[39m\u001B[38;5;132;01m{\u001B[39;00mbids_dataset\u001B[38;5;132;01m}\u001B[39;00m\u001B[38;5;124m\"\u001B[39m)\n\u001B[0;32m     24\u001B[0m \u001B[38;5;66;03m## Validate the dataset\u001B[39;00m\n\u001B[1;32m---> 25\u001B[0m bids \u001B[38;5;241m=\u001B[39m BidsDataset(bids_root_path)\n\u001B[0;32m     26\u001B[0m issue_list \u001B[38;5;241m=\u001B[39m bids\u001B[38;5;241m.\u001B[39mvalidate(check_for_warnings\u001B[38;5;241m=\u001B[39mcheck_for_warnings)\n\u001B[0;32m     27\u001B[0m \u001B[38;5;28;01mif\u001B[39;00m issue_list:\n",
      "File \u001B[1;32mH:\\HEDExamples\\hed-examples\\venv\\lib\\site-packages\\hed\\tools\\bids\\bids_dataset.py:37\u001B[0m, in \u001B[0;36mBidsDataset.__init__\u001B[1;34m(self, root_path, schema, tabular_types, exclude_dirs)\u001B[0m\n\u001B[0;32m     26\u001B[0m \u001B[38;5;124;03m\"\"\" Constructor for a BIDS dataset.\u001B[39;00m\n\u001B[0;32m     27\u001B[0m \n\u001B[0;32m     28\u001B[0m \u001B[38;5;124;03mParameters:\u001B[39;00m\n\u001B[1;32m   (...)\u001B[0m\n\u001B[0;32m     34\u001B[0m \n\u001B[0;32m     35\u001B[0m \u001B[38;5;124;03m\"\"\"\u001B[39;00m\n\u001B[0;32m     36\u001B[0m \u001B[38;5;28mself\u001B[39m\u001B[38;5;241m.\u001B[39mroot_path \u001B[38;5;241m=\u001B[39m os\u001B[38;5;241m.\u001B[39mpath\u001B[38;5;241m.\u001B[39mrealpath(root_path)\n\u001B[1;32m---> 37\u001B[0m \u001B[38;5;28;01mwith\u001B[39;00m \u001B[38;5;28;43mopen\u001B[39;49m\u001B[43m(\u001B[49m\u001B[43mos\u001B[49m\u001B[38;5;241;43m.\u001B[39;49m\u001B[43mpath\u001B[49m\u001B[38;5;241;43m.\u001B[39;49m\u001B[43mjoin\u001B[49m\u001B[43m(\u001B[49m\u001B[38;5;28;43mself\u001B[39;49m\u001B[38;5;241;43m.\u001B[39;49m\u001B[43mroot_path\u001B[49m\u001B[43m,\u001B[49m\u001B[43m \u001B[49m\u001B[38;5;124;43m\"\u001B[39;49m\u001B[38;5;124;43mdataset_description.json\u001B[39;49m\u001B[38;5;124;43m\"\u001B[39;49m\u001B[43m)\u001B[49m\u001B[43m,\u001B[49m\u001B[43m \u001B[49m\u001B[38;5;124;43m\"\u001B[39;49m\u001B[38;5;124;43mr\u001B[39;49m\u001B[38;5;124;43m\"\u001B[39;49m\u001B[43m)\u001B[49m \u001B[38;5;28;01mas\u001B[39;00m fp:\n\u001B[0;32m     38\u001B[0m     \u001B[38;5;28mself\u001B[39m\u001B[38;5;241m.\u001B[39mdataset_description \u001B[38;5;241m=\u001B[39m json\u001B[38;5;241m.\u001B[39mload(fp)\n\u001B[0;32m     39\u001B[0m \u001B[38;5;28;01mif\u001B[39;00m schema:\n",
      "\u001B[1;31mFileNotFoundError\u001B[0m: [Errno 2] No such file or directory: '\\\\\\\\192.168.0.179\\\\NASdata1\\\\P\\\\dataset_description.json'"
     ]
    }
   ],
   "source": [
    "import os\n",
    "from hed.errors import get_printable_issue_string\n",
    "from hed.tools import BidsDataset\n",
    "from hed import _version as vr\n",
    "from hedcode._version import get_versions\n",
    "\n",
    "print(f\"Using HEDTOOLS version: {str(vr.get_versions())}\")\n",
    "print(f\"HED Examples version: {str(get_versions())}\")\n",
    "datasets_dir = '../../../datasets'\n",
    "\n",
    "## Set the dataset locations and the check_for_warnings flag\n",
    "check_for_warnings = False\n",
    "bids_datasets = ['eeg_ds003654s_hed', 'eeg_ds003654s_hed_column',\n",
    "                 'eeg_ds003654s_hed_inheritance', 'eeg_ds003654s_hed_longform',\n",
    "                 'eeg_ds003654s_hed_library', 'eeg_ds002893s_hed_attention_shift',\n",
    "                 'eeg_ds004117s_hed_sternberg'\n",
    "              ]\n",
    "\n",
    "for bids_dataset in bids_datasets:\n",
    "    bids_root_path = os.path.realpath(os.path.join(datasets_dir, bids_dataset))\n",
    "    print(f\"Validating {bids_dataset}\")\n",
    "\n",
    "    ## Validate the dataset\n",
    "    bids = BidsDataset(bids_root_path)\n",
    "    issue_list = bids.validate(check_for_warnings=check_for_warnings)\n",
    "    if issue_list:\n",
    "        issue_str = get_printable_issue_string(issue_list, \"HED validation errors: \", skip_filename=False)\n",
    "    else:\n",
    "        issue_str = \"No HED validation errors\"\n",
    "    print(issue_str)"
   ],
   "metadata": {
    "collapsed": false,
    "pycharm": {
     "name": "#%%\n"
    }
   }
  }
 ],
 "metadata": {
  "kernelspec": {
   "display_name": "Python 3",
   "language": "python",
   "name": "python3"
  },
  "language_info": {
   "codemirror_mode": {
    "name": "ipython",
    "version": 2
   },
   "file_extension": ".py",
   "mimetype": "text/x-python",
   "name": "python",
   "nbconvert_exporter": "python",
   "pygments_lexer": "ipython2",
   "version": "2.7.6"
  }
 },
 "nbformat": 4,
 "nbformat_minor": 0
}