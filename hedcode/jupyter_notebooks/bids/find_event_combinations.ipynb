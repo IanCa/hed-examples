{
 "cells": [
  {
   "cell_type": "markdown",
   "source": [],
   "metadata": {
    "collapsed": false
   }
  },
  {
   "cell_type": "markdown",
   "source": [
    "## Find event combinations\n",
    "\n",
    "This notebook traverses through a data set and gathers the unique combinations of values in the specified columns of the event files.\n",
    "\n",
    "The setup requires the following variables for your dataset:\n",
    "\n",
    "| Variable            | Purpose                                                        |\n",
    "|---------------------|----------------------------------------------------------------|\n",
    "| `dataset_root_path` | Full path to root directory of dataset.                        |\n",
    "| `output_path`       | Output path for the spreadsheet template. If None, then print. |\n",
    "| `exclude_dirs`      | List of directories to exclude when constructing file lists.   |\n",
    "| `key_columns`       | List of column names in the events.tsv files to combine.       |\n",
    "\n",
    "The result will be a tabular file (tab-separated file) whose columns are the `key_columns` in the order given. The values will be all unique combinations of the `key_columns`, sorted by columns left to right.\n",
    "\n",
    "This can be used to remap the columns in event files to use a new recoding. The resulting spreadsheet is also useful for deciding whether two columns contain redundant information."
   ],
   "metadata": {
    "collapsed": false
   }
  },
  {
   "cell_type": "code",
   "execution_count": 3,
   "outputs": [
    {
     "name": "stdout",
     "output_type": "stream",
     "text": [
      "sub-002_task-FaceRecognition_events.tsv\n",
      "sub-003_task-FaceRecognition_events.tsv\n",
      "sub-004_task-FaceRecognition_events.tsv\n",
      "sub-005_task-FaceRecognition_events.tsv\n",
      "sub-006_task-FaceRecognition_events.tsv\n",
      "sub-007_task-FaceRecognition_events.tsv\n",
      "sub-008_task-FaceRecognition_events.tsv\n",
      "sub-009_task-FaceRecognition_events.tsv\n",
      "sub-010_task-FaceRecognition_events.tsv\n",
      "sub-011_task-FaceRecognition_events.tsv\n",
      "sub-012_task-FaceRecognition_events.tsv\n",
      "sub-013_task-FaceRecognition_events.tsv\n",
      "sub-014_task-FaceRecognition_events.tsv\n",
      "sub-015_task-FaceRecognition_events.tsv\n",
      "sub-016_task-FaceRecognition_events.tsv\n",
      "sub-017_task-FaceRecognition_events.tsv\n",
      "sub-018_task-FaceRecognition_events.tsv\n",
      "sub-019_task-FaceRecognition_events.tsv\n",
      "The total count of the keys is:31448\n",
      "    key_counts               trial_type value\n",
      "0           90                 boundary     0\n",
      "1         2700               famous_new     5\n",
      "2         1313      famous_second_early     6\n",
      "3         1291       famous_second_late     7\n",
      "4         3532              left_nonsym   256\n",
      "5         3381                 left_sym   256\n",
      "6         3616             right_nonsym  4096\n",
      "7         4900                right_sym  4096\n",
      "8         2700            scrambled_new    17\n",
      "9         1271   scrambled_second_early    18\n",
      "10        1334    scrambled_second_late    19\n",
      "11        2700           unfamiliar_new    13\n",
      "12        1304  unfamiliar_second_early    14\n",
      "13        1316   unfamiliar_second_late    15\n"
     ]
    }
   ],
   "source": [
    "import os\n",
    "from hed.tools.analysis.key_map import KeyMap\n",
    "from hed.tools.util.data_util import get_new_dataframe\n",
    "from hed.tools.util.io_util import get_file_list\n",
    "\n",
    "# Variables to set for the specific dataset\n",
    "data_root = 'T:/summaryTests/ds002718-download'\n",
    "output_path = ''\n",
    "exclude_dirs = ['stimuli', 'derivatives', 'code', 'sourcecode']\n",
    "\n",
    "# Construct the key map\n",
    "key_columns = [ \"trial_type\", \"value\"]\n",
    "key_map = KeyMap(key_columns)\n",
    "\n",
    "# Construct the unique combinations\n",
    "event_files = get_file_list(data_root, extensions=[\".tsv\"], name_suffix=\"_events\", exclude_dirs=exclude_dirs)\n",
    "for event_file in event_files:\n",
    "    print(f\"{os.path.basename(event_file)}\")\n",
    "    df = get_new_dataframe(event_file)\n",
    "    key_map.update(df)\n",
    "\n",
    "key_map.resort()\n",
    "template = key_map.make_template()\n",
    "key_counts_sum = template['key_counts'].sum()\n",
    "print(f\"The total count of the keys is:{key_counts_sum}\")\n",
    "if output_path:\n",
    "    template.to_csv(output_path, sep='\\t', index=False, header=True)\n",
    "else:\n",
    "    print(template)  \n"
   ],
   "metadata": {
    "collapsed": false,
    "ExecuteTime": {
     "end_time": "2023-10-24T20:08:40.958637400Z",
     "start_time": "2023-10-24T20:08:24.603887900Z"
    }
   }
  }
 ],
 "metadata": {
  "kernelspec": {
   "display_name": "Python 3",
   "language": "python",
   "name": "python3"
  },
  "language_info": {
   "codemirror_mode": {
    "name": "ipython",
    "version": 2
   },
   "file_extension": ".py",
   "mimetype": "text/x-python",
   "name": "python",
   "nbconvert_exporter": "python",
   "pygments_lexer": "ipython2",
   "version": "2.7.6"
  }
 },
 "nbformat": 4,
 "nbformat_minor": 0
}
