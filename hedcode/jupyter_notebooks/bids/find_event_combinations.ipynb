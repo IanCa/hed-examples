{
 "cells": [
  {
   "cell_type": "markdown",
   "source": [],
   "metadata": {
    "collapsed": false
   }
  },
  {
   "cell_type": "markdown",
   "source": [
    "## Find event combinations\n",
    "\n",
    "This notebook traverses through a data set and gathers the unique combinations of values in the specified columns of the event files.\n",
    "\n",
    "The setup requires the following variables for your dataset:\n",
    "\n",
    "| Variable            | Purpose                                                        |\n",
    "|---------------------|----------------------------------------------------------------|\n",
    "| `dataset_root_path` | Full path to root directory of dataset.                        |\n",
    "| `output_path`       | Output path for the spreadsheet template. If None, then print. |\n",
    "| `exclude_dirs`      | List of directories to exclude when constructing file lists.   |\n",
    "| `key_columns`       | List of column names in the events.tsv files to combine.       |\n",
    "\n",
    "The result will be a tabular file (tab-separated file) whose columns are the `key_columns` in the order given. The values will be all unique combinations of the `key_columns`, sorted by columns left to right.\n",
    "\n",
    "This can be used to remap the columns in event files to use a new recoding. The resulting spreadsheet is also useful for deciding whether two columns contain redundant information."
   ],
   "metadata": {
    "collapsed": false
   }
  },
  {
   "cell_type": "code",
   "execution_count": 1,
   "outputs": [
    {
     "name": "stdout",
     "output_type": "stream",
     "text": [
      "    key_counts event_code cond_code       event_type focus_modality  \\\n",
      "0           96          1         1        hear_word       auditory   \n",
      "1           96          1         2        hear_word         visual   \n",
      "2          288          1         3        hear_word       auditory   \n",
      "3           96          2         1        look_word       auditory   \n",
      "4           96          2         2        look_word         visual   \n",
      "5          287          2         3        look_word         visual   \n",
      "6          192          3         1        high_tone       auditory   \n",
      "7          192          3         2        high_tone         visual   \n",
      "8          192          4         1        light_bar       auditory   \n",
      "9          192          4         2        light_bar         visual   \n",
      "10         767          5         1         low_tone       auditory   \n",
      "11         767          5         2         low_tone         visual   \n",
      "12         766          6         1         dark_bar       auditory   \n",
      "13         767          6         2         dark_bar         visual   \n",
      "14         385          7         3        high_tone       auditory   \n",
      "15         384          8         3        light_bar         visual   \n",
      "16         191          9         3        high_tone         visual   \n",
      "17         192         10         3        light_bar       auditory   \n",
      "18        1531         11         3         low_tone       auditory   \n",
      "19        1525         12         3         dark_bar         visual   \n",
      "20         771         13         3         low_tone         visual   \n",
      "21         774         14         3         dark_bar       auditory   \n",
      "22         195        201         1     button_press       auditory   \n",
      "23         191        201         2     button_press         visual   \n",
      "24         390        201         3     button_press       auditory   \n",
      "25         381        201         3     button_press         visual   \n",
      "26           5        202         1  pause_recording       auditory   \n",
      "27           6        202         2  pause_recording         visual   \n",
      "28           6        202         3  pause_recording       auditory   \n",
      "29           1        202         3  pause_recording            nan   \n",
      "30           8        202         3  pause_recording         visual   \n",
      "\n",
      "   attention_status            task_role        condition  \n",
      "0        unattended         cue_auditory  attend_auditory  \n",
      "1        unattended           cue_visual    attend_visual  \n",
      "2          attended         cue_auditory  shift_attention  \n",
      "3        unattended         cue_auditory  attend_auditory  \n",
      "4        unattended           cue_visual    attend_visual  \n",
      "5          attended           cue_visual  shift_attention  \n",
      "6          attended  infrequent_stimulus  attend_auditory  \n",
      "7        unattended  infrequent_stimulus    attend_visual  \n",
      "8        unattended  infrequent_stimulus  attend_auditory  \n",
      "9          attended  infrequent_stimulus    attend_visual  \n",
      "10         attended    frequent_stimulus  attend_auditory  \n",
      "11       unattended    frequent_stimulus    attend_visual  \n",
      "12       unattended    frequent_stimulus  attend_auditory  \n",
      "13         attended    frequent_stimulus    attend_visual  \n",
      "14         attended  infrequent_stimulus  shift_attention  \n",
      "15         attended  infrequent_stimulus  shift_attention  \n",
      "16       unattended  infrequent_stimulus  shift_attention  \n",
      "17       unattended  infrequent_stimulus  shift_attention  \n",
      "18         attended    frequent_stimulus  shift_attention  \n",
      "19         attended    frequent_stimulus  shift_attention  \n",
      "20       unattended    frequent_stimulus  shift_attention  \n",
      "21       unattended    frequent_stimulus  shift_attention  \n",
      "22              nan      target_detected  attend_auditory  \n",
      "23              nan      target_detected    attend_visual  \n",
      "24              nan      target_detected  shift_attention  \n",
      "25              nan      target_detected  shift_attention  \n",
      "26              nan                  nan  attend_auditory  \n",
      "27              nan                  nan    attend_visual  \n",
      "28              nan                  nan  shift_attention  \n",
      "29              nan                  nan  shift_attention  \n",
      "30              nan                  nan  shift_attention  \n"
     ]
    }
   ],
   "source": [
    "import os\n",
    "from hed.tools.analysis.key_map import KeyMap\n",
    "from hed.tools.util.data_util import get_new_dataframe\n",
    "from hed.tools.util.io_util import get_file_list\n",
    "\n",
    "# Variables to set for the specific dataset\n",
    "dataset_root_path =  os.path.realpath('../../../datasets/eeg_ds002893s_hed_attention_shift')\n",
    "output_path = ''\n",
    "exclude_dirs = ['stimuli']\n",
    "\n",
    "# Construct the key map\n",
    "key_columns = [ \"event_code\", \"cond_code\", \"event_type\", \"focus_modality\", \"attention_status\", \"task_role\", \"condition\"]\n",
    "key_map = KeyMap(key_columns)\n",
    "\n",
    "# Construct the unique combinations\n",
    "event_files = get_file_list(dataset_root_path, extensions=[\".tsv\"], name_suffix=\"_events\", exclude_dirs=exclude_dirs)\n",
    "for event_file in event_files:\n",
    "    df = get_new_dataframe(event_file)\n",
    "    key_map.update(df)\n",
    "\n",
    "key_map.resort()\n",
    "template = key_map.make_template()\n",
    "if output_path:\n",
    "    template.to_csv(output_path, sep='\\t', index=False, header=True)\n",
    "else:\n",
    "    print(template)  \n"
   ],
   "metadata": {
    "collapsed": false,
    "ExecuteTime": {
     "end_time": "2023-08-24T14:55:12.661679900Z",
     "start_time": "2023-08-24T14:55:04.744155200Z"
    }
   }
  }
 ],
 "metadata": {
  "kernelspec": {
   "display_name": "Python 3",
   "language": "python",
   "name": "python3"
  },
  "language_info": {
   "codemirror_mode": {
    "name": "ipython",
    "version": 2
   },
   "file_extension": ".py",
   "mimetype": "text/x-python",
   "name": "python",
   "nbconvert_exporter": "python",
   "pygments_lexer": "ipython2",
   "version": "2.7.6"
  }
 },
 "nbformat": 4,
 "nbformat_minor": 0
}
