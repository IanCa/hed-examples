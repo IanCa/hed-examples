{
 "cells": [
  {
   "cell_type": "markdown",
   "source": [],
   "metadata": {
    "collapsed": false
   }
  },
  {
   "cell_type": "markdown",
   "source": [
    "## Find event combinations\n",
    "\n",
    "This notebook traverses through a data set and gathers the unique combinations of values in the specified columns of the event files.\n",
    "\n",
    "The setup requires the following variables for your dataset:\n",
    "\n",
    "| Variable            | Purpose                                                        |\n",
    "|---------------------|----------------------------------------------------------------|\n",
    "| `dataset_root_path` | Full path to root directory of dataset.                        |\n",
    "| `output_path`       | Output path for the spreadsheet template. If None, then print. |\n",
    "| `exclude_dirs`      | List of directories to exclude when constructing file lists.   |\n",
    "| `key_columns`       | List of column names in the events.tsv files to combine.       |\n",
    "\n",
    "The result will be a tabular file (tab-separated file) whose columns are the `key_columns` in the order given. The values will be all unique combinations of the `key_columns`, sorted by columns left to right.\n",
    "\n",
    "This can be used to remap the columns in event files to use a new recoding. The resulting spreadsheet is also useful for deciding whether two columns contain redundant information."
   ],
   "metadata": {
    "collapsed": false
   }
  },
  {
   "cell_type": "code",
   "execution_count": 1,
   "outputs": [],
   "source": [
    "import os\n",
    "from hed.tools.analysis.key_map import KeyMap\n",
    "from hed.tools.util.data_util import get_new_dataframe\n",
    "from hed.tools.util.io_util import get_file_list\n",
    "\n",
    "# Variables to set for the specific dataset\n",
    "dataset_root_path =  os.path.realpath('../../../datasets/eeg_ds002893s_hed_attention_shift')\n",
    "output_path = 'None'\n",
    "exclude_dirs = ['stimuli']\n",
    "\n",
    "# Construct the key map\n",
    "key_columns = [ \"event_code\", \"cond_code\", \"event_type\", \"focus_modality\", \"attention_status\", \"task_role\", \"condition\"]\n",
    "key_map = KeyMap(key_columns)\n",
    "\n",
    "# Construct the unique combinations\n",
    "event_files = get_file_list(dataset_root_path, extensions=[\".tsv\"], name_suffix=\"_events\", exclude_dirs=exclude_dirs)\n",
    "for event_file in event_files:\n",
    "    df = get_new_dataframe(event_file)\n",
    "    key_map.update(df)\n",
    "\n",
    "key_map.resort()\n",
    "template = key_map.make_template()\n",
    "if output_path:\n",
    "    template.to_csv(output_path, sep='\\t', index=False, header=True)\n",
    "else:\n",
    "    print(template)   \n"
   ],
   "metadata": {
    "collapsed": false,
    "ExecuteTime": {
     "end_time": "2023-08-19T18:45:57.244307600Z",
     "start_time": "2023-08-19T18:45:49.486458100Z"
    }
   }
  }
 ],
 "metadata": {
  "kernelspec": {
   "display_name": "Python 3",
   "language": "python",
   "name": "python3"
  },
  "language_info": {
   "codemirror_mode": {
    "name": "ipython",
    "version": 2
   },
   "file_extension": ".py",
   "mimetype": "text/x-python",
   "name": "python",
   "nbconvert_exporter": "python",
   "pygments_lexer": "ipython2",
   "version": "2.7.6"
  }
 },
 "nbformat": 4,
 "nbformat_minor": 0
}
