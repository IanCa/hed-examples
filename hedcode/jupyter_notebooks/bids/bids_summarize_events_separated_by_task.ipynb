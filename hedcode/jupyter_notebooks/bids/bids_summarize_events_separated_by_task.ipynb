{
 "cells": [
  {
   "cell_type": "markdown",
   "metadata": {
    "collapsed": true,
    "pycharm": {
     "name": "#%% md\n"
    }
   },
   "source": [
    "## Summarize the contents of the event files in a BIDS dataset.\n",
    "\n",
    "A first step in annotating a BIDS dataset is to find out what is in the dataset\n",
    "event files.\n",
    "Sometimes event files will have a few unexpected or incorrect codes.\n",
    "It is usually a good idea to find out what is actually in the dataset\n",
    "event files before starting the annotation process.\n",
    "\n",
    "This notebook traverses through the BIDS data set and gathers the unique\n",
    "values for each column and number of times each value appears in the dataset.\n",
    "\n",
    "The script creates dictionaries of `key` to full path\n",
    "for each type of file.  The `key` is of the form `sub-xxx_run-y` which\n",
    "uniquely specify each event file in the dataset. If a dataset contains\n",
    "multiple sessions for each subject, the `key` should include additional\n",
    "parts of the file name to uniquely specify each subject.\n",
    "Keys are specified by a `entities` tuple lists the BIDS entity names\n",
    "to include in the key.\n",
    "BIDS base file names are constructed of entity *name*-*value* pairs separated\n",
    "by underbars and followed by an ending *_suffix*.\n",
    "\n",
    "For a file name `sub-001_ses-3_task-target_run-01_events.tsv`,\n",
    "the tuple ('sub', 'task') gives a key of `sub-001_task-target`,\n",
    "while the tuple ('sub', 'ses', 'run) gives a key of `sub-001_ses-3_run-01`.\n",
    "The use of dictionaries of file names with such keys makes it\n",
    "easier to associate related files in the BIDS naming structure.\n",
    "\n",
    "The setup requires the setting of the following variables for your dataset:\n",
    "\n",
    "| Variable | Purpose |\n",
    "| -------- | ------- |\n",
    "| bids_root_path | Full path to root directory of dataset.|\n",
    "| exclude_dirs | List of directories to exclude when constructing file lists. |\n",
    "| entities  | Tuple of entity names used to construct a unique keys representing filenames. <br>(See [Dictionaries of filenames](https://hed-examples.readthedocs.io/en/latest/HedInPython.html#dictionaries-of-filenames-anchor) for examples of how to choose the keys.)|\n",
    "| skip_columns  |  List of column names in the `events.tsv` files to skip in the analysis. |\n",
    "\n",
    "For large datasets, you will want to be sure to exclude columns such as\n",
    "`onset` and `sample`, since the summary produces counts of the number of times\n",
    "each unique value appears somewhere in an event file.\n",
    "\n",
    "The notebook creates a `TabularSummary` object to handle the summarization.\n",
    "\n",
    "The example below uses a\n",
    "[small version](https://github.com/hed-standard/hed-examples/tree/main/datasets/fmri_ds002790s_hed_aomic)\n",
    "of an AOMIC dataset available on openNeuro as\n",
    "[ds002790](https://openneuro.org/datasets/ds002790)\n",
    "which is distributed as part of this dataset."
   ]
  },
  {
   "cell_type": "code",
   "execution_count": 1,
   "outputs": [],
   "source": [
    "from hed.tools import TabularSummary, BidsTabularDictionary, get_file_list\n",
    "\n",
    "bids_root_path = '../../../datasets/fmri_ds002790s_hed'\n",
    "exclude_dirs = ['derivatives', 'models']\n",
    "entities = ('sub', 'task')\n",
    "skip_columns = ['onset', 'duration', 'response_time', 'stop_signal_delay']\n",
    "tasks = ['emomatching', 'restingstate', 'stopsignal', 'workingmemory']\n",
    "# tasks = ['stopsignal']\n",
    "name = 'aomic-piop2'\n",
    "# Construct the event file dictionaries for the BIDS and for EEG.event files\n",
    "event_files = get_file_list(bids_root_path, extensions=[\".tsv\"], name_suffix=\"_events\",\n",
    "                            exclude_dirs=exclude_dirs)\n",
    "bids_dict = BidsTabularDictionary(name, event_files, entities=('sub', 'task'))"
   ],
   "metadata": {
    "collapsed": false,
    "pycharm": {
     "name": "#%% Run the summary\n"
    }
   }
  },
  {
   "cell_type": "code",
   "execution_count": 2,
   "outputs": [
    {
     "name": "stdout",
     "output_type": "stream",
     "text": [
      "Dataset tasks are [dict_keys([])]\n"
     ]
    }
   ],
   "source": [
    "task_dicts, leftovers = bids_dict.split_by_entity('task')\n",
    "print(f\"Dataset tasks are [{str(task_dicts.keys())}]\")\n",
    "for task, task_dict in task_dicts.items():\n",
    "    print(f\"\\nBIDS-style event files for task {task}\\n{task_dict}\")\n",
    "\n",
    "if leftovers:\n",
    "    print(f\"\\nThese file did not have a task entity\\n{leftovers}\")"
   ],
   "metadata": {
    "collapsed": false,
    "pycharm": {
     "name": "#%% Split the dictionaries by task and output each individually\n"
    }
   }
  },
  {
   "cell_type": "code",
   "execution_count": 3,
   "outputs": [
    {
     "name": "stdout",
     "output_type": "stream",
     "text": [
      "\n",
      "BIDS-style event file columns:\n"
     ]
    }
   ],
   "source": [
    "print(f\"\\nBIDS-style event file columns:\")\n",
    "for task, task_dict in task_dicts.items():\n",
    "    print(f\"\\nTask {task} event file columns:\")\n",
    "    for key, file, rowcount, columns in task_dict.iter_files():\n",
    "        print(f\"{key} [{rowcount} events]: {str(columns)}\")"
   ],
   "metadata": {
    "collapsed": false,
    "pycharm": {
     "name": "#%% Output the column names for each type of event file\n"
    }
   }
  },
  {
   "cell_type": "code",
   "execution_count": 4,
   "outputs": [
    {
     "name": "stdout",
     "output_type": "stream",
     "text": [
      "\n",
      "BIDS events summary counts:\n"
     ]
    }
   ],
   "source": [
    "print('\\nBIDS events summary counts:')\n",
    "for task, task_dict in task_dicts.items():\n",
    "    dicts_all, dicts_sep = TabularSummary.make_combined_dicts(task_dict.file_dict, skip_cols=skip_columns)\n",
    "    print(f\"\\nBIDS-style event info for task {task}:\\n{dicts_all}\")"
   ],
   "metadata": {
    "collapsed": false,
    "pycharm": {
     "name": "#%% Create summary dictionaries of the original BIDS events files and output column names\n"
    }
   }
  }
 ],
 "metadata": {
  "kernelspec": {
   "display_name": "Python 3",
   "language": "python",
   "name": "python3"
  },
  "language_info": {
   "codemirror_mode": {
    "name": "ipython",
    "version": 2
   },
   "file_extension": ".py",
   "mimetype": "text/x-python",
   "name": "python",
   "nbconvert_exporter": "python",
   "pygments_lexer": "ipython2",
   "version": "2.7.6"
  }
 },
 "nbformat": 4,
 "nbformat_minor": 0
}