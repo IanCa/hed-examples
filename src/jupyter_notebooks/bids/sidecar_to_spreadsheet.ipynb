{
 "cells": [
  {
   "cell_type": "markdown",
   "source": [
    "## Convert an existing JSON sidecar to spreadsheet format.\n",
    "\n",
    "This notebook creates a 4-column spreadsheet (Pandas dataframe) corresponding to the HED content of a JSON sidecar.\n",
    "This is useful for quickly reviewing and editing HED annotations.\n",
    "\n",
    "You can easily merge the edited information back into the spreadsheet. \n",
    "\n",
    "| Variable | Purpose |\n",
    "| -------- | ------- |\n",
    "| `json_path` | Path of the JSON sidecar file to be converted to 4-column spreadsheet. |\n",
    "| `spreadsheet_path` | Path to save the resulting 4-column tsv file. |\n",
    "\n",
    "To use this notebook, you will need to provide the path to the JSON sidecar and a path to save the spreadsheet if you want to save it. If you don't wish to save the spreadsheet, assign `spreadsheet_filename` to be None.\n"
   ],
   "metadata": {
    "collapsed": false
   }
  },
  {
   "cell_type": "code",
   "execution_count": 1,
   "outputs": [
    {
     "name": "stdout",
     "output_type": "stream",
     "text": [
      "Saving the spreadsheet to example_spreadsheet.tsv\n"
     ]
    }
   ],
   "source": [
    "import os\n",
    "import json\n",
    "from hed.tools import hed_to_df\n",
    "\n",
    "json_path =  os.path.realpath('../../../datasets/eeg_ds003645s_hed/task-FacePerception_events.json')\n",
    "spreadsheet_filename = os.path.realpath('example_spreadsheet.tsv')\n",
    "with open(json_path) as fp:\n",
    "    example_sidecar = json.load(fp)\n",
    "example_spreadsheet = hed_to_df(example_sidecar)\n",
    "if spreadsheet_filename:\n",
    "    print(f\"Saving the spreadsheet to {os.path.basename(spreadsheet_filename)}\")\n",
    "    example_spreadsheet.to_csv(spreadsheet_filename, sep='\\t', index=False,)"
   ],
   "metadata": {
    "collapsed": false,
    "pycharm": {
     "name": "#%% Create a spreadsheet corresponding to a JSON sidecar and save it.\n"
    },
    "ExecuteTime": {
     "end_time": "2024-01-09T23:04:15.357250800Z",
     "start_time": "2024-01-09T23:04:13.896251Z"
    }
   }
  }
 ],
 "metadata": {
  "kernelspec": {
   "display_name": "Python 3",
   "language": "python",
   "name": "python3"
  },
  "language_info": {
   "codemirror_mode": {
    "name": "ipython",
    "version": 2
   },
   "file_extension": ".py",
   "mimetype": "text/x-python",
   "name": "python",
   "nbconvert_exporter": "python",
   "pygments_lexer": "ipython2",
   "version": "2.7.6"
  }
 },
 "nbformat": 4,
 "nbformat_minor": 0
}
